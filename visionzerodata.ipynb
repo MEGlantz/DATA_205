{
 "cells": [
  {
   "cell_type": "markdown",
   "metadata": {},
   "source": [
    "# Data Ingestion & Wrangling -- Montgomery County Vision Zero Traffic Progress\n",
    "Data 205 - Spring 2021  \n",
    "Mary Glantz"
   ]
  },
  {
   "cell_type": "markdown",
   "metadata": {},
   "source": [
    "#### Import the libraries needed to import and wrangle the data"
   ]
  },
  {
   "cell_type": "code",
   "execution_count": 3,
   "metadata": {},
   "outputs": [],
   "source": [
    "import json\n",
    "import numpy as np\n",
    "import pandas as pd\n",
    "import requests\n"
   ]
  },
  {
   "cell_type": "markdown",
   "metadata": {},
   "source": [
    "\n",
    "#### Use API's to import data from three Montgomery county datasets (driver info, collision info, and non-motorist collision info) into dataframes.\n"
   ]
  },
  {
   "cell_type": "code",
   "execution_count": 4,
   "metadata": {},
   "outputs": [
    {
     "data": {
      "text/html": [
       "<div>\n",
       "<style scoped>\n",
       "    .dataframe tbody tr th:only-of-type {\n",
       "        vertical-align: middle;\n",
       "    }\n",
       "\n",
       "    .dataframe tbody tr th {\n",
       "        vertical-align: top;\n",
       "    }\n",
       "\n",
       "    .dataframe thead th {\n",
       "        text-align: right;\n",
       "    }\n",
       "</style>\n",
       "<table border=\"1\" class=\"dataframe\">\n",
       "  <thead>\n",
       "    <tr style=\"text-align: right;\">\n",
       "      <th></th>\n",
       "      <th>report_number</th>\n",
       "      <th>local_case_number</th>\n",
       "      <th>agency_name</th>\n",
       "      <th>acrs_report_type</th>\n",
       "      <th>crash_date_time</th>\n",
       "      <th>route_type</th>\n",
       "      <th>road_name</th>\n",
       "      <th>cross_street_type</th>\n",
       "      <th>cross_street_name</th>\n",
       "      <th>municipality</th>\n",
       "      <th>...</th>\n",
       "      <th>:@computed_region_tx5f_5em3</th>\n",
       "      <th>:@computed_region_kbsp_ykn9</th>\n",
       "      <th>latitude</th>\n",
       "      <th>longitude</th>\n",
       "      <th>:@computed_region_d7bw_bq6x</th>\n",
       "      <th>:@computed_region_rbt8_3x7n</th>\n",
       "      <th>geolocation</th>\n",
       "      <th>off_road_description</th>\n",
       "      <th>related_non_motorist</th>\n",
       "      <th>non_motorist_substance_abuse</th>\n",
       "    </tr>\n",
       "  </thead>\n",
       "  <tbody>\n",
       "    <tr>\n",
       "      <th>0</th>\n",
       "      <td>DD5647000F</td>\n",
       "      <td>210007208</td>\n",
       "      <td>Rockville Police Departme</td>\n",
       "      <td>Property Damage Crash</td>\n",
       "      <td>2021-02-25T10:15:00.000</td>\n",
       "      <td>Maryland (State)</td>\n",
       "      <td>NORBECK RD</td>\n",
       "      <td>Municipality</td>\n",
       "      <td>E GUDE DR</td>\n",
       "      <td>ROCKVILLE</td>\n",
       "      <td>...</td>\n",
       "      <td>3</td>\n",
       "      <td>25</td>\n",
       "      <td>39.09043867</td>\n",
       "      <td>-77.12867933</td>\n",
       "      <td>71</td>\n",
       "      <td>12</td>\n",
       "      <td>{'latitude': '39.09043867', 'longitude': '-77....</td>\n",
       "      <td>NaN</td>\n",
       "      <td>NaN</td>\n",
       "      <td>NaN</td>\n",
       "    </tr>\n",
       "    <tr>\n",
       "      <th>1</th>\n",
       "      <td>DD5647000F</td>\n",
       "      <td>210007208</td>\n",
       "      <td>Rockville Police Departme</td>\n",
       "      <td>Property Damage Crash</td>\n",
       "      <td>2021-02-25T10:15:00.000</td>\n",
       "      <td>Maryland (State)</td>\n",
       "      <td>NORBECK RD</td>\n",
       "      <td>Municipality</td>\n",
       "      <td>E GUDE DR</td>\n",
       "      <td>ROCKVILLE</td>\n",
       "      <td>...</td>\n",
       "      <td>3</td>\n",
       "      <td>25</td>\n",
       "      <td>39.09043867</td>\n",
       "      <td>-77.12867933</td>\n",
       "      <td>71</td>\n",
       "      <td>12</td>\n",
       "      <td>{'latitude': '39.09043867', 'longitude': '-77....</td>\n",
       "      <td>NaN</td>\n",
       "      <td>NaN</td>\n",
       "      <td>NaN</td>\n",
       "    </tr>\n",
       "    <tr>\n",
       "      <th>2</th>\n",
       "      <td>DD5647000C</td>\n",
       "      <td>210007203</td>\n",
       "      <td>Rockville Police Departme</td>\n",
       "      <td>Property Damage Crash</td>\n",
       "      <td>2021-02-25T09:16:00.000</td>\n",
       "      <td>Maryland (State)</td>\n",
       "      <td>W MONTGOMERY AVE</td>\n",
       "      <td>Municipality</td>\n",
       "      <td>NELSON ST</td>\n",
       "      <td>ROCKVILLE</td>\n",
       "      <td>...</td>\n",
       "      <td>3</td>\n",
       "      <td>25</td>\n",
       "      <td>39.08605617</td>\n",
       "      <td>-77.17062833</td>\n",
       "      <td>71</td>\n",
       "      <td>12</td>\n",
       "      <td>{'latitude': '39.08605617', 'longitude': '-77....</td>\n",
       "      <td>NaN</td>\n",
       "      <td>NaN</td>\n",
       "      <td>NaN</td>\n",
       "    </tr>\n",
       "    <tr>\n",
       "      <th>3</th>\n",
       "      <td>MCP102200FH</td>\n",
       "      <td>210007202</td>\n",
       "      <td>Montgomery County Police</td>\n",
       "      <td>Injury Crash</td>\n",
       "      <td>2021-02-25T09:16:00.000</td>\n",
       "      <td>Maryland (State)</td>\n",
       "      <td>RIDGE RD</td>\n",
       "      <td>County</td>\n",
       "      <td>BRINK RD</td>\n",
       "      <td>N/A</td>\n",
       "      <td>...</td>\n",
       "      <td>2</td>\n",
       "      <td>39</td>\n",
       "      <td>39.21003667</td>\n",
       "      <td>-77.2399</td>\n",
       "      <td>36</td>\n",
       "      <td>1</td>\n",
       "      <td>{'latitude': '39.21003667', 'longitude': '-77....</td>\n",
       "      <td>NaN</td>\n",
       "      <td>NaN</td>\n",
       "      <td>NaN</td>\n",
       "    </tr>\n",
       "    <tr>\n",
       "      <th>4</th>\n",
       "      <td>MCP102200FH</td>\n",
       "      <td>210007202</td>\n",
       "      <td>Montgomery County Police</td>\n",
       "      <td>Injury Crash</td>\n",
       "      <td>2021-02-25T09:16:00.000</td>\n",
       "      <td>Maryland (State)</td>\n",
       "      <td>RIDGE RD</td>\n",
       "      <td>County</td>\n",
       "      <td>BRINK RD</td>\n",
       "      <td>N/A</td>\n",
       "      <td>...</td>\n",
       "      <td>2</td>\n",
       "      <td>39</td>\n",
       "      <td>39.21003667</td>\n",
       "      <td>-77.2399</td>\n",
       "      <td>36</td>\n",
       "      <td>1</td>\n",
       "      <td>{'latitude': '39.21003667', 'longitude': '-77....</td>\n",
       "      <td>NaN</td>\n",
       "      <td>NaN</td>\n",
       "      <td>NaN</td>\n",
       "    </tr>\n",
       "  </tbody>\n",
       "</table>\n",
       "<p>5 rows × 50 columns</p>\n",
       "</div>"
      ],
      "text/plain": [
       "  report_number local_case_number                agency_name  \\\n",
       "0    DD5647000F         210007208  Rockville Police Departme   \n",
       "1    DD5647000F         210007208  Rockville Police Departme   \n",
       "2    DD5647000C         210007203  Rockville Police Departme   \n",
       "3   MCP102200FH         210007202   Montgomery County Police   \n",
       "4   MCP102200FH         210007202   Montgomery County Police   \n",
       "\n",
       "        acrs_report_type          crash_date_time        route_type  \\\n",
       "0  Property Damage Crash  2021-02-25T10:15:00.000  Maryland (State)   \n",
       "1  Property Damage Crash  2021-02-25T10:15:00.000  Maryland (State)   \n",
       "2  Property Damage Crash  2021-02-25T09:16:00.000  Maryland (State)   \n",
       "3           Injury Crash  2021-02-25T09:16:00.000  Maryland (State)   \n",
       "4           Injury Crash  2021-02-25T09:16:00.000  Maryland (State)   \n",
       "\n",
       "          road_name cross_street_type cross_street_name municipality  ...  \\\n",
       "0        NORBECK RD      Municipality         E GUDE DR    ROCKVILLE  ...   \n",
       "1        NORBECK RD      Municipality         E GUDE DR    ROCKVILLE  ...   \n",
       "2  W MONTGOMERY AVE      Municipality         NELSON ST    ROCKVILLE  ...   \n",
       "3          RIDGE RD            County          BRINK RD          N/A  ...   \n",
       "4          RIDGE RD            County          BRINK RD          N/A  ...   \n",
       "\n",
       "  :@computed_region_tx5f_5em3 :@computed_region_kbsp_ykn9     latitude  \\\n",
       "0                           3                          25  39.09043867   \n",
       "1                           3                          25  39.09043867   \n",
       "2                           3                          25  39.08605617   \n",
       "3                           2                          39  39.21003667   \n",
       "4                           2                          39  39.21003667   \n",
       "\n",
       "      longitude :@computed_region_d7bw_bq6x :@computed_region_rbt8_3x7n  \\\n",
       "0  -77.12867933                          71                          12   \n",
       "1  -77.12867933                          71                          12   \n",
       "2  -77.17062833                          71                          12   \n",
       "3      -77.2399                          36                           1   \n",
       "4      -77.2399                          36                           1   \n",
       "\n",
       "                                         geolocation off_road_description  \\\n",
       "0  {'latitude': '39.09043867', 'longitude': '-77....                  NaN   \n",
       "1  {'latitude': '39.09043867', 'longitude': '-77....                  NaN   \n",
       "2  {'latitude': '39.08605617', 'longitude': '-77....                  NaN   \n",
       "3  {'latitude': '39.21003667', 'longitude': '-77....                  NaN   \n",
       "4  {'latitude': '39.21003667', 'longitude': '-77....                  NaN   \n",
       "\n",
       "  related_non_motorist non_motorist_substance_abuse  \n",
       "0                  NaN                          NaN  \n",
       "1                  NaN                          NaN  \n",
       "2                  NaN                          NaN  \n",
       "3                  NaN                          NaN  \n",
       "4                  NaN                          NaN  \n",
       "\n",
       "[5 rows x 50 columns]"
      ]
     },
     "execution_count": 4,
     "metadata": {},
     "output_type": "execute_result"
    }
   ],
   "source": [
    "driverdf = pd.DataFrame(requests.get('https://data.montgomerycountymd.gov/resource/mmzv-x632.json').json())\n",
    "driverdf.head()"
   ]
  },
  {
   "cell_type": "code",
   "execution_count": 5,
   "metadata": {},
   "outputs": [
    {
     "data": {
      "text/html": [
       "<div>\n",
       "<style scoped>\n",
       "    .dataframe tbody tr th:only-of-type {\n",
       "        vertical-align: middle;\n",
       "    }\n",
       "\n",
       "    .dataframe tbody tr th {\n",
       "        vertical-align: top;\n",
       "    }\n",
       "\n",
       "    .dataframe thead th {\n",
       "        text-align: right;\n",
       "    }\n",
       "</style>\n",
       "<table border=\"1\" class=\"dataframe\">\n",
       "  <thead>\n",
       "    <tr style=\"text-align: right;\">\n",
       "      <th></th>\n",
       "      <th>report_number</th>\n",
       "      <th>local_case_number</th>\n",
       "      <th>agency_name</th>\n",
       "      <th>acrs_report_type</th>\n",
       "      <th>crash_date_time</th>\n",
       "      <th>hit_run</th>\n",
       "      <th>route_type</th>\n",
       "      <th>mile_point</th>\n",
       "      <th>mile_point_direction</th>\n",
       "      <th>lane_direction</th>\n",
       "      <th>...</th>\n",
       "      <th>:@computed_region_tx5f_5em3</th>\n",
       "      <th>:@computed_region_kbsp_ykn9</th>\n",
       "      <th>:@computed_region_d7bw_bq6x</th>\n",
       "      <th>:@computed_region_rbt8_3x7n</th>\n",
       "      <th>:@computed_region_a9cs_3ed7</th>\n",
       "      <th>:@computed_region_r648_kzwt</th>\n",
       "      <th>lane_type</th>\n",
       "      <th>off_road_description</th>\n",
       "      <th>related_non_motorist</th>\n",
       "      <th>non_motorist_substance_abuse</th>\n",
       "    </tr>\n",
       "  </thead>\n",
       "  <tbody>\n",
       "    <tr>\n",
       "      <th>0</th>\n",
       "      <td>DD5647000F</td>\n",
       "      <td>210007208</td>\n",
       "      <td>Rockville Police Departme</td>\n",
       "      <td>Property Damage Crash</td>\n",
       "      <td>2021-02-25T10:15:00.000</td>\n",
       "      <td>No</td>\n",
       "      <td>Maryland (State)</td>\n",
       "      <td>24.09</td>\n",
       "      <td>East</td>\n",
       "      <td>West</td>\n",
       "      <td>...</td>\n",
       "      <td>3</td>\n",
       "      <td>25</td>\n",
       "      <td>71</td>\n",
       "      <td>12</td>\n",
       "      <td>3</td>\n",
       "      <td>3</td>\n",
       "      <td>NaN</td>\n",
       "      <td>NaN</td>\n",
       "      <td>NaN</td>\n",
       "      <td>NaN</td>\n",
       "    </tr>\n",
       "    <tr>\n",
       "      <th>1</th>\n",
       "      <td>DD5647000C</td>\n",
       "      <td>210007203</td>\n",
       "      <td>Rockville Police Departme</td>\n",
       "      <td>Property Damage Crash</td>\n",
       "      <td>2021-02-25T09:16:00.000</td>\n",
       "      <td>No</td>\n",
       "      <td>Maryland (State)</td>\n",
       "      <td>21.29</td>\n",
       "      <td>East</td>\n",
       "      <td>West</td>\n",
       "      <td>...</td>\n",
       "      <td>3</td>\n",
       "      <td>25</td>\n",
       "      <td>71</td>\n",
       "      <td>12</td>\n",
       "      <td>3</td>\n",
       "      <td>3</td>\n",
       "      <td>NaN</td>\n",
       "      <td>NaN</td>\n",
       "      <td>NaN</td>\n",
       "      <td>NaN</td>\n",
       "    </tr>\n",
       "    <tr>\n",
       "      <th>2</th>\n",
       "      <td>MCP102200FH</td>\n",
       "      <td>210007202</td>\n",
       "      <td>Montgomery County Police</td>\n",
       "      <td>Injury Crash</td>\n",
       "      <td>2021-02-25T09:16:00.000</td>\n",
       "      <td>No</td>\n",
       "      <td>Maryland (State)</td>\n",
       "      <td>0.54</td>\n",
       "      <td>North</td>\n",
       "      <td>South</td>\n",
       "      <td>...</td>\n",
       "      <td>2</td>\n",
       "      <td>39</td>\n",
       "      <td>36</td>\n",
       "      <td>1</td>\n",
       "      <td>2</td>\n",
       "      <td>5</td>\n",
       "      <td>NaN</td>\n",
       "      <td>NaN</td>\n",
       "      <td>NaN</td>\n",
       "      <td>NaN</td>\n",
       "    </tr>\n",
       "    <tr>\n",
       "      <th>3</th>\n",
       "      <td>MCP3036001R</td>\n",
       "      <td>210007162</td>\n",
       "      <td>Montgomery County Police</td>\n",
       "      <td>Property Damage Crash</td>\n",
       "      <td>2021-02-24T20:56:00.000</td>\n",
       "      <td>No</td>\n",
       "      <td>Maryland (State)</td>\n",
       "      <td>3.76</td>\n",
       "      <td>North</td>\n",
       "      <td>South</td>\n",
       "      <td>...</td>\n",
       "      <td>3</td>\n",
       "      <td>36</td>\n",
       "      <td>35</td>\n",
       "      <td>21</td>\n",
       "      <td>3</td>\n",
       "      <td>5</td>\n",
       "      <td>RIGHT TURN LANE</td>\n",
       "      <td>NaN</td>\n",
       "      <td>NaN</td>\n",
       "      <td>NaN</td>\n",
       "    </tr>\n",
       "    <tr>\n",
       "      <th>4</th>\n",
       "      <td>MCP32180018</td>\n",
       "      <td>210007164</td>\n",
       "      <td>Montgomery County Police</td>\n",
       "      <td>Property Damage Crash</td>\n",
       "      <td>2021-02-24T20:25:00.000</td>\n",
       "      <td>No</td>\n",
       "      <td>County</td>\n",
       "      <td>2.28</td>\n",
       "      <td>East</td>\n",
       "      <td>East</td>\n",
       "      <td>...</td>\n",
       "      <td>4</td>\n",
       "      <td>23</td>\n",
       "      <td>17</td>\n",
       "      <td>1</td>\n",
       "      <td>4</td>\n",
       "      <td>4</td>\n",
       "      <td>NaN</td>\n",
       "      <td>NaN</td>\n",
       "      <td>NaN</td>\n",
       "      <td>NaN</td>\n",
       "    </tr>\n",
       "  </tbody>\n",
       "</table>\n",
       "<p>5 rows × 51 columns</p>\n",
       "</div>"
      ],
      "text/plain": [
       "  report_number local_case_number                agency_name  \\\n",
       "0    DD5647000F         210007208  Rockville Police Departme   \n",
       "1    DD5647000C         210007203  Rockville Police Departme   \n",
       "2   MCP102200FH         210007202   Montgomery County Police   \n",
       "3   MCP3036001R         210007162   Montgomery County Police   \n",
       "4   MCP32180018         210007164   Montgomery County Police   \n",
       "\n",
       "        acrs_report_type          crash_date_time hit_run        route_type  \\\n",
       "0  Property Damage Crash  2021-02-25T10:15:00.000      No  Maryland (State)   \n",
       "1  Property Damage Crash  2021-02-25T09:16:00.000      No  Maryland (State)   \n",
       "2           Injury Crash  2021-02-25T09:16:00.000      No  Maryland (State)   \n",
       "3  Property Damage Crash  2021-02-24T20:56:00.000      No  Maryland (State)   \n",
       "4  Property Damage Crash  2021-02-24T20:25:00.000      No            County   \n",
       "\n",
       "  mile_point mile_point_direction lane_direction  ...  \\\n",
       "0      24.09                 East           West  ...   \n",
       "1      21.29                 East           West  ...   \n",
       "2       0.54                North          South  ...   \n",
       "3       3.76                North          South  ...   \n",
       "4       2.28                 East           East  ...   \n",
       "\n",
       "  :@computed_region_tx5f_5em3 :@computed_region_kbsp_ykn9  \\\n",
       "0                           3                          25   \n",
       "1                           3                          25   \n",
       "2                           2                          39   \n",
       "3                           3                          36   \n",
       "4                           4                          23   \n",
       "\n",
       "  :@computed_region_d7bw_bq6x :@computed_region_rbt8_3x7n  \\\n",
       "0                          71                          12   \n",
       "1                          71                          12   \n",
       "2                          36                           1   \n",
       "3                          35                          21   \n",
       "4                          17                           1   \n",
       "\n",
       "  :@computed_region_a9cs_3ed7 :@computed_region_r648_kzwt        lane_type  \\\n",
       "0                           3                           3              NaN   \n",
       "1                           3                           3              NaN   \n",
       "2                           2                           5              NaN   \n",
       "3                           3                           5  RIGHT TURN LANE   \n",
       "4                           4                           4              NaN   \n",
       "\n",
       "  off_road_description related_non_motorist non_motorist_substance_abuse  \n",
       "0                  NaN                  NaN                          NaN  \n",
       "1                  NaN                  NaN                          NaN  \n",
       "2                  NaN                  NaN                          NaN  \n",
       "3                  NaN                  NaN                          NaN  \n",
       "4                  NaN                  NaN                          NaN  \n",
       "\n",
       "[5 rows x 51 columns]"
      ]
     },
     "execution_count": 5,
     "metadata": {},
     "output_type": "execute_result"
    }
   ],
   "source": [
    "incidentsdf = pd.DataFrame(requests.get('https://data.montgomerycountymd.gov/resource/bhju-22kf.json').json())\n",
    "incidentsdf.head()"
   ]
  },
  {
   "cell_type": "code",
   "execution_count": 6,
   "metadata": {},
   "outputs": [
    {
     "data": {
      "text/html": [
       "<div>\n",
       "<style scoped>\n",
       "    .dataframe tbody tr th:only-of-type {\n",
       "        vertical-align: middle;\n",
       "    }\n",
       "\n",
       "    .dataframe tbody tr th {\n",
       "        vertical-align: top;\n",
       "    }\n",
       "\n",
       "    .dataframe thead th {\n",
       "        text-align: right;\n",
       "    }\n",
       "</style>\n",
       "<table border=\"1\" class=\"dataframe\">\n",
       "  <thead>\n",
       "    <tr style=\"text-align: right;\">\n",
       "      <th></th>\n",
       "      <th>report_number</th>\n",
       "      <th>local_case_number</th>\n",
       "      <th>agency_name</th>\n",
       "      <th>acrs_report_type</th>\n",
       "      <th>crash_date_time</th>\n",
       "      <th>off_road_description</th>\n",
       "      <th>related_non_motorist</th>\n",
       "      <th>collision_type</th>\n",
       "      <th>weather</th>\n",
       "      <th>light</th>\n",
       "      <th>...</th>\n",
       "      <th>:@computed_region_d7bw_bq6x</th>\n",
       "      <th>:@computed_region_rbt8_3x7n</th>\n",
       "      <th>:@computed_region_a9cs_3ed7</th>\n",
       "      <th>:@computed_region_r648_kzwt</th>\n",
       "      <th>route_type</th>\n",
       "      <th>road_name</th>\n",
       "      <th>cross_street_type</th>\n",
       "      <th>cross_street_name</th>\n",
       "      <th>municipality</th>\n",
       "      <th>surface_condition</th>\n",
       "    </tr>\n",
       "  </thead>\n",
       "  <tbody>\n",
       "    <tr>\n",
       "      <th>0</th>\n",
       "      <td>DD56370028</td>\n",
       "      <td>210006695</td>\n",
       "      <td>Rockville Police Departme</td>\n",
       "      <td>Injury Crash</td>\n",
       "      <td>2021-02-21T16:23:00.000</td>\n",
       "      <td>PARKING GARAGE OF 1628 E JEFFERSON ST</td>\n",
       "      <td>PEDESTRIAN</td>\n",
       "      <td>OTHER</td>\n",
       "      <td>CLEAR</td>\n",
       "      <td>N/A</td>\n",
       "      <td>...</td>\n",
       "      <td>60</td>\n",
       "      <td>12</td>\n",
       "      <td>3</td>\n",
       "      <td>3</td>\n",
       "      <td>NaN</td>\n",
       "      <td>NaN</td>\n",
       "      <td>NaN</td>\n",
       "      <td>NaN</td>\n",
       "      <td>NaN</td>\n",
       "      <td>NaN</td>\n",
       "    </tr>\n",
       "    <tr>\n",
       "      <th>1</th>\n",
       "      <td>MCP3209002B</td>\n",
       "      <td>210005989</td>\n",
       "      <td>Montgomery County Police</td>\n",
       "      <td>Injury Crash</td>\n",
       "      <td>2021-02-15T20:20:00.000</td>\n",
       "      <td>NaN</td>\n",
       "      <td>PEDESTRIAN</td>\n",
       "      <td>OTHER</td>\n",
       "      <td>RAINING</td>\n",
       "      <td>DUSK</td>\n",
       "      <td>...</td>\n",
       "      <td>3065</td>\n",
       "      <td>1</td>\n",
       "      <td>5</td>\n",
       "      <td>1</td>\n",
       "      <td>County</td>\n",
       "      <td>WAYNE AVE</td>\n",
       "      <td>US (State)</td>\n",
       "      <td>GEORGIA AVE</td>\n",
       "      <td>N/A</td>\n",
       "      <td>WET</td>\n",
       "    </tr>\n",
       "    <tr>\n",
       "      <th>2</th>\n",
       "      <td>MCP3274000F</td>\n",
       "      <td>210005911</td>\n",
       "      <td>Montgomery County Police</td>\n",
       "      <td>Injury Crash</td>\n",
       "      <td>2021-02-15T10:49:00.000</td>\n",
       "      <td>NaN</td>\n",
       "      <td>PEDESTRIAN</td>\n",
       "      <td>OTHER</td>\n",
       "      <td>N/A</td>\n",
       "      <td>DAYLIGHT</td>\n",
       "      <td>...</td>\n",
       "      <td>111</td>\n",
       "      <td>1</td>\n",
       "      <td>1</td>\n",
       "      <td>3</td>\n",
       "      <td>County</td>\n",
       "      <td>BROAD ST</td>\n",
       "      <td>County</td>\n",
       "      <td>GREENLAWN DR</td>\n",
       "      <td>N/A</td>\n",
       "      <td>DRY</td>\n",
       "    </tr>\n",
       "    <tr>\n",
       "      <th>3</th>\n",
       "      <td>MCP229800VL</td>\n",
       "      <td>210005324</td>\n",
       "      <td>Montgomery County Police</td>\n",
       "      <td>Injury Crash</td>\n",
       "      <td>2021-02-10T15:16:00.000</td>\n",
       "      <td>NaN</td>\n",
       "      <td>BICYCLIST</td>\n",
       "      <td>STRAIGHT MOVEMENT ANGLE</td>\n",
       "      <td>CLOUDY</td>\n",
       "      <td>DAYLIGHT</td>\n",
       "      <td>...</td>\n",
       "      <td>39</td>\n",
       "      <td>1</td>\n",
       "      <td>2</td>\n",
       "      <td>5</td>\n",
       "      <td>County</td>\n",
       "      <td>FATHER HURLEY BLVD</td>\n",
       "      <td>County</td>\n",
       "      <td>WISTERIA DR</td>\n",
       "      <td>N/A</td>\n",
       "      <td>DRY</td>\n",
       "    </tr>\n",
       "    <tr>\n",
       "      <th>4</th>\n",
       "      <td>MCP3289000G</td>\n",
       "      <td>210005250</td>\n",
       "      <td>Montgomery County Police</td>\n",
       "      <td>Injury Crash</td>\n",
       "      <td>2021-02-10T06:35:00.000</td>\n",
       "      <td>NaN</td>\n",
       "      <td>PEDESTRIAN</td>\n",
       "      <td>SINGLE VEHICLE</td>\n",
       "      <td>CLOUDY</td>\n",
       "      <td>DARK LIGHTS ON</td>\n",
       "      <td>...</td>\n",
       "      <td>21</td>\n",
       "      <td>1</td>\n",
       "      <td>5</td>\n",
       "      <td>1</td>\n",
       "      <td>Maryland (State)</td>\n",
       "      <td>UNIVERSITY BLVD E</td>\n",
       "      <td>County</td>\n",
       "      <td>WILLIAMSBURG DR</td>\n",
       "      <td>N/A</td>\n",
       "      <td>DRY</td>\n",
       "    </tr>\n",
       "  </tbody>\n",
       "</table>\n",
       "<p>5 rows × 39 columns</p>\n",
       "</div>"
      ],
      "text/plain": [
       "  report_number local_case_number                agency_name acrs_report_type  \\\n",
       "0    DD56370028         210006695  Rockville Police Departme     Injury Crash   \n",
       "1   MCP3209002B         210005989   Montgomery County Police     Injury Crash   \n",
       "2   MCP3274000F         210005911   Montgomery County Police     Injury Crash   \n",
       "3   MCP229800VL         210005324   Montgomery County Police     Injury Crash   \n",
       "4   MCP3289000G         210005250   Montgomery County Police     Injury Crash   \n",
       "\n",
       "           crash_date_time                   off_road_description  \\\n",
       "0  2021-02-21T16:23:00.000  PARKING GARAGE OF 1628 E JEFFERSON ST   \n",
       "1  2021-02-15T20:20:00.000                                    NaN   \n",
       "2  2021-02-15T10:49:00.000                                    NaN   \n",
       "3  2021-02-10T15:16:00.000                                    NaN   \n",
       "4  2021-02-10T06:35:00.000                                    NaN   \n",
       "\n",
       "  related_non_motorist           collision_type  weather           light  ...  \\\n",
       "0           PEDESTRIAN                    OTHER    CLEAR             N/A  ...   \n",
       "1           PEDESTRIAN                    OTHER  RAINING            DUSK  ...   \n",
       "2           PEDESTRIAN                    OTHER      N/A        DAYLIGHT  ...   \n",
       "3            BICYCLIST  STRAIGHT MOVEMENT ANGLE   CLOUDY        DAYLIGHT  ...   \n",
       "4           PEDESTRIAN           SINGLE VEHICLE   CLOUDY  DARK LIGHTS ON  ...   \n",
       "\n",
       "  :@computed_region_d7bw_bq6x :@computed_region_rbt8_3x7n  \\\n",
       "0                          60                          12   \n",
       "1                        3065                           1   \n",
       "2                         111                           1   \n",
       "3                          39                           1   \n",
       "4                          21                           1   \n",
       "\n",
       "  :@computed_region_a9cs_3ed7 :@computed_region_r648_kzwt        route_type  \\\n",
       "0                           3                           3               NaN   \n",
       "1                           5                           1            County   \n",
       "2                           1                           3            County   \n",
       "3                           2                           5            County   \n",
       "4                           5                           1  Maryland (State)   \n",
       "\n",
       "            road_name cross_street_type cross_street_name municipality  \\\n",
       "0                 NaN               NaN               NaN          NaN   \n",
       "1           WAYNE AVE        US (State)       GEORGIA AVE          N/A   \n",
       "2            BROAD ST            County      GREENLAWN DR          N/A   \n",
       "3  FATHER HURLEY BLVD            County       WISTERIA DR          N/A   \n",
       "4   UNIVERSITY BLVD E            County   WILLIAMSBURG DR          N/A   \n",
       "\n",
       "  surface_condition  \n",
       "0               NaN  \n",
       "1               WET  \n",
       "2               DRY  \n",
       "3               DRY  \n",
       "4               DRY  \n",
       "\n",
       "[5 rows x 39 columns]"
      ]
     },
     "execution_count": 6,
     "metadata": {},
     "output_type": "execute_result"
    }
   ],
   "source": [
    "nonmotoristdf = pd.DataFrame(requests.get('https://data.montgomerycountymd.gov/resource/n7fk-dce5.json').json())\n",
    "nonmotoristdf.head()"
   ]
  },
  {
   "cell_type": "code",
   "execution_count": 7,
   "metadata": {},
   "outputs": [
    {
     "data": {
      "text/html": [
       "<div>\n",
       "<style scoped>\n",
       "    .dataframe tbody tr th:only-of-type {\n",
       "        vertical-align: middle;\n",
       "    }\n",
       "\n",
       "    .dataframe tbody tr th {\n",
       "        vertical-align: top;\n",
       "    }\n",
       "\n",
       "    .dataframe thead th {\n",
       "        text-align: right;\n",
       "    }\n",
       "</style>\n",
       "<table border=\"1\" class=\"dataframe\">\n",
       "  <thead>\n",
       "    <tr style=\"text-align: right;\">\n",
       "      <th></th>\n",
       "      <th>year</th>\n",
       "      <th>quarter</th>\n",
       "      <th>light_desc</th>\n",
       "      <th>light_code</th>\n",
       "      <th>county_desc</th>\n",
       "      <th>county_no</th>\n",
       "      <th>collision_type_desc</th>\n",
       "      <th>collision_type_code</th>\n",
       "      <th>fix_obj_desc</th>\n",
       "      <th>fix_obj_code</th>\n",
       "      <th>...</th>\n",
       "      <th>reference_road_name</th>\n",
       "      <th>muni_code</th>\n",
       "      <th>rte_no</th>\n",
       "      <th>route_type_code</th>\n",
       "      <th>logmile_dir_flag_desc</th>\n",
       "      <th>logmile_dir_flag</th>\n",
       "      <th>reference_no</th>\n",
       "      <th>reference_type_code</th>\n",
       "      <th>reference_suffix</th>\n",
       "      <th>rte_suffix</th>\n",
       "    </tr>\n",
       "  </thead>\n",
       "  <tbody>\n",
       "    <tr>\n",
       "      <th>0</th>\n",
       "      <td>2020</td>\n",
       "      <td>Q2</td>\n",
       "      <td>Daylight</td>\n",
       "      <td>1</td>\n",
       "      <td>Baltimore</td>\n",
       "      <td>3</td>\n",
       "      <td>Other</td>\n",
       "      <td>88</td>\n",
       "      <td>Not Applicable</td>\n",
       "      <td>0</td>\n",
       "      <td>...</td>\n",
       "      <td>NaN</td>\n",
       "      <td>NaN</td>\n",
       "      <td>NaN</td>\n",
       "      <td>NaN</td>\n",
       "      <td>NaN</td>\n",
       "      <td>NaN</td>\n",
       "      <td>NaN</td>\n",
       "      <td>NaN</td>\n",
       "      <td>NaN</td>\n",
       "      <td>NaN</td>\n",
       "    </tr>\n",
       "    <tr>\n",
       "      <th>1</th>\n",
       "      <td>2020</td>\n",
       "      <td>Q2</td>\n",
       "      <td>NaN</td>\n",
       "      <td>6.02</td>\n",
       "      <td>Baltimore City</td>\n",
       "      <td>24</td>\n",
       "      <td>Other</td>\n",
       "      <td>88</td>\n",
       "      <td>Other Pole</td>\n",
       "      <td>10</td>\n",
       "      <td>...</td>\n",
       "      <td>NORTH AVE</td>\n",
       "      <td>NaN</td>\n",
       "      <td>NaN</td>\n",
       "      <td>NaN</td>\n",
       "      <td>NaN</td>\n",
       "      <td>NaN</td>\n",
       "      <td>NaN</td>\n",
       "      <td>NaN</td>\n",
       "      <td>NaN</td>\n",
       "      <td>NaN</td>\n",
       "    </tr>\n",
       "    <tr>\n",
       "      <th>2</th>\n",
       "      <td>2020</td>\n",
       "      <td>Q2</td>\n",
       "      <td>Daylight</td>\n",
       "      <td>1</td>\n",
       "      <td>Montgomery</td>\n",
       "      <td>15</td>\n",
       "      <td>Other</td>\n",
       "      <td>88</td>\n",
       "      <td>Not Applicable</td>\n",
       "      <td>0</td>\n",
       "      <td>...</td>\n",
       "      <td>NaN</td>\n",
       "      <td>NaN</td>\n",
       "      <td>NaN</td>\n",
       "      <td>NaN</td>\n",
       "      <td>NaN</td>\n",
       "      <td>NaN</td>\n",
       "      <td>NaN</td>\n",
       "      <td>NaN</td>\n",
       "      <td>NaN</td>\n",
       "      <td>NaN</td>\n",
       "    </tr>\n",
       "    <tr>\n",
       "      <th>3</th>\n",
       "      <td>2017</td>\n",
       "      <td>Q2</td>\n",
       "      <td>Daylight</td>\n",
       "      <td>1</td>\n",
       "      <td>Baltimore City</td>\n",
       "      <td>24</td>\n",
       "      <td>Single Vehicle</td>\n",
       "      <td>17</td>\n",
       "      <td>Not Applicable</td>\n",
       "      <td>0</td>\n",
       "      <td>...</td>\n",
       "      <td>NaN</td>\n",
       "      <td>NaN</td>\n",
       "      <td>NaN</td>\n",
       "      <td>NaN</td>\n",
       "      <td>NaN</td>\n",
       "      <td>NaN</td>\n",
       "      <td>NaN</td>\n",
       "      <td>NaN</td>\n",
       "      <td>NaN</td>\n",
       "      <td>NaN</td>\n",
       "    </tr>\n",
       "    <tr>\n",
       "      <th>4</th>\n",
       "      <td>2020</td>\n",
       "      <td>Q2</td>\n",
       "      <td>Daylight</td>\n",
       "      <td>1</td>\n",
       "      <td>Cecil</td>\n",
       "      <td>7</td>\n",
       "      <td>Same Direction Rear End</td>\n",
       "      <td>3</td>\n",
       "      <td>Not Applicable</td>\n",
       "      <td>0</td>\n",
       "      <td>...</td>\n",
       "      <td>NaN</td>\n",
       "      <td>NaN</td>\n",
       "      <td>NaN</td>\n",
       "      <td>NaN</td>\n",
       "      <td>NaN</td>\n",
       "      <td>NaN</td>\n",
       "      <td>NaN</td>\n",
       "      <td>NaN</td>\n",
       "      <td>NaN</td>\n",
       "      <td>NaN</td>\n",
       "    </tr>\n",
       "  </tbody>\n",
       "</table>\n",
       "<p>5 rows × 56 columns</p>\n",
       "</div>"
      ],
      "text/plain": [
       "   year quarter light_desc light_code     county_desc county_no  \\\n",
       "0  2020      Q2   Daylight          1       Baltimore         3   \n",
       "1  2020      Q2        NaN       6.02  Baltimore City        24   \n",
       "2  2020      Q2   Daylight          1      Montgomery        15   \n",
       "3  2017      Q2   Daylight          1  Baltimore City        24   \n",
       "4  2020      Q2   Daylight          1           Cecil         7   \n",
       "\n",
       "       collision_type_desc collision_type_code    fix_obj_desc fix_obj_code  \\\n",
       "0                    Other                  88  Not Applicable            0   \n",
       "1                    Other                  88      Other Pole           10   \n",
       "2                    Other                  88  Not Applicable            0   \n",
       "3           Single Vehicle                  17  Not Applicable            0   \n",
       "4  Same Direction Rear End                   3  Not Applicable            0   \n",
       "\n",
       "   ... reference_road_name muni_code rte_no route_type_code  \\\n",
       "0  ...                 NaN       NaN    NaN             NaN   \n",
       "1  ...           NORTH AVE       NaN    NaN             NaN   \n",
       "2  ...                 NaN       NaN    NaN             NaN   \n",
       "3  ...                 NaN       NaN    NaN             NaN   \n",
       "4  ...                 NaN       NaN    NaN             NaN   \n",
       "\n",
       "  logmile_dir_flag_desc logmile_dir_flag reference_no reference_type_code  \\\n",
       "0                   NaN              NaN          NaN                 NaN   \n",
       "1                   NaN              NaN          NaN                 NaN   \n",
       "2                   NaN              NaN          NaN                 NaN   \n",
       "3                   NaN              NaN          NaN                 NaN   \n",
       "4                   NaN              NaN          NaN                 NaN   \n",
       "\n",
       "  reference_suffix rte_suffix  \n",
       "0              NaN        NaN  \n",
       "1              NaN        NaN  \n",
       "2              NaN        NaN  \n",
       "3              NaN        NaN  \n",
       "4              NaN        NaN  \n",
       "\n",
       "[5 rows x 56 columns]"
      ]
     },
     "execution_count": 7,
     "metadata": {},
     "output_type": "execute_result"
    }
   ],
   "source": [
    "marylanddf = pd.DataFrame(requests.get('https://opendata.maryland.gov/resource/65du-s3qu.json').json())\n",
    "marylanddf.head()"
   ]
  },
  {
   "cell_type": "code",
   "execution_count": 8,
   "metadata": {},
   "outputs": [],
   "source": [
    "#crashesDCdf = pd.DataFrame(requests.get('https://opendata.arcgis.com/datasets/70392a096a8e431381f1f692aaa06afd_24.geojson').json())\n",
    "# crashesDCdf.head()"
   ]
  },
  {
   "cell_type": "markdown",
   "metadata": {},
   "source": [
    "\n",
    "#### Begin cleaning driver info dataframe  \n",
    "First, examine the information about the dataframe.\n"
   ]
  },
  {
   "cell_type": "code",
   "execution_count": 9,
   "metadata": {},
   "outputs": [
    {
     "data": {
      "text/plain": [
       "(1000, 50)"
      ]
     },
     "execution_count": 9,
     "metadata": {},
     "output_type": "execute_result"
    }
   ],
   "source": [
    "driverdf.shape"
   ]
  },
  {
   "cell_type": "code",
   "execution_count": 10,
   "metadata": {},
   "outputs": [
    {
     "data": {
      "text/plain": [
       "Index(['report_number', 'local_case_number', 'agency_name', 'acrs_report_type',\n",
       "       'crash_date_time', 'route_type', 'road_name', 'cross_street_type',\n",
       "       'cross_street_name', 'municipality', 'collision_type', 'weather',\n",
       "       'surface_condition', 'light', 'traffic_control',\n",
       "       'driver_substance_abuse', 'person_id', 'driver_at_fault',\n",
       "       'injury_severity', 'circumstance', 'driver_distracted_by',\n",
       "       'drivers_license_state', 'vehicle_id', 'vehicle_damage_extent',\n",
       "       'vehicle_first_impact_location', 'vehicle_second_impact_location',\n",
       "       'vehicle_body_type', 'vehicle_movement', 'vehicle_continuing_dir',\n",
       "       'vehicle_going_dir', 'speed_limit', 'driverless_vehicle',\n",
       "       'parked_vehicle', ':@computed_region_a9cs_3ed7', 'vehicle_year',\n",
       "       'vehicle_make', ':@computed_region_r648_kzwt', 'vehicle_model',\n",
       "       ':@computed_region_vu5j_pcmz', 'equipment_problems',\n",
       "       ':@computed_region_tx5f_5em3', ':@computed_region_kbsp_ykn9',\n",
       "       'latitude', 'longitude', ':@computed_region_d7bw_bq6x',\n",
       "       ':@computed_region_rbt8_3x7n', 'geolocation', 'off_road_description',\n",
       "       'related_non_motorist', 'non_motorist_substance_abuse'],\n",
       "      dtype='object')"
      ]
     },
     "execution_count": 10,
     "metadata": {},
     "output_type": "execute_result"
    }
   ],
   "source": [
    "driverdf.columns"
   ]
  },
  {
   "cell_type": "code",
   "execution_count": 11,
   "metadata": {},
   "outputs": [
    {
     "name": "stdout",
     "output_type": "stream",
     "text": [
      "<class 'pandas.core.frame.DataFrame'>\n",
      "RangeIndex: 1000 entries, 0 to 999\n",
      "Data columns (total 50 columns):\n",
      " #   Column                          Non-Null Count  Dtype \n",
      "---  ------                          --------------  ----- \n",
      " 0   report_number                   1000 non-null   object\n",
      " 1   local_case_number               1000 non-null   object\n",
      " 2   agency_name                     1000 non-null   object\n",
      " 3   acrs_report_type                1000 non-null   object\n",
      " 4   crash_date_time                 1000 non-null   object\n",
      " 5   route_type                      902 non-null    object\n",
      " 6   road_name                       906 non-null    object\n",
      " 7   cross_street_type               902 non-null    object\n",
      " 8   cross_street_name               906 non-null    object\n",
      " 9   municipality                    906 non-null    object\n",
      " 10  collision_type                  1000 non-null   object\n",
      " 11  weather                         1000 non-null   object\n",
      " 12  surface_condition               906 non-null    object\n",
      " 13  light                           1000 non-null   object\n",
      " 14  traffic_control                 1000 non-null   object\n",
      " 15  driver_substance_abuse          1000 non-null   object\n",
      " 16  person_id                       1000 non-null   object\n",
      " 17  driver_at_fault                 1000 non-null   object\n",
      " 18  injury_severity                 1000 non-null   object\n",
      " 19  circumstance                    1000 non-null   object\n",
      " 20  driver_distracted_by            1000 non-null   object\n",
      " 21  drivers_license_state           936 non-null    object\n",
      " 22  vehicle_id                      1000 non-null   object\n",
      " 23  vehicle_damage_extent           1000 non-null   object\n",
      " 24  vehicle_first_impact_location   1000 non-null   object\n",
      " 25  vehicle_second_impact_location  1000 non-null   object\n",
      " 26  vehicle_body_type               983 non-null    object\n",
      " 27  vehicle_movement                1000 non-null   object\n",
      " 28  vehicle_continuing_dir          984 non-null    object\n",
      " 29  vehicle_going_dir               984 non-null    object\n",
      " 30  speed_limit                     1000 non-null   object\n",
      " 31  driverless_vehicle              1000 non-null   object\n",
      " 32  parked_vehicle                  1000 non-null   object\n",
      " 33  :@computed_region_a9cs_3ed7     998 non-null    object\n",
      " 34  vehicle_year                    1000 non-null   object\n",
      " 35  vehicle_make                    1000 non-null   object\n",
      " 36  :@computed_region_r648_kzwt     1000 non-null   object\n",
      " 37  vehicle_model                   1000 non-null   object\n",
      " 38  :@computed_region_vu5j_pcmz     998 non-null    object\n",
      " 39  equipment_problems              1000 non-null   object\n",
      " 40  :@computed_region_tx5f_5em3     998 non-null    object\n",
      " 41  :@computed_region_kbsp_ykn9     1000 non-null   object\n",
      " 42  latitude                        1000 non-null   object\n",
      " 43  longitude                       1000 non-null   object\n",
      " 44  :@computed_region_d7bw_bq6x     1000 non-null   object\n",
      " 45  :@computed_region_rbt8_3x7n     1000 non-null   object\n",
      " 46  geolocation                     1000 non-null   object\n",
      " 47  off_road_description            94 non-null     object\n",
      " 48  related_non_motorist            22 non-null     object\n",
      " 49  non_motorist_substance_abuse    22 non-null     object\n",
      "dtypes: object(50)\n",
      "memory usage: 390.8+ KB\n"
     ]
    }
   ],
   "source": [
    "driverdf.info()"
   ]
  },
  {
   "cell_type": "markdown",
   "metadata": {},
   "source": [
    "The number of nun-null entries indicates whether or not all 1000 entries are non-null.  In several columns, there are fewer than 1000 non-null entries, which means there should be nulls.  The next step is to check for consistent missing value notation."
   ]
  },
  {
   "cell_type": "markdown",
   "metadata": {},
   "source": [
    "#### Convert date-time objects to datetime format"
   ]
  },
  {
   "cell_type": "code",
   "execution_count": 12,
   "metadata": {},
   "outputs": [
    {
     "name": "stdout",
     "output_type": "stream",
     "text": [
      "<class 'pandas.core.frame.DataFrame'>\n",
      "RangeIndex: 1000 entries, 0 to 999\n",
      "Data columns (total 50 columns):\n",
      " #   Column                          Non-Null Count  Dtype         \n",
      "---  ------                          --------------  -----         \n",
      " 0   report_number                   1000 non-null   object        \n",
      " 1   local_case_number               1000 non-null   object        \n",
      " 2   agency_name                     1000 non-null   object        \n",
      " 3   acrs_report_type                1000 non-null   object        \n",
      " 4   crash_date_time                 1000 non-null   datetime64[ns]\n",
      " 5   route_type                      902 non-null    object        \n",
      " 6   road_name                       906 non-null    object        \n",
      " 7   cross_street_type               902 non-null    object        \n",
      " 8   cross_street_name               906 non-null    object        \n",
      " 9   municipality                    906 non-null    object        \n",
      " 10  collision_type                  1000 non-null   object        \n",
      " 11  weather                         1000 non-null   object        \n",
      " 12  surface_condition               906 non-null    object        \n",
      " 13  light                           1000 non-null   object        \n",
      " 14  traffic_control                 1000 non-null   object        \n",
      " 15  driver_substance_abuse          1000 non-null   object        \n",
      " 16  person_id                       1000 non-null   object        \n",
      " 17  driver_at_fault                 1000 non-null   object        \n",
      " 18  injury_severity                 1000 non-null   object        \n",
      " 19  circumstance                    1000 non-null   object        \n",
      " 20  driver_distracted_by            1000 non-null   object        \n",
      " 21  drivers_license_state           936 non-null    object        \n",
      " 22  vehicle_id                      1000 non-null   object        \n",
      " 23  vehicle_damage_extent           1000 non-null   object        \n",
      " 24  vehicle_first_impact_location   1000 non-null   object        \n",
      " 25  vehicle_second_impact_location  1000 non-null   object        \n",
      " 26  vehicle_body_type               983 non-null    object        \n",
      " 27  vehicle_movement                1000 non-null   object        \n",
      " 28  vehicle_continuing_dir          984 non-null    object        \n",
      " 29  vehicle_going_dir               984 non-null    object        \n",
      " 30  speed_limit                     1000 non-null   object        \n",
      " 31  driverless_vehicle              1000 non-null   object        \n",
      " 32  parked_vehicle                  1000 non-null   object        \n",
      " 33  :@computed_region_a9cs_3ed7     998 non-null    object        \n",
      " 34  vehicle_year                    1000 non-null   object        \n",
      " 35  vehicle_make                    1000 non-null   object        \n",
      " 36  :@computed_region_r648_kzwt     1000 non-null   object        \n",
      " 37  vehicle_model                   1000 non-null   object        \n",
      " 38  :@computed_region_vu5j_pcmz     998 non-null    object        \n",
      " 39  equipment_problems              1000 non-null   object        \n",
      " 40  :@computed_region_tx5f_5em3     998 non-null    object        \n",
      " 41  :@computed_region_kbsp_ykn9     1000 non-null   object        \n",
      " 42  latitude                        1000 non-null   object        \n",
      " 43  longitude                       1000 non-null   object        \n",
      " 44  :@computed_region_d7bw_bq6x     1000 non-null   object        \n",
      " 45  :@computed_region_rbt8_3x7n     1000 non-null   object        \n",
      " 46  geolocation                     1000 non-null   object        \n",
      " 47  off_road_description            94 non-null     object        \n",
      " 48  related_non_motorist            22 non-null     object        \n",
      " 49  non_motorist_substance_abuse    22 non-null     object        \n",
      "dtypes: datetime64[ns](1), object(49)\n",
      "memory usage: 390.8+ KB\n"
     ]
    }
   ],
   "source": [
    "driverdf['crash_date_time'] = pd.to_datetime(driverdf['crash_date_time'])\n",
    "driverdf.info()"
   ]
  },
  {
   "cell_type": "markdown",
   "metadata": {},
   "source": [
    "#### Check for consistency of variables within columns\n",
    "I'm not going to check road names because of the expected massive variability within those categories."
   ]
  },
  {
   "cell_type": "code",
   "execution_count": 13,
   "metadata": {},
   "outputs": [
    {
     "data": {
      "text/plain": [
       "595"
      ]
     },
     "execution_count": 13,
     "metadata": {},
     "output_type": "execute_result"
    }
   ],
   "source": [
    "reports = driverdf.report_number\n",
    "#reports_unique = reports.unique()\n",
    "reports.nunique()"
   ]
  },
  {
   "cell_type": "markdown",
   "metadata": {},
   "source": [
    "This is very interesting, because it indicates that of the 1000 entries, there are only 595 unique reports.  I will check that by using \"duplicated\" to see how many duplicate entries there are."
   ]
  },
  {
   "cell_type": "code",
   "execution_count": 14,
   "metadata": {},
   "outputs": [
    {
     "data": {
      "text/html": [
       "<div>\n",
       "<style scoped>\n",
       "    .dataframe tbody tr th:only-of-type {\n",
       "        vertical-align: middle;\n",
       "    }\n",
       "\n",
       "    .dataframe tbody tr th {\n",
       "        vertical-align: top;\n",
       "    }\n",
       "\n",
       "    .dataframe thead th {\n",
       "        text-align: right;\n",
       "    }\n",
       "</style>\n",
       "<table border=\"1\" class=\"dataframe\">\n",
       "  <thead>\n",
       "    <tr style=\"text-align: right;\">\n",
       "      <th></th>\n",
       "      <th>report_number</th>\n",
       "      <th>local_case_number</th>\n",
       "      <th>agency_name</th>\n",
       "      <th>acrs_report_type</th>\n",
       "      <th>crash_date_time</th>\n",
       "      <th>route_type</th>\n",
       "      <th>road_name</th>\n",
       "      <th>cross_street_type</th>\n",
       "      <th>cross_street_name</th>\n",
       "      <th>municipality</th>\n",
       "      <th>...</th>\n",
       "      <th>:@computed_region_tx5f_5em3</th>\n",
       "      <th>:@computed_region_kbsp_ykn9</th>\n",
       "      <th>latitude</th>\n",
       "      <th>longitude</th>\n",
       "      <th>:@computed_region_d7bw_bq6x</th>\n",
       "      <th>:@computed_region_rbt8_3x7n</th>\n",
       "      <th>geolocation</th>\n",
       "      <th>off_road_description</th>\n",
       "      <th>related_non_motorist</th>\n",
       "      <th>non_motorist_substance_abuse</th>\n",
       "    </tr>\n",
       "  </thead>\n",
       "  <tbody>\n",
       "    <tr>\n",
       "      <th>1</th>\n",
       "      <td>DD5647000F</td>\n",
       "      <td>210007208</td>\n",
       "      <td>Rockville Police Departme</td>\n",
       "      <td>Property Damage Crash</td>\n",
       "      <td>2021-02-25 10:15:00</td>\n",
       "      <td>Maryland (State)</td>\n",
       "      <td>NORBECK RD</td>\n",
       "      <td>Municipality</td>\n",
       "      <td>E GUDE DR</td>\n",
       "      <td>ROCKVILLE</td>\n",
       "      <td>...</td>\n",
       "      <td>3</td>\n",
       "      <td>25</td>\n",
       "      <td>39.09043867</td>\n",
       "      <td>-77.12867933</td>\n",
       "      <td>71</td>\n",
       "      <td>12</td>\n",
       "      <td>{'latitude': '39.09043867', 'longitude': '-77....</td>\n",
       "      <td>NaN</td>\n",
       "      <td>NaN</td>\n",
       "      <td>NaN</td>\n",
       "    </tr>\n",
       "    <tr>\n",
       "      <th>4</th>\n",
       "      <td>MCP102200FH</td>\n",
       "      <td>210007202</td>\n",
       "      <td>Montgomery County Police</td>\n",
       "      <td>Injury Crash</td>\n",
       "      <td>2021-02-25 09:16:00</td>\n",
       "      <td>Maryland (State)</td>\n",
       "      <td>RIDGE RD</td>\n",
       "      <td>County</td>\n",
       "      <td>BRINK RD</td>\n",
       "      <td>N/A</td>\n",
       "      <td>...</td>\n",
       "      <td>2</td>\n",
       "      <td>39</td>\n",
       "      <td>39.21003667</td>\n",
       "      <td>-77.2399</td>\n",
       "      <td>36</td>\n",
       "      <td>1</td>\n",
       "      <td>{'latitude': '39.21003667', 'longitude': '-77....</td>\n",
       "      <td>NaN</td>\n",
       "      <td>NaN</td>\n",
       "      <td>NaN</td>\n",
       "    </tr>\n",
       "    <tr>\n",
       "      <th>6</th>\n",
       "      <td>MCP3036001R</td>\n",
       "      <td>210007162</td>\n",
       "      <td>Montgomery County Police</td>\n",
       "      <td>Property Damage Crash</td>\n",
       "      <td>2021-02-24 20:56:00</td>\n",
       "      <td>Maryland (State)</td>\n",
       "      <td>MONTGOMERY VILLAGE AVE</td>\n",
       "      <td>Unknown</td>\n",
       "      <td>SPUR TO RUSSELL AVE</td>\n",
       "      <td>N/A</td>\n",
       "      <td>...</td>\n",
       "      <td>3</td>\n",
       "      <td>36</td>\n",
       "      <td>39.15403167</td>\n",
       "      <td>-77.20922667</td>\n",
       "      <td>35</td>\n",
       "      <td>21</td>\n",
       "      <td>{'latitude': '39.15403167', 'longitude': '-77....</td>\n",
       "      <td>NaN</td>\n",
       "      <td>NaN</td>\n",
       "      <td>NaN</td>\n",
       "    </tr>\n",
       "    <tr>\n",
       "      <th>8</th>\n",
       "      <td>MCP32180018</td>\n",
       "      <td>210007164</td>\n",
       "      <td>Montgomery County Police</td>\n",
       "      <td>Property Damage Crash</td>\n",
       "      <td>2021-02-24 20:25:00</td>\n",
       "      <td>County</td>\n",
       "      <td>RANDOLPH RD</td>\n",
       "      <td>Maryland (State)</td>\n",
       "      <td>CONNECTICUT AVE</td>\n",
       "      <td>N/A</td>\n",
       "      <td>...</td>\n",
       "      <td>4</td>\n",
       "      <td>23</td>\n",
       "      <td>39.0572375</td>\n",
       "      <td>-77.07452383</td>\n",
       "      <td>17</td>\n",
       "      <td>1</td>\n",
       "      <td>{'latitude': '39.0572375', 'longitude': '-77.0...</td>\n",
       "      <td>NaN</td>\n",
       "      <td>NaN</td>\n",
       "      <td>NaN</td>\n",
       "    </tr>\n",
       "    <tr>\n",
       "      <th>10</th>\n",
       "      <td>DD5595009H</td>\n",
       "      <td>210007147</td>\n",
       "      <td>Rockville Police Departme</td>\n",
       "      <td>Injury Crash</td>\n",
       "      <td>2021-02-24 18:25:00</td>\n",
       "      <td>Maryland (State)</td>\n",
       "      <td>W MONTGOMERY AVE</td>\n",
       "      <td>Municipality</td>\n",
       "      <td>NELSON ST</td>\n",
       "      <td>ROCKVILLE</td>\n",
       "      <td>...</td>\n",
       "      <td>3</td>\n",
       "      <td>25</td>\n",
       "      <td>39.08578501</td>\n",
       "      <td>-77.17066705</td>\n",
       "      <td>71</td>\n",
       "      <td>12</td>\n",
       "      <td>{'latitude': '39.08578501', 'longitude': '-77....</td>\n",
       "      <td>NaN</td>\n",
       "      <td>NaN</td>\n",
       "      <td>NaN</td>\n",
       "    </tr>\n",
       "    <tr>\n",
       "      <th>...</th>\n",
       "      <td>...</td>\n",
       "      <td>...</td>\n",
       "      <td>...</td>\n",
       "      <td>...</td>\n",
       "      <td>...</td>\n",
       "      <td>...</td>\n",
       "      <td>...</td>\n",
       "      <td>...</td>\n",
       "      <td>...</td>\n",
       "      <td>...</td>\n",
       "      <td>...</td>\n",
       "      <td>...</td>\n",
       "      <td>...</td>\n",
       "      <td>...</td>\n",
       "      <td>...</td>\n",
       "      <td>...</td>\n",
       "      <td>...</td>\n",
       "      <td>...</td>\n",
       "      <td>...</td>\n",
       "      <td>...</td>\n",
       "      <td>...</td>\n",
       "    </tr>\n",
       "    <tr>\n",
       "      <th>988</th>\n",
       "      <td>MCP30390055</td>\n",
       "      <td>210001767</td>\n",
       "      <td>Montgomery County Police</td>\n",
       "      <td>Property Damage Crash</td>\n",
       "      <td>2021-01-19 16:00:00</td>\n",
       "      <td>Maryland (State)</td>\n",
       "      <td>EAST WEST HWY</td>\n",
       "      <td>Maryland (State)</td>\n",
       "      <td>COLESVILLE RD</td>\n",
       "      <td>N/A</td>\n",
       "      <td>...</td>\n",
       "      <td>5</td>\n",
       "      <td>7</td>\n",
       "      <td>38.99352352</td>\n",
       "      <td>-77.03212171</td>\n",
       "      <td>3065</td>\n",
       "      <td>1</td>\n",
       "      <td>{'latitude': '38.99352352', 'longitude': '-77....</td>\n",
       "      <td>NaN</td>\n",
       "      <td>NaN</td>\n",
       "      <td>NaN</td>\n",
       "    </tr>\n",
       "    <tr>\n",
       "      <th>990</th>\n",
       "      <td>MCP2927003R</td>\n",
       "      <td>210002381</td>\n",
       "      <td>Montgomery County Police</td>\n",
       "      <td>Property Damage Crash</td>\n",
       "      <td>2021-01-19 15:52:00</td>\n",
       "      <td>Maryland (State)</td>\n",
       "      <td>UNIVERSITY BLVD E</td>\n",
       "      <td>County</td>\n",
       "      <td>INDIAN SPRING DR</td>\n",
       "      <td>N/A</td>\n",
       "      <td>...</td>\n",
       "      <td>5</td>\n",
       "      <td>8</td>\n",
       "      <td>39.01405612</td>\n",
       "      <td>-77.00419546</td>\n",
       "      <td>21</td>\n",
       "      <td>1</td>\n",
       "      <td>{'latitude': '39.01405612', 'longitude': '-77....</td>\n",
       "      <td>NaN</td>\n",
       "      <td>NaN</td>\n",
       "      <td>NaN</td>\n",
       "    </tr>\n",
       "    <tr>\n",
       "      <th>992</th>\n",
       "      <td>MCP1128005B</td>\n",
       "      <td>210002369</td>\n",
       "      <td>Montgomery County Police</td>\n",
       "      <td>Property Damage Crash</td>\n",
       "      <td>2021-01-19 15:36:00</td>\n",
       "      <td>Maryland (State)</td>\n",
       "      <td>ROCKVILLE PIKE</td>\n",
       "      <td>County</td>\n",
       "      <td>SECURITY LA</td>\n",
       "      <td>N/A</td>\n",
       "      <td>...</td>\n",
       "      <td>1</td>\n",
       "      <td>19</td>\n",
       "      <td>39.04210833</td>\n",
       "      <td>-77.11056167</td>\n",
       "      <td>60</td>\n",
       "      <td>1</td>\n",
       "      <td>{'latitude': '39.04210833', 'longitude': '-77....</td>\n",
       "      <td>NaN</td>\n",
       "      <td>NaN</td>\n",
       "      <td>NaN</td>\n",
       "    </tr>\n",
       "    <tr>\n",
       "      <th>995</th>\n",
       "      <td>MCP31740031</td>\n",
       "      <td>210002359</td>\n",
       "      <td>Montgomery County Police</td>\n",
       "      <td>Injury Crash</td>\n",
       "      <td>2021-01-19 15:28:00</td>\n",
       "      <td>County</td>\n",
       "      <td>WATKINS MILL RD</td>\n",
       "      <td>County</td>\n",
       "      <td>APPLE RIDGE RD</td>\n",
       "      <td>N/A</td>\n",
       "      <td>...</td>\n",
       "      <td>2</td>\n",
       "      <td>38</td>\n",
       "      <td>39.18419833</td>\n",
       "      <td>-77.21089333</td>\n",
       "      <td>28</td>\n",
       "      <td>1</td>\n",
       "      <td>{'latitude': '39.18419833', 'longitude': '-77....</td>\n",
       "      <td>NaN</td>\n",
       "      <td>NaN</td>\n",
       "      <td>NaN</td>\n",
       "    </tr>\n",
       "    <tr>\n",
       "      <th>999</th>\n",
       "      <td>MCP2671002J</td>\n",
       "      <td>210002364</td>\n",
       "      <td>Montgomery County Police</td>\n",
       "      <td>Property Damage Crash</td>\n",
       "      <td>2021-01-19 15:18:00</td>\n",
       "      <td>County</td>\n",
       "      <td>FENTON ST</td>\n",
       "      <td>Maryland (State)</td>\n",
       "      <td>PHILADELPHIA AVE</td>\n",
       "      <td>N/A</td>\n",
       "      <td>...</td>\n",
       "      <td>5</td>\n",
       "      <td>7</td>\n",
       "      <td>38.98793019</td>\n",
       "      <td>-77.0235645</td>\n",
       "      <td>3065</td>\n",
       "      <td>1</td>\n",
       "      <td>{'latitude': '38.98793019', 'longitude': '-77....</td>\n",
       "      <td>NaN</td>\n",
       "      <td>NaN</td>\n",
       "      <td>NaN</td>\n",
       "    </tr>\n",
       "  </tbody>\n",
       "</table>\n",
       "<p>405 rows × 50 columns</p>\n",
       "</div>"
      ],
      "text/plain": [
       "    report_number local_case_number                agency_name  \\\n",
       "1      DD5647000F         210007208  Rockville Police Departme   \n",
       "4     MCP102200FH         210007202   Montgomery County Police   \n",
       "6     MCP3036001R         210007162   Montgomery County Police   \n",
       "8     MCP32180018         210007164   Montgomery County Police   \n",
       "10     DD5595009H         210007147  Rockville Police Departme   \n",
       "..            ...               ...                        ...   \n",
       "988   MCP30390055         210001767   Montgomery County Police   \n",
       "990   MCP2927003R         210002381   Montgomery County Police   \n",
       "992   MCP1128005B         210002369   Montgomery County Police   \n",
       "995   MCP31740031         210002359   Montgomery County Police   \n",
       "999   MCP2671002J         210002364   Montgomery County Police   \n",
       "\n",
       "          acrs_report_type     crash_date_time        route_type  \\\n",
       "1    Property Damage Crash 2021-02-25 10:15:00  Maryland (State)   \n",
       "4             Injury Crash 2021-02-25 09:16:00  Maryland (State)   \n",
       "6    Property Damage Crash 2021-02-24 20:56:00  Maryland (State)   \n",
       "8    Property Damage Crash 2021-02-24 20:25:00            County   \n",
       "10            Injury Crash 2021-02-24 18:25:00  Maryland (State)   \n",
       "..                     ...                 ...               ...   \n",
       "988  Property Damage Crash 2021-01-19 16:00:00  Maryland (State)   \n",
       "990  Property Damage Crash 2021-01-19 15:52:00  Maryland (State)   \n",
       "992  Property Damage Crash 2021-01-19 15:36:00  Maryland (State)   \n",
       "995           Injury Crash 2021-01-19 15:28:00            County   \n",
       "999  Property Damage Crash 2021-01-19 15:18:00            County   \n",
       "\n",
       "                  road_name cross_street_type    cross_street_name  \\\n",
       "1                NORBECK RD      Municipality            E GUDE DR   \n",
       "4                  RIDGE RD            County             BRINK RD   \n",
       "6    MONTGOMERY VILLAGE AVE           Unknown  SPUR TO RUSSELL AVE   \n",
       "8               RANDOLPH RD  Maryland (State)      CONNECTICUT AVE   \n",
       "10         W MONTGOMERY AVE      Municipality            NELSON ST   \n",
       "..                      ...               ...                  ...   \n",
       "988           EAST WEST HWY  Maryland (State)        COLESVILLE RD   \n",
       "990       UNIVERSITY BLVD E            County     INDIAN SPRING DR   \n",
       "992          ROCKVILLE PIKE            County          SECURITY LA   \n",
       "995         WATKINS MILL RD            County       APPLE RIDGE RD   \n",
       "999               FENTON ST  Maryland (State)     PHILADELPHIA AVE   \n",
       "\n",
       "    municipality  ... :@computed_region_tx5f_5em3 :@computed_region_kbsp_ykn9  \\\n",
       "1      ROCKVILLE  ...                           3                          25   \n",
       "4            N/A  ...                           2                          39   \n",
       "6            N/A  ...                           3                          36   \n",
       "8            N/A  ...                           4                          23   \n",
       "10     ROCKVILLE  ...                           3                          25   \n",
       "..           ...  ...                         ...                         ...   \n",
       "988          N/A  ...                           5                           7   \n",
       "990          N/A  ...                           5                           8   \n",
       "992          N/A  ...                           1                          19   \n",
       "995          N/A  ...                           2                          38   \n",
       "999          N/A  ...                           5                           7   \n",
       "\n",
       "        latitude     longitude :@computed_region_d7bw_bq6x  \\\n",
       "1    39.09043867  -77.12867933                          71   \n",
       "4    39.21003667      -77.2399                          36   \n",
       "6    39.15403167  -77.20922667                          35   \n",
       "8     39.0572375  -77.07452383                          17   \n",
       "10   39.08578501  -77.17066705                          71   \n",
       "..           ...           ...                         ...   \n",
       "988  38.99352352  -77.03212171                        3065   \n",
       "990  39.01405612  -77.00419546                          21   \n",
       "992  39.04210833  -77.11056167                          60   \n",
       "995  39.18419833  -77.21089333                          28   \n",
       "999  38.98793019   -77.0235645                        3065   \n",
       "\n",
       "    :@computed_region_rbt8_3x7n  \\\n",
       "1                            12   \n",
       "4                             1   \n",
       "6                            21   \n",
       "8                             1   \n",
       "10                           12   \n",
       "..                          ...   \n",
       "988                           1   \n",
       "990                           1   \n",
       "992                           1   \n",
       "995                           1   \n",
       "999                           1   \n",
       "\n",
       "                                           geolocation off_road_description  \\\n",
       "1    {'latitude': '39.09043867', 'longitude': '-77....                  NaN   \n",
       "4    {'latitude': '39.21003667', 'longitude': '-77....                  NaN   \n",
       "6    {'latitude': '39.15403167', 'longitude': '-77....                  NaN   \n",
       "8    {'latitude': '39.0572375', 'longitude': '-77.0...                  NaN   \n",
       "10   {'latitude': '39.08578501', 'longitude': '-77....                  NaN   \n",
       "..                                                 ...                  ...   \n",
       "988  {'latitude': '38.99352352', 'longitude': '-77....                  NaN   \n",
       "990  {'latitude': '39.01405612', 'longitude': '-77....                  NaN   \n",
       "992  {'latitude': '39.04210833', 'longitude': '-77....                  NaN   \n",
       "995  {'latitude': '39.18419833', 'longitude': '-77....                  NaN   \n",
       "999  {'latitude': '38.98793019', 'longitude': '-77....                  NaN   \n",
       "\n",
       "    related_non_motorist non_motorist_substance_abuse  \n",
       "1                    NaN                          NaN  \n",
       "4                    NaN                          NaN  \n",
       "6                    NaN                          NaN  \n",
       "8                    NaN                          NaN  \n",
       "10                   NaN                          NaN  \n",
       "..                   ...                          ...  \n",
       "988                  NaN                          NaN  \n",
       "990                  NaN                          NaN  \n",
       "992                  NaN                          NaN  \n",
       "995                  NaN                          NaN  \n",
       "999                  NaN                          NaN  \n",
       "\n",
       "[405 rows x 50 columns]"
      ]
     },
     "execution_count": 14,
     "metadata": {},
     "output_type": "execute_result"
    }
   ],
   "source": [
    "duplicateRowsDF = driverdf[driverdf.duplicated('report_number')]\n",
    "duplicateRowsDF"
   ]
  },
  {
   "cell_type": "markdown",
   "metadata": {},
   "source": [
    "So approximately half of my entries are duplicates.  I will need to figure out what I want to do about that.  I will probably look at the duplicates and see what the differences between the entries are, and then delete or merge the rows as appropriate.\n",
    "\n"
   ]
  },
  {
   "cell_type": "code",
   "execution_count": 15,
   "metadata": {},
   "outputs": [
    {
     "data": {
      "text/plain": [
       "595"
      ]
     },
     "execution_count": 15,
     "metadata": {},
     "output_type": "execute_result"
    }
   ],
   "source": [
    "cases = driverdf.local_case_number\n",
    "#cases_unique = cases.unique()\n",
    "cases.nunique()"
   ]
  },
  {
   "cell_type": "code",
   "execution_count": 16,
   "metadata": {},
   "outputs": [
    {
     "data": {
      "text/html": [
       "<div>\n",
       "<style scoped>\n",
       "    .dataframe tbody tr th:only-of-type {\n",
       "        vertical-align: middle;\n",
       "    }\n",
       "\n",
       "    .dataframe tbody tr th {\n",
       "        vertical-align: top;\n",
       "    }\n",
       "\n",
       "    .dataframe thead th {\n",
       "        text-align: right;\n",
       "    }\n",
       "</style>\n",
       "<table border=\"1\" class=\"dataframe\">\n",
       "  <thead>\n",
       "    <tr style=\"text-align: right;\">\n",
       "      <th></th>\n",
       "      <th>report_number</th>\n",
       "      <th>local_case_number</th>\n",
       "      <th>agency_name</th>\n",
       "      <th>acrs_report_type</th>\n",
       "      <th>crash_date_time</th>\n",
       "      <th>route_type</th>\n",
       "      <th>road_name</th>\n",
       "      <th>cross_street_type</th>\n",
       "      <th>cross_street_name</th>\n",
       "      <th>municipality</th>\n",
       "      <th>...</th>\n",
       "      <th>:@computed_region_tx5f_5em3</th>\n",
       "      <th>:@computed_region_kbsp_ykn9</th>\n",
       "      <th>latitude</th>\n",
       "      <th>longitude</th>\n",
       "      <th>:@computed_region_d7bw_bq6x</th>\n",
       "      <th>:@computed_region_rbt8_3x7n</th>\n",
       "      <th>geolocation</th>\n",
       "      <th>off_road_description</th>\n",
       "      <th>related_non_motorist</th>\n",
       "      <th>non_motorist_substance_abuse</th>\n",
       "    </tr>\n",
       "  </thead>\n",
       "  <tbody>\n",
       "    <tr>\n",
       "      <th>1</th>\n",
       "      <td>DD5647000F</td>\n",
       "      <td>210007208</td>\n",
       "      <td>Rockville Police Departme</td>\n",
       "      <td>Property Damage Crash</td>\n",
       "      <td>2021-02-25 10:15:00</td>\n",
       "      <td>Maryland (State)</td>\n",
       "      <td>NORBECK RD</td>\n",
       "      <td>Municipality</td>\n",
       "      <td>E GUDE DR</td>\n",
       "      <td>ROCKVILLE</td>\n",
       "      <td>...</td>\n",
       "      <td>3</td>\n",
       "      <td>25</td>\n",
       "      <td>39.09043867</td>\n",
       "      <td>-77.12867933</td>\n",
       "      <td>71</td>\n",
       "      <td>12</td>\n",
       "      <td>{'latitude': '39.09043867', 'longitude': '-77....</td>\n",
       "      <td>NaN</td>\n",
       "      <td>NaN</td>\n",
       "      <td>NaN</td>\n",
       "    </tr>\n",
       "    <tr>\n",
       "      <th>4</th>\n",
       "      <td>MCP102200FH</td>\n",
       "      <td>210007202</td>\n",
       "      <td>Montgomery County Police</td>\n",
       "      <td>Injury Crash</td>\n",
       "      <td>2021-02-25 09:16:00</td>\n",
       "      <td>Maryland (State)</td>\n",
       "      <td>RIDGE RD</td>\n",
       "      <td>County</td>\n",
       "      <td>BRINK RD</td>\n",
       "      <td>N/A</td>\n",
       "      <td>...</td>\n",
       "      <td>2</td>\n",
       "      <td>39</td>\n",
       "      <td>39.21003667</td>\n",
       "      <td>-77.2399</td>\n",
       "      <td>36</td>\n",
       "      <td>1</td>\n",
       "      <td>{'latitude': '39.21003667', 'longitude': '-77....</td>\n",
       "      <td>NaN</td>\n",
       "      <td>NaN</td>\n",
       "      <td>NaN</td>\n",
       "    </tr>\n",
       "    <tr>\n",
       "      <th>6</th>\n",
       "      <td>MCP3036001R</td>\n",
       "      <td>210007162</td>\n",
       "      <td>Montgomery County Police</td>\n",
       "      <td>Property Damage Crash</td>\n",
       "      <td>2021-02-24 20:56:00</td>\n",
       "      <td>Maryland (State)</td>\n",
       "      <td>MONTGOMERY VILLAGE AVE</td>\n",
       "      <td>Unknown</td>\n",
       "      <td>SPUR TO RUSSELL AVE</td>\n",
       "      <td>N/A</td>\n",
       "      <td>...</td>\n",
       "      <td>3</td>\n",
       "      <td>36</td>\n",
       "      <td>39.15403167</td>\n",
       "      <td>-77.20922667</td>\n",
       "      <td>35</td>\n",
       "      <td>21</td>\n",
       "      <td>{'latitude': '39.15403167', 'longitude': '-77....</td>\n",
       "      <td>NaN</td>\n",
       "      <td>NaN</td>\n",
       "      <td>NaN</td>\n",
       "    </tr>\n",
       "    <tr>\n",
       "      <th>8</th>\n",
       "      <td>MCP32180018</td>\n",
       "      <td>210007164</td>\n",
       "      <td>Montgomery County Police</td>\n",
       "      <td>Property Damage Crash</td>\n",
       "      <td>2021-02-24 20:25:00</td>\n",
       "      <td>County</td>\n",
       "      <td>RANDOLPH RD</td>\n",
       "      <td>Maryland (State)</td>\n",
       "      <td>CONNECTICUT AVE</td>\n",
       "      <td>N/A</td>\n",
       "      <td>...</td>\n",
       "      <td>4</td>\n",
       "      <td>23</td>\n",
       "      <td>39.0572375</td>\n",
       "      <td>-77.07452383</td>\n",
       "      <td>17</td>\n",
       "      <td>1</td>\n",
       "      <td>{'latitude': '39.0572375', 'longitude': '-77.0...</td>\n",
       "      <td>NaN</td>\n",
       "      <td>NaN</td>\n",
       "      <td>NaN</td>\n",
       "    </tr>\n",
       "    <tr>\n",
       "      <th>10</th>\n",
       "      <td>DD5595009H</td>\n",
       "      <td>210007147</td>\n",
       "      <td>Rockville Police Departme</td>\n",
       "      <td>Injury Crash</td>\n",
       "      <td>2021-02-24 18:25:00</td>\n",
       "      <td>Maryland (State)</td>\n",
       "      <td>W MONTGOMERY AVE</td>\n",
       "      <td>Municipality</td>\n",
       "      <td>NELSON ST</td>\n",
       "      <td>ROCKVILLE</td>\n",
       "      <td>...</td>\n",
       "      <td>3</td>\n",
       "      <td>25</td>\n",
       "      <td>39.08578501</td>\n",
       "      <td>-77.17066705</td>\n",
       "      <td>71</td>\n",
       "      <td>12</td>\n",
       "      <td>{'latitude': '39.08578501', 'longitude': '-77....</td>\n",
       "      <td>NaN</td>\n",
       "      <td>NaN</td>\n",
       "      <td>NaN</td>\n",
       "    </tr>\n",
       "    <tr>\n",
       "      <th>...</th>\n",
       "      <td>...</td>\n",
       "      <td>...</td>\n",
       "      <td>...</td>\n",
       "      <td>...</td>\n",
       "      <td>...</td>\n",
       "      <td>...</td>\n",
       "      <td>...</td>\n",
       "      <td>...</td>\n",
       "      <td>...</td>\n",
       "      <td>...</td>\n",
       "      <td>...</td>\n",
       "      <td>...</td>\n",
       "      <td>...</td>\n",
       "      <td>...</td>\n",
       "      <td>...</td>\n",
       "      <td>...</td>\n",
       "      <td>...</td>\n",
       "      <td>...</td>\n",
       "      <td>...</td>\n",
       "      <td>...</td>\n",
       "      <td>...</td>\n",
       "    </tr>\n",
       "    <tr>\n",
       "      <th>988</th>\n",
       "      <td>MCP30390055</td>\n",
       "      <td>210001767</td>\n",
       "      <td>Montgomery County Police</td>\n",
       "      <td>Property Damage Crash</td>\n",
       "      <td>2021-01-19 16:00:00</td>\n",
       "      <td>Maryland (State)</td>\n",
       "      <td>EAST WEST HWY</td>\n",
       "      <td>Maryland (State)</td>\n",
       "      <td>COLESVILLE RD</td>\n",
       "      <td>N/A</td>\n",
       "      <td>...</td>\n",
       "      <td>5</td>\n",
       "      <td>7</td>\n",
       "      <td>38.99352352</td>\n",
       "      <td>-77.03212171</td>\n",
       "      <td>3065</td>\n",
       "      <td>1</td>\n",
       "      <td>{'latitude': '38.99352352', 'longitude': '-77....</td>\n",
       "      <td>NaN</td>\n",
       "      <td>NaN</td>\n",
       "      <td>NaN</td>\n",
       "    </tr>\n",
       "    <tr>\n",
       "      <th>990</th>\n",
       "      <td>MCP2927003R</td>\n",
       "      <td>210002381</td>\n",
       "      <td>Montgomery County Police</td>\n",
       "      <td>Property Damage Crash</td>\n",
       "      <td>2021-01-19 15:52:00</td>\n",
       "      <td>Maryland (State)</td>\n",
       "      <td>UNIVERSITY BLVD E</td>\n",
       "      <td>County</td>\n",
       "      <td>INDIAN SPRING DR</td>\n",
       "      <td>N/A</td>\n",
       "      <td>...</td>\n",
       "      <td>5</td>\n",
       "      <td>8</td>\n",
       "      <td>39.01405612</td>\n",
       "      <td>-77.00419546</td>\n",
       "      <td>21</td>\n",
       "      <td>1</td>\n",
       "      <td>{'latitude': '39.01405612', 'longitude': '-77....</td>\n",
       "      <td>NaN</td>\n",
       "      <td>NaN</td>\n",
       "      <td>NaN</td>\n",
       "    </tr>\n",
       "    <tr>\n",
       "      <th>992</th>\n",
       "      <td>MCP1128005B</td>\n",
       "      <td>210002369</td>\n",
       "      <td>Montgomery County Police</td>\n",
       "      <td>Property Damage Crash</td>\n",
       "      <td>2021-01-19 15:36:00</td>\n",
       "      <td>Maryland (State)</td>\n",
       "      <td>ROCKVILLE PIKE</td>\n",
       "      <td>County</td>\n",
       "      <td>SECURITY LA</td>\n",
       "      <td>N/A</td>\n",
       "      <td>...</td>\n",
       "      <td>1</td>\n",
       "      <td>19</td>\n",
       "      <td>39.04210833</td>\n",
       "      <td>-77.11056167</td>\n",
       "      <td>60</td>\n",
       "      <td>1</td>\n",
       "      <td>{'latitude': '39.04210833', 'longitude': '-77....</td>\n",
       "      <td>NaN</td>\n",
       "      <td>NaN</td>\n",
       "      <td>NaN</td>\n",
       "    </tr>\n",
       "    <tr>\n",
       "      <th>995</th>\n",
       "      <td>MCP31740031</td>\n",
       "      <td>210002359</td>\n",
       "      <td>Montgomery County Police</td>\n",
       "      <td>Injury Crash</td>\n",
       "      <td>2021-01-19 15:28:00</td>\n",
       "      <td>County</td>\n",
       "      <td>WATKINS MILL RD</td>\n",
       "      <td>County</td>\n",
       "      <td>APPLE RIDGE RD</td>\n",
       "      <td>N/A</td>\n",
       "      <td>...</td>\n",
       "      <td>2</td>\n",
       "      <td>38</td>\n",
       "      <td>39.18419833</td>\n",
       "      <td>-77.21089333</td>\n",
       "      <td>28</td>\n",
       "      <td>1</td>\n",
       "      <td>{'latitude': '39.18419833', 'longitude': '-77....</td>\n",
       "      <td>NaN</td>\n",
       "      <td>NaN</td>\n",
       "      <td>NaN</td>\n",
       "    </tr>\n",
       "    <tr>\n",
       "      <th>999</th>\n",
       "      <td>MCP2671002J</td>\n",
       "      <td>210002364</td>\n",
       "      <td>Montgomery County Police</td>\n",
       "      <td>Property Damage Crash</td>\n",
       "      <td>2021-01-19 15:18:00</td>\n",
       "      <td>County</td>\n",
       "      <td>FENTON ST</td>\n",
       "      <td>Maryland (State)</td>\n",
       "      <td>PHILADELPHIA AVE</td>\n",
       "      <td>N/A</td>\n",
       "      <td>...</td>\n",
       "      <td>5</td>\n",
       "      <td>7</td>\n",
       "      <td>38.98793019</td>\n",
       "      <td>-77.0235645</td>\n",
       "      <td>3065</td>\n",
       "      <td>1</td>\n",
       "      <td>{'latitude': '38.98793019', 'longitude': '-77....</td>\n",
       "      <td>NaN</td>\n",
       "      <td>NaN</td>\n",
       "      <td>NaN</td>\n",
       "    </tr>\n",
       "  </tbody>\n",
       "</table>\n",
       "<p>405 rows × 50 columns</p>\n",
       "</div>"
      ],
      "text/plain": [
       "    report_number local_case_number                agency_name  \\\n",
       "1      DD5647000F         210007208  Rockville Police Departme   \n",
       "4     MCP102200FH         210007202   Montgomery County Police   \n",
       "6     MCP3036001R         210007162   Montgomery County Police   \n",
       "8     MCP32180018         210007164   Montgomery County Police   \n",
       "10     DD5595009H         210007147  Rockville Police Departme   \n",
       "..            ...               ...                        ...   \n",
       "988   MCP30390055         210001767   Montgomery County Police   \n",
       "990   MCP2927003R         210002381   Montgomery County Police   \n",
       "992   MCP1128005B         210002369   Montgomery County Police   \n",
       "995   MCP31740031         210002359   Montgomery County Police   \n",
       "999   MCP2671002J         210002364   Montgomery County Police   \n",
       "\n",
       "          acrs_report_type     crash_date_time        route_type  \\\n",
       "1    Property Damage Crash 2021-02-25 10:15:00  Maryland (State)   \n",
       "4             Injury Crash 2021-02-25 09:16:00  Maryland (State)   \n",
       "6    Property Damage Crash 2021-02-24 20:56:00  Maryland (State)   \n",
       "8    Property Damage Crash 2021-02-24 20:25:00            County   \n",
       "10            Injury Crash 2021-02-24 18:25:00  Maryland (State)   \n",
       "..                     ...                 ...               ...   \n",
       "988  Property Damage Crash 2021-01-19 16:00:00  Maryland (State)   \n",
       "990  Property Damage Crash 2021-01-19 15:52:00  Maryland (State)   \n",
       "992  Property Damage Crash 2021-01-19 15:36:00  Maryland (State)   \n",
       "995           Injury Crash 2021-01-19 15:28:00            County   \n",
       "999  Property Damage Crash 2021-01-19 15:18:00            County   \n",
       "\n",
       "                  road_name cross_street_type    cross_street_name  \\\n",
       "1                NORBECK RD      Municipality            E GUDE DR   \n",
       "4                  RIDGE RD            County             BRINK RD   \n",
       "6    MONTGOMERY VILLAGE AVE           Unknown  SPUR TO RUSSELL AVE   \n",
       "8               RANDOLPH RD  Maryland (State)      CONNECTICUT AVE   \n",
       "10         W MONTGOMERY AVE      Municipality            NELSON ST   \n",
       "..                      ...               ...                  ...   \n",
       "988           EAST WEST HWY  Maryland (State)        COLESVILLE RD   \n",
       "990       UNIVERSITY BLVD E            County     INDIAN SPRING DR   \n",
       "992          ROCKVILLE PIKE            County          SECURITY LA   \n",
       "995         WATKINS MILL RD            County       APPLE RIDGE RD   \n",
       "999               FENTON ST  Maryland (State)     PHILADELPHIA AVE   \n",
       "\n",
       "    municipality  ... :@computed_region_tx5f_5em3 :@computed_region_kbsp_ykn9  \\\n",
       "1      ROCKVILLE  ...                           3                          25   \n",
       "4            N/A  ...                           2                          39   \n",
       "6            N/A  ...                           3                          36   \n",
       "8            N/A  ...                           4                          23   \n",
       "10     ROCKVILLE  ...                           3                          25   \n",
       "..           ...  ...                         ...                         ...   \n",
       "988          N/A  ...                           5                           7   \n",
       "990          N/A  ...                           5                           8   \n",
       "992          N/A  ...                           1                          19   \n",
       "995          N/A  ...                           2                          38   \n",
       "999          N/A  ...                           5                           7   \n",
       "\n",
       "        latitude     longitude :@computed_region_d7bw_bq6x  \\\n",
       "1    39.09043867  -77.12867933                          71   \n",
       "4    39.21003667      -77.2399                          36   \n",
       "6    39.15403167  -77.20922667                          35   \n",
       "8     39.0572375  -77.07452383                          17   \n",
       "10   39.08578501  -77.17066705                          71   \n",
       "..           ...           ...                         ...   \n",
       "988  38.99352352  -77.03212171                        3065   \n",
       "990  39.01405612  -77.00419546                          21   \n",
       "992  39.04210833  -77.11056167                          60   \n",
       "995  39.18419833  -77.21089333                          28   \n",
       "999  38.98793019   -77.0235645                        3065   \n",
       "\n",
       "    :@computed_region_rbt8_3x7n  \\\n",
       "1                            12   \n",
       "4                             1   \n",
       "6                            21   \n",
       "8                             1   \n",
       "10                           12   \n",
       "..                          ...   \n",
       "988                           1   \n",
       "990                           1   \n",
       "992                           1   \n",
       "995                           1   \n",
       "999                           1   \n",
       "\n",
       "                                           geolocation off_road_description  \\\n",
       "1    {'latitude': '39.09043867', 'longitude': '-77....                  NaN   \n",
       "4    {'latitude': '39.21003667', 'longitude': '-77....                  NaN   \n",
       "6    {'latitude': '39.15403167', 'longitude': '-77....                  NaN   \n",
       "8    {'latitude': '39.0572375', 'longitude': '-77.0...                  NaN   \n",
       "10   {'latitude': '39.08578501', 'longitude': '-77....                  NaN   \n",
       "..                                                 ...                  ...   \n",
       "988  {'latitude': '38.99352352', 'longitude': '-77....                  NaN   \n",
       "990  {'latitude': '39.01405612', 'longitude': '-77....                  NaN   \n",
       "992  {'latitude': '39.04210833', 'longitude': '-77....                  NaN   \n",
       "995  {'latitude': '39.18419833', 'longitude': '-77....                  NaN   \n",
       "999  {'latitude': '38.98793019', 'longitude': '-77....                  NaN   \n",
       "\n",
       "    related_non_motorist non_motorist_substance_abuse  \n",
       "1                    NaN                          NaN  \n",
       "4                    NaN                          NaN  \n",
       "6                    NaN                          NaN  \n",
       "8                    NaN                          NaN  \n",
       "10                   NaN                          NaN  \n",
       "..                   ...                          ...  \n",
       "988                  NaN                          NaN  \n",
       "990                  NaN                          NaN  \n",
       "992                  NaN                          NaN  \n",
       "995                  NaN                          NaN  \n",
       "999                  NaN                          NaN  \n",
       "\n",
       "[405 rows x 50 columns]"
      ]
     },
     "execution_count": 16,
     "metadata": {},
     "output_type": "execute_result"
    }
   ],
   "source": [
    "duplicateCasesDF = driverdf[driverdf.duplicated('local_case_number')]\n",
    "duplicateCasesDF"
   ]
  },
  {
   "cell_type": "markdown",
   "metadata": {},
   "source": [
    "I have the same situation with cases, so I assume they are the same---I'll double check by checking both columns."
   ]
  },
  {
   "cell_type": "code",
   "execution_count": 17,
   "metadata": {},
   "outputs": [
    {
     "data": {
      "text/html": [
       "<div>\n",
       "<style scoped>\n",
       "    .dataframe tbody tr th:only-of-type {\n",
       "        vertical-align: middle;\n",
       "    }\n",
       "\n",
       "    .dataframe tbody tr th {\n",
       "        vertical-align: top;\n",
       "    }\n",
       "\n",
       "    .dataframe thead th {\n",
       "        text-align: right;\n",
       "    }\n",
       "</style>\n",
       "<table border=\"1\" class=\"dataframe\">\n",
       "  <thead>\n",
       "    <tr style=\"text-align: right;\">\n",
       "      <th></th>\n",
       "      <th>report_number</th>\n",
       "      <th>local_case_number</th>\n",
       "      <th>agency_name</th>\n",
       "      <th>acrs_report_type</th>\n",
       "      <th>crash_date_time</th>\n",
       "      <th>route_type</th>\n",
       "      <th>road_name</th>\n",
       "      <th>cross_street_type</th>\n",
       "      <th>cross_street_name</th>\n",
       "      <th>municipality</th>\n",
       "      <th>...</th>\n",
       "      <th>:@computed_region_tx5f_5em3</th>\n",
       "      <th>:@computed_region_kbsp_ykn9</th>\n",
       "      <th>latitude</th>\n",
       "      <th>longitude</th>\n",
       "      <th>:@computed_region_d7bw_bq6x</th>\n",
       "      <th>:@computed_region_rbt8_3x7n</th>\n",
       "      <th>geolocation</th>\n",
       "      <th>off_road_description</th>\n",
       "      <th>related_non_motorist</th>\n",
       "      <th>non_motorist_substance_abuse</th>\n",
       "    </tr>\n",
       "  </thead>\n",
       "  <tbody>\n",
       "    <tr>\n",
       "      <th>997</th>\n",
       "      <td>MCP2671002J</td>\n",
       "      <td>210002364</td>\n",
       "      <td>Montgomery County Police</td>\n",
       "      <td>Property Damage Crash</td>\n",
       "      <td>2021-01-19 15:18:00</td>\n",
       "      <td>County</td>\n",
       "      <td>FENTON ST</td>\n",
       "      <td>Maryland (State)</td>\n",
       "      <td>PHILADELPHIA AVE</td>\n",
       "      <td>N/A</td>\n",
       "      <td>...</td>\n",
       "      <td>5</td>\n",
       "      <td>7</td>\n",
       "      <td>38.98793019</td>\n",
       "      <td>-77.0235645</td>\n",
       "      <td>3065</td>\n",
       "      <td>1</td>\n",
       "      <td>{'latitude': '38.98793019', 'longitude': '-77....</td>\n",
       "      <td>NaN</td>\n",
       "      <td>NaN</td>\n",
       "      <td>NaN</td>\n",
       "    </tr>\n",
       "    <tr>\n",
       "      <th>999</th>\n",
       "      <td>MCP2671002J</td>\n",
       "      <td>210002364</td>\n",
       "      <td>Montgomery County Police</td>\n",
       "      <td>Property Damage Crash</td>\n",
       "      <td>2021-01-19 15:18:00</td>\n",
       "      <td>County</td>\n",
       "      <td>FENTON ST</td>\n",
       "      <td>Maryland (State)</td>\n",
       "      <td>PHILADELPHIA AVE</td>\n",
       "      <td>N/A</td>\n",
       "      <td>...</td>\n",
       "      <td>5</td>\n",
       "      <td>7</td>\n",
       "      <td>38.98793019</td>\n",
       "      <td>-77.0235645</td>\n",
       "      <td>3065</td>\n",
       "      <td>1</td>\n",
       "      <td>{'latitude': '38.98793019', 'longitude': '-77....</td>\n",
       "      <td>NaN</td>\n",
       "      <td>NaN</td>\n",
       "      <td>NaN</td>\n",
       "    </tr>\n",
       "  </tbody>\n",
       "</table>\n",
       "<p>2 rows × 50 columns</p>\n",
       "</div>"
      ],
      "text/plain": [
       "    report_number local_case_number               agency_name  \\\n",
       "997   MCP2671002J         210002364  Montgomery County Police   \n",
       "999   MCP2671002J         210002364  Montgomery County Police   \n",
       "\n",
       "          acrs_report_type     crash_date_time route_type  road_name  \\\n",
       "997  Property Damage Crash 2021-01-19 15:18:00     County  FENTON ST   \n",
       "999  Property Damage Crash 2021-01-19 15:18:00     County  FENTON ST   \n",
       "\n",
       "    cross_street_type cross_street_name municipality  ...  \\\n",
       "997  Maryland (State)  PHILADELPHIA AVE          N/A  ...   \n",
       "999  Maryland (State)  PHILADELPHIA AVE          N/A  ...   \n",
       "\n",
       "    :@computed_region_tx5f_5em3 :@computed_region_kbsp_ykn9     latitude  \\\n",
       "997                           5                           7  38.98793019   \n",
       "999                           5                           7  38.98793019   \n",
       "\n",
       "       longitude :@computed_region_d7bw_bq6x :@computed_region_rbt8_3x7n  \\\n",
       "997  -77.0235645                        3065                           1   \n",
       "999  -77.0235645                        3065                           1   \n",
       "\n",
       "                                           geolocation off_road_description  \\\n",
       "997  {'latitude': '38.98793019', 'longitude': '-77....                  NaN   \n",
       "999  {'latitude': '38.98793019', 'longitude': '-77....                  NaN   \n",
       "\n",
       "    related_non_motorist non_motorist_substance_abuse  \n",
       "997                  NaN                          NaN  \n",
       "999                  NaN                          NaN  \n",
       "\n",
       "[2 rows x 50 columns]"
      ]
     },
     "execution_count": 17,
     "metadata": {},
     "output_type": "execute_result"
    }
   ],
   "source": [
    "driverdf[driverdf['local_case_number']=='210002364']"
   ]
  },
  {
   "cell_type": "code",
   "execution_count": 18,
   "metadata": {},
   "outputs": [
    {
     "data": {
      "text/html": [
       "<div>\n",
       "<style scoped>\n",
       "    .dataframe tbody tr th:only-of-type {\n",
       "        vertical-align: middle;\n",
       "    }\n",
       "\n",
       "    .dataframe tbody tr th {\n",
       "        vertical-align: top;\n",
       "    }\n",
       "\n",
       "    .dataframe thead th {\n",
       "        text-align: right;\n",
       "    }\n",
       "</style>\n",
       "<table border=\"1\" class=\"dataframe\">\n",
       "  <thead>\n",
       "    <tr style=\"text-align: right;\">\n",
       "      <th></th>\n",
       "      <th>report_number</th>\n",
       "      <th>local_case_number</th>\n",
       "      <th>agency_name</th>\n",
       "      <th>acrs_report_type</th>\n",
       "      <th>crash_date_time</th>\n",
       "      <th>route_type</th>\n",
       "      <th>road_name</th>\n",
       "      <th>cross_street_type</th>\n",
       "      <th>cross_street_name</th>\n",
       "      <th>municipality</th>\n",
       "      <th>...</th>\n",
       "      <th>:@computed_region_tx5f_5em3</th>\n",
       "      <th>:@computed_region_kbsp_ykn9</th>\n",
       "      <th>latitude</th>\n",
       "      <th>longitude</th>\n",
       "      <th>:@computed_region_d7bw_bq6x</th>\n",
       "      <th>:@computed_region_rbt8_3x7n</th>\n",
       "      <th>geolocation</th>\n",
       "      <th>off_road_description</th>\n",
       "      <th>related_non_motorist</th>\n",
       "      <th>non_motorist_substance_abuse</th>\n",
       "    </tr>\n",
       "  </thead>\n",
       "  <tbody>\n",
       "    <tr>\n",
       "      <th>994</th>\n",
       "      <td>MCP31740031</td>\n",
       "      <td>210002359</td>\n",
       "      <td>Montgomery County Police</td>\n",
       "      <td>Injury Crash</td>\n",
       "      <td>2021-01-19 15:28:00</td>\n",
       "      <td>County</td>\n",
       "      <td>WATKINS MILL RD</td>\n",
       "      <td>County</td>\n",
       "      <td>APPLE RIDGE RD</td>\n",
       "      <td>N/A</td>\n",
       "      <td>...</td>\n",
       "      <td>2</td>\n",
       "      <td>38</td>\n",
       "      <td>39.18419833</td>\n",
       "      <td>-77.21089333</td>\n",
       "      <td>28</td>\n",
       "      <td>1</td>\n",
       "      <td>{'latitude': '39.18419833', 'longitude': '-77....</td>\n",
       "      <td>NaN</td>\n",
       "      <td>NaN</td>\n",
       "      <td>NaN</td>\n",
       "    </tr>\n",
       "    <tr>\n",
       "      <th>995</th>\n",
       "      <td>MCP31740031</td>\n",
       "      <td>210002359</td>\n",
       "      <td>Montgomery County Police</td>\n",
       "      <td>Injury Crash</td>\n",
       "      <td>2021-01-19 15:28:00</td>\n",
       "      <td>County</td>\n",
       "      <td>WATKINS MILL RD</td>\n",
       "      <td>County</td>\n",
       "      <td>APPLE RIDGE RD</td>\n",
       "      <td>N/A</td>\n",
       "      <td>...</td>\n",
       "      <td>2</td>\n",
       "      <td>38</td>\n",
       "      <td>39.18419833</td>\n",
       "      <td>-77.21089333</td>\n",
       "      <td>28</td>\n",
       "      <td>1</td>\n",
       "      <td>{'latitude': '39.18419833', 'longitude': '-77....</td>\n",
       "      <td>NaN</td>\n",
       "      <td>NaN</td>\n",
       "      <td>NaN</td>\n",
       "    </tr>\n",
       "  </tbody>\n",
       "</table>\n",
       "<p>2 rows × 50 columns</p>\n",
       "</div>"
      ],
      "text/plain": [
       "    report_number local_case_number               agency_name  \\\n",
       "994   MCP31740031         210002359  Montgomery County Police   \n",
       "995   MCP31740031         210002359  Montgomery County Police   \n",
       "\n",
       "    acrs_report_type     crash_date_time route_type        road_name  \\\n",
       "994     Injury Crash 2021-01-19 15:28:00     County  WATKINS MILL RD   \n",
       "995     Injury Crash 2021-01-19 15:28:00     County  WATKINS MILL RD   \n",
       "\n",
       "    cross_street_type cross_street_name municipality  ...  \\\n",
       "994            County    APPLE RIDGE RD          N/A  ...   \n",
       "995            County    APPLE RIDGE RD          N/A  ...   \n",
       "\n",
       "    :@computed_region_tx5f_5em3 :@computed_region_kbsp_ykn9     latitude  \\\n",
       "994                           2                          38  39.18419833   \n",
       "995                           2                          38  39.18419833   \n",
       "\n",
       "        longitude :@computed_region_d7bw_bq6x :@computed_region_rbt8_3x7n  \\\n",
       "994  -77.21089333                          28                           1   \n",
       "995  -77.21089333                          28                           1   \n",
       "\n",
       "                                           geolocation off_road_description  \\\n",
       "994  {'latitude': '39.18419833', 'longitude': '-77....                  NaN   \n",
       "995  {'latitude': '39.18419833', 'longitude': '-77....                  NaN   \n",
       "\n",
       "    related_non_motorist non_motorist_substance_abuse  \n",
       "994                  NaN                          NaN  \n",
       "995                  NaN                          NaN  \n",
       "\n",
       "[2 rows x 50 columns]"
      ]
     },
     "execution_count": 18,
     "metadata": {},
     "output_type": "execute_result"
    }
   ],
   "source": [
    "driverdf[driverdf['local_case_number']=='210002359']"
   ]
  },
  {
   "cell_type": "markdown",
   "metadata": {},
   "source": [
    "In these test cases, it appears all of the information matches, and the records are duplicates.  I will remove all duplicates."
   ]
  },
  {
   "cell_type": "code",
   "execution_count": 19,
   "metadata": {},
   "outputs": [
    {
     "data": {
      "text/html": [
       "<div>\n",
       "<style scoped>\n",
       "    .dataframe tbody tr th:only-of-type {\n",
       "        vertical-align: middle;\n",
       "    }\n",
       "\n",
       "    .dataframe tbody tr th {\n",
       "        vertical-align: top;\n",
       "    }\n",
       "\n",
       "    .dataframe thead th {\n",
       "        text-align: right;\n",
       "    }\n",
       "</style>\n",
       "<table border=\"1\" class=\"dataframe\">\n",
       "  <thead>\n",
       "    <tr style=\"text-align: right;\">\n",
       "      <th></th>\n",
       "      <th>report_number</th>\n",
       "      <th>local_case_number</th>\n",
       "      <th>agency_name</th>\n",
       "      <th>acrs_report_type</th>\n",
       "      <th>crash_date_time</th>\n",
       "      <th>route_type</th>\n",
       "      <th>road_name</th>\n",
       "      <th>cross_street_type</th>\n",
       "      <th>cross_street_name</th>\n",
       "      <th>municipality</th>\n",
       "      <th>...</th>\n",
       "      <th>:@computed_region_tx5f_5em3</th>\n",
       "      <th>:@computed_region_kbsp_ykn9</th>\n",
       "      <th>latitude</th>\n",
       "      <th>longitude</th>\n",
       "      <th>:@computed_region_d7bw_bq6x</th>\n",
       "      <th>:@computed_region_rbt8_3x7n</th>\n",
       "      <th>geolocation</th>\n",
       "      <th>off_road_description</th>\n",
       "      <th>related_non_motorist</th>\n",
       "      <th>non_motorist_substance_abuse</th>\n",
       "    </tr>\n",
       "  </thead>\n",
       "  <tbody>\n",
       "    <tr>\n",
       "      <th>1</th>\n",
       "      <td>DD5647000F</td>\n",
       "      <td>210007208</td>\n",
       "      <td>Rockville Police Departme</td>\n",
       "      <td>Property Damage Crash</td>\n",
       "      <td>2021-02-25 10:15:00</td>\n",
       "      <td>Maryland (State)</td>\n",
       "      <td>NORBECK RD</td>\n",
       "      <td>Municipality</td>\n",
       "      <td>E GUDE DR</td>\n",
       "      <td>ROCKVILLE</td>\n",
       "      <td>...</td>\n",
       "      <td>3</td>\n",
       "      <td>25</td>\n",
       "      <td>39.09043867</td>\n",
       "      <td>-77.12867933</td>\n",
       "      <td>71</td>\n",
       "      <td>12</td>\n",
       "      <td>{'latitude': '39.09043867', 'longitude': '-77....</td>\n",
       "      <td>NaN</td>\n",
       "      <td>NaN</td>\n",
       "      <td>NaN</td>\n",
       "    </tr>\n",
       "    <tr>\n",
       "      <th>2</th>\n",
       "      <td>DD5647000C</td>\n",
       "      <td>210007203</td>\n",
       "      <td>Rockville Police Departme</td>\n",
       "      <td>Property Damage Crash</td>\n",
       "      <td>2021-02-25 09:16:00</td>\n",
       "      <td>Maryland (State)</td>\n",
       "      <td>W MONTGOMERY AVE</td>\n",
       "      <td>Municipality</td>\n",
       "      <td>NELSON ST</td>\n",
       "      <td>ROCKVILLE</td>\n",
       "      <td>...</td>\n",
       "      <td>3</td>\n",
       "      <td>25</td>\n",
       "      <td>39.08605617</td>\n",
       "      <td>-77.17062833</td>\n",
       "      <td>71</td>\n",
       "      <td>12</td>\n",
       "      <td>{'latitude': '39.08605617', 'longitude': '-77....</td>\n",
       "      <td>NaN</td>\n",
       "      <td>NaN</td>\n",
       "      <td>NaN</td>\n",
       "    </tr>\n",
       "    <tr>\n",
       "      <th>4</th>\n",
       "      <td>MCP102200FH</td>\n",
       "      <td>210007202</td>\n",
       "      <td>Montgomery County Police</td>\n",
       "      <td>Injury Crash</td>\n",
       "      <td>2021-02-25 09:16:00</td>\n",
       "      <td>Maryland (State)</td>\n",
       "      <td>RIDGE RD</td>\n",
       "      <td>County</td>\n",
       "      <td>BRINK RD</td>\n",
       "      <td>N/A</td>\n",
       "      <td>...</td>\n",
       "      <td>2</td>\n",
       "      <td>39</td>\n",
       "      <td>39.21003667</td>\n",
       "      <td>-77.2399</td>\n",
       "      <td>36</td>\n",
       "      <td>1</td>\n",
       "      <td>{'latitude': '39.21003667', 'longitude': '-77....</td>\n",
       "      <td>NaN</td>\n",
       "      <td>NaN</td>\n",
       "      <td>NaN</td>\n",
       "    </tr>\n",
       "    <tr>\n",
       "      <th>6</th>\n",
       "      <td>MCP3036001R</td>\n",
       "      <td>210007162</td>\n",
       "      <td>Montgomery County Police</td>\n",
       "      <td>Property Damage Crash</td>\n",
       "      <td>2021-02-24 20:56:00</td>\n",
       "      <td>Maryland (State)</td>\n",
       "      <td>MONTGOMERY VILLAGE AVE</td>\n",
       "      <td>Unknown</td>\n",
       "      <td>SPUR TO RUSSELL AVE</td>\n",
       "      <td>N/A</td>\n",
       "      <td>...</td>\n",
       "      <td>3</td>\n",
       "      <td>36</td>\n",
       "      <td>39.15403167</td>\n",
       "      <td>-77.20922667</td>\n",
       "      <td>35</td>\n",
       "      <td>21</td>\n",
       "      <td>{'latitude': '39.15403167', 'longitude': '-77....</td>\n",
       "      <td>NaN</td>\n",
       "      <td>NaN</td>\n",
       "      <td>NaN</td>\n",
       "    </tr>\n",
       "    <tr>\n",
       "      <th>8</th>\n",
       "      <td>MCP32180018</td>\n",
       "      <td>210007164</td>\n",
       "      <td>Montgomery County Police</td>\n",
       "      <td>Property Damage Crash</td>\n",
       "      <td>2021-02-24 20:25:00</td>\n",
       "      <td>County</td>\n",
       "      <td>RANDOLPH RD</td>\n",
       "      <td>Maryland (State)</td>\n",
       "      <td>CONNECTICUT AVE</td>\n",
       "      <td>N/A</td>\n",
       "      <td>...</td>\n",
       "      <td>4</td>\n",
       "      <td>23</td>\n",
       "      <td>39.0572375</td>\n",
       "      <td>-77.07452383</td>\n",
       "      <td>17</td>\n",
       "      <td>1</td>\n",
       "      <td>{'latitude': '39.0572375', 'longitude': '-77.0...</td>\n",
       "      <td>NaN</td>\n",
       "      <td>NaN</td>\n",
       "      <td>NaN</td>\n",
       "    </tr>\n",
       "    <tr>\n",
       "      <th>...</th>\n",
       "      <td>...</td>\n",
       "      <td>...</td>\n",
       "      <td>...</td>\n",
       "      <td>...</td>\n",
       "      <td>...</td>\n",
       "      <td>...</td>\n",
       "      <td>...</td>\n",
       "      <td>...</td>\n",
       "      <td>...</td>\n",
       "      <td>...</td>\n",
       "      <td>...</td>\n",
       "      <td>...</td>\n",
       "      <td>...</td>\n",
       "      <td>...</td>\n",
       "      <td>...</td>\n",
       "      <td>...</td>\n",
       "      <td>...</td>\n",
       "      <td>...</td>\n",
       "      <td>...</td>\n",
       "      <td>...</td>\n",
       "      <td>...</td>\n",
       "    </tr>\n",
       "    <tr>\n",
       "      <th>993</th>\n",
       "      <td>MCP271700TB</td>\n",
       "      <td>210002365</td>\n",
       "      <td>Montgomery County Police</td>\n",
       "      <td>Injury Crash</td>\n",
       "      <td>2021-01-19 15:31:00</td>\n",
       "      <td>Maryland (State)</td>\n",
       "      <td>CONNECTICUT AVE</td>\n",
       "      <td>Municipality</td>\n",
       "      <td>ROSEMARY ST #2</td>\n",
       "      <td>CHEVY CHASE #4</td>\n",
       "      <td>...</td>\n",
       "      <td>1</td>\n",
       "      <td>5</td>\n",
       "      <td>38.97779433</td>\n",
       "      <td>-77.07710317</td>\n",
       "      <td>110</td>\n",
       "      <td>15</td>\n",
       "      <td>{'latitude': '38.97779433', 'longitude': '-77....</td>\n",
       "      <td>NaN</td>\n",
       "      <td>BICYCLIST</td>\n",
       "      <td>NONE DETECTED</td>\n",
       "    </tr>\n",
       "    <tr>\n",
       "      <th>995</th>\n",
       "      <td>MCP31740031</td>\n",
       "      <td>210002359</td>\n",
       "      <td>Montgomery County Police</td>\n",
       "      <td>Injury Crash</td>\n",
       "      <td>2021-01-19 15:28:00</td>\n",
       "      <td>County</td>\n",
       "      <td>WATKINS MILL RD</td>\n",
       "      <td>County</td>\n",
       "      <td>APPLE RIDGE RD</td>\n",
       "      <td>N/A</td>\n",
       "      <td>...</td>\n",
       "      <td>2</td>\n",
       "      <td>38</td>\n",
       "      <td>39.18419833</td>\n",
       "      <td>-77.21089333</td>\n",
       "      <td>28</td>\n",
       "      <td>1</td>\n",
       "      <td>{'latitude': '39.18419833', 'longitude': '-77....</td>\n",
       "      <td>NaN</td>\n",
       "      <td>NaN</td>\n",
       "      <td>NaN</td>\n",
       "    </tr>\n",
       "    <tr>\n",
       "      <th>996</th>\n",
       "      <td>MCP3095002K</td>\n",
       "      <td>210002355</td>\n",
       "      <td>Montgomery County Police</td>\n",
       "      <td>Property Damage Crash</td>\n",
       "      <td>2021-01-19 15:20:00</td>\n",
       "      <td>County</td>\n",
       "      <td>ELDRID DR</td>\n",
       "      <td>County</td>\n",
       "      <td>JOHNSON AVE</td>\n",
       "      <td>N/A</td>\n",
       "      <td>...</td>\n",
       "      <td>5</td>\n",
       "      <td>26</td>\n",
       "      <td>39.06622</td>\n",
       "      <td>-76.99723667</td>\n",
       "      <td>12</td>\n",
       "      <td>1</td>\n",
       "      <td>{'latitude': '39.06622', 'longitude': '-76.997...</td>\n",
       "      <td>NaN</td>\n",
       "      <td>NaN</td>\n",
       "      <td>NaN</td>\n",
       "    </tr>\n",
       "    <tr>\n",
       "      <th>998</th>\n",
       "      <td>MCP3074004L</td>\n",
       "      <td>210002362</td>\n",
       "      <td>Montgomery County Police</td>\n",
       "      <td>Property Damage Crash</td>\n",
       "      <td>2021-01-19 15:18:00</td>\n",
       "      <td>NaN</td>\n",
       "      <td>NaN</td>\n",
       "      <td>NaN</td>\n",
       "      <td>NaN</td>\n",
       "      <td>NaN</td>\n",
       "      <td>...</td>\n",
       "      <td>5</td>\n",
       "      <td>8</td>\n",
       "      <td>39.000365</td>\n",
       "      <td>-77.00984667</td>\n",
       "      <td>21</td>\n",
       "      <td>1</td>\n",
       "      <td>{'latitude': '39.000365', 'longitude': '-77.00...</td>\n",
       "      <td>8804 MANCHESTER ROAD\\nSILVER SPRING MD 20901\\n...</td>\n",
       "      <td>NaN</td>\n",
       "      <td>NaN</td>\n",
       "    </tr>\n",
       "    <tr>\n",
       "      <th>999</th>\n",
       "      <td>MCP2671002J</td>\n",
       "      <td>210002364</td>\n",
       "      <td>Montgomery County Police</td>\n",
       "      <td>Property Damage Crash</td>\n",
       "      <td>2021-01-19 15:18:00</td>\n",
       "      <td>County</td>\n",
       "      <td>FENTON ST</td>\n",
       "      <td>Maryland (State)</td>\n",
       "      <td>PHILADELPHIA AVE</td>\n",
       "      <td>N/A</td>\n",
       "      <td>...</td>\n",
       "      <td>5</td>\n",
       "      <td>7</td>\n",
       "      <td>38.98793019</td>\n",
       "      <td>-77.0235645</td>\n",
       "      <td>3065</td>\n",
       "      <td>1</td>\n",
       "      <td>{'latitude': '38.98793019', 'longitude': '-77....</td>\n",
       "      <td>NaN</td>\n",
       "      <td>NaN</td>\n",
       "      <td>NaN</td>\n",
       "    </tr>\n",
       "  </tbody>\n",
       "</table>\n",
       "<p>595 rows × 50 columns</p>\n",
       "</div>"
      ],
      "text/plain": [
       "    report_number local_case_number                agency_name  \\\n",
       "1      DD5647000F         210007208  Rockville Police Departme   \n",
       "2      DD5647000C         210007203  Rockville Police Departme   \n",
       "4     MCP102200FH         210007202   Montgomery County Police   \n",
       "6     MCP3036001R         210007162   Montgomery County Police   \n",
       "8     MCP32180018         210007164   Montgomery County Police   \n",
       "..            ...               ...                        ...   \n",
       "993   MCP271700TB         210002365   Montgomery County Police   \n",
       "995   MCP31740031         210002359   Montgomery County Police   \n",
       "996   MCP3095002K         210002355   Montgomery County Police   \n",
       "998   MCP3074004L         210002362   Montgomery County Police   \n",
       "999   MCP2671002J         210002364   Montgomery County Police   \n",
       "\n",
       "          acrs_report_type     crash_date_time        route_type  \\\n",
       "1    Property Damage Crash 2021-02-25 10:15:00  Maryland (State)   \n",
       "2    Property Damage Crash 2021-02-25 09:16:00  Maryland (State)   \n",
       "4             Injury Crash 2021-02-25 09:16:00  Maryland (State)   \n",
       "6    Property Damage Crash 2021-02-24 20:56:00  Maryland (State)   \n",
       "8    Property Damage Crash 2021-02-24 20:25:00            County   \n",
       "..                     ...                 ...               ...   \n",
       "993           Injury Crash 2021-01-19 15:31:00  Maryland (State)   \n",
       "995           Injury Crash 2021-01-19 15:28:00            County   \n",
       "996  Property Damage Crash 2021-01-19 15:20:00            County   \n",
       "998  Property Damage Crash 2021-01-19 15:18:00               NaN   \n",
       "999  Property Damage Crash 2021-01-19 15:18:00            County   \n",
       "\n",
       "                  road_name cross_street_type    cross_street_name  \\\n",
       "1                NORBECK RD      Municipality            E GUDE DR   \n",
       "2          W MONTGOMERY AVE      Municipality            NELSON ST   \n",
       "4                  RIDGE RD            County             BRINK RD   \n",
       "6    MONTGOMERY VILLAGE AVE           Unknown  SPUR TO RUSSELL AVE   \n",
       "8               RANDOLPH RD  Maryland (State)      CONNECTICUT AVE   \n",
       "..                      ...               ...                  ...   \n",
       "993         CONNECTICUT AVE      Municipality       ROSEMARY ST #2   \n",
       "995         WATKINS MILL RD            County       APPLE RIDGE RD   \n",
       "996               ELDRID DR            County          JOHNSON AVE   \n",
       "998                     NaN               NaN                  NaN   \n",
       "999               FENTON ST  Maryland (State)     PHILADELPHIA AVE   \n",
       "\n",
       "       municipality  ... :@computed_region_tx5f_5em3  \\\n",
       "1         ROCKVILLE  ...                           3   \n",
       "2         ROCKVILLE  ...                           3   \n",
       "4               N/A  ...                           2   \n",
       "6               N/A  ...                           3   \n",
       "8               N/A  ...                           4   \n",
       "..              ...  ...                         ...   \n",
       "993  CHEVY CHASE #4  ...                           1   \n",
       "995             N/A  ...                           2   \n",
       "996             N/A  ...                           5   \n",
       "998             NaN  ...                           5   \n",
       "999             N/A  ...                           5   \n",
       "\n",
       "    :@computed_region_kbsp_ykn9     latitude     longitude  \\\n",
       "1                            25  39.09043867  -77.12867933   \n",
       "2                            25  39.08605617  -77.17062833   \n",
       "4                            39  39.21003667      -77.2399   \n",
       "6                            36  39.15403167  -77.20922667   \n",
       "8                            23   39.0572375  -77.07452383   \n",
       "..                          ...          ...           ...   \n",
       "993                           5  38.97779433  -77.07710317   \n",
       "995                          38  39.18419833  -77.21089333   \n",
       "996                          26     39.06622  -76.99723667   \n",
       "998                           8    39.000365  -77.00984667   \n",
       "999                           7  38.98793019   -77.0235645   \n",
       "\n",
       "    :@computed_region_d7bw_bq6x :@computed_region_rbt8_3x7n  \\\n",
       "1                            71                          12   \n",
       "2                            71                          12   \n",
       "4                            36                           1   \n",
       "6                            35                          21   \n",
       "8                            17                           1   \n",
       "..                          ...                         ...   \n",
       "993                         110                          15   \n",
       "995                          28                           1   \n",
       "996                          12                           1   \n",
       "998                          21                           1   \n",
       "999                        3065                           1   \n",
       "\n",
       "                                           geolocation  \\\n",
       "1    {'latitude': '39.09043867', 'longitude': '-77....   \n",
       "2    {'latitude': '39.08605617', 'longitude': '-77....   \n",
       "4    {'latitude': '39.21003667', 'longitude': '-77....   \n",
       "6    {'latitude': '39.15403167', 'longitude': '-77....   \n",
       "8    {'latitude': '39.0572375', 'longitude': '-77.0...   \n",
       "..                                                 ...   \n",
       "993  {'latitude': '38.97779433', 'longitude': '-77....   \n",
       "995  {'latitude': '39.18419833', 'longitude': '-77....   \n",
       "996  {'latitude': '39.06622', 'longitude': '-76.997...   \n",
       "998  {'latitude': '39.000365', 'longitude': '-77.00...   \n",
       "999  {'latitude': '38.98793019', 'longitude': '-77....   \n",
       "\n",
       "                                  off_road_description related_non_motorist  \\\n",
       "1                                                  NaN                  NaN   \n",
       "2                                                  NaN                  NaN   \n",
       "4                                                  NaN                  NaN   \n",
       "6                                                  NaN                  NaN   \n",
       "8                                                  NaN                  NaN   \n",
       "..                                                 ...                  ...   \n",
       "993                                                NaN            BICYCLIST   \n",
       "995                                                NaN                  NaN   \n",
       "996                                                NaN                  NaN   \n",
       "998  8804 MANCHESTER ROAD\\nSILVER SPRING MD 20901\\n...                  NaN   \n",
       "999                                                NaN                  NaN   \n",
       "\n",
       "    non_motorist_substance_abuse  \n",
       "1                            NaN  \n",
       "2                            NaN  \n",
       "4                            NaN  \n",
       "6                            NaN  \n",
       "8                            NaN  \n",
       "..                           ...  \n",
       "993                NONE DETECTED  \n",
       "995                          NaN  \n",
       "996                          NaN  \n",
       "998                          NaN  \n",
       "999                          NaN  \n",
       "\n",
       "[595 rows x 50 columns]"
      ]
     },
     "execution_count": 19,
     "metadata": {},
     "output_type": "execute_result"
    }
   ],
   "source": [
    "driverdf.drop_duplicates(subset=['report_number', 'local_case_number'], keep='last')   # I'm keeping the last rather than the first just in case the last has more recent data."
   ]
  },
  {
   "cell_type": "markdown",
   "metadata": {},
   "source": [
    "Now I will clean up the remaining data.  First checking for entries that need to be merged/changed.  Anytime they use different terms for the same thing (N/A, unknown, etc.), I will replace with one consistent term."
   ]
  },
  {
   "cell_type": "code",
   "execution_count": 20,
   "metadata": {},
   "outputs": [
    {
     "data": {
      "text/plain": [
       "array(['Rockville Police Departme', 'Montgomery County Police',\n",
       "       'Maryland-National Capital', 'Gaithersburg Police Depar',\n",
       "       'Takoma Park Police Depart'], dtype=object)"
      ]
     },
     "execution_count": 20,
     "metadata": {},
     "output_type": "execute_result"
    }
   ],
   "source": [
    "agency_name = driverdf.agency_name\n",
    "agency_uniques = agency_name.unique()\n",
    "agency_uniques"
   ]
  },
  {
   "cell_type": "markdown",
   "metadata": {},
   "source": [
    "This has all consistent terms, but I need to correct the typos caused by shortening the names."
   ]
  },
  {
   "cell_type": "code",
   "execution_count": 21,
   "metadata": {},
   "outputs": [
    {
     "data": {
      "text/plain": [
       "array(['Rockville Police', 'Montgomery County Police',\n",
       "       'Maryland-National Capital Police', 'Gaithersburg Police',\n",
       "       'Takoma Park Police'], dtype=object)"
      ]
     },
     "execution_count": 21,
     "metadata": {},
     "output_type": "execute_result"
    }
   ],
   "source": [
    "# Using replace by dictionary to correct the names\n",
    "\n",
    "driverdf['agency_name'] = driverdf['agency_name'].replace({'Rockville Police Departme':'Rockville Police', 'Maryland-National Capital':'Maryland-National Capital Police', \n",
    "                                                     'Gaithersburg Police Depar':'Gaithersburg Police', 'Takoma Park Police Depart': 'Takoma Park Police'})\n",
    "agency_uniques = agency_name.unique()\n",
    "agency_uniques"
   ]
  },
  {
   "cell_type": "code",
   "execution_count": 22,
   "metadata": {},
   "outputs": [
    {
     "data": {
      "text/plain": [
       "array(['Property Damage Crash', 'Injury Crash'], dtype=object)"
      ]
     },
     "execution_count": 22,
     "metadata": {},
     "output_type": "execute_result"
    }
   ],
   "source": [
    "acrs_report_type = driverdf.acrs_report_type\n",
    "acrs_uniques = acrs_report_type.unique()\n",
    "acrs_uniques"
   ]
  },
  {
   "cell_type": "code",
   "execution_count": 23,
   "metadata": {},
   "outputs": [
    {
     "data": {
      "text/plain": [
       "array(['Maryland (State)', 'County', nan, 'Municipality', 'US (State)',\n",
       "       'Interstate (State)', 'Other Public Roadway', 'Ramp', 'Government'],\n",
       "      dtype=object)"
      ]
     },
     "execution_count": 23,
     "metadata": {},
     "output_type": "execute_result"
    }
   ],
   "source": [
    "route_type = driverdf.route_type\n",
    "route_uniques = route_type.unique()\n",
    "route_uniques"
   ]
  },
  {
   "cell_type": "markdown",
   "metadata": {},
   "source": [
    "There is only one type of unknown here (nan), so I will leave it."
   ]
  },
  {
   "cell_type": "code",
   "execution_count": 24,
   "metadata": {},
   "outputs": [
    {
     "data": {
      "text/plain": [
       "array(['Municipality', 'County', 'Unknown', 'Maryland (State)', nan,\n",
       "       'US (State)', 'Ramp', 'Other Public Roadway', 'Service Road',\n",
       "       'Interstate (State)'], dtype=object)"
      ]
     },
     "execution_count": 24,
     "metadata": {},
     "output_type": "execute_result"
    }
   ],
   "source": [
    "cross_street_type = driverdf.cross_street_type\n",
    "cross_street_uniques = cross_street_type.unique()\n",
    "cross_street_uniques"
   ]
  },
  {
   "cell_type": "markdown",
   "metadata": {},
   "source": [
    "'Unknown' and 'nan' should be combined."
   ]
  },
  {
   "cell_type": "code",
   "execution_count": 25,
   "metadata": {},
   "outputs": [
    {
     "data": {
      "text/plain": [
       "array(['Municipality', 'County', 'Unknown', 'Maryland (State)',\n",
       "       'US (State)', 'Ramp', 'Other Public Roadway', 'Service Road',\n",
       "       'Interstate (State)'], dtype=object)"
      ]
     },
     "execution_count": 25,
     "metadata": {},
     "output_type": "execute_result"
    }
   ],
   "source": [
    "driverdf['cross_street_type'] = driverdf['cross_street_type'].fillna('Unknown')\n",
    "cross_street_type = driverdf.cross_street_type\n",
    "cross_street_uniques = cross_street_type.unique()\n",
    "cross_street_uniques"
   ]
  },
  {
   "cell_type": "code",
   "execution_count": 26,
   "metadata": {},
   "outputs": [
    {
     "data": {
      "text/plain": [
       "array(['ROCKVILLE', 'N/A', nan, 'GAITHERSBURG', 'SOMERSET', 'KENSINGTON',\n",
       "       'TAKOMA PARK', 'POOLESVILLE', 'FRIENDSHIP HEIGHTS',\n",
       "       'CHEVY CHASE #4'], dtype=object)"
      ]
     },
     "execution_count": 26,
     "metadata": {},
     "output_type": "execute_result"
    }
   ],
   "source": [
    "municipality = driverdf.municipality\n",
    "municipality_uniques = municipality.unique()\n",
    "municipality_uniques"
   ]
  },
  {
   "cell_type": "markdown",
   "metadata": {},
   "source": [
    "'N/A' and 'nan' should be combined."
   ]
  },
  {
   "cell_type": "code",
   "execution_count": 27,
   "metadata": {},
   "outputs": [
    {
     "data": {
      "text/plain": [
       "array(['ROCKVILLE', 'N/A', 'GAITHERSBURG', 'SOMERSET', 'KENSINGTON',\n",
       "       'TAKOMA PARK', 'POOLESVILLE', 'FRIENDSHIP HEIGHTS',\n",
       "       'CHEVY CHASE #4'], dtype=object)"
      ]
     },
     "execution_count": 27,
     "metadata": {},
     "output_type": "execute_result"
    }
   ],
   "source": [
    "driverdf['municipality'] = driverdf['municipality'].fillna('N/A')\n",
    "municipality = driverdf.municipality\n",
    "municipality_uniques = municipality.unique()\n",
    "municipality_uniques"
   ]
  },
  {
   "cell_type": "code",
   "execution_count": 28,
   "metadata": {},
   "outputs": [
    {
     "data": {
      "text/plain": [
       "array(['SAME DIRECTION SIDESWIPE', 'SINGLE VEHICLE',\n",
       "       'STRAIGHT MOVEMENT ANGLE', 'SAME DIR REAR END',\n",
       "       'HEAD ON LEFT TURN', 'OTHER', 'HEAD ON',\n",
       "       'SAME DIRECTION RIGHT TURN', 'OPPOSITE DIRECTION SIDESWIPE',\n",
       "       'UNKNOWN', 'ANGLE MEETS LEFT HEAD ON', 'ANGLE MEETS RIGHT TURN',\n",
       "       'OPPOSITE DIR BOTH LEFT TURN', 'ANGLE MEETS LEFT TURN',\n",
       "       'SAME DIR BOTH LEFT TURN', 'SAME DIRECTION LEFT TURN',\n",
       "       'SAME DIR REND RIGHT TURN', 'SAME DIR REND LEFT TURN', 'N/A'],\n",
       "      dtype=object)"
      ]
     },
     "execution_count": 28,
     "metadata": {},
     "output_type": "execute_result"
    }
   ],
   "source": [
    "collision_type = driverdf.collision_type\n",
    "collision_type_uniques = collision_type.unique()\n",
    "collision_type_uniques"
   ]
  },
  {
   "cell_type": "code",
   "execution_count": 29,
   "metadata": {},
   "outputs": [
    {
     "data": {
      "text/plain": [
       "array(['SAME DIRECTION SIDESWIPE', 'SINGLE VEHICLE',\n",
       "       'STRAIGHT MOVEMENT ANGLE', 'SAME DIR REAR END',\n",
       "       'HEAD ON LEFT TURN', 'OTHER', 'HEAD ON',\n",
       "       'SAME DIRECTION RIGHT TURN', 'OPPOSITE DIRECTION SIDESWIPE',\n",
       "       'UNKNOWN', 'ANGLE MEETS LEFT HEAD ON', 'ANGLE MEETS RIGHT TURN',\n",
       "       'OPPOSITE DIR BOTH LEFT TURN', 'ANGLE MEETS LEFT TURN',\n",
       "       'SAME DIR BOTH LEFT TURN', 'SAME DIRECTION LEFT TURN',\n",
       "       'SAME DIR REND RIGHT TURN', 'SAME DIR REND LEFT TURN'],\n",
       "      dtype=object)"
      ]
     },
     "execution_count": 29,
     "metadata": {},
     "output_type": "execute_result"
    }
   ],
   "source": [
    "# Replace 'N/A' with 'UNKNOWN'\n",
    "driverdf['collision_type'] = driverdf['collision_type'].replace({'N/A': 'UNKNOWN'})\n",
    "collision_type = driverdf.collision_type\n",
    "collision_type_uniques = collision_type.unique()\n",
    "collision_type_uniques\n"
   ]
  },
  {
   "cell_type": "code",
   "execution_count": 30,
   "metadata": {},
   "outputs": [
    {
     "data": {
      "text/plain": [
       "array(['CLEAR', 'N/A', 'CLOUDY', 'RAINING', 'SLEET', 'SNOW', 'WINTRY MIX',\n",
       "       'UNKNOWN', 'OTHER', 'BLOWING SNOW', 'FOGGY'], dtype=object)"
      ]
     },
     "execution_count": 30,
     "metadata": {},
     "output_type": "execute_result"
    }
   ],
   "source": [
    "weather = driverdf.weather\n",
    "weather_uniques = weather.unique()\n",
    "weather_uniques"
   ]
  },
  {
   "cell_type": "code",
   "execution_count": 31,
   "metadata": {},
   "outputs": [
    {
     "data": {
      "text/plain": [
       "array(['CLEAR', 'UNKNOWN', 'CLOUDY', 'RAINING', 'SLEET', 'SNOW',\n",
       "       'WINTRY MIX', 'OTHER', 'BLOWING SNOW', 'FOGGY'], dtype=object)"
      ]
     },
     "execution_count": 31,
     "metadata": {},
     "output_type": "execute_result"
    }
   ],
   "source": [
    "# Replace 'N/A' with 'UNKNOWN'  \n",
    "\n",
    "driverdf['weather'] = driverdf['weather'].replace({'N/A':'UNKNOWN'})\n",
    "weather = driverdf.weather\n",
    "weather_uniques = weather.unique()\n",
    "weather_uniques\n"
   ]
  },
  {
   "cell_type": "code",
   "execution_count": 32,
   "metadata": {},
   "outputs": [
    {
     "data": {
      "text/plain": [
       "array(['DRY', 'WET', nan, 'SNOW', 'SLUSH', 'UNKNOWN', 'ICE', 'N/A',\n",
       "       'WATER(STANDING/MOVING)'], dtype=object)"
      ]
     },
     "execution_count": 32,
     "metadata": {},
     "output_type": "execute_result"
    }
   ],
   "source": [
    "surface_condition = driverdf.surface_condition\n",
    "surface_condition_uniques = surface_condition.unique()\n",
    "surface_condition_uniques"
   ]
  },
  {
   "cell_type": "markdown",
   "metadata": {},
   "source": [
    "I will combine \"nan\", \"N/A\", and \"UNKNOWN\", and replace nan with \"UNKNOWN\"."
   ]
  },
  {
   "cell_type": "code",
   "execution_count": 33,
   "metadata": {},
   "outputs": [
    {
     "data": {
      "text/plain": [
       "array(['DRY', 'WET', 'UNKNOWN', 'SNOW', 'SLUSH', 'ICE',\n",
       "       'WATER(STANDING/MOVING)'], dtype=object)"
      ]
     },
     "execution_count": 33,
     "metadata": {},
     "output_type": "execute_result"
    }
   ],
   "source": [
    "driverdf['surface_condition'] = driverdf['surface_condition'].replace({'N/A': 'UNKNOWN'})\n",
    "driverdf['surface_condition'] = driverdf['surface_condition'].fillna('UNKNOWN')\n",
    "surface_condition = driverdf.surface_condition\n",
    "surface_condition_uniques = surface_condition.unique()\n",
    "surface_condition_uniques"
   ]
  },
  {
   "cell_type": "code",
   "execution_count": 34,
   "metadata": {},
   "outputs": [
    {
     "data": {
      "text/plain": [
       "array(['DAYLIGHT', 'DARK LIGHTS ON', 'DUSK', 'DARK NO LIGHTS', 'UNKNOWN',\n",
       "       'DAWN', 'N/A', 'DARK -- UNKNOWN LIGHTING', 'OTHER'], dtype=object)"
      ]
     },
     "execution_count": 34,
     "metadata": {},
     "output_type": "execute_result"
    }
   ],
   "source": [
    "light = driverdf.light\n",
    "light_uniques = light.unique()\n",
    "light_uniques"
   ]
  },
  {
   "cell_type": "code",
   "execution_count": 35,
   "metadata": {},
   "outputs": [
    {
     "data": {
      "text/plain": [
       "array(['DAYLIGHT', 'DARK LIGHTS ON', 'DUSK', 'DARK NO LIGHTS', 'UNKNOWN',\n",
       "       'DAWN', 'DARK -- UNKNOWN LIGHTING', 'OTHER'], dtype=object)"
      ]
     },
     "execution_count": 35,
     "metadata": {},
     "output_type": "execute_result"
    }
   ],
   "source": [
    "# Replace 'N/A' with 'UNKNOWN'\n",
    "driverdf['light'] = driverdf['light'].replace({'N/A':'UNKNOWN'})\n",
    "light = driverdf.light\n",
    "light_uniques = light.unique()\n",
    "light_uniques"
   ]
  },
  {
   "cell_type": "code",
   "execution_count": 36,
   "metadata": {},
   "outputs": [
    {
     "data": {
      "text/plain": [
       "array(['N/A', 'TRAFFIC SIGNAL', 'NO CONTROLS', 'STOP SIGN', 'YIELD SIGN',\n",
       "       'FLASHING TRAFFIC SIGNAL', 'OTHER', 'UNKNOWN'], dtype=object)"
      ]
     },
     "execution_count": 36,
     "metadata": {},
     "output_type": "execute_result"
    }
   ],
   "source": [
    "traffic_control = driverdf.traffic_control\n",
    "traf_ctrl_uniques = traffic_control.unique()\n",
    "traf_ctrl_uniques"
   ]
  },
  {
   "cell_type": "code",
   "execution_count": 37,
   "metadata": {},
   "outputs": [
    {
     "data": {
      "text/plain": [
       "array(['UNKNOWN', 'TRAFFIC SIGNAL', 'NO CONTROLS', 'STOP SIGN',\n",
       "       'YIELD SIGN', 'FLASHING TRAFFIC SIGNAL', 'OTHER'], dtype=object)"
      ]
     },
     "execution_count": 37,
     "metadata": {},
     "output_type": "execute_result"
    }
   ],
   "source": [
    "# Replace 'N/A' with 'UNKNOWN'\n",
    "driverdf['traffic_control'] = driverdf['traffic_control'].replace({'N/A': 'UNKNOWN'})\n",
    "traffic_control = driverdf.traffic_control\n",
    "traf_ctrl_uniques = traffic_control.unique()\n",
    "traf_ctrl_uniques"
   ]
  },
  {
   "cell_type": "code",
   "execution_count": 38,
   "metadata": {},
   "outputs": [
    {
     "data": {
      "text/plain": [
       "array(['N/A', 'NONE DETECTED', 'ALCOHOL PRESENT', 'UNKNOWN',\n",
       "       'ALCOHOL CONTRIBUTED', 'OTHER', 'ILLEGAL DRUG PRESENT',\n",
       "       'MEDICATION CONTRIBUTED', 'MEDICATION PRESENT',\n",
       "       'COMBINATION CONTRIBUTED'], dtype=object)"
      ]
     },
     "execution_count": 38,
     "metadata": {},
     "output_type": "execute_result"
    }
   ],
   "source": [
    "substance_abuse = driverdf.driver_substance_abuse\n",
    "substance_uniques = substance_abuse.unique()\n",
    "substance_uniques\n"
   ]
  },
  {
   "cell_type": "code",
   "execution_count": 39,
   "metadata": {},
   "outputs": [
    {
     "data": {
      "text/plain": [
       "array(['UNKNOWN', 'NONE DETECTED', 'ALCOHOL PRESENT',\n",
       "       'ALCOHOL CONTRIBUTED', 'OTHER', 'ILLEGAL DRUG PRESENT',\n",
       "       'MEDICATION CONTRIBUTED', 'MEDICATION PRESENT',\n",
       "       'COMBINATION CONTRIBUTED'], dtype=object)"
      ]
     },
     "execution_count": 39,
     "metadata": {},
     "output_type": "execute_result"
    }
   ],
   "source": [
    "# Replace \"N/A\" with \"UNKNOWN\"\n",
    "driverdf['driver_substance_abuse'] = driverdf['driver_substance_abuse'].replace({'N/A': 'UNKNOWN'})\n",
    "substance_abuse = driverdf.driver_substance_abuse\n",
    "substance_uniques = substance_abuse.unique()\n",
    "substance_uniques"
   ]
  },
  {
   "cell_type": "code",
   "execution_count": 40,
   "metadata": {},
   "outputs": [
    {
     "data": {
      "text/plain": [
       "array(['Yes', 'No', 'Unknown'], dtype=object)"
      ]
     },
     "execution_count": 40,
     "metadata": {},
     "output_type": "execute_result"
    }
   ],
   "source": [
    "driver_at_fault = driverdf.driver_at_fault\n",
    "at_fault_uniques = driver_at_fault.unique()\n",
    "at_fault_uniques"
   ]
  },
  {
   "cell_type": "code",
   "execution_count": 41,
   "metadata": {},
   "outputs": [
    {
     "data": {
      "text/plain": [
       "array(['NO APPARENT INJURY', 'SUSPECTED MINOR INJURY', 'POSSIBLE INJURY',\n",
       "       'SUSPECTED SERIOUS INJURY'], dtype=object)"
      ]
     },
     "execution_count": 41,
     "metadata": {},
     "output_type": "execute_result"
    }
   ],
   "source": [
    "injury_severity = driverdf.injury_severity \n",
    "injury_severity_uniques = injury_severity.unique()\n",
    "injury_severity_uniques"
   ]
  },
  {
   "cell_type": "code",
   "execution_count": 42,
   "metadata": {},
   "outputs": [
    {
     "data": {
      "text/plain": [
       "array(['N/A',\n",
       "       'PHYSICAL OBSTRUCTION(S), VISION OBSTRUCTION (INCL. BLINDED BY SUN)',\n",
       "       'ANIMAL, N/A', 'ICY OR SNOW-COVERED, N/A, WET', 'N/A, WET',\n",
       "       'ICY OR SNOW-COVERED, RAIN, SNOW', 'RAIN, SNOW, WET',\n",
       "       'N/A, SLEET, HAIL, FREEZ. RAIN',\n",
       "       'ICY OR SNOW-COVERED, SLEET, HAIL, FREEZ. RAIN',\n",
       "       'SLEET, HAIL, FREEZ. RAIN, WET',\n",
       "       'ICY OR SNOW-COVERED, RAIN, SNOW, SLEET, HAIL, FREEZ. RAIN',\n",
       "       'N/A, VISION OBSTRUCTION (INCL. BLINDED BY SUN)',\n",
       "       'ICY OR SNOW-COVERED, N/A',\n",
       "       'V EXHAUST SYSTEM|R OTHER ROAD, V WIPERS|W OTHER ENVIRONMENTAL',\n",
       "       'ICY OR SNOW-COVERED, SLEET, HAIL, FREEZ. RAIN, WET',\n",
       "       'ICY OR SNOW-COVERED, RAIN, SNOW, SLEET, HAIL, FREEZ. RAIN, WET',\n",
       "       'DEBRIS OR OBSTRUCTION, N/A',\n",
       "       'ICY OR SNOW-COVERED, V WIPERS|W OTHER ENVIRONMENTAL',\n",
       "       'ICY OR SNOW-COVERED, RAIN, SNOW, WET',\n",
       "       'N/A, V EXHAUST SYSTEM|R OTHER ROAD', 'N/A, RAIN, SNOW',\n",
       "       'RAIN, SNOW, V EXHAUST SYSTEM|R OTHER ROAD'], dtype=object)"
      ]
     },
     "execution_count": 42,
     "metadata": {},
     "output_type": "execute_result"
    }
   ],
   "source": [
    "circumstance = driverdf.circumstance\n",
    "circumstance_uniques = circumstance.unique()\n",
    "circumstance_uniques"
   ]
  },
  {
   "cell_type": "code",
   "execution_count": 43,
   "metadata": {},
   "outputs": [
    {
     "data": {
      "text/plain": [
       "array(['LOOKED BUT DID NOT SEE', 'NOT DISTRACTED',\n",
       "       'INATTENTIVE OR LOST IN THOUGHT', 'UNKNOWN', 'OTHER DISTRACTION',\n",
       "       'DISTRACTED BY OUTSIDE PERSON OBJECT OR EVENT',\n",
       "       'BY MOVING OBJECT IN VEHICLE', 'NO DRIVER PRESENT',\n",
       "       'EATING OR DRINKING', 'USING DEVICE OBJECT BROUGHT INTO VEHICLE',\n",
       "       'OTHER CELLULAR PHONE RELATED',\n",
       "       'OTHER ELECTRONIC DEVICE (NAVIGATIONAL PALM PILOT)',\n",
       "       'TEXTING FROM A CELLULAR PHONE', 'DIALING CELLULAR PHONE',\n",
       "       'BY OTHER OCCUPANTS'], dtype=object)"
      ]
     },
     "execution_count": 43,
     "metadata": {},
     "output_type": "execute_result"
    }
   ],
   "source": [
    "driver_distracted_by = driverdf.driver_distracted_by\n",
    "driver_distracted_by_uniques = driver_distracted_by.unique()\n",
    "driver_distracted_by_uniques"
   ]
  },
  {
   "cell_type": "code",
   "execution_count": 44,
   "metadata": {},
   "outputs": [
    {
     "data": {
      "text/plain": [
       "array(['MD', 'CA', nan, 'DC', 'DE', 'NC', 'VA', 'XX', 'PA', 'CT', 'NJ',\n",
       "       'NY', 'GA', 'WV', 'CO', 'AZ', 'MH', 'MA', 'FL', 'MI', 'SC', 'OH',\n",
       "       'ME', 'RI', 'TN', 'LA', 'IL'], dtype=object)"
      ]
     },
     "execution_count": 44,
     "metadata": {},
     "output_type": "execute_result"
    }
   ],
   "source": [
    "drivers_license_state = driverdf.drivers_license_state\n",
    "drivers_license_state_uniques = drivers_license_state.unique()\n",
    "drivers_license_state_uniques"
   ]
  },
  {
   "cell_type": "code",
   "execution_count": 45,
   "metadata": {},
   "outputs": [
    {
     "data": {
      "text/plain": [
       "array(['MD', 'CA', 'XX', 'DC', 'DE', 'NC', 'VA', 'PA', 'CT', 'NJ', 'NY',\n",
       "       'GA', 'WV', 'CO', 'AZ', 'MH', 'MA', 'FL', 'MI', 'SC', 'OH', 'ME',\n",
       "       'RI', 'TN', 'LA', 'IL'], dtype=object)"
      ]
     },
     "execution_count": 45,
     "metadata": {},
     "output_type": "execute_result"
    }
   ],
   "source": [
    "# 'XX' appears to be the same as nan---I'll replace nan with 'XX'\n",
    "driverdf['drivers_license_state'] = driverdf['drivers_license_state'].fillna('XX')\n",
    "drivers_license_state = driverdf.drivers_license_state\n",
    "drivers_license_state_uniques = drivers_license_state.unique()\n",
    "drivers_license_state_uniques"
   ]
  },
  {
   "cell_type": "code",
   "execution_count": 46,
   "metadata": {},
   "outputs": [
    {
     "data": {
      "text/plain": [
       "array(['DISABLING', 'FUNCTIONAL', 'SUPERFICIAL', 'DESTROYED', 'UNKNOWN',\n",
       "       'NO DAMAGE', 'OTHER', 'N/A'], dtype=object)"
      ]
     },
     "execution_count": 46,
     "metadata": {},
     "output_type": "execute_result"
    }
   ],
   "source": [
    "vehicle_damage_extent = driverdf.vehicle_damage_extent\n",
    "vehicle_damage_extent_uniques = vehicle_damage_extent.unique()\n",
    "vehicle_damage_extent_uniques"
   ]
  },
  {
   "cell_type": "code",
   "execution_count": 47,
   "metadata": {},
   "outputs": [
    {
     "data": {
      "text/plain": [
       "array(['DISABLING', 'FUNCTIONAL', 'SUPERFICIAL', 'DESTROYED', 'UNKNOWN',\n",
       "       'NO DAMAGE', 'OTHER'], dtype=object)"
      ]
     },
     "execution_count": 47,
     "metadata": {},
     "output_type": "execute_result"
    }
   ],
   "source": [
    "driverdf['vehicle_damage_extent'] = driverdf['vehicle_damage_extent'].replace({'N/A':'UNKNOWN'})\n",
    "vehicle_damage_extent = driverdf.vehicle_damage_extent\n",
    "vehicle_damage_extent_uniques = vehicle_damage_extent.unique()\n",
    "vehicle_damage_extent_uniques"
   ]
  },
  {
   "cell_type": "code",
   "execution_count": 48,
   "metadata": {},
   "outputs": [
    {
     "data": {
      "text/plain": [
       "array(['ONE OCLOCK', 'SEVEN OCLOCK', 'TWO OCLOCK', 'TWELVE OCLOCK',\n",
       "       'ELEVEN OCLOCK', 'SIX OCLOCK', 'FIVE OCLOCK', 'EIGHT OCLOCK',\n",
       "       'TEN OCLOCK', 'FOUR OCLOCK', 'THREE OCLOCK', 'ROOF TOP',\n",
       "       'UNDERSIDE', 'NINE OCLOCK', 'UNKNOWN', 'NON-COLLISION'],\n",
       "      dtype=object)"
      ]
     },
     "execution_count": 48,
     "metadata": {},
     "output_type": "execute_result"
    }
   ],
   "source": [
    "vehicle_first_impact_location = driverdf.vehicle_first_impact_location\n",
    "vehicle_first_impact_location_uniques = vehicle_first_impact_location.unique()\n",
    "vehicle_first_impact_location_uniques"
   ]
  },
  {
   "cell_type": "code",
   "execution_count": 49,
   "metadata": {},
   "outputs": [
    {
     "data": {
      "text/plain": [
       "array(['ONE OCLOCK', 'SEVEN OCLOCK', 'TWO OCLOCK', 'TWELVE OCLOCK',\n",
       "       'ELEVEN OCLOCK', 'SIX OCLOCK', 'FIVE OCLOCK', 'EIGHT OCLOCK',\n",
       "       'TEN OCLOCK', 'FOUR OCLOCK', 'THREE OCLOCK', 'ROOF TOP',\n",
       "       'UNDERSIDE', 'NINE OCLOCK', 'UNKNOWN', 'NON-COLLISION'],\n",
       "      dtype=object)"
      ]
     },
     "execution_count": 49,
     "metadata": {},
     "output_type": "execute_result"
    }
   ],
   "source": [
    "vehicle_second_impact_location = driverdf.vehicle_second_impact_location\n",
    "vehicle_second_impact_location_uniques = vehicle_second_impact_location.unique()\n",
    "vehicle_second_impact_location_uniques"
   ]
  },
  {
   "cell_type": "code",
   "execution_count": 50,
   "metadata": {},
   "outputs": [
    {
     "data": {
      "text/plain": [
       "array(['PASSENGER CAR', 'VAN', 'PICKUP TRUCK', 'TRANSIT BUS',\n",
       "       '(SPORT) UTILITY VEHICLE', 'FIRE VEHICLE/NON EMERGENCY',\n",
       "       'SCHOOL BUS',\n",
       "       'CARGO VAN/LIGHT TRUCK 2 AXLES (OVER 10,000LBS (4,536 KG))',\n",
       "       'POLICE VEHICLE/EMERGENCY',\n",
       "       'MEDIUM/HEAVY TRUCKS 3 AXLES (OVER 10,000LBS (4,536KG))',\n",
       "       'POLICE VEHICLE/NON EMERGENCY', 'STATION WAGON',\n",
       "       'OTHER LIGHT TRUCKS (10,000LBS (4,536KG) OR LESS)',\n",
       "       'AMBULANCE/EMERGENCY', 'TRUCK TRACTOR', 'UNKNOWN',\n",
       "       'FIRE VEHICLE/EMERGENCY', 'OTHER', nan, 'MOTORCYCLE', 'OTHER BUS',\n",
       "       'RECREATIONAL VEHICLE', 'MOPED', 'AMBULANCE/NON EMERGENCY'],\n",
       "      dtype=object)"
      ]
     },
     "execution_count": 50,
     "metadata": {},
     "output_type": "execute_result"
    }
   ],
   "source": [
    "vehicle_body_type = driverdf.vehicle_body_type\n",
    "vehicle_body_type_uniques = vehicle_body_type.unique()\n",
    "vehicle_body_type_uniques"
   ]
  },
  {
   "cell_type": "code",
   "execution_count": 51,
   "metadata": {},
   "outputs": [
    {
     "data": {
      "text/plain": [
       "array(['PASSENGER CAR', 'VAN', 'PICKUP TRUCK', 'TRANSIT BUS',\n",
       "       '(SPORT) UTILITY VEHICLE', 'FIRE VEHICLE/NON EMERGENCY',\n",
       "       'SCHOOL BUS',\n",
       "       'CARGO VAN/LIGHT TRUCK 2 AXLES (OVER 10,000LBS (4,536 KG))',\n",
       "       'POLICE VEHICLE/EMERGENCY',\n",
       "       'MEDIUM/HEAVY TRUCKS 3 AXLES (OVER 10,000LBS (4,536KG))',\n",
       "       'POLICE VEHICLE/NON EMERGENCY', 'STATION WAGON',\n",
       "       'OTHER LIGHT TRUCKS (10,000LBS (4,536KG) OR LESS)',\n",
       "       'AMBULANCE/EMERGENCY', 'TRUCK TRACTOR', 'UNKNOWN',\n",
       "       'FIRE VEHICLE/EMERGENCY', 'OTHER', 'MOTORCYCLE', 'OTHER BUS',\n",
       "       'RECREATIONAL VEHICLE', 'MOPED', 'AMBULANCE/NON EMERGENCY'],\n",
       "      dtype=object)"
      ]
     },
     "execution_count": 51,
     "metadata": {},
     "output_type": "execute_result"
    }
   ],
   "source": [
    "# Replace nan with 'UNKNOWN'\n",
    "driverdf['vehicle_body_type'] = driverdf['vehicle_body_type'].fillna('UNKNOWN')\n",
    "vehicle_body_type = driverdf.vehicle_body_type\n",
    "vehicle_body_type_uniques = vehicle_body_type.unique()\n",
    "vehicle_body_type_uniques"
   ]
  },
  {
   "cell_type": "code",
   "execution_count": 52,
   "metadata": {},
   "outputs": [
    {
     "data": {
      "text/plain": [
       "array(['MOVING CONSTANT SPEED', 'MAKING LEFT TURN', 'MAKING RIGHT TURN',\n",
       "       'SLOWING OR STOPPING', 'STARTING FROM PARKED',\n",
       "       'STOPPED IN TRAFFIC LANE', 'CHANGING LANES', 'ACCELERATING',\n",
       "       'PARKING', 'BACKING', 'STARTING FROM LANE', 'PARKED', 'UNKNOWN',\n",
       "       'SKIDDING', 'PASSING', 'OTHER', 'N/A', 'NEGOTIATING A CURVE',\n",
       "       'MAKING U TURN', 'LEAVING TRAFFIC LANE', 'RIGHT TURN ON RED',\n",
       "       'ENTERING TRAFFIC LANE'], dtype=object)"
      ]
     },
     "execution_count": 52,
     "metadata": {},
     "output_type": "execute_result"
    }
   ],
   "source": [
    "vehicle_movement = driverdf.vehicle_movement\n",
    "vehicle_movement_uniques = vehicle_movement.unique()\n",
    "vehicle_movement_uniques"
   ]
  },
  {
   "cell_type": "code",
   "execution_count": 53,
   "metadata": {},
   "outputs": [
    {
     "data": {
      "text/plain": [
       "array(['West', 'South', 'North', 'East', nan, 'Unknown'], dtype=object)"
      ]
     },
     "execution_count": 53,
     "metadata": {},
     "output_type": "execute_result"
    }
   ],
   "source": [
    "vehicle_continuing_dir = driverdf.vehicle_continuing_dir\n",
    "vehicle_continuing_dir_uniques = vehicle_continuing_dir.unique()\n",
    "vehicle_continuing_dir_uniques"
   ]
  },
  {
   "cell_type": "code",
   "execution_count": 54,
   "metadata": {},
   "outputs": [
    {
     "data": {
      "text/plain": [
       "array(['West', 'South', 'North', 'East', 'UNKNOWN'], dtype=object)"
      ]
     },
     "execution_count": 54,
     "metadata": {},
     "output_type": "execute_result"
    }
   ],
   "source": [
    "# Replace nan with 'UNKNOWN'\n",
    "driverdf['vehicle_continuing_dir'] = driverdf['vehicle_continuing_dir'].fillna('UNKNOWN')\n",
    "driverdf['vehicle_continuing_dir'] = driverdf['vehicle_continuing_dir'].replace({'Unknown':'UNKNOWN'})\n",
    "vehicle_continuing_dir = driverdf.vehicle_continuing_dir\n",
    "vehicle_continuing_dir_uniques = vehicle_continuing_dir.unique()\n",
    "vehicle_continuing_dir_uniques"
   ]
  },
  {
   "cell_type": "code",
   "execution_count": 55,
   "metadata": {},
   "outputs": [
    {
     "data": {
      "text/plain": [
       "array(['West', 'South', 'East', 'North', nan, 'Unknown'], dtype=object)"
      ]
     },
     "execution_count": 55,
     "metadata": {},
     "output_type": "execute_result"
    }
   ],
   "source": [
    "vehicle_going_dir = driverdf.vehicle_going_dir\n",
    "vehicle_going_dir_uniques = vehicle_going_dir.unique()\n",
    "vehicle_going_dir_uniques"
   ]
  },
  {
   "cell_type": "code",
   "execution_count": 56,
   "metadata": {},
   "outputs": [
    {
     "data": {
      "text/plain": [
       "array(['West', 'South', 'East', 'North', 'UNKNOWN'], dtype=object)"
      ]
     },
     "execution_count": 56,
     "metadata": {},
     "output_type": "execute_result"
    }
   ],
   "source": [
    "# Replace nan with 'UNKNOWN'\n",
    "driverdf['vehicle_going_dir'] = driverdf['vehicle_going_dir'].fillna('UNKNOWN')\n",
    "driverdf['vehicle_going_dir'] = driverdf['vehicle_going_dir'].replace({'Unknown':'UNKNOWN'})\n",
    "vehicle_going_dir = driverdf.vehicle_going_dir\n",
    "vehicle_going_dir_uniques = vehicle_going_dir.unique()\n",
    "vehicle_going_dir_uniques"
   ]
  },
  {
   "cell_type": "code",
   "execution_count": 57,
   "metadata": {},
   "outputs": [
    {
     "data": {
      "text/plain": [
       "array(['50', '30', '40', '35', '15', '25', '5', '45', '10', '0', '20',\n",
       "       '55', '60'], dtype=object)"
      ]
     },
     "execution_count": 57,
     "metadata": {},
     "output_type": "execute_result"
    }
   ],
   "source": [
    "speed_limit = driverdf.speed_limit\n",
    "speed_limit_uniques = speed_limit.unique()\n",
    "speed_limit_uniques"
   ]
  },
  {
   "cell_type": "code",
   "execution_count": 58,
   "metadata": {},
   "outputs": [
    {
     "data": {
      "text/plain": [
       "array(['No', 'Yes'], dtype=object)"
      ]
     },
     "execution_count": 58,
     "metadata": {},
     "output_type": "execute_result"
    }
   ],
   "source": [
    "parked_vehicle = driverdf.parked_vehicle\n",
    "parked_vehicle_uniques = parked_vehicle.unique()\n",
    "parked_vehicle_uniques"
   ]
  },
  {
   "cell_type": "code",
   "execution_count": 59,
   "metadata": {},
   "outputs": [
    {
     "data": {
      "text/plain": [
       "array(['2006', '2014', '2015', '2016', '2017', '2007', '2009', '2013',\n",
       "       '2018', '2010', '1996', '1999', '2005', '2020', '2019', '2008',\n",
       "       '2021', '2011', '2012', '2003', '2001', '1997', '1998', '2002',\n",
       "       '2004', '2000', '1989', '0', '1986', '1901', '1992', '1995',\n",
       "       '1990', '2022'], dtype=object)"
      ]
     },
     "execution_count": 59,
     "metadata": {},
     "output_type": "execute_result"
    }
   ],
   "source": [
    "vehicle_year = driverdf.vehicle_year\n",
    "vehicle_year_uniques = vehicle_year.unique()\n",
    "vehicle_year_uniques"
   ]
  },
  {
   "cell_type": "code",
   "execution_count": 60,
   "metadata": {},
   "outputs": [
    {
     "data": {
      "text/plain": [
       "array(['TOYOTA', 'TOYT', 'BMW', 'FORD', 'NISSAN', 'NEW FLYER', 'HONDA',\n",
       "       'MAZDA', 'MERZ', 'INFI', 'HYUN', 'CHEV', 'SUBARU', 'HYUND',\n",
       "       'THOMAS', 'CHEVROLET', 'JEEP', 'TRANSIT', 'LEXUS', 'CHEVY', 'MACK',\n",
       "       'HOND', 'LEXU', 'VOLK', 'NISS', 'DODGE', 'FREIGHTLINER', 'KIA',\n",
       "       'RANGE', 'HYUNDAI', 'DODG', 'NISAN', 'GMC', 'HYUD', 'MERCEDES',\n",
       "       'ACURA', 'MERC', 'VOLVO', 'INTERNATIONAL', 'LINCOLN', 'AUDI',\n",
       "       'MNNI', 'UNKNOWN', 'PRTA', 'KENWTH', 'KAWASAKI', 'MAZD', 'PTRB',\n",
       "       'FRHT', 'RAM', 'NOVABUS', 'TBU', 'GILL', 'KENWORTH', 'MITSUBISHI',\n",
       "       'MITSUBUSHI', 'BUICK', 'MASERATTI', 'HUYN', 'PIERCE', 'NEWFLYER',\n",
       "       'VOLKWAGEN', 'INFINITI', 'SUBA', 'LANDOVER', 'TOYO', 'PETE',\n",
       "       'ISUZU', 'MITS', 'CADI', 'PORSCHE', 'NWFL', 'INTL', 'CHEVORLET',\n",
       "       'VW', 'SPARTAN', 'CHRY', 'MERCEDES BENZ', 'VOLV', 'TESLA',\n",
       "       'SATURN', 'CHRYSLER', 'LANDROVER', 'LEXIS', 'VOLKWAGON',\n",
       "       'VOLKSWAGEN', 'PIER', 'LAND ROVER', 'FRAIGHT LINER', 'NEW', 'SPAR',\n",
       "       'HONDM', 'TOYTA', 'GILG', 'SSUBARU', 'XX', 'VOLKSWAGON', 'LLOYDS',\n",
       "       'ACUR', 'BUICCK', 'HYNDAI', 'HINO', 'POSTAL TRUCK', 'STLG',\n",
       "       'VESPA', 'UNK', 'PONTIAC', 'CADILLAC', 'HYUNDA', 'SUB',\n",
       "       'DIESEL URBAN TRANSIT'], dtype=object)"
      ]
     },
     "execution_count": 60,
     "metadata": {},
     "output_type": "execute_result"
    }
   ],
   "source": [
    "vehicle_make = driverdf.vehicle_make\n",
    "vehicle_make_uniques = vehicle_make.unique()\n",
    "vehicle_make_uniques"
   ]
  },
  {
   "cell_type": "code",
   "execution_count": 61,
   "metadata": {},
   "outputs": [
    {
     "data": {
      "text/plain": [
       "array(['TOYOTA', 'BMW', 'FORD', 'NISSAN', 'NEW FLYER', 'HONDA', 'MAZDA',\n",
       "       'MERCEDES', 'INFINITI', 'HYUNDAI', 'CHEVROLET', 'SUBARU', 'THOMAS',\n",
       "       'JEEP', 'TRANSIT', 'LEXUS', 'MACK', 'VOLKSWAGEN', 'DODGE',\n",
       "       'FREIGHTLINER', 'KIA', 'RANGE_ROVER', 'GMC', 'ACURA', 'MERC',\n",
       "       'VOLVO', 'INTERNATIONAL', 'LINCOLN', 'AUDI', 'MINI', 'UNKNOWN',\n",
       "       'PRTA', 'KENWTH', 'KAWASAKI', 'PTRB', 'FRHT', 'RAM', 'NOVABUS',\n",
       "       'TBU', 'GILL', 'KENWORTH', 'MITSUBISHI', 'BUICK', 'MASERATTI',\n",
       "       'PIERCE', 'NEWFLYER', 'LANDROVER', 'PETE', 'ISUZU', 'CADILLAC',\n",
       "       'PORSCHE', 'NWFL', 'INTL', 'SPARTAN', 'CHRYSLER', 'MERCEDES BENZ',\n",
       "       'VOLV', 'TESLA', 'SATURN', 'LEXIS', 'PIER', 'NEW', 'SPAR', 'GILG',\n",
       "       'LLOYDS', 'HINO', 'POSTAL TRUCK', 'STLG', 'VESPA', 'PONTIAC',\n",
       "       'DIESEL URBAN TRANSIT'], dtype=object)"
      ]
     },
     "execution_count": 61,
     "metadata": {},
     "output_type": "execute_result"
    }
   ],
   "source": [
    "# Standardize make names --- unfortunately reviewing the make and model together reveals merc can be either mercedes or mercury...\n",
    "# Some of these abbreviations are mysteries.\n",
    "driverdf['vehicle_make'] = driverdf['vehicle_make'].replace({'TOYT': 'TOYOTA', 'MERZ': 'MERCEDES', 'INFI': 'INFINITI', 'HYUN': 'HYUNDAI', 'CHEV': 'CHEVROLET',\n",
    "                                                             'HYUND': 'HYUNDAI', 'CHEVY': 'CHEVROLET', 'LEXU': 'LEXUS', 'HOND': 'HONDA', 'VOLK': 'VOLKSWAGEN',\n",
    "                                                             'NISS': 'NISSAN', 'RANGE': 'RANGE_ROVER', 'DODG': 'DODGE', 'NISAN': 'NISSAN', 'HYUD': 'HYUNDAI',\n",
    "                                                             'MNNI': 'MINI', 'MAZD': 'MAZDA', 'MITSUBUSHI': 'MITSUBISHI', 'HUYN': 'HYUNDAI', 'VOLKWAGEN': 'VOLKSWAGEN', \n",
    "                                                             'SUBA': 'SUBARU', 'LANDOVER': 'LANDROVER', 'TOYO': 'TOYOTA', 'MITS': 'MITSUBISHI', 'CADI': 'CADILLAC',\n",
    "                                                             'CHEVORLET': 'CHEVROLET', 'VW': 'VOLKSWAGEN', 'CHRY':'CHRYSLER', 'VOLKWAGON': 'VOLKSWAGEN', 'LAND ROVER': 'LANDROVER', \n",
    "                                                             'FRAIGHT LINER': 'FREIGHTLINER', 'HONDM': 'HONDA', 'TOYTA': 'TOYOTA', 'SSUBARU': 'SUBARU', 'VOLKSWAGON': 'VOLKSWAGEN', 'XX': 'UNKNOWN',\n",
    "                                                             'ACUR': 'ACURA', 'BUICCK': 'BUICK', 'HYNDAI': 'HYUNDAI', 'UNK': 'UNKNOWN', 'HYUNDA':'HYUNDAI', 'SUB': 'SUBARU',\n",
    "                                                             'Unknown':'UNKNOWN'})\n",
    "vehicle_make = driverdf.vehicle_make\n",
    "vehicle_make_uniques = vehicle_make.unique()\n",
    "vehicle_make_uniques"
   ]
  },
  {
   "cell_type": "code",
   "execution_count": 62,
   "metadata": {},
   "outputs": [
    {
     "data": {
      "text/plain": [
       "array(['4S', 'M4S', 'SIENNA', 'F-150', 'ALTIMA', '328I', 'TBU', 'CIVIC',\n",
       "       'TK', 'COLORADO', 'CROSSTREK', 'ACCORD CROSSTOUR', 'ELANTRA',\n",
       "       'CAMRY', 'SCHOOL BUS', 'VN', 'CRV', 'TUNDRA', 'TACOMA', 'SENTRA',\n",
       "       'BUS', 'COROLLA', 'SEQUOIA', 'IS 300', 'SILVERADO', 'CN', 'CAMARO',\n",
       "       'F150', '500', 'HR-V', 'ACCORD', 'JETTA', 'SUV', 'ODYSSEY',\n",
       "       'JOURNEY', 'FOCUS', 'COBALT', 'EXPRESS', 'FORESTER', 'MALIBU',\n",
       "       'CX9', 'TRUCK', 'SPECTRA', 'EVOQUE', 'OPTIMA', '4D', 'FORTE',\n",
       "       'RAV4', 'JX35', 'CHARGER', 'PATRIOT TK', 'ALTIMA 4S', 'PATHFINDER',\n",
       "       'CANYON', 'TUCSON', 'EXPLORER', 'LEGACY', 'C300L', 'TL', '4 DOOR',\n",
       "       'C5500', 'SW', 'ELEMENT', 'ROGUE', 'TUNDA', '4RUNNER', 'MURANO',\n",
       "       'VOLT', 'ESCAPE', 'WRANGLER', 'GLE350', 'SD', 'HRV', 'PILOT',\n",
       "       'DUMP TRUCK', 'XC30', 'ML 350', 'EQUINOX LT', 'PRIUS', 'SQ5',\n",
       "       'NAVIGATOR', 'SUBURBAN', 'COOPER', '1500', 'MUSTANG', 'M2 106',\n",
       "       'PICK UP', 'UNKNOWN', 'BA', 'TITAN', 'WT 1500', '4300 R/B',\n",
       "       'RANGER', 'TOW TRUCK', 'FIESTA', 'C300', 'SANTAFE', 'E150', 'ST',\n",
       "       'RAM 2500', 'NINJA', 'CR-V', 'OUTBACK', 'SANTA FE', 'CX5', '348',\n",
       "       'BU', 'X5', 'VAN', 'GRAND CARAVAN', 'XC60', 'CAVALIER', 'V60',\n",
       "       'K15', 'JEEP', 'RIDE ON BUS', 'TT', 'ML350', 'LIBERTY', 'MIRAGE',\n",
       "       'INTEGRA', 'PK', 'CHALENGER', 'MONTERO SPORT', 'TAUR', 'COROL',\n",
       "       'UTILIMASTER', 'TRK', 'SOUL', 'GHIBLI', 'CALBIER', 'SONATA',\n",
       "       'ENVOY', 'AVALON', 'JUKE', 'F550', '2500', 'XTERRA', 'CARAVAN',\n",
       "       'CG', 'FIT', 'TIGUAN', 'I30T', 'WG', 'S5', 'CROSSTOUR',\n",
       "       'CROWN VIC', 'TRANSIT', 'TERRAIN', 'CHALLENGER', 'RAM', 'SEQOUIA',\n",
       "       'XV CROSSTREK', 'CHEROKEE', 'G35', 'INTERCEPTOR', 'HIGHLANDER',\n",
       "       'ENCORE', 'AVALANCHE', 'TRAX', 'SALT TRUCK', 'C320', 'CELICA',\n",
       "       'AMBULANCE', 'S500', 'XV', 'F450', 'SIERRA', 'TAKOMA', '3',\n",
       "       'MACAN', 'TRIBUTE', 'IS300', 'BOX TRUCK', 'GENNIS', 'MAIL TRUCK',\n",
       "       'FIRE TRUCK', 'TOWN AND COUNTRY', 'LEAF', 'C240', 'VERSA', 'DT',\n",
       "       'CHR', 'F250', 'X3', 'TAURUS', 'F-250', 'GLK350', 'DAKOTA',\n",
       "       'TRANSIT BUS', 'FUSION', 'S', 'GRAND CHEROKEE', 'Q7', 'LS430',\n",
       "       '2S', 'SU', 'CRUZ', 'G37', 'BLAZER', 'PACIFICA', 'MDX', 'GX460',\n",
       "       'ACCENT', 'EDGE', 'LACROSSE', 'RANGE ROVER', 'BOLT', 'AVALON XL',\n",
       "       'CC', 'FRONTIER', 'F350', 'GENISIS', 'TOWER', 'TAHOE', 'YARIS',\n",
       "       'RDX', 'FLATBED TOW TK', 'MAZDA 3', 'BOX', '300C', 'RIDGELINE',\n",
       "       'MAZDA 6', 'E350', 'Q60S', 'INSIGHT', 'Q5 QUATTRO', 'SOLARA',\n",
       "       'DUMP', 'EXPEDITION', 'PUMP TRUCK', 'TSX', 'DS', 'GU712', '328',\n",
       "       'IMPREZA', '750', 'WINDSTAR', 'TRAIL BLAZER', 'XX', 'E250', 'E320',\n",
       "       'PASSAT', '325I', 'TRANSIT 150', 'FJ CRUISER', 'GLS63',\n",
       "       'ECONOLINE E-450', '4000 SERIES', 'TILT CAB', 'RDX AWD', 'GTI',\n",
       "       'BEETLE', 'FI50', 'CT 200H', 'COMMERCIAL', 'PT CRUISER', 'TLX',\n",
       "       'RAV 4', 'RODEO', 'A5', 'Q', 'STRATUS', 'ENCLAVE', 'CROSSTREX',\n",
       "       'CX-71', 'POSTAL TRUCK', 'RL', 'CX-3', 'CAROLLA',\n",
       "       'INTERCEPTOR UTILITY', 'PROTEGE', 'QX56', 'RX350', 'EXPRESS VN',\n",
       "       '626', 'KICKS', 'UT', 'GX 460', 'ES 300', 'CRANE', 'DURANGO', 'A4',\n",
       "       'RAM 1500', 'LX150', 'ES350', 'Q50A', 'UNK', 'GR. CHEROKEE',\n",
       "       'CHASSIS', 'SORENTO', 'GRANDAM GT', 'QX60', 'XTS',\n",
       "       'RANGE ROVER HSE', 'A7', 'PICKUP', 'CLK 430', 'MATRIX S',\n",
       "       'BOXSTER', 'TRUCK TRACTOR', 'SONIC', '200', 'XD40 BUS', '4DR',\n",
       "       'C70', '2D', 'HY', 'RIO', '535I', '528I', 'RX400', 'GLC300',\n",
       "       'EXPLORER (POSTAL)', '4DOOR'], dtype=object)"
      ]
     },
     "execution_count": 62,
     "metadata": {},
     "output_type": "execute_result"
    }
   ],
   "source": [
    "vehicle_model = driverdf.vehicle_model\n",
    "vehicle_model_uniques = vehicle_model.unique()\n",
    "vehicle_model_uniques"
   ]
  },
  {
   "cell_type": "code",
   "execution_count": 63,
   "metadata": {},
   "outputs": [
    {
     "data": {
      "text/plain": [
       "array(['N/A', 'NO MISUSE', 'FACING WRONG WAY', 'UNKNOWN', 'OTHER'],\n",
       "      dtype=object)"
      ]
     },
     "execution_count": 63,
     "metadata": {},
     "output_type": "execute_result"
    }
   ],
   "source": [
    "equipment_problems = driverdf.equipment_problems\n",
    "equipment_problems_uniques = equipment_problems.unique()\n",
    "equipment_problems_uniques"
   ]
  },
  {
   "cell_type": "markdown",
   "metadata": {},
   "source": [
    "NOTE:  This column doesn't seem to include any information of interest, so I'll delete it."
   ]
  },
  {
   "cell_type": "code",
   "execution_count": 64,
   "metadata": {},
   "outputs": [
    {
     "data": {
      "text/plain": [
       "array([nan, 'PEDESTRIAN', 'BICYCLIST', 'MACHINE OPERATOR/RIDER'],\n",
       "      dtype=object)"
      ]
     },
     "execution_count": 64,
     "metadata": {},
     "output_type": "execute_result"
    }
   ],
   "source": [
    "related_non_motorist = driverdf.related_non_motorist\n",
    "related_non_motorist_uniques = related_non_motorist.unique()\n",
    "related_non_motorist_uniques"
   ]
  },
  {
   "cell_type": "code",
   "execution_count": 65,
   "metadata": {},
   "outputs": [
    {
     "data": {
      "text/plain": [
       "array(['UNKNOWN', 'PEDESTRIAN', 'BICYCLIST', 'MACHINE OPERATOR/RIDER'],\n",
       "      dtype=object)"
      ]
     },
     "execution_count": 65,
     "metadata": {},
     "output_type": "execute_result"
    }
   ],
   "source": [
    "# Fill na's with \"UNKNOWN\"\n",
    "driverdf['related_non_motorist'] = driverdf['related_non_motorist'].fillna(\"UNKNOWN\")\n",
    "related_non_motorist = driverdf.related_non_motorist\n",
    "related_non_motorist_uniques = related_non_motorist.unique()\n",
    "related_non_motorist_uniques"
   ]
  },
  {
   "cell_type": "code",
   "execution_count": 66,
   "metadata": {},
   "outputs": [
    {
     "data": {
      "text/plain": [
       "array([nan, 'NONE DETECTED', 'ALCOHOL PRESENT'], dtype=object)"
      ]
     },
     "execution_count": 66,
     "metadata": {},
     "output_type": "execute_result"
    }
   ],
   "source": [
    "non_motorist_substance_abuse = driverdf.non_motorist_substance_abuse\n",
    "non_motorist_substance_abuse_uniques = non_motorist_substance_abuse.unique()\n",
    "non_motorist_substance_abuse_uniques"
   ]
  },
  {
   "cell_type": "code",
   "execution_count": 67,
   "metadata": {},
   "outputs": [
    {
     "data": {
      "text/plain": [
       "array(['UNKNOWN', 'NONE DETECTED', 'ALCOHOL PRESENT'], dtype=object)"
      ]
     },
     "execution_count": 67,
     "metadata": {},
     "output_type": "execute_result"
    }
   ],
   "source": [
    "# Fill na's with \"UNKNOWN\"\n",
    "driverdf['non_motorist_substance_abuse'] = driverdf['non_motorist_substance_abuse'].fillna(\"UNKNOWN\")\n",
    "non_motorist_substance_abuse = driverdf.non_motorist_substance_abuse\n",
    "non_motorist_substance_abuse_uniques = non_motorist_substance_abuse.unique()\n",
    "non_motorist_substance_abuse_uniques"
   ]
  },
  {
   "cell_type": "markdown",
   "metadata": {},
   "source": [
    "Now that I see how the data in each column is labeled, I can change the labels for consistency.  (And delete the columns that don't have information I am interested in."
   ]
  },
  {
   "cell_type": "code",
   "execution_count": 68,
   "metadata": {},
   "outputs": [],
   "source": [
    "# Delete Columns I don't want to work with---I want to drop 13, but can only drop 8 per command so I will save in a temp\n",
    "\n",
    "tempdriverdf = driverdf.drop(['person_id', 'vehicle_id', 'driverless_vehicle', ':@computed_region_a9cs_3ed7', ':@computed_region_r648_kzwt', ':@computed_region_vu5j_pcmz', \n",
    "              'equipment_problems'], axis=1)"
   ]
  },
  {
   "cell_type": "code",
   "execution_count": 69,
   "metadata": {},
   "outputs": [
    {
     "data": {
      "text/html": [
       "<div>\n",
       "<style scoped>\n",
       "    .dataframe tbody tr th:only-of-type {\n",
       "        vertical-align: middle;\n",
       "    }\n",
       "\n",
       "    .dataframe tbody tr th {\n",
       "        vertical-align: top;\n",
       "    }\n",
       "\n",
       "    .dataframe thead th {\n",
       "        text-align: right;\n",
       "    }\n",
       "</style>\n",
       "<table border=\"1\" class=\"dataframe\">\n",
       "  <thead>\n",
       "    <tr style=\"text-align: right;\">\n",
       "      <th></th>\n",
       "      <th>report_number</th>\n",
       "      <th>local_case_number</th>\n",
       "      <th>agency_name</th>\n",
       "      <th>acrs_report_type</th>\n",
       "      <th>crash_date_time</th>\n",
       "      <th>route_type</th>\n",
       "      <th>road_name</th>\n",
       "      <th>cross_street_type</th>\n",
       "      <th>cross_street_name</th>\n",
       "      <th>municipality</th>\n",
       "      <th>...</th>\n",
       "      <th>speed_limit</th>\n",
       "      <th>parked_vehicle</th>\n",
       "      <th>vehicle_year</th>\n",
       "      <th>vehicle_make</th>\n",
       "      <th>vehicle_model</th>\n",
       "      <th>latitude</th>\n",
       "      <th>longitude</th>\n",
       "      <th>geolocation</th>\n",
       "      <th>related_non_motorist</th>\n",
       "      <th>non_motorist_substance_abuse</th>\n",
       "    </tr>\n",
       "  </thead>\n",
       "  <tbody>\n",
       "    <tr>\n",
       "      <th>0</th>\n",
       "      <td>DD5647000F</td>\n",
       "      <td>210007208</td>\n",
       "      <td>Rockville Police</td>\n",
       "      <td>Property Damage Crash</td>\n",
       "      <td>2021-02-25 10:15:00</td>\n",
       "      <td>Maryland (State)</td>\n",
       "      <td>NORBECK RD</td>\n",
       "      <td>Municipality</td>\n",
       "      <td>E GUDE DR</td>\n",
       "      <td>ROCKVILLE</td>\n",
       "      <td>...</td>\n",
       "      <td>50</td>\n",
       "      <td>No</td>\n",
       "      <td>2006</td>\n",
       "      <td>TOYOTA</td>\n",
       "      <td>4S</td>\n",
       "      <td>39.09043867</td>\n",
       "      <td>-77.12867933</td>\n",
       "      <td>{'latitude': '39.09043867', 'longitude': '-77....</td>\n",
       "      <td>UNKNOWN</td>\n",
       "      <td>UNKNOWN</td>\n",
       "    </tr>\n",
       "    <tr>\n",
       "      <th>1</th>\n",
       "      <td>DD5647000F</td>\n",
       "      <td>210007208</td>\n",
       "      <td>Rockville Police</td>\n",
       "      <td>Property Damage Crash</td>\n",
       "      <td>2021-02-25 10:15:00</td>\n",
       "      <td>Maryland (State)</td>\n",
       "      <td>NORBECK RD</td>\n",
       "      <td>Municipality</td>\n",
       "      <td>E GUDE DR</td>\n",
       "      <td>ROCKVILLE</td>\n",
       "      <td>...</td>\n",
       "      <td>50</td>\n",
       "      <td>No</td>\n",
       "      <td>2014</td>\n",
       "      <td>TOYOTA</td>\n",
       "      <td>4S</td>\n",
       "      <td>39.09043867</td>\n",
       "      <td>-77.12867933</td>\n",
       "      <td>{'latitude': '39.09043867', 'longitude': '-77....</td>\n",
       "      <td>UNKNOWN</td>\n",
       "      <td>UNKNOWN</td>\n",
       "    </tr>\n",
       "    <tr>\n",
       "      <th>2</th>\n",
       "      <td>DD5647000C</td>\n",
       "      <td>210007203</td>\n",
       "      <td>Rockville Police</td>\n",
       "      <td>Property Damage Crash</td>\n",
       "      <td>2021-02-25 09:16:00</td>\n",
       "      <td>Maryland (State)</td>\n",
       "      <td>W MONTGOMERY AVE</td>\n",
       "      <td>Municipality</td>\n",
       "      <td>NELSON ST</td>\n",
       "      <td>ROCKVILLE</td>\n",
       "      <td>...</td>\n",
       "      <td>30</td>\n",
       "      <td>No</td>\n",
       "      <td>2015</td>\n",
       "      <td>BMW</td>\n",
       "      <td>M4S</td>\n",
       "      <td>39.08605617</td>\n",
       "      <td>-77.17062833</td>\n",
       "      <td>{'latitude': '39.08605617', 'longitude': '-77....</td>\n",
       "      <td>UNKNOWN</td>\n",
       "      <td>UNKNOWN</td>\n",
       "    </tr>\n",
       "    <tr>\n",
       "      <th>3</th>\n",
       "      <td>MCP102200FH</td>\n",
       "      <td>210007202</td>\n",
       "      <td>Montgomery County Police</td>\n",
       "      <td>Injury Crash</td>\n",
       "      <td>2021-02-25 09:16:00</td>\n",
       "      <td>Maryland (State)</td>\n",
       "      <td>RIDGE RD</td>\n",
       "      <td>County</td>\n",
       "      <td>BRINK RD</td>\n",
       "      <td>N/A</td>\n",
       "      <td>...</td>\n",
       "      <td>40</td>\n",
       "      <td>No</td>\n",
       "      <td>2016</td>\n",
       "      <td>TOYOTA</td>\n",
       "      <td>SIENNA</td>\n",
       "      <td>39.21003667</td>\n",
       "      <td>-77.2399</td>\n",
       "      <td>{'latitude': '39.21003667', 'longitude': '-77....</td>\n",
       "      <td>UNKNOWN</td>\n",
       "      <td>UNKNOWN</td>\n",
       "    </tr>\n",
       "    <tr>\n",
       "      <th>4</th>\n",
       "      <td>MCP102200FH</td>\n",
       "      <td>210007202</td>\n",
       "      <td>Montgomery County Police</td>\n",
       "      <td>Injury Crash</td>\n",
       "      <td>2021-02-25 09:16:00</td>\n",
       "      <td>Maryland (State)</td>\n",
       "      <td>RIDGE RD</td>\n",
       "      <td>County</td>\n",
       "      <td>BRINK RD</td>\n",
       "      <td>N/A</td>\n",
       "      <td>...</td>\n",
       "      <td>40</td>\n",
       "      <td>No</td>\n",
       "      <td>2016</td>\n",
       "      <td>FORD</td>\n",
       "      <td>F-150</td>\n",
       "      <td>39.21003667</td>\n",
       "      <td>-77.2399</td>\n",
       "      <td>{'latitude': '39.21003667', 'longitude': '-77....</td>\n",
       "      <td>UNKNOWN</td>\n",
       "      <td>UNKNOWN</td>\n",
       "    </tr>\n",
       "    <tr>\n",
       "      <th>...</th>\n",
       "      <td>...</td>\n",
       "      <td>...</td>\n",
       "      <td>...</td>\n",
       "      <td>...</td>\n",
       "      <td>...</td>\n",
       "      <td>...</td>\n",
       "      <td>...</td>\n",
       "      <td>...</td>\n",
       "      <td>...</td>\n",
       "      <td>...</td>\n",
       "      <td>...</td>\n",
       "      <td>...</td>\n",
       "      <td>...</td>\n",
       "      <td>...</td>\n",
       "      <td>...</td>\n",
       "      <td>...</td>\n",
       "      <td>...</td>\n",
       "      <td>...</td>\n",
       "      <td>...</td>\n",
       "      <td>...</td>\n",
       "      <td>...</td>\n",
       "    </tr>\n",
       "    <tr>\n",
       "      <th>995</th>\n",
       "      <td>MCP31740031</td>\n",
       "      <td>210002359</td>\n",
       "      <td>Montgomery County Police</td>\n",
       "      <td>Injury Crash</td>\n",
       "      <td>2021-01-19 15:28:00</td>\n",
       "      <td>County</td>\n",
       "      <td>WATKINS MILL RD</td>\n",
       "      <td>County</td>\n",
       "      <td>APPLE RIDGE RD</td>\n",
       "      <td>N/A</td>\n",
       "      <td>...</td>\n",
       "      <td>35</td>\n",
       "      <td>No</td>\n",
       "      <td>2010</td>\n",
       "      <td>TOYOTA</td>\n",
       "      <td>PRIUS</td>\n",
       "      <td>39.18419833</td>\n",
       "      <td>-77.21089333</td>\n",
       "      <td>{'latitude': '39.18419833', 'longitude': '-77....</td>\n",
       "      <td>UNKNOWN</td>\n",
       "      <td>UNKNOWN</td>\n",
       "    </tr>\n",
       "    <tr>\n",
       "      <th>996</th>\n",
       "      <td>MCP3095002K</td>\n",
       "      <td>210002355</td>\n",
       "      <td>Montgomery County Police</td>\n",
       "      <td>Property Damage Crash</td>\n",
       "      <td>2021-01-19 15:20:00</td>\n",
       "      <td>County</td>\n",
       "      <td>ELDRID DR</td>\n",
       "      <td>County</td>\n",
       "      <td>JOHNSON AVE</td>\n",
       "      <td>N/A</td>\n",
       "      <td>...</td>\n",
       "      <td>35</td>\n",
       "      <td>No</td>\n",
       "      <td>2000</td>\n",
       "      <td>FORD</td>\n",
       "      <td>EXPLORER (POSTAL)</td>\n",
       "      <td>39.06622</td>\n",
       "      <td>-76.99723667</td>\n",
       "      <td>{'latitude': '39.06622', 'longitude': '-76.997...</td>\n",
       "      <td>UNKNOWN</td>\n",
       "      <td>UNKNOWN</td>\n",
       "    </tr>\n",
       "    <tr>\n",
       "      <th>997</th>\n",
       "      <td>MCP2671002J</td>\n",
       "      <td>210002364</td>\n",
       "      <td>Montgomery County Police</td>\n",
       "      <td>Property Damage Crash</td>\n",
       "      <td>2021-01-19 15:18:00</td>\n",
       "      <td>County</td>\n",
       "      <td>FENTON ST</td>\n",
       "      <td>Maryland (State)</td>\n",
       "      <td>PHILADELPHIA AVE</td>\n",
       "      <td>N/A</td>\n",
       "      <td>...</td>\n",
       "      <td>35</td>\n",
       "      <td>No</td>\n",
       "      <td>2017</td>\n",
       "      <td>HYUNDAI</td>\n",
       "      <td>ELANTRA</td>\n",
       "      <td>38.98793019</td>\n",
       "      <td>-77.0235645</td>\n",
       "      <td>{'latitude': '38.98793019', 'longitude': '-77....</td>\n",
       "      <td>UNKNOWN</td>\n",
       "      <td>UNKNOWN</td>\n",
       "    </tr>\n",
       "    <tr>\n",
       "      <th>998</th>\n",
       "      <td>MCP3074004L</td>\n",
       "      <td>210002362</td>\n",
       "      <td>Montgomery County Police</td>\n",
       "      <td>Property Damage Crash</td>\n",
       "      <td>2021-01-19 15:18:00</td>\n",
       "      <td>NaN</td>\n",
       "      <td>NaN</td>\n",
       "      <td>Unknown</td>\n",
       "      <td>NaN</td>\n",
       "      <td>N/A</td>\n",
       "      <td>...</td>\n",
       "      <td>15</td>\n",
       "      <td>No</td>\n",
       "      <td>2001</td>\n",
       "      <td>MERCEDES</td>\n",
       "      <td>4DOOR</td>\n",
       "      <td>39.000365</td>\n",
       "      <td>-77.00984667</td>\n",
       "      <td>{'latitude': '39.000365', 'longitude': '-77.00...</td>\n",
       "      <td>UNKNOWN</td>\n",
       "      <td>UNKNOWN</td>\n",
       "    </tr>\n",
       "    <tr>\n",
       "      <th>999</th>\n",
       "      <td>MCP2671002J</td>\n",
       "      <td>210002364</td>\n",
       "      <td>Montgomery County Police</td>\n",
       "      <td>Property Damage Crash</td>\n",
       "      <td>2021-01-19 15:18:00</td>\n",
       "      <td>County</td>\n",
       "      <td>FENTON ST</td>\n",
       "      <td>Maryland (State)</td>\n",
       "      <td>PHILADELPHIA AVE</td>\n",
       "      <td>N/A</td>\n",
       "      <td>...</td>\n",
       "      <td>35</td>\n",
       "      <td>No</td>\n",
       "      <td>2011</td>\n",
       "      <td>FORD</td>\n",
       "      <td>FUSION</td>\n",
       "      <td>38.98793019</td>\n",
       "      <td>-77.0235645</td>\n",
       "      <td>{'latitude': '38.98793019', 'longitude': '-77....</td>\n",
       "      <td>UNKNOWN</td>\n",
       "      <td>UNKNOWN</td>\n",
       "    </tr>\n",
       "  </tbody>\n",
       "</table>\n",
       "<p>1000 rows × 38 columns</p>\n",
       "</div>"
      ],
      "text/plain": [
       "    report_number local_case_number               agency_name  \\\n",
       "0      DD5647000F         210007208          Rockville Police   \n",
       "1      DD5647000F         210007208          Rockville Police   \n",
       "2      DD5647000C         210007203          Rockville Police   \n",
       "3     MCP102200FH         210007202  Montgomery County Police   \n",
       "4     MCP102200FH         210007202  Montgomery County Police   \n",
       "..            ...               ...                       ...   \n",
       "995   MCP31740031         210002359  Montgomery County Police   \n",
       "996   MCP3095002K         210002355  Montgomery County Police   \n",
       "997   MCP2671002J         210002364  Montgomery County Police   \n",
       "998   MCP3074004L         210002362  Montgomery County Police   \n",
       "999   MCP2671002J         210002364  Montgomery County Police   \n",
       "\n",
       "          acrs_report_type     crash_date_time        route_type  \\\n",
       "0    Property Damage Crash 2021-02-25 10:15:00  Maryland (State)   \n",
       "1    Property Damage Crash 2021-02-25 10:15:00  Maryland (State)   \n",
       "2    Property Damage Crash 2021-02-25 09:16:00  Maryland (State)   \n",
       "3             Injury Crash 2021-02-25 09:16:00  Maryland (State)   \n",
       "4             Injury Crash 2021-02-25 09:16:00  Maryland (State)   \n",
       "..                     ...                 ...               ...   \n",
       "995           Injury Crash 2021-01-19 15:28:00            County   \n",
       "996  Property Damage Crash 2021-01-19 15:20:00            County   \n",
       "997  Property Damage Crash 2021-01-19 15:18:00            County   \n",
       "998  Property Damage Crash 2021-01-19 15:18:00               NaN   \n",
       "999  Property Damage Crash 2021-01-19 15:18:00            County   \n",
       "\n",
       "            road_name cross_street_type cross_street_name municipality  ...  \\\n",
       "0          NORBECK RD      Municipality         E GUDE DR    ROCKVILLE  ...   \n",
       "1          NORBECK RD      Municipality         E GUDE DR    ROCKVILLE  ...   \n",
       "2    W MONTGOMERY AVE      Municipality         NELSON ST    ROCKVILLE  ...   \n",
       "3            RIDGE RD            County          BRINK RD          N/A  ...   \n",
       "4            RIDGE RD            County          BRINK RD          N/A  ...   \n",
       "..                ...               ...               ...          ...  ...   \n",
       "995   WATKINS MILL RD            County    APPLE RIDGE RD          N/A  ...   \n",
       "996         ELDRID DR            County       JOHNSON AVE          N/A  ...   \n",
       "997         FENTON ST  Maryland (State)  PHILADELPHIA AVE          N/A  ...   \n",
       "998               NaN           Unknown               NaN          N/A  ...   \n",
       "999         FENTON ST  Maryland (State)  PHILADELPHIA AVE          N/A  ...   \n",
       "\n",
       "    speed_limit parked_vehicle vehicle_year vehicle_make      vehicle_model  \\\n",
       "0            50             No         2006       TOYOTA                 4S   \n",
       "1            50             No         2014       TOYOTA                 4S   \n",
       "2            30             No         2015          BMW                M4S   \n",
       "3            40             No         2016       TOYOTA             SIENNA   \n",
       "4            40             No         2016         FORD              F-150   \n",
       "..          ...            ...          ...          ...                ...   \n",
       "995          35             No         2010       TOYOTA              PRIUS   \n",
       "996          35             No         2000         FORD  EXPLORER (POSTAL)   \n",
       "997          35             No         2017      HYUNDAI            ELANTRA   \n",
       "998          15             No         2001     MERCEDES              4DOOR   \n",
       "999          35             No         2011         FORD             FUSION   \n",
       "\n",
       "        latitude     longitude  \\\n",
       "0    39.09043867  -77.12867933   \n",
       "1    39.09043867  -77.12867933   \n",
       "2    39.08605617  -77.17062833   \n",
       "3    39.21003667      -77.2399   \n",
       "4    39.21003667      -77.2399   \n",
       "..           ...           ...   \n",
       "995  39.18419833  -77.21089333   \n",
       "996     39.06622  -76.99723667   \n",
       "997  38.98793019   -77.0235645   \n",
       "998    39.000365  -77.00984667   \n",
       "999  38.98793019   -77.0235645   \n",
       "\n",
       "                                           geolocation related_non_motorist  \\\n",
       "0    {'latitude': '39.09043867', 'longitude': '-77....              UNKNOWN   \n",
       "1    {'latitude': '39.09043867', 'longitude': '-77....              UNKNOWN   \n",
       "2    {'latitude': '39.08605617', 'longitude': '-77....              UNKNOWN   \n",
       "3    {'latitude': '39.21003667', 'longitude': '-77....              UNKNOWN   \n",
       "4    {'latitude': '39.21003667', 'longitude': '-77....              UNKNOWN   \n",
       "..                                                 ...                  ...   \n",
       "995  {'latitude': '39.18419833', 'longitude': '-77....              UNKNOWN   \n",
       "996  {'latitude': '39.06622', 'longitude': '-76.997...              UNKNOWN   \n",
       "997  {'latitude': '38.98793019', 'longitude': '-77....              UNKNOWN   \n",
       "998  {'latitude': '39.000365', 'longitude': '-77.00...              UNKNOWN   \n",
       "999  {'latitude': '38.98793019', 'longitude': '-77....              UNKNOWN   \n",
       "\n",
       "    non_motorist_substance_abuse  \n",
       "0                        UNKNOWN  \n",
       "1                        UNKNOWN  \n",
       "2                        UNKNOWN  \n",
       "3                        UNKNOWN  \n",
       "4                        UNKNOWN  \n",
       "..                           ...  \n",
       "995                      UNKNOWN  \n",
       "996                      UNKNOWN  \n",
       "997                      UNKNOWN  \n",
       "998                      UNKNOWN  \n",
       "999                      UNKNOWN  \n",
       "\n",
       "[1000 rows x 38 columns]"
      ]
     },
     "execution_count": 69,
     "metadata": {},
     "output_type": "execute_result"
    }
   ],
   "source": [
    "# I will now drop the 5 columns left in the tempdriver dataframe and save it in a new df called driver2df\n",
    "\n",
    "driver2df = tempdriverdf.drop([':@computed_region_tx5f_5em3',':@computed_region_tx5f_5em3', ':@computed_region_kbsp_ykn9', ':@computed_region_d7bw_bq6x', ':@computed_region_rbt8_3x7n',\n",
    "                               'off_road_description'], axis = 1)\n",
    "driver2df\n",
    "\n"
   ]
  },
  {
   "cell_type": "markdown",
   "metadata": {},
   "source": [
    "#### Begin cleaning crash incidents info dataframe\n",
    "\n",
    "First, begin by examining info about the dataframe."
   ]
  },
  {
   "cell_type": "code",
   "execution_count": 70,
   "metadata": {},
   "outputs": [
    {
     "name": "stdout",
     "output_type": "stream",
     "text": [
      "<class 'pandas.core.frame.DataFrame'>\n",
      "RangeIndex: 1000 entries, 0 to 999\n",
      "Data columns (total 51 columns):\n",
      " #   Column                        Non-Null Count  Dtype \n",
      "---  ------                        --------------  ----- \n",
      " 0   report_number                 1000 non-null   object\n",
      " 1   local_case_number             1000 non-null   object\n",
      " 2   agency_name                   1000 non-null   object\n",
      " 3   acrs_report_type              1000 non-null   object\n",
      " 4   crash_date_time               1000 non-null   object\n",
      " 5   hit_run                       1000 non-null   object\n",
      " 6   route_type                    865 non-null    object\n",
      " 7   mile_point                    872 non-null    object\n",
      " 8   mile_point_direction          865 non-null    object\n",
      " 9   lane_direction                872 non-null    object\n",
      " 10  lane_number                   1000 non-null   object\n",
      " 11  number_of_lanes               1000 non-null   object\n",
      " 12  direction                     872 non-null    object\n",
      " 13  distance                      872 non-null    object\n",
      " 14  distance_unit                 872 non-null    object\n",
      " 15  road_grade                    872 non-null    object\n",
      " 16  nontraffic                    1000 non-null   object\n",
      " 17  road_name                     872 non-null    object\n",
      " 18  cross_street_type             865 non-null    object\n",
      " 19  cross_street_name             872 non-null    object\n",
      " 20  municipality                  872 non-null    object\n",
      " 21  at_fault                      1000 non-null   object\n",
      " 22  collision_type                1000 non-null   object\n",
      " 23  weather                       1000 non-null   object\n",
      " 24  surface_condition             872 non-null    object\n",
      " 25  light                         1000 non-null   object\n",
      " 26  traffic_control               1000 non-null   object\n",
      " 27  driver_substance_abuse        995 non-null    object\n",
      " 28  first_harmful_event           1000 non-null   object\n",
      " 29  second_harmful_event          1000 non-null   object\n",
      " 30  fixed_oject_struck            1000 non-null   object\n",
      " 31  junction                      872 non-null    object\n",
      " 32  intersection_type             872 non-null    object\n",
      " 33  intersection_area             754 non-null    object\n",
      " 34  road_alignment                872 non-null    object\n",
      " 35  road_condition                872 non-null    object\n",
      " 36  road_division                 872 non-null    object\n",
      " 37  latitude                      1000 non-null   object\n",
      " 38  longitude                     1000 non-null   object\n",
      " 39  geolocation                   1000 non-null   object\n",
      " 40  :@computed_region_vu5j_pcmz   999 non-null    object\n",
      " 41  :@computed_region_tx5f_5em3   999 non-null    object\n",
      " 42  :@computed_region_kbsp_ykn9   1000 non-null   object\n",
      " 43  :@computed_region_d7bw_bq6x   1000 non-null   object\n",
      " 44  :@computed_region_rbt8_3x7n   1000 non-null   object\n",
      " 45  :@computed_region_a9cs_3ed7   999 non-null    object\n",
      " 46  :@computed_region_r648_kzwt   1000 non-null   object\n",
      " 47  lane_type                     112 non-null    object\n",
      " 48  off_road_description          128 non-null    object\n",
      " 49  related_non_motorist          43 non-null     object\n",
      " 50  non_motorist_substance_abuse  43 non-null     object\n",
      "dtypes: object(51)\n",
      "memory usage: 398.6+ KB\n"
     ]
    }
   ],
   "source": [
    "incidentsdf.info()"
   ]
  },
  {
   "cell_type": "code",
   "execution_count": 71,
   "metadata": {},
   "outputs": [],
   "source": [
    "# I already know from the driver's info that I'm not interested in columns 40 through 46, so I will drop them now.\n",
    "incidentsdf.drop(incidentsdf.iloc[:, 40:47], inplace = True, axis = 1)"
   ]
  },
  {
   "cell_type": "code",
   "execution_count": 72,
   "metadata": {},
   "outputs": [
    {
     "name": "stdout",
     "output_type": "stream",
     "text": [
      "<class 'pandas.core.frame.DataFrame'>\n",
      "RangeIndex: 1000 entries, 0 to 999\n",
      "Data columns (total 44 columns):\n",
      " #   Column                        Non-Null Count  Dtype \n",
      "---  ------                        --------------  ----- \n",
      " 0   report_number                 1000 non-null   object\n",
      " 1   local_case_number             1000 non-null   object\n",
      " 2   agency_name                   1000 non-null   object\n",
      " 3   acrs_report_type              1000 non-null   object\n",
      " 4   crash_date_time               1000 non-null   object\n",
      " 5   hit_run                       1000 non-null   object\n",
      " 6   route_type                    865 non-null    object\n",
      " 7   mile_point                    872 non-null    object\n",
      " 8   mile_point_direction          865 non-null    object\n",
      " 9   lane_direction                872 non-null    object\n",
      " 10  lane_number                   1000 non-null   object\n",
      " 11  number_of_lanes               1000 non-null   object\n",
      " 12  direction                     872 non-null    object\n",
      " 13  distance                      872 non-null    object\n",
      " 14  distance_unit                 872 non-null    object\n",
      " 15  road_grade                    872 non-null    object\n",
      " 16  nontraffic                    1000 non-null   object\n",
      " 17  road_name                     872 non-null    object\n",
      " 18  cross_street_type             865 non-null    object\n",
      " 19  cross_street_name             872 non-null    object\n",
      " 20  municipality                  872 non-null    object\n",
      " 21  at_fault                      1000 non-null   object\n",
      " 22  collision_type                1000 non-null   object\n",
      " 23  weather                       1000 non-null   object\n",
      " 24  surface_condition             872 non-null    object\n",
      " 25  light                         1000 non-null   object\n",
      " 26  traffic_control               1000 non-null   object\n",
      " 27  driver_substance_abuse        995 non-null    object\n",
      " 28  first_harmful_event           1000 non-null   object\n",
      " 29  second_harmful_event          1000 non-null   object\n",
      " 30  fixed_oject_struck            1000 non-null   object\n",
      " 31  junction                      872 non-null    object\n",
      " 32  intersection_type             872 non-null    object\n",
      " 33  intersection_area             754 non-null    object\n",
      " 34  road_alignment                872 non-null    object\n",
      " 35  road_condition                872 non-null    object\n",
      " 36  road_division                 872 non-null    object\n",
      " 37  latitude                      1000 non-null   object\n",
      " 38  longitude                     1000 non-null   object\n",
      " 39  geolocation                   1000 non-null   object\n",
      " 40  lane_type                     112 non-null    object\n",
      " 41  off_road_description          128 non-null    object\n",
      " 42  related_non_motorist          43 non-null     object\n",
      " 43  non_motorist_substance_abuse  43 non-null     object\n",
      "dtypes: object(44)\n",
      "memory usage: 343.9+ KB\n"
     ]
    }
   ],
   "source": [
    "incidentsdf.info()"
   ]
  },
  {
   "cell_type": "markdown",
   "metadata": {},
   "source": [
    "#### Convert date-time objects to datetime format"
   ]
  },
  {
   "cell_type": "code",
   "execution_count": 73,
   "metadata": {},
   "outputs": [
    {
     "name": "stdout",
     "output_type": "stream",
     "text": [
      "<class 'pandas.core.frame.DataFrame'>\n",
      "RangeIndex: 1000 entries, 0 to 999\n",
      "Data columns (total 44 columns):\n",
      " #   Column                        Non-Null Count  Dtype         \n",
      "---  ------                        --------------  -----         \n",
      " 0   report_number                 1000 non-null   object        \n",
      " 1   local_case_number             1000 non-null   object        \n",
      " 2   agency_name                   1000 non-null   object        \n",
      " 3   acrs_report_type              1000 non-null   object        \n",
      " 4   crash_date_time               1000 non-null   datetime64[ns]\n",
      " 5   hit_run                       1000 non-null   object        \n",
      " 6   route_type                    865 non-null    object        \n",
      " 7   mile_point                    872 non-null    object        \n",
      " 8   mile_point_direction          865 non-null    object        \n",
      " 9   lane_direction                872 non-null    object        \n",
      " 10  lane_number                   1000 non-null   object        \n",
      " 11  number_of_lanes               1000 non-null   object        \n",
      " 12  direction                     872 non-null    object        \n",
      " 13  distance                      872 non-null    object        \n",
      " 14  distance_unit                 872 non-null    object        \n",
      " 15  road_grade                    872 non-null    object        \n",
      " 16  nontraffic                    1000 non-null   object        \n",
      " 17  road_name                     872 non-null    object        \n",
      " 18  cross_street_type             865 non-null    object        \n",
      " 19  cross_street_name             872 non-null    object        \n",
      " 20  municipality                  872 non-null    object        \n",
      " 21  at_fault                      1000 non-null   object        \n",
      " 22  collision_type                1000 non-null   object        \n",
      " 23  weather                       1000 non-null   object        \n",
      " 24  surface_condition             872 non-null    object        \n",
      " 25  light                         1000 non-null   object        \n",
      " 26  traffic_control               1000 non-null   object        \n",
      " 27  driver_substance_abuse        995 non-null    object        \n",
      " 28  first_harmful_event           1000 non-null   object        \n",
      " 29  second_harmful_event          1000 non-null   object        \n",
      " 30  fixed_oject_struck            1000 non-null   object        \n",
      " 31  junction                      872 non-null    object        \n",
      " 32  intersection_type             872 non-null    object        \n",
      " 33  intersection_area             754 non-null    object        \n",
      " 34  road_alignment                872 non-null    object        \n",
      " 35  road_condition                872 non-null    object        \n",
      " 36  road_division                 872 non-null    object        \n",
      " 37  latitude                      1000 non-null   object        \n",
      " 38  longitude                     1000 non-null   object        \n",
      " 39  geolocation                   1000 non-null   object        \n",
      " 40  lane_type                     112 non-null    object        \n",
      " 41  off_road_description          128 non-null    object        \n",
      " 42  related_non_motorist          43 non-null     object        \n",
      " 43  non_motorist_substance_abuse  43 non-null     object        \n",
      "dtypes: datetime64[ns](1), object(43)\n",
      "memory usage: 343.9+ KB\n"
     ]
    }
   ],
   "source": [
    "incidentsdf['crash_date_time'] = pd.to_datetime(incidentsdf['crash_date_time'])\n",
    "incidentsdf.info()"
   ]
  },
  {
   "cell_type": "markdown",
   "metadata": {},
   "source": [
    "#### Clean up the dataset\n",
    "Check for duplicates and remove as necessary  \n",
    "Check for consistency of entries within columns"
   ]
  },
  {
   "cell_type": "code",
   "execution_count": 74,
   "metadata": {},
   "outputs": [
    {
     "data": {
      "text/plain": [
       "1000"
      ]
     },
     "execution_count": 74,
     "metadata": {},
     "output_type": "execute_result"
    }
   ],
   "source": [
    "incidentrprts = incidentsdf.report_number\n",
    "incidentrprts.nunique()"
   ]
  },
  {
   "cell_type": "markdown",
   "metadata": {},
   "source": [
    "The number of unique reports is 1000, which means we shouldn't have any duplicates.  I'll double-check with the duplicates command."
   ]
  },
  {
   "cell_type": "code",
   "execution_count": 75,
   "metadata": {},
   "outputs": [
    {
     "data": {
      "text/html": [
       "<div>\n",
       "<style scoped>\n",
       "    .dataframe tbody tr th:only-of-type {\n",
       "        vertical-align: middle;\n",
       "    }\n",
       "\n",
       "    .dataframe tbody tr th {\n",
       "        vertical-align: top;\n",
       "    }\n",
       "\n",
       "    .dataframe thead th {\n",
       "        text-align: right;\n",
       "    }\n",
       "</style>\n",
       "<table border=\"1\" class=\"dataframe\">\n",
       "  <thead>\n",
       "    <tr style=\"text-align: right;\">\n",
       "      <th></th>\n",
       "      <th>report_number</th>\n",
       "      <th>local_case_number</th>\n",
       "      <th>agency_name</th>\n",
       "      <th>acrs_report_type</th>\n",
       "      <th>crash_date_time</th>\n",
       "      <th>hit_run</th>\n",
       "      <th>route_type</th>\n",
       "      <th>mile_point</th>\n",
       "      <th>mile_point_direction</th>\n",
       "      <th>lane_direction</th>\n",
       "      <th>...</th>\n",
       "      <th>road_alignment</th>\n",
       "      <th>road_condition</th>\n",
       "      <th>road_division</th>\n",
       "      <th>latitude</th>\n",
       "      <th>longitude</th>\n",
       "      <th>geolocation</th>\n",
       "      <th>lane_type</th>\n",
       "      <th>off_road_description</th>\n",
       "      <th>related_non_motorist</th>\n",
       "      <th>non_motorist_substance_abuse</th>\n",
       "    </tr>\n",
       "  </thead>\n",
       "  <tbody>\n",
       "  </tbody>\n",
       "</table>\n",
       "<p>0 rows × 44 columns</p>\n",
       "</div>"
      ],
      "text/plain": [
       "Empty DataFrame\n",
       "Columns: [report_number, local_case_number, agency_name, acrs_report_type, crash_date_time, hit_run, route_type, mile_point, mile_point_direction, lane_direction, lane_number, number_of_lanes, direction, distance, distance_unit, road_grade, nontraffic, road_name, cross_street_type, cross_street_name, municipality, at_fault, collision_type, weather, surface_condition, light, traffic_control, driver_substance_abuse, first_harmful_event, second_harmful_event, fixed_oject_struck, junction, intersection_type, intersection_area, road_alignment, road_condition, road_division, latitude, longitude, geolocation, lane_type, off_road_description, related_non_motorist, non_motorist_substance_abuse]\n",
       "Index: []\n",
       "\n",
       "[0 rows x 44 columns]"
      ]
     },
     "execution_count": 75,
     "metadata": {},
     "output_type": "execute_result"
    }
   ],
   "source": [
    "duplicateRowsincidentsDF = incidentsdf[incidentsdf.duplicated('report_number')]\n",
    "duplicateRowsincidentsDF"
   ]
  },
  {
   "cell_type": "markdown",
   "metadata": {},
   "source": [
    "I'll now check the entries in each column, to see if the entries need to be cleaned."
   ]
  },
  {
   "cell_type": "code",
   "execution_count": 76,
   "metadata": {},
   "outputs": [
    {
     "data": {
      "text/plain": [
       "array(['Rockville Police Departme', 'Montgomery County Police',\n",
       "       'Maryland-National Capital', 'Gaithersburg Police Depar',\n",
       "       'Takoma Park Police Depart'], dtype=object)"
      ]
     },
     "execution_count": 76,
     "metadata": {},
     "output_type": "execute_result"
    }
   ],
   "source": [
    "agency_name = incidentsdf.agency_name\n",
    "agency_uniques = agency_name.unique()\n",
    "agency_uniques"
   ]
  },
  {
   "cell_type": "code",
   "execution_count": 77,
   "metadata": {},
   "outputs": [
    {
     "data": {
      "text/plain": [
       "array(['Rockville Police', 'Montgomery County Police',\n",
       "       'Maryland-National Capital Police', 'Gaithersburg Police',\n",
       "       'Takoma Park Police'], dtype=object)"
      ]
     },
     "execution_count": 77,
     "metadata": {},
     "output_type": "execute_result"
    }
   ],
   "source": [
    "# Using replace by dictionary to correct the names\n",
    "\n",
    "incidentsdf['agency_name'] = incidentsdf['agency_name'].replace({'Rockville Police Departme':'Rockville Police', 'Maryland-National Capital':'Maryland-National Capital Police', \n",
    "                                                     'Gaithersburg Police Depar':'Gaithersburg Police', 'Takoma Park Police Depart': 'Takoma Park Police'})\n",
    "agency_uniques = agency_name.unique()\n",
    "agency_uniques"
   ]
  },
  {
   "cell_type": "code",
   "execution_count": 78,
   "metadata": {},
   "outputs": [
    {
     "data": {
      "text/plain": [
       "array(['Property Damage Crash', 'Injury Crash', 'Fatal Crash'],\n",
       "      dtype=object)"
      ]
     },
     "execution_count": 78,
     "metadata": {},
     "output_type": "execute_result"
    }
   ],
   "source": [
    "acrs_report_type = incidentsdf.acrs_report_type\n",
    "acrs_uniques = acrs_report_type.unique()\n",
    "acrs_uniques"
   ]
  },
  {
   "cell_type": "code",
   "execution_count": 79,
   "metadata": {},
   "outputs": [
    {
     "data": {
      "text/plain": [
       "array(['No', 'Yes'], dtype=object)"
      ]
     },
     "execution_count": 79,
     "metadata": {},
     "output_type": "execute_result"
    }
   ],
   "source": [
    "hit_run = incidentsdf.hit_run\n",
    "hit_run_uniques = hit_run.unique()\n",
    "hit_run_uniques"
   ]
  },
  {
   "cell_type": "code",
   "execution_count": 80,
   "metadata": {},
   "outputs": [
    {
     "data": {
      "text/plain": [
       "array(['Maryland (State)', 'County', nan, 'Municipality', 'US (State)',\n",
       "       'Interstate (State)', 'Other Public Roadway', 'Ramp', 'Government'],\n",
       "      dtype=object)"
      ]
     },
     "execution_count": 80,
     "metadata": {},
     "output_type": "execute_result"
    }
   ],
   "source": [
    "route_type = incidentsdf.route_type\n",
    "route_uniques = route_type.unique()\n",
    "route_uniques"
   ]
  },
  {
   "cell_type": "code",
   "execution_count": 81,
   "metadata": {},
   "outputs": [
    {
     "data": {
      "text/plain": [
       "array(['Maryland (State)', 'County', 'UNKNOWN', 'Municipality',\n",
       "       'US (State)', 'Interstate (State)', 'Other Public Roadway', 'Ramp',\n",
       "       'Government'], dtype=object)"
      ]
     },
     "execution_count": 81,
     "metadata": {},
     "output_type": "execute_result"
    }
   ],
   "source": [
    "# Fill na's with \"UNKNOWN\"\n",
    "incidentsdf['route_type'] = incidentsdf['route_type'].fillna(\"UNKNOWN\")\n",
    "route_type = incidentsdf.route_type\n",
    "route_uniques = route_type.unique()\n",
    "route_uniques"
   ]
  },
  {
   "cell_type": "code",
   "execution_count": 82,
   "metadata": {},
   "outputs": [
    {
     "data": {
      "text/plain": [
       "array(['24.09', '21.29', '0.54', '3.76', '2.28', '12.57', '0', '4.96',\n",
       "       '0.09', '0.1', '1.14', '3.47', '6.95', '0.04', nan, '3.27',\n",
       "       '18.81', '1.13', '11.43', '0.53', '6.52', '3.69', '11.29', '2.23',\n",
       "       '0.31', '4.24', '15.712', '4.32', '0.8', '4.38', '2.03', '20.42',\n",
       "       '4.21', '0.33', '1.61', '1.06', '0.105', '17.03', '25.33', '14.44',\n",
       "       '0.6', '2.6', '16.03', '6.36', '0.74', '0.32', '4.11', '0.3',\n",
       "       '1.4', '0.66', '17.73', '11.84', '9.13', '8.39', '7.87', '4.02',\n",
       "       '0.36', '7.14', '0.03', '1.1', '8.55', '6.58', '10.85', '11.38',\n",
       "       '0.52', '1.193', '1.359', '7.75', '5.01', '3.96', '0.61', '10.59',\n",
       "       '0.955', '1.829', '0.94', '6.21', '10.65', '0.21', '1.45', '4.3',\n",
       "       '0.85', '0.5', '15.26', '0.27', '0.16', '3.14', '1.8', '0.98',\n",
       "       '14.74', '11.45', '26.22', '1.83', '1.43', '8.44', '6.174', '0.01',\n",
       "       '0.76', '2.74', '0.37', '2.65', '0.17', '0.38', '0.86', '1.04',\n",
       "       '22.72', '0.02', '1.155', '0.65', '2.27', '0.67', '4.64', '1.51',\n",
       "       '2.34', '0.23', '3.78', '0.05', '20', '8.02', '2.26', '6.12',\n",
       "       '17.57', '4.44', '2.73', '0.72', '0.56', '0.24', '1.89', '11.08',\n",
       "       '1.66', '10.5', '6.94', '17.02', '1.35', '0.19', '3.35', '19.54',\n",
       "       '0.13', '2.3', '2.1', '1.92', '24.79', '5.08', '1.38', '0.14',\n",
       "       '8.24', '2.89', '10.44', '0.75', '4.69', '0.48', '12.49', '11.4',\n",
       "       '18.33', '1.42', '4.89', '4.01', '1.98', '4.71', '0.49', '1.74',\n",
       "       '1.79', '16.36', '2.52', '6', '0.07', '21.73', '0.44', '0.88',\n",
       "       '8.07', '0.12', '1', '1.88', '1.41', '3.1', '2.72', '10.02',\n",
       "       '0.734', '0.18', '0.7', '3.045', '27.09', '7.3', '9.73', '10.86',\n",
       "       '0.39', '0.608', '19.26', '1.17', '0.97', '3.21', '2.71', '2.19',\n",
       "       '0.08', '15.43', '6.15', '0.2', '7.68', '2.96', '7.28', '0.28',\n",
       "       '16.54', '3.12', '2.68', '6.89', '0.83', '6.39', '1.706', '12.37',\n",
       "       '1.95', '3.17', '0.45', '1.21', '19.72', '10.79', '15.36', '2.91',\n",
       "       '8.71', '15.45', '2.66', '2.38', '9.51', '2.41', '2.5', '5.507',\n",
       "       '5.372', '0.93', '0.26', '13.72', '1.18', '18.45', '0.62', '9.35',\n",
       "       '5.03', '14.35', '0.63', '0.78', '0.91', '1.333', '1.37', '4.31',\n",
       "       '6.645', '11.96', '8.25', '1.09', '9.83', '4.22', '7.47', '16.13',\n",
       "       '2.12', '3.32', '2.93', '1.91', '6.31', '12.03', '3.86', '0.43',\n",
       "       '1.65', '0.42', '2.554', '0.227', '0.69', '13.18', '13.36', '0.25',\n",
       "       '0.29', '4.36', '1.05', '3.54', '11.07', '1.31', '7.15', '0.247',\n",
       "       '2.44', '0.47', '10', '1.32', '0.82', '10.15', '19.7', '4.99',\n",
       "       '9.26', '3.22', '16.65', '1.08', '9.17', '5.32', '7.59', '0.46',\n",
       "       '7.53', '6.13', '8.82', '3.37', '12.162', '7.57', '7.622', '6.07',\n",
       "       '3.79', '6.43', '5.188', '6.69', '10.41', '5.14', '5.68', '1.22',\n",
       "       '1.15', '9.22', '17.34', '6.432', '19.91', '0.92', '14.83', '2.04',\n",
       "       '8.54', '10.27', '0.22', '1.9', '4.4', '4.67', '9.45', '20.93',\n",
       "       '1.72', '2.14', '2.35', '23.15', '1.12', '1.268', '9.05', '0.15',\n",
       "       '0.193', '14.02', '3.71', '5.06', '5.79', '0.68', '2.78', '12.64',\n",
       "       '4.03', '8.06', '3.83', '2.7', '1.77', '5.17', '8.42', '0.34',\n",
       "       '0.06', '4.81', '2.55', '3.75', '12.62', '5.77', '3.65', '3.46',\n",
       "       '4.988', '0.58', '2.54', '3.13', '1.84', '21.06', '14.19', '0.11',\n",
       "       '2.16', '25.81', '2.07', '1.97', '1.2', '0.96', '5.28', '4.12',\n",
       "       '3.97', '4.76', '5.92', '4.18', '8', '1.39', '1.47', '14.77',\n",
       "       '5.24', '4.16', '1.94', '16.71', '25.08', '2.37', '2.31', '21.45',\n",
       "       '2.58', '5.07', '1.7', '7.78', '17.49', '9.57', '0.55', '1.045',\n",
       "       '14.7', '5.11', '3.45', '0.71', '6.8', '1.26', '0.51', '25.04',\n",
       "       '1.57', '2.15', '7.67', '6.05', '1.16', '8.89', '7.12', '2.88',\n",
       "       '12.52', '2.11', '12.11', '3.631', '17.62', '23.68', '15', '10.16',\n",
       "       '8.14', '27.31', '0.87', '0.915', '3.59', '1.44', '1.78', '13.52',\n",
       "       '0.9', '11.16', '17.77', '0.481', '1.19', '4.54', '1.11', '10.09',\n",
       "       '8.75', '4.47', '14.49', '6.28', '4.82', '28.037', '4.5', '2.2',\n",
       "       '17.82', '4.25', '0.64', '5.99', '13.48', '6.4', '2.77', '12.17',\n",
       "       '3.84', '13.95', '1.85', '2.45', '1.62', '0.41', '4.87', '7.23',\n",
       "       '0.99', '5', '5.53', '6.42', '21.18', '19.427', '0.4', '16.47',\n",
       "       '12.23', '3.19', '24.46', '9.38'], dtype=object)"
      ]
     },
     "execution_count": 82,
     "metadata": {},
     "output_type": "execute_result"
    }
   ],
   "source": [
    "# The numbers won't mean much, but I want to see if there are different ways of representing NA's or unknowns.\n",
    "mile_point = incidentsdf.mile_point\n",
    "mile_point_uniques = mile_point.unique()\n",
    "mile_point_uniques"
   ]
  },
  {
   "cell_type": "code",
   "execution_count": 83,
   "metadata": {},
   "outputs": [
    {
     "data": {
      "text/plain": [
       "array(['24.09', '21.29', '0.54', '3.76', '2.28', '12.57', '0', '4.96',\n",
       "       '0.09', '0.1', '1.14', '3.47', '6.95', '0.04', 'UNKNOWN', '3.27',\n",
       "       '18.81', '1.13', '11.43', '0.53', '6.52', '3.69', '11.29', '2.23',\n",
       "       '0.31', '4.24', '15.712', '4.32', '0.8', '4.38', '2.03', '20.42',\n",
       "       '4.21', '0.33', '1.61', '1.06', '0.105', '17.03', '25.33', '14.44',\n",
       "       '0.6', '2.6', '16.03', '6.36', '0.74', '0.32', '4.11', '0.3',\n",
       "       '1.4', '0.66', '17.73', '11.84', '9.13', '8.39', '7.87', '4.02',\n",
       "       '0.36', '7.14', '0.03', '1.1', '8.55', '6.58', '10.85', '11.38',\n",
       "       '0.52', '1.193', '1.359', '7.75', '5.01', '3.96', '0.61', '10.59',\n",
       "       '0.955', '1.829', '0.94', '6.21', '10.65', '0.21', '1.45', '4.3',\n",
       "       '0.85', '0.5', '15.26', '0.27', '0.16', '3.14', '1.8', '0.98',\n",
       "       '14.74', '11.45', '26.22', '1.83', '1.43', '8.44', '6.174', '0.01',\n",
       "       '0.76', '2.74', '0.37', '2.65', '0.17', '0.38', '0.86', '1.04',\n",
       "       '22.72', '0.02', '1.155', '0.65', '2.27', '0.67', '4.64', '1.51',\n",
       "       '2.34', '0.23', '3.78', '0.05', '20', '8.02', '2.26', '6.12',\n",
       "       '17.57', '4.44', '2.73', '0.72', '0.56', '0.24', '1.89', '11.08',\n",
       "       '1.66', '10.5', '6.94', '17.02', '1.35', '0.19', '3.35', '19.54',\n",
       "       '0.13', '2.3', '2.1', '1.92', '24.79', '5.08', '1.38', '0.14',\n",
       "       '8.24', '2.89', '10.44', '0.75', '4.69', '0.48', '12.49', '11.4',\n",
       "       '18.33', '1.42', '4.89', '4.01', '1.98', '4.71', '0.49', '1.74',\n",
       "       '1.79', '16.36', '2.52', '6', '0.07', '21.73', '0.44', '0.88',\n",
       "       '8.07', '0.12', '1', '1.88', '1.41', '3.1', '2.72', '10.02',\n",
       "       '0.734', '0.18', '0.7', '3.045', '27.09', '7.3', '9.73', '10.86',\n",
       "       '0.39', '0.608', '19.26', '1.17', '0.97', '3.21', '2.71', '2.19',\n",
       "       '0.08', '15.43', '6.15', '0.2', '7.68', '2.96', '7.28', '0.28',\n",
       "       '16.54', '3.12', '2.68', '6.89', '0.83', '6.39', '1.706', '12.37',\n",
       "       '1.95', '3.17', '0.45', '1.21', '19.72', '10.79', '15.36', '2.91',\n",
       "       '8.71', '15.45', '2.66', '2.38', '9.51', '2.41', '2.5', '5.507',\n",
       "       '5.372', '0.93', '0.26', '13.72', '1.18', '18.45', '0.62', '9.35',\n",
       "       '5.03', '14.35', '0.63', '0.78', '0.91', '1.333', '1.37', '4.31',\n",
       "       '6.645', '11.96', '8.25', '1.09', '9.83', '4.22', '7.47', '16.13',\n",
       "       '2.12', '3.32', '2.93', '1.91', '6.31', '12.03', '3.86', '0.43',\n",
       "       '1.65', '0.42', '2.554', '0.227', '0.69', '13.18', '13.36', '0.25',\n",
       "       '0.29', '4.36', '1.05', '3.54', '11.07', '1.31', '7.15', '0.247',\n",
       "       '2.44', '0.47', '10', '1.32', '0.82', '10.15', '19.7', '4.99',\n",
       "       '9.26', '3.22', '16.65', '1.08', '9.17', '5.32', '7.59', '0.46',\n",
       "       '7.53', '6.13', '8.82', '3.37', '12.162', '7.57', '7.622', '6.07',\n",
       "       '3.79', '6.43', '5.188', '6.69', '10.41', '5.14', '5.68', '1.22',\n",
       "       '1.15', '9.22', '17.34', '6.432', '19.91', '0.92', '14.83', '2.04',\n",
       "       '8.54', '10.27', '0.22', '1.9', '4.4', '4.67', '9.45', '20.93',\n",
       "       '1.72', '2.14', '2.35', '23.15', '1.12', '1.268', '9.05', '0.15',\n",
       "       '0.193', '14.02', '3.71', '5.06', '5.79', '0.68', '2.78', '12.64',\n",
       "       '4.03', '8.06', '3.83', '2.7', '1.77', '5.17', '8.42', '0.34',\n",
       "       '0.06', '4.81', '2.55', '3.75', '12.62', '5.77', '3.65', '3.46',\n",
       "       '4.988', '0.58', '2.54', '3.13', '1.84', '21.06', '14.19', '0.11',\n",
       "       '2.16', '25.81', '2.07', '1.97', '1.2', '0.96', '5.28', '4.12',\n",
       "       '3.97', '4.76', '5.92', '4.18', '8', '1.39', '1.47', '14.77',\n",
       "       '5.24', '4.16', '1.94', '16.71', '25.08', '2.37', '2.31', '21.45',\n",
       "       '2.58', '5.07', '1.7', '7.78', '17.49', '9.57', '0.55', '1.045',\n",
       "       '14.7', '5.11', '3.45', '0.71', '6.8', '1.26', '0.51', '25.04',\n",
       "       '1.57', '2.15', '7.67', '6.05', '1.16', '8.89', '7.12', '2.88',\n",
       "       '12.52', '2.11', '12.11', '3.631', '17.62', '23.68', '15', '10.16',\n",
       "       '8.14', '27.31', '0.87', '0.915', '3.59', '1.44', '1.78', '13.52',\n",
       "       '0.9', '11.16', '17.77', '0.481', '1.19', '4.54', '1.11', '10.09',\n",
       "       '8.75', '4.47', '14.49', '6.28', '4.82', '28.037', '4.5', '2.2',\n",
       "       '17.82', '4.25', '0.64', '5.99', '13.48', '6.4', '2.77', '12.17',\n",
       "       '3.84', '13.95', '1.85', '2.45', '1.62', '0.41', '4.87', '7.23',\n",
       "       '0.99', '5', '5.53', '6.42', '21.18', '19.427', '0.4', '16.47',\n",
       "       '12.23', '3.19', '24.46', '9.38'], dtype=object)"
      ]
     },
     "execution_count": 83,
     "metadata": {},
     "output_type": "execute_result"
    }
   ],
   "source": [
    "incidentsdf['mile_point']=incidentsdf['mile_point'].fillna(\"UNKNOWN\")\n",
    "mile_point = incidentsdf.mile_point\n",
    "mile_point_uniques = mile_point.unique()\n",
    "mile_point_uniques"
   ]
  },
  {
   "cell_type": "code",
   "execution_count": 84,
   "metadata": {},
   "outputs": [
    {
     "data": {
      "text/plain": [
       "array(['East', 'North', 'South', 'West', nan], dtype=object)"
      ]
     },
     "execution_count": 84,
     "metadata": {},
     "output_type": "execute_result"
    }
   ],
   "source": [
    "mile_point_direction = incidentsdf.mile_point_direction\n",
    "mpdirection_uniques = mile_point_direction.unique()\n",
    "mpdirection_uniques"
   ]
  },
  {
   "cell_type": "code",
   "execution_count": 85,
   "metadata": {},
   "outputs": [
    {
     "data": {
      "text/plain": [
       "array(['East', 'North', 'South', 'West', 'Unknown'], dtype=object)"
      ]
     },
     "execution_count": 85,
     "metadata": {},
     "output_type": "execute_result"
    }
   ],
   "source": [
    "incidentsdf['mile_point_direction'] = incidentsdf['mile_point_direction'].fillna(\"Unknown\")\n",
    "mile_point_direction = incidentsdf.mile_point_direction\n",
    "mpdirection_uniques = mile_point_direction.unique()\n",
    "mpdirection_uniques"
   ]
  },
  {
   "cell_type": "code",
   "execution_count": 86,
   "metadata": {},
   "outputs": [
    {
     "data": {
      "text/plain": [
       "array(['West', 'South', 'East', 'North', nan, 'Unknown'], dtype=object)"
      ]
     },
     "execution_count": 86,
     "metadata": {},
     "output_type": "execute_result"
    }
   ],
   "source": [
    "lane_direction = incidentsdf.lane_direction\n",
    "lane_direction_uniques = lane_direction.unique()\n",
    "lane_direction_uniques"
   ]
  },
  {
   "cell_type": "code",
   "execution_count": 87,
   "metadata": {},
   "outputs": [
    {
     "data": {
      "text/plain": [
       "array(['West', 'South', 'East', 'North', 'Unknown'], dtype=object)"
      ]
     },
     "execution_count": 87,
     "metadata": {},
     "output_type": "execute_result"
    }
   ],
   "source": [
    "incidentsdf['lane_direction'] = incidentsdf['lane_direction'].fillna('Unknown')\n",
    "lane_direction = incidentsdf.lane_direction\n",
    "lane_direction_uniques = lane_direction.unique()\n",
    "lane_direction_uniques"
   ]
  },
  {
   "cell_type": "code",
   "execution_count": 88,
   "metadata": {},
   "outputs": [
    {
     "data": {
      "text/plain": [
       "array(['1', '3', '0', '2', '4', '5'], dtype=object)"
      ]
     },
     "execution_count": 88,
     "metadata": {},
     "output_type": "execute_result"
    }
   ],
   "source": [
    "lane_number = incidentsdf.lane_number\n",
    "lane_number_uniques = lane_number.unique()\n",
    "lane_number_uniques"
   ]
  },
  {
   "cell_type": "code",
   "execution_count": 89,
   "metadata": {},
   "outputs": [
    {
     "data": {
      "text/plain": [
       "array(['3', '2', '1', '0', '4', '5', '6', '7'], dtype=object)"
      ]
     },
     "execution_count": 89,
     "metadata": {},
     "output_type": "execute_result"
    }
   ],
   "source": [
    "number_of_lanes = incidentsdf.number_of_lanes\n",
    "number_of_lanes_uniques = number_of_lanes.unique()\n",
    "number_of_lanes_uniques"
   ]
  },
  {
   "cell_type": "code",
   "execution_count": 90,
   "metadata": {},
   "outputs": [
    {
     "data": {
      "text/plain": [
       "array(['East', 'North', 'South', 'West', nan], dtype=object)"
      ]
     },
     "execution_count": 90,
     "metadata": {},
     "output_type": "execute_result"
    }
   ],
   "source": [
    "direction = incidentsdf.direction\n",
    "direction_uniques = direction.unique()\n",
    "direction_uniques"
   ]
  },
  {
   "cell_type": "code",
   "execution_count": 91,
   "metadata": {},
   "outputs": [
    {
     "data": {
      "text/plain": [
       "array(['East', 'North', 'South', 'West', 'Unknown'], dtype=object)"
      ]
     },
     "execution_count": 91,
     "metadata": {},
     "output_type": "execute_result"
    }
   ],
   "source": [
    "incidentsdf['direction'] = incidentsdf['direction'].fillna(\"Unknown\")\n",
    "direction = incidentsdf.direction\n",
    "direction_uniques = direction.unique()\n",
    "direction_uniques"
   ]
  },
  {
   "cell_type": "code",
   "execution_count": 92,
   "metadata": {},
   "outputs": [
    {
     "data": {
      "text/plain": [
       "array(['0', '50', '20', '175', '100', nan, '500', '10', '150', '999',\n",
       "       '15', '0.5', '300', '0.25', '0.4', '200', '30', '1', '25', '362',\n",
       "       '0.1', '450', '70', '600', '75', '0.2', '185', '900', '350', '250',\n",
       "       '400', '5', '952', '0.3', '0.6', '60', '0.01', '40', '387', '323',\n",
       "       '240', '80', '2', '923', '86', '140', '21'], dtype=object)"
      ]
     },
     "execution_count": 92,
     "metadata": {},
     "output_type": "execute_result"
    }
   ],
   "source": [
    "distance = incidentsdf.distance\n",
    "distance_uniques = distance.unique()\n",
    "distance_uniques"
   ]
  },
  {
   "cell_type": "code",
   "execution_count": 93,
   "metadata": {},
   "outputs": [
    {
     "data": {
      "text/plain": [
       "array(['0', '50', '20', '175', '100', 'Unknown', '500', '10', '150',\n",
       "       '999', '15', '0.5', '300', '0.25', '0.4', '200', '30', '1', '25',\n",
       "       '362', '0.1', '450', '70', '600', '75', '0.2', '185', '900', '350',\n",
       "       '250', '400', '5', '952', '0.3', '0.6', '60', '0.01', '40', '387',\n",
       "       '323', '240', '80', '2', '923', '86', '140', '21'], dtype=object)"
      ]
     },
     "execution_count": 93,
     "metadata": {},
     "output_type": "execute_result"
    }
   ],
   "source": [
    "incidentsdf['distance'] = incidentsdf['distance'].fillna(\"Unknown\")\n",
    "distance = incidentsdf.distance\n",
    "distance_uniques = distance.unique()\n",
    "distance_uniques"
   ]
  },
  {
   "cell_type": "code",
   "execution_count": 94,
   "metadata": {},
   "outputs": [
    {
     "data": {
      "text/plain": [
       "array(['FEET', 'MILE', nan, 'UNKNOWN'], dtype=object)"
      ]
     },
     "execution_count": 94,
     "metadata": {},
     "output_type": "execute_result"
    }
   ],
   "source": [
    "distance_unit = incidentsdf.distance_unit\n",
    "distance_unit_uniques = distance_unit.unique()\n",
    "distance_unit_uniques"
   ]
  },
  {
   "cell_type": "code",
   "execution_count": 95,
   "metadata": {},
   "outputs": [
    {
     "data": {
      "text/plain": [
       "array(['FEET', 'MILE', 'UNKNOWN'], dtype=object)"
      ]
     },
     "execution_count": 95,
     "metadata": {},
     "output_type": "execute_result"
    }
   ],
   "source": [
    "incidentsdf['distance_unit'] = incidentsdf['distance_unit'].fillna(\"UNKNOWN\")\n",
    "distance_unit = incidentsdf.distance_unit\n",
    "distance_unit_uniques = distance_unit.unique()\n",
    "distance_unit_uniques"
   ]
  },
  {
   "cell_type": "code",
   "execution_count": 96,
   "metadata": {},
   "outputs": [
    {
     "data": {
      "text/plain": [
       "array(['LEVEL', 'GRADE DOWNHILL', 'HILL UPHILL', 'HILL CREST', nan, 'N/A',\n",
       "       'ON BRIDGE', 'OTHER', 'DIP SAG', 'UNKNOWN'], dtype=object)"
      ]
     },
     "execution_count": 96,
     "metadata": {},
     "output_type": "execute_result"
    }
   ],
   "source": [
    "road_grade = incidentsdf.road_grade\n",
    "road_grade_uniques = road_grade.unique()\n",
    "road_grade_uniques"
   ]
  },
  {
   "cell_type": "code",
   "execution_count": 97,
   "metadata": {},
   "outputs": [
    {
     "data": {
      "text/plain": [
       "array(['LEVEL', 'GRADE DOWNHILL', 'HILL UPHILL', 'HILL CREST', 'UNKNOWN',\n",
       "       'ON BRIDGE', 'OTHER', 'DIP SAG'], dtype=object)"
      ]
     },
     "execution_count": 97,
     "metadata": {},
     "output_type": "execute_result"
    }
   ],
   "source": [
    "incidentsdf['road_grade'] = incidentsdf['road_grade'].fillna(\"UNKNOWN\")\n",
    "incidentsdf['road_grade'] = incidentsdf['road_grade'].replace({'N/A': \"UNKNOWN\"})\n",
    "road_grade = incidentsdf.road_grade\n",
    "road_grade_uniques = road_grade.unique()\n",
    "road_grade_uniques"
   ]
  },
  {
   "cell_type": "code",
   "execution_count": 98,
   "metadata": {},
   "outputs": [
    {
     "data": {
      "text/plain": [
       "array(['No', 'Yes'], dtype=object)"
      ]
     },
     "execution_count": 98,
     "metadata": {},
     "output_type": "execute_result"
    }
   ],
   "source": [
    "nontraffic = incidentsdf.nontraffic\n",
    "nontraffic_uniques = nontraffic.unique()\n",
    "nontraffic_uniques"
   ]
  },
  {
   "cell_type": "code",
   "execution_count": 99,
   "metadata": {},
   "outputs": [
    {
     "data": {
      "text/plain": [
       "array(['Municipality', 'County', 'Unknown', 'Maryland (State)', nan,\n",
       "       'US (State)', 'Ramp', 'Other Public Roadway', 'Service Road',\n",
       "       'Interstate (State)', 'Government'], dtype=object)"
      ]
     },
     "execution_count": 99,
     "metadata": {},
     "output_type": "execute_result"
    }
   ],
   "source": [
    "cross_street_type = incidentsdf.cross_street_type\n",
    "cross_street_uniques = cross_street_type.unique()\n",
    "cross_street_uniques"
   ]
  },
  {
   "cell_type": "code",
   "execution_count": 100,
   "metadata": {},
   "outputs": [
    {
     "data": {
      "text/plain": [
       "array(['Municipality', 'County', 'Unknown', 'Maryland (State)',\n",
       "       'US (State)', 'Ramp', 'Other Public Roadway', 'Service Road',\n",
       "       'Interstate (State)'], dtype=object)"
      ]
     },
     "execution_count": 100,
     "metadata": {},
     "output_type": "execute_result"
    }
   ],
   "source": [
    "incidentsdf['cross_street_type'] = incidentsdf['cross_street_type'].fillna(\"Unknown\")\n",
    "cross_street_type = driverdf.cross_street_type\n",
    "cross_street_uniques = cross_street_type.unique()\n",
    "cross_street_uniques"
   ]
  },
  {
   "cell_type": "code",
   "execution_count": 101,
   "metadata": {},
   "outputs": [
    {
     "data": {
      "text/plain": [
       "array(['ROCKVILLE', 'N/A', nan, 'GAITHERSBURG', 'SOMERSET', 'KENSINGTON',\n",
       "       'TAKOMA PARK', 'POOLESVILLE', 'FRIENDSHIP HEIGHTS',\n",
       "       'CHEVY CHASE #4', 'WASHINGTON GROVE', 'CHEVY CHASE #3',\n",
       "       'LAYTONSVILLE', 'CHEVY CHASE VILLAGE'], dtype=object)"
      ]
     },
     "execution_count": 101,
     "metadata": {},
     "output_type": "execute_result"
    }
   ],
   "source": [
    "municipality = incidentsdf.municipality\n",
    "municipality_uniques = municipality.unique()\n",
    "municipality_uniques"
   ]
  },
  {
   "cell_type": "code",
   "execution_count": 102,
   "metadata": {},
   "outputs": [
    {
     "data": {
      "text/plain": [
       "array(['ROCKVILLE', 'N/A', 'GAITHERSBURG', 'SOMERSET', 'KENSINGTON',\n",
       "       'TAKOMA PARK', 'POOLESVILLE', 'FRIENDSHIP HEIGHTS',\n",
       "       'CHEVY CHASE #4', 'WASHINGTON GROVE', 'CHEVY CHASE #3',\n",
       "       'LAYTONSVILLE', 'CHEVY CHASE VILLAGE'], dtype=object)"
      ]
     },
     "execution_count": 102,
     "metadata": {},
     "output_type": "execute_result"
    }
   ],
   "source": [
    "incidentsdf['municipality'] = incidentsdf['municipality'].fillna('N/A')\n",
    "municipality = incidentsdf.municipality\n",
    "municipality_uniques = municipality.unique()\n",
    "municipality_uniques"
   ]
  },
  {
   "cell_type": "code",
   "execution_count": 103,
   "metadata": {},
   "outputs": [
    {
     "data": {
      "text/plain": [
       "array(['DRIVER', 'UNKNOWN', 'NONMOTORIST', 'BOTH'], dtype=object)"
      ]
     },
     "execution_count": 103,
     "metadata": {},
     "output_type": "execute_result"
    }
   ],
   "source": [
    "at_fault = incidentsdf.at_fault\n",
    "at_fault_uniques = at_fault.unique()\n",
    "at_fault_uniques"
   ]
  },
  {
   "cell_type": "code",
   "execution_count": 104,
   "metadata": {},
   "outputs": [
    {
     "data": {
      "text/plain": [
       "array(['SAME DIRECTION SIDESWIPE', 'SINGLE VEHICLE',\n",
       "       'STRAIGHT MOVEMENT ANGLE', 'SAME DIR REAR END',\n",
       "       'HEAD ON LEFT TURN', 'OTHER', 'HEAD ON',\n",
       "       'SAME DIRECTION RIGHT TURN', 'OPPOSITE DIRECTION SIDESWIPE',\n",
       "       'UNKNOWN', 'ANGLE MEETS LEFT HEAD ON', 'ANGLE MEETS RIGHT TURN',\n",
       "       'OPPOSITE DIR BOTH LEFT TURN', 'ANGLE MEETS LEFT TURN',\n",
       "       'SAME DIR BOTH LEFT TURN', 'SAME DIRECTION LEFT TURN',\n",
       "       'SAME DIR REND RIGHT TURN', 'SAME DIR REND LEFT TURN', 'N/A'],\n",
       "      dtype=object)"
      ]
     },
     "execution_count": 104,
     "metadata": {},
     "output_type": "execute_result"
    }
   ],
   "source": [
    "collision_type = incidentsdf.collision_type\n",
    "collision_type_uniques = collision_type.unique()\n",
    "collision_type_uniques"
   ]
  },
  {
   "cell_type": "code",
   "execution_count": 105,
   "metadata": {},
   "outputs": [
    {
     "data": {
      "text/plain": [
       "array(['SAME DIRECTION SIDESWIPE', 'SINGLE VEHICLE',\n",
       "       'STRAIGHT MOVEMENT ANGLE', 'SAME DIR REAR END',\n",
       "       'HEAD ON LEFT TURN', 'OTHER', 'HEAD ON',\n",
       "       'SAME DIRECTION RIGHT TURN', 'OPPOSITE DIRECTION SIDESWIPE',\n",
       "       'UNKNOWN', 'ANGLE MEETS LEFT HEAD ON', 'ANGLE MEETS RIGHT TURN',\n",
       "       'OPPOSITE DIR BOTH LEFT TURN', 'ANGLE MEETS LEFT TURN',\n",
       "       'SAME DIR BOTH LEFT TURN', 'SAME DIRECTION LEFT TURN',\n",
       "       'SAME DIR REND RIGHT TURN', 'SAME DIR REND LEFT TURN'],\n",
       "      dtype=object)"
      ]
     },
     "execution_count": 105,
     "metadata": {},
     "output_type": "execute_result"
    }
   ],
   "source": [
    "# replace 'N/A' with UNKNOWN\n",
    "incidentsdf['collision_type'] = incidentsdf['collision_type'].replace({'N/A': 'UNKNOWN'})\n",
    "collision_type = incidentsdf.collision_type\n",
    "collision_type_uniques = collision_type.unique()\n",
    "collision_type_uniques"
   ]
  },
  {
   "cell_type": "code",
   "execution_count": 106,
   "metadata": {},
   "outputs": [
    {
     "data": {
      "text/plain": [
       "array(['CLEAR', 'N/A', 'CLOUDY', 'RAINING', 'SLEET', 'SNOW', 'WINTRY MIX',\n",
       "       'UNKNOWN', 'OTHER', 'BLOWING SNOW', 'FOGGY'], dtype=object)"
      ]
     },
     "execution_count": 106,
     "metadata": {},
     "output_type": "execute_result"
    }
   ],
   "source": [
    "weather = incidentsdf.weather\n",
    "weather_uniques = weather.unique()\n",
    "weather_uniques"
   ]
  },
  {
   "cell_type": "code",
   "execution_count": 107,
   "metadata": {},
   "outputs": [
    {
     "data": {
      "text/plain": [
       "array(['CLEAR', 'UNKNOWN', 'CLOUDY', 'RAINING', 'SLEET', 'SNOW',\n",
       "       'WINTRY MIX', 'OTHER', 'BLOWING SNOW', 'FOGGY'], dtype=object)"
      ]
     },
     "execution_count": 107,
     "metadata": {},
     "output_type": "execute_result"
    }
   ],
   "source": [
    "# replace 'N/A' with 'UNKNOWN'\n",
    "incidentsdf['weather'] = incidentsdf['weather'].replace({'N/A': 'UNKNOWN'})\n",
    "weather = incidentsdf.weather\n",
    "weather_uniques = weather.unique()\n",
    "weather_uniques"
   ]
  },
  {
   "cell_type": "code",
   "execution_count": 108,
   "metadata": {},
   "outputs": [
    {
     "data": {
      "text/plain": [
       "array(['DRY', 'WET', nan, 'SNOW', 'SLUSH', 'UNKNOWN', 'ICE', 'N/A',\n",
       "       'WATER(STANDING/MOVING)'], dtype=object)"
      ]
     },
     "execution_count": 108,
     "metadata": {},
     "output_type": "execute_result"
    }
   ],
   "source": [
    "surface_condition = incidentsdf.surface_condition\n",
    "surface_condition_uniques = surface_condition.unique()\n",
    "surface_condition_uniques"
   ]
  },
  {
   "cell_type": "code",
   "execution_count": 109,
   "metadata": {},
   "outputs": [
    {
     "data": {
      "text/plain": [
       "array(['DRY', 'WET', 'UNKNOWN', 'SNOW', 'SLUSH', 'ICE',\n",
       "       'WATER(STANDING/MOVING)'], dtype=object)"
      ]
     },
     "execution_count": 109,
     "metadata": {},
     "output_type": "execute_result"
    }
   ],
   "source": [
    "# replace 'N/A' and fill na's\n",
    "incidentsdf['surface_condition'] = incidentsdf['surface_condition'].replace({'N/A': 'UNKNOWN'})\n",
    "incidentsdf['surface_condition'] = incidentsdf['surface_condition'].fillna('UNKNOWN')\n",
    "surface_condition = incidentsdf.surface_condition\n",
    "surface_condition_uniques = surface_condition.unique()\n",
    "surface_condition_uniques"
   ]
  },
  {
   "cell_type": "code",
   "execution_count": 111,
   "metadata": {},
   "outputs": [
    {
     "data": {
      "text/plain": [
       "array(['DAYLIGHT', 'DARK LIGHTS ON', 'DUSK', 'DARK NO LIGHTS', 'UNKNOWN',\n",
       "       'DAWN', 'N/A', 'DARK -- UNKNOWN LIGHTING', 'OTHER'], dtype=object)"
      ]
     },
     "execution_count": 111,
     "metadata": {},
     "output_type": "execute_result"
    }
   ],
   "source": [
    "light = incidentsdf.light\n",
    "light_uniques = light.unique()\n",
    "light_uniques"
   ]
  },
  {
   "cell_type": "code",
   "execution_count": 112,
   "metadata": {},
   "outputs": [
    {
     "data": {
      "text/plain": [
       "array(['DAYLIGHT', 'DARK LIGHTS ON', 'DUSK', 'DARK NO LIGHTS', 'UNKNOWN',\n",
       "       'DAWN', 'DARK -- UNKNOWN LIGHTING', 'OTHER'], dtype=object)"
      ]
     },
     "execution_count": 112,
     "metadata": {},
     "output_type": "execute_result"
    }
   ],
   "source": [
    "# replace 'N/A'\n",
    "incidentsdf['light'] = incidentsdf['light'].replace({'N/A': 'UNKNOWN'})\n",
    "light = incidentsdf.light\n",
    "light_uniques = light.unique()\n",
    "light_uniques"
   ]
  },
  {
   "cell_type": "code",
   "execution_count": 110,
   "metadata": {},
   "outputs": [
    {
     "data": {
      "text/plain": [
       "array(['N/A', 'TRAFFIC SIGNAL', 'NO CONTROLS', 'STOP SIGN', 'YIELD SIGN',\n",
       "       'FLASHING TRAFFIC SIGNAL', 'OTHER', 'UNKNOWN', 'PERSON'],\n",
       "      dtype=object)"
      ]
     },
     "execution_count": 110,
     "metadata": {},
     "output_type": "execute_result"
    }
   ],
   "source": [
    "traffic_control = incidentsdf.traffic_control\n",
    "traffic_control_uniques = traffic_control.unique()\n",
    "traffic_control_uniques"
   ]
  },
  {
   "cell_type": "code",
   "execution_count": 113,
   "metadata": {},
   "outputs": [
    {
     "data": {
      "text/plain": [
       "array(['UNKNOWN', 'TRAFFIC SIGNAL', 'NO CONTROLS', 'STOP SIGN',\n",
       "       'YIELD SIGN', 'FLASHING TRAFFIC SIGNAL', 'OTHER', 'PERSON'],\n",
       "      dtype=object)"
      ]
     },
     "execution_count": 113,
     "metadata": {},
     "output_type": "execute_result"
    }
   ],
   "source": [
    "# replace 'N/A'\n",
    "incidentsdf['traffic_control'] = incidentsdf['traffic_control'].replace({'N/A': 'UNKNOWN'})\n",
    "traffic_control = incidentsdf.traffic_control\n",
    "traffic_control_uniques = traffic_control.unique()\n",
    "traffic_control_uniques"
   ]
  },
  {
   "cell_type": "code",
   "execution_count": 114,
   "metadata": {},
   "outputs": [
    {
     "data": {
      "text/plain": [
       "array(['N/A, NONE DETECTED', 'NONE DETECTED', 'N/A', 'ALCOHOL PRESENT',\n",
       "       'NONE DETECTED, UNKNOWN', 'ALCOHOL CONTRIBUTED, NONE DETECTED',\n",
       "       'UNKNOWN', 'NONE DETECTED, OTHER', nan,\n",
       "       'ILLEGAL DRUG PRESENT, NONE DETECTED',\n",
       "       'MEDICATION CONTRIBUTED, NONE DETECTED', 'ILLEGAL DRUG PRESENT',\n",
       "       'N/A, UNKNOWN', 'ALCOHOL PRESENT, NONE DETECTED',\n",
       "       'MEDICATION PRESENT', 'ILLEGAL DRUG PRESENT, N/A',\n",
       "       'COMBINATION CONTRIBUTED', 'ALCOHOL PRESENT, N/A, NONE DETECTED',\n",
       "       'ALCOHOL PRESENT, N/A', 'ALCOHOL CONTRIBUTED',\n",
       "       'ALCOHOL CONTRIBUTED, N/A', 'OTHER',\n",
       "       'COMBINATION CONTRIBUTED, NONE DETECTED',\n",
       "       'MEDICATION CONTRIBUTED, N/A', 'ILLEGAL DRUG CONTRIBUTED, N/A'],\n",
       "      dtype=object)"
      ]
     },
     "execution_count": 114,
     "metadata": {},
     "output_type": "execute_result"
    }
   ],
   "source": [
    "driver_substance_abuse = incidentsdf.driver_substance_abuse\n",
    "driver_substance_abuse_uniques = driver_substance_abuse.unique()\n",
    "driver_substance_abuse_uniques "
   ]
  },
  {
   "cell_type": "code",
   "execution_count": 115,
   "metadata": {},
   "outputs": [
    {
     "data": {
      "text/plain": [
       "array(['N/A, NONE DETECTED', 'NONE DETECTED', 'N/A', 'ALCOHOL PRESENT',\n",
       "       'NONE DETECTED, UNKNOWN', 'ALCOHOL CONTRIBUTED, NONE DETECTED',\n",
       "       'UNKNOWN', 'NONE DETECTED, OTHER',\n",
       "       'ILLEGAL DRUG PRESENT, NONE DETECTED',\n",
       "       'MEDICATION CONTRIBUTED, NONE DETECTED', 'ILLEGAL DRUG PRESENT',\n",
       "       'N/A, UNKNOWN', 'ALCOHOL PRESENT, NONE DETECTED',\n",
       "       'MEDICATION PRESENT', 'ILLEGAL DRUG PRESENT, N/A',\n",
       "       'COMBINATION CONTRIBUTED', 'ALCOHOL PRESENT, N/A, NONE DETECTED',\n",
       "       'ALCOHOL PRESENT, N/A', 'ALCOHOL CONTRIBUTED',\n",
       "       'ALCOHOL CONTRIBUTED, N/A', 'OTHER',\n",
       "       'COMBINATION CONTRIBUTED, NONE DETECTED',\n",
       "       'MEDICATION CONTRIBUTED, N/A', 'ILLEGAL DRUG CONTRIBUTED, N/A'],\n",
       "      dtype=object)"
      ]
     },
     "execution_count": 115,
     "metadata": {},
     "output_type": "execute_result"
    }
   ],
   "source": [
    "# each line reflects multiple entries, so for now I will just fill the nan\n",
    "incidentsdf['driver_substance_abuse'] = incidentsdf['driver_substance_abuse'].fillna(\"UNKNOWN\")\n",
    "driver_substance_abuse = incidentsdf.driver_substance_abuse\n",
    "driver_substance_abuse_uniques = driver_substance_abuse.unique()\n",
    "driver_substance_abuse_uniques"
   ]
  },
  {
   "cell_type": "code",
   "execution_count": 116,
   "metadata": {},
   "outputs": [
    {
     "data": {
      "text/plain": [
       "array(['OTHER VEHICLE', 'N/A', 'PARKED VEHICLE', 'FIXED OBJECT', 'ANIMAL',\n",
       "       'PEDESTRIAN', 'OFF ROAD', 'OTHER', 'OTHER OBJECT', 'OVERTURN',\n",
       "       'OTHER PEDALCYCLE', 'BICYCLE', 'UNKNOWN', 'OTHER NON COLLISION'],\n",
       "      dtype=object)"
      ]
     },
     "execution_count": 116,
     "metadata": {},
     "output_type": "execute_result"
    }
   ],
   "source": [
    "first_harmful_event = incidentsdf.first_harmful_event\n",
    "first_h_e_uniques = first_harmful_event.unique()\n",
    "first_h_e_uniques"
   ]
  },
  {
   "cell_type": "code",
   "execution_count": 117,
   "metadata": {},
   "outputs": [
    {
     "data": {
      "text/plain": [
       "array(['OTHER VEHICLE', 'UNKNOWN', 'PARKED VEHICLE', 'FIXED OBJECT',\n",
       "       'ANIMAL', 'PEDESTRIAN', 'OFF ROAD', 'OTHER', 'OTHER OBJECT',\n",
       "       'OVERTURN', 'OTHER PEDALCYCLE', 'BICYCLE', 'OTHER NON COLLISION'],\n",
       "      dtype=object)"
      ]
     },
     "execution_count": 117,
     "metadata": {},
     "output_type": "execute_result"
    }
   ],
   "source": [
    "# Replace N/A\n",
    "incidentsdf['first_harmful_event'] = incidentsdf['first_harmful_event'].replace({'N/A': 'UNKNOWN'})\n",
    "first_harmful_event = incidentsdf.first_harmful_event\n",
    "first_h_e_uniques = first_harmful_event.unique()\n",
    "first_h_e_uniques"
   ]
  },
  {
   "cell_type": "code",
   "execution_count": 118,
   "metadata": {},
   "outputs": [
    {
     "data": {
      "text/plain": [
       "array(['OTHER VEHICLE', 'N/A', 'PARKED VEHICLE', 'FIXED OBJECT',\n",
       "       'OVERTURN', 'OFF ROAD', 'OTHER OBJECT', 'UNKNOWN', 'OTHER'],\n",
       "      dtype=object)"
      ]
     },
     "execution_count": 118,
     "metadata": {},
     "output_type": "execute_result"
    }
   ],
   "source": [
    "second_harmful_event = incidentsdf.second_harmful_event\n",
    "second_h_e_uniques = second_harmful_event.unique()\n",
    "second_h_e_uniques"
   ]
  },
  {
   "cell_type": "code",
   "execution_count": 119,
   "metadata": {},
   "outputs": [
    {
     "data": {
      "text/plain": [
       "array(['OTHER VEHICLE', 'UNKNOWN', 'PARKED VEHICLE', 'FIXED OBJECT',\n",
       "       'OVERTURN', 'OFF ROAD', 'OTHER OBJECT', 'OTHER'], dtype=object)"
      ]
     },
     "execution_count": 119,
     "metadata": {},
     "output_type": "execute_result"
    }
   ],
   "source": [
    "# Replace N/A\n",
    "incidentsdf['second_harmful_event'] = incidentsdf['second_harmful_event'].replace({'N/A': 'UNKNOWN'})\n",
    "second_harmful_event = incidentsdf.second_harmful_event\n",
    "second_h_e_uniques = second_harmful_event.unique()\n",
    "second_h_e_uniques"
   ]
  },
  {
   "cell_type": "code",
   "execution_count": 121,
   "metadata": {},
   "outputs": [
    {
     "data": {
      "text/plain": [
       "array(['N/A', 'CURB', 'CULVERT', 'OTHER', 'SIGN SUPPORT POLE',\n",
       "       'OTHER POLE', 'TRAFFIC SIGNAL SUPPORT', 'DITCH', 'MAILBOX',\n",
       "       'TREE SHRUBBERY', 'FENCE', 'UNKNOWN', 'EMBANKMENT',\n",
       "       'GUARDRAIL OR BARRIER', 'CONCRETE TRAFFIC BARRIER',\n",
       "       'LIGHT SUPPORT POLE', 'BRIDGE RAIL', 'BRIDGE OR OVERPASS',\n",
       "       'OTHER TRAFFIC BARRIER', 'GUARDRAIL END', 'BUILDING'], dtype=object)"
      ]
     },
     "execution_count": 121,
     "metadata": {},
     "output_type": "execute_result"
    }
   ],
   "source": [
    "fixed_object_struck = incidentsdf.fixed_oject_struck\n",
    "fostruck_uniques = fixed_object_struck.unique()\n",
    "fostruck_uniques"
   ]
  },
  {
   "cell_type": "code",
   "execution_count": 124,
   "metadata": {},
   "outputs": [
    {
     "data": {
      "text/plain": [
       "array(['UNKNOWN', 'CURB', 'CULVERT', 'OTHER', 'SIGN SUPPORT POLE',\n",
       "       'OTHER POLE', 'TRAFFIC SIGNAL SUPPORT', 'DITCH', 'MAILBOX',\n",
       "       'TREE SHRUBBERY', 'FENCE', 'EMBANKMENT', 'GUARDRAIL OR BARRIER',\n",
       "       'CONCRETE TRAFFIC BARRIER', 'LIGHT SUPPORT POLE', 'BRIDGE RAIL',\n",
       "       'BRIDGE OR OVERPASS', 'OTHER TRAFFIC BARRIER', 'GUARDRAIL END',\n",
       "       'BUILDING'], dtype=object)"
      ]
     },
     "execution_count": 124,
     "metadata": {},
     "output_type": "execute_result"
    }
   ],
   "source": [
    "# correct typo in column name and replace N/A\n",
    "incidentsdf['fixed_object_struck'] = incidentsdf['fixed_oject_struck'].replace({'N/A': 'UNKNOWN'})\n",
    "fixed_object_struck = incidentsdf.fixed_object_struck\n",
    "fostruck_uniques = fixed_object_struck.unique()\n",
    "fostruck_uniques"
   ]
  },
  {
   "cell_type": "code",
   "execution_count": 125,
   "metadata": {},
   "outputs": [
    {
     "data": {
      "text/plain": [
       "<bound method Series.unique of 0              INTERSECTION\n",
       "1              INTERSECTION\n",
       "2              INTERSECTION\n",
       "3      INTERSECTION RELATED\n",
       "4                       N/A\n",
       "               ...         \n",
       "995    INTERSECTION RELATED\n",
       "996            INTERSECTION\n",
       "997        NON INTERSECTION\n",
       "998                     NaN\n",
       "999                     NaN\n",
       "Name: junction, Length: 1000, dtype: object>"
      ]
     },
     "execution_count": 125,
     "metadata": {},
     "output_type": "execute_result"
    }
   ],
   "source": [
    "junction = incidentsdf.junction\n",
    "junction_uniques = junction.unique\n",
    "junction_uniques"
   ]
  },
  {
   "cell_type": "code",
   "execution_count": 127,
   "metadata": {},
   "outputs": [
    {
     "data": {
      "text/plain": [
       "<bound method Series.unique of 0              INTERSECTION\n",
       "1              INTERSECTION\n",
       "2              INTERSECTION\n",
       "3      INTERSECTION RELATED\n",
       "4                   UNKNOWN\n",
       "               ...         \n",
       "995    INTERSECTION RELATED\n",
       "996            INTERSECTION\n",
       "997        NON INTERSECTION\n",
       "998                 UNKNOWN\n",
       "999                 UNKNOWN\n",
       "Name: junction, Length: 1000, dtype: object>"
      ]
     },
     "execution_count": 127,
     "metadata": {},
     "output_type": "execute_result"
    }
   ],
   "source": [
    "#fill NaN replace N/A with 'unknown'\n",
    "incidentsdf['junction'] = incidentsdf['junction'].fillna('UNKNOWN')\n",
    "incidentsdf['junction'] = incidentsdf['junction'].replace({'N/A': 'UNKNOWN'})\n",
    "junction = incidentsdf.junction\n",
    "junction_uniques = junction.unique\n",
    "junction_uniques"
   ]
  },
  {
   "cell_type": "code",
   "execution_count": 128,
   "metadata": {},
   "outputs": [
    {
     "data": {
      "text/plain": [
       "array(['T-INTERSECTION', 'FOUR-WAY INTERSECTION', 'N/A', nan,\n",
       "       'FIVE-POINT OR MORE', 'Y-INTERSECTION', 'OTHER', 'ROUNDABOUT',\n",
       "       'UNKNOWN', 'TRAFFIC CIRCLE'], dtype=object)"
      ]
     },
     "execution_count": 128,
     "metadata": {},
     "output_type": "execute_result"
    }
   ],
   "source": [
    "inter_type = incidentsdf.intersection_type\n",
    "inter_type_uniques = inter_type.unique()\n",
    "inter_type_uniques"
   ]
  },
  {
   "cell_type": "code",
   "execution_count": 129,
   "metadata": {},
   "outputs": [
    {
     "data": {
      "text/plain": [
       "array(['T-INTERSECTION', 'FOUR-WAY INTERSECTION', 'UNKNOWN',\n",
       "       'FIVE-POINT OR MORE', 'Y-INTERSECTION', 'OTHER', 'ROUNDABOUT',\n",
       "       'TRAFFIC CIRCLE'], dtype=object)"
      ]
     },
     "execution_count": 129,
     "metadata": {},
     "output_type": "execute_result"
    }
   ],
   "source": [
    "#fill NaN replace N/A with 'unknown'\n",
    "incidentsdf['intersection_type'] = incidentsdf['intersection_type'].fillna('UNKNOWN')\n",
    "incidentsdf['intersection_type'] = incidentsdf['intersection_type'].replace({'N/A': 'UNKNOWN'})\n",
    "inter_type = incidentsdf.intersection_type\n",
    "inter_type_uniques = inter_type.unique()\n",
    "inter_type_uniques"
   ]
  },
  {
   "cell_type": "code",
   "execution_count": 130,
   "metadata": {},
   "outputs": [
    {
     "data": {
      "text/plain": [
       "array(['INTERSECTION', 'N/A', 'INTERSECTION RELATED', nan, 'THRU ROADWAY',\n",
       "       'ON RAMP ENTRANCE AREA', 'OTHER', 'ON RAMP MID AREA',\n",
       "       'ON RAMP EXIT AREA', 'UNKNOWN'], dtype=object)"
      ]
     },
     "execution_count": 130,
     "metadata": {},
     "output_type": "execute_result"
    }
   ],
   "source": [
    "inter_area = incidentsdf.intersection_area\n",
    "inter_area_uniques = inter_area.unique()\n",
    "inter_area_uniques"
   ]
  },
  {
   "cell_type": "code",
   "execution_count": 131,
   "metadata": {},
   "outputs": [
    {
     "data": {
      "text/plain": [
       "array(['INTERSECTION', 'UNKNOWN', 'INTERSECTION RELATED', 'THRU ROADWAY',\n",
       "       'ON RAMP ENTRANCE AREA', 'OTHER', 'ON RAMP MID AREA',\n",
       "       'ON RAMP EXIT AREA'], dtype=object)"
      ]
     },
     "execution_count": 131,
     "metadata": {},
     "output_type": "execute_result"
    }
   ],
   "source": [
    "#fill NaN replace N/A with 'unknown'\n",
    "incidentsdf['intersection_area'] = incidentsdf['intersection_area'].fillna('UNKNOWN')\n",
    "incidentsdf['intersection_area'] = incidentsdf['intersection_area'].replace({'N/A': 'UNKNOWN'})\n",
    "inter_area = incidentsdf.intersection_area\n",
    "inter_area_uniques = inter_area.unique()\n",
    "inter_area_uniques"
   ]
  },
  {
   "cell_type": "code",
   "execution_count": 132,
   "metadata": {},
   "outputs": [
    {
     "data": {
      "text/plain": [
       "array(['STRAIGHT', 'CURVE LEFT', nan, 'CURVE RIGHT', 'OTHER', 'N/A',\n",
       "       'UNKNOWN'], dtype=object)"
      ]
     },
     "execution_count": 132,
     "metadata": {},
     "output_type": "execute_result"
    }
   ],
   "source": [
    "align = incidentsdf.road_alignment\n",
    "align_uniques = align.unique()\n",
    "align_uniques"
   ]
  },
  {
   "cell_type": "code",
   "execution_count": 133,
   "metadata": {},
   "outputs": [
    {
     "data": {
      "text/plain": [
       "array(['STRAIGHT', 'CURVE LEFT', 'UNKNOWN', 'CURVE RIGHT', 'OTHER'],\n",
       "      dtype=object)"
      ]
     },
     "execution_count": 133,
     "metadata": {},
     "output_type": "execute_result"
    }
   ],
   "source": [
    "#fill NaN replace N/A with 'unknown'\n",
    "incidentsdf['road_alignment'] = incidentsdf['road_alignment'].fillna('UNKNOWN')\n",
    "incidentsdf['road_alignment'] = incidentsdf['road_alignment'].replace({'N/A': 'UNKNOWN'})\n",
    "align = incidentsdf.road_alignment\n",
    "align_uniques = align.unique()\n",
    "align_uniques"
   ]
  },
  {
   "cell_type": "code",
   "execution_count": 134,
   "metadata": {},
   "outputs": [
    {
     "data": {
      "text/plain": [
       "array(['NO DEFECTS', nan, 'UNKNOWN', 'N/A', 'HOLES RUTS ETC',\n",
       "       'VIEW OBSTRUCTED', 'OTHER', 'LOOSE SURFACE MATERIAL',\n",
       "       'FOREIGN MATERIAL'], dtype=object)"
      ]
     },
     "execution_count": 134,
     "metadata": {},
     "output_type": "execute_result"
    }
   ],
   "source": [
    "condition = incidentsdf.road_condition\n",
    "condition_uniques = condition.unique()\n",
    "condition_uniques"
   ]
  },
  {
   "cell_type": "code",
   "execution_count": 135,
   "metadata": {},
   "outputs": [
    {
     "data": {
      "text/plain": [
       "array(['NO DEFECTS', 'UNKNOWN', 'HOLES RUTS ETC', 'VIEW OBSTRUCTED',\n",
       "       'OTHER', 'LOOSE SURFACE MATERIAL', 'FOREIGN MATERIAL'],\n",
       "      dtype=object)"
      ]
     },
     "execution_count": 135,
     "metadata": {},
     "output_type": "execute_result"
    }
   ],
   "source": [
    "#fill NaN replace N/A with 'unknown'\n",
    "incidentsdf['road_condition'] = incidentsdf['road_condition'].fillna('UNKNOWN')\n",
    "incidentsdf['road_condition'] = incidentsdf['road_condition'].replace({'N/A': 'UNKNOWN'})\n",
    "condition = incidentsdf.road_condition\n",
    "condition_uniques = condition.unique()\n",
    "condition_uniques"
   ]
  },
  {
   "cell_type": "code",
   "execution_count": 136,
   "metadata": {},
   "outputs": [
    {
     "data": {
      "text/plain": [
       "array(['TWO-WAY, DIVIDED, POSITIVE MEDIAN BARRIER',\n",
       "       'TWO-WAY, NOT DIVIDED',\n",
       "       'TWO-WAY, DIVIDED, UNPROTECTED PAINTED MIN 4 FEET', nan,\n",
       "       'TWO-WAY, NOT DIVIDED WITH A CONTINUOUS LEFT TURN', 'N/A',\n",
       "       'ONE-WAY TRAFFICWAY', 'OTHER', 'UNKNOWN'], dtype=object)"
      ]
     },
     "execution_count": 136,
     "metadata": {},
     "output_type": "execute_result"
    }
   ],
   "source": [
    "division = incidentsdf.road_division\n",
    "division_uniques = division.unique()\n",
    "division_uniques"
   ]
  },
  {
   "cell_type": "code",
   "execution_count": 137,
   "metadata": {},
   "outputs": [
    {
     "data": {
      "text/plain": [
       "array(['TWO-WAY, DIVIDED, POSITIVE MEDIAN BARRIER',\n",
       "       'TWO-WAY, NOT DIVIDED',\n",
       "       'TWO-WAY, DIVIDED, UNPROTECTED PAINTED MIN 4 FEET', 'UNKNOWN',\n",
       "       'TWO-WAY, NOT DIVIDED WITH A CONTINUOUS LEFT TURN',\n",
       "       'ONE-WAY TRAFFICWAY', 'OTHER'], dtype=object)"
      ]
     },
     "execution_count": 137,
     "metadata": {},
     "output_type": "execute_result"
    }
   ],
   "source": [
    "#fill NaN replace N/A with 'unknown'\n",
    "incidentsdf['road_division'] = incidentsdf['road_division'].fillna('UNKNOWN')\n",
    "incidentsdf['road_division'] = incidentsdf['road_division'].replace({'N/A': 'UNKNOWN'})\n",
    "division = incidentsdf.road_division\n",
    "division_uniques = division.unique()\n",
    "division_uniques"
   ]
  },
  {
   "cell_type": "markdown",
   "metadata": {},
   "source": [
    "#### Begin cleaning non-motorist info dataframe\n",
    "\n",
    "First, examine the information about the dataframe."
   ]
  },
  {
   "cell_type": "code",
   "execution_count": 138,
   "metadata": {},
   "outputs": [
    {
     "name": "stdout",
     "output_type": "stream",
     "text": [
      "<class 'pandas.core.frame.DataFrame'>\n",
      "RangeIndex: 1000 entries, 0 to 999\n",
      "Data columns (total 39 columns):\n",
      " #   Column                            Non-Null Count  Dtype \n",
      "---  ------                            --------------  ----- \n",
      " 0   report_number                     1000 non-null   object\n",
      " 1   local_case_number                 1000 non-null   object\n",
      " 2   agency_name                       1000 non-null   object\n",
      " 3   acrs_report_type                  1000 non-null   object\n",
      " 4   crash_date_time                   1000 non-null   object\n",
      " 5   off_road_description              225 non-null    object\n",
      " 6   related_non_motorist              1000 non-null   object\n",
      " 7   collision_type                    1000 non-null   object\n",
      " 8   weather                           1000 non-null   object\n",
      " 9   light                             1000 non-null   object\n",
      " 10  traffic_control                   1000 non-null   object\n",
      " 11  driver_substance_abuse            984 non-null    object\n",
      " 12  non_motorist_substance_abuse      1000 non-null   object\n",
      " 13  person_id                         1000 non-null   object\n",
      " 14  pedestrian_type                   1000 non-null   object\n",
      " 15  pedestrian_movement               1000 non-null   object\n",
      " 16  pedestrian_actions                1000 non-null   object\n",
      " 17  pedestrian_location               1000 non-null   object\n",
      " 18  pedestrian_obeyed_traffic_signal  1000 non-null   object\n",
      " 19  pedestrian_visibility             1000 non-null   object\n",
      " 20  at_fault                          1000 non-null   object\n",
      " 21  injury_severity                   1000 non-null   object\n",
      " 22  safety_equipment                  1000 non-null   object\n",
      " 23  latitude                          1000 non-null   object\n",
      " 24  longitude                         1000 non-null   object\n",
      " 25  geolocation                       1000 non-null   object\n",
      " 26  :@computed_region_vu5j_pcmz       997 non-null    object\n",
      " 27  :@computed_region_tx5f_5em3       997 non-null    object\n",
      " 28  :@computed_region_kbsp_ykn9       995 non-null    object\n",
      " 29  :@computed_region_d7bw_bq6x       999 non-null    object\n",
      " 30  :@computed_region_rbt8_3x7n       997 non-null    object\n",
      " 31  :@computed_region_a9cs_3ed7       997 non-null    object\n",
      " 32  :@computed_region_r648_kzwt       998 non-null    object\n",
      " 33  route_type                        759 non-null    object\n",
      " 34  road_name                         775 non-null    object\n",
      " 35  cross_street_type                 759 non-null    object\n",
      " 36  cross_street_name                 775 non-null    object\n",
      " 37  municipality                      775 non-null    object\n",
      " 38  surface_condition                 775 non-null    object\n",
      "dtypes: object(39)\n",
      "memory usage: 304.8+ KB\n"
     ]
    }
   ],
   "source": [
    "nonmotoristdf.info()"
   ]
  },
  {
   "cell_type": "markdown",
   "metadata": {},
   "source": [
    "#### Convert date-time objects to datetime format"
   ]
  },
  {
   "cell_type": "code",
   "execution_count": 139,
   "metadata": {},
   "outputs": [],
   "source": [
    "nonmotoristdf['crash_date_time'] = pd.to_datetime(nonmotoristdf['crash_date_time']) "
   ]
  },
  {
   "cell_type": "code",
   "execution_count": 140,
   "metadata": {},
   "outputs": [
    {
     "name": "stdout",
     "output_type": "stream",
     "text": [
      "<class 'pandas.core.frame.DataFrame'>\n",
      "RangeIndex: 1000 entries, 0 to 999\n",
      "Data columns (total 39 columns):\n",
      " #   Column                            Non-Null Count  Dtype         \n",
      "---  ------                            --------------  -----         \n",
      " 0   report_number                     1000 non-null   object        \n",
      " 1   local_case_number                 1000 non-null   object        \n",
      " 2   agency_name                       1000 non-null   object        \n",
      " 3   acrs_report_type                  1000 non-null   object        \n",
      " 4   crash_date_time                   1000 non-null   datetime64[ns]\n",
      " 5   off_road_description              225 non-null    object        \n",
      " 6   related_non_motorist              1000 non-null   object        \n",
      " 7   collision_type                    1000 non-null   object        \n",
      " 8   weather                           1000 non-null   object        \n",
      " 9   light                             1000 non-null   object        \n",
      " 10  traffic_control                   1000 non-null   object        \n",
      " 11  driver_substance_abuse            984 non-null    object        \n",
      " 12  non_motorist_substance_abuse      1000 non-null   object        \n",
      " 13  person_id                         1000 non-null   object        \n",
      " 14  pedestrian_type                   1000 non-null   object        \n",
      " 15  pedestrian_movement               1000 non-null   object        \n",
      " 16  pedestrian_actions                1000 non-null   object        \n",
      " 17  pedestrian_location               1000 non-null   object        \n",
      " 18  pedestrian_obeyed_traffic_signal  1000 non-null   object        \n",
      " 19  pedestrian_visibility             1000 non-null   object        \n",
      " 20  at_fault                          1000 non-null   object        \n",
      " 21  injury_severity                   1000 non-null   object        \n",
      " 22  safety_equipment                  1000 non-null   object        \n",
      " 23  latitude                          1000 non-null   object        \n",
      " 24  longitude                         1000 non-null   object        \n",
      " 25  geolocation                       1000 non-null   object        \n",
      " 26  :@computed_region_vu5j_pcmz       997 non-null    object        \n",
      " 27  :@computed_region_tx5f_5em3       997 non-null    object        \n",
      " 28  :@computed_region_kbsp_ykn9       995 non-null    object        \n",
      " 29  :@computed_region_d7bw_bq6x       999 non-null    object        \n",
      " 30  :@computed_region_rbt8_3x7n       997 non-null    object        \n",
      " 31  :@computed_region_a9cs_3ed7       997 non-null    object        \n",
      " 32  :@computed_region_r648_kzwt       998 non-null    object        \n",
      " 33  route_type                        759 non-null    object        \n",
      " 34  road_name                         775 non-null    object        \n",
      " 35  cross_street_type                 759 non-null    object        \n",
      " 36  cross_street_name                 775 non-null    object        \n",
      " 37  municipality                      775 non-null    object        \n",
      " 38  surface_condition                 775 non-null    object        \n",
      "dtypes: datetime64[ns](1), object(38)\n",
      "memory usage: 304.8+ KB\n"
     ]
    }
   ],
   "source": [
    "nonmotoristdf.info()"
   ]
  },
  {
   "cell_type": "markdown",
   "metadata": {},
   "source": [
    "Remove the columns I know I don't want"
   ]
  },
  {
   "cell_type": "code",
   "execution_count": 142,
   "metadata": {},
   "outputs": [],
   "source": [
    "# I already know from the driver's info that I'm not interested in columns 26 through 32, so I will drop them now.\n",
    "nonmotoristdf.drop(nonmotoristdf.iloc[:, 26:33], inplace = True, axis = 1)"
   ]
  },
  {
   "cell_type": "code",
   "execution_count": 143,
   "metadata": {},
   "outputs": [
    {
     "name": "stdout",
     "output_type": "stream",
     "text": [
      "<class 'pandas.core.frame.DataFrame'>\n",
      "RangeIndex: 1000 entries, 0 to 999\n",
      "Data columns (total 32 columns):\n",
      " #   Column                            Non-Null Count  Dtype         \n",
      "---  ------                            --------------  -----         \n",
      " 0   report_number                     1000 non-null   object        \n",
      " 1   local_case_number                 1000 non-null   object        \n",
      " 2   agency_name                       1000 non-null   object        \n",
      " 3   acrs_report_type                  1000 non-null   object        \n",
      " 4   crash_date_time                   1000 non-null   datetime64[ns]\n",
      " 5   off_road_description              225 non-null    object        \n",
      " 6   related_non_motorist              1000 non-null   object        \n",
      " 7   collision_type                    1000 non-null   object        \n",
      " 8   weather                           1000 non-null   object        \n",
      " 9   light                             1000 non-null   object        \n",
      " 10  traffic_control                   1000 non-null   object        \n",
      " 11  driver_substance_abuse            984 non-null    object        \n",
      " 12  non_motorist_substance_abuse      1000 non-null   object        \n",
      " 13  person_id                         1000 non-null   object        \n",
      " 14  pedestrian_type                   1000 non-null   object        \n",
      " 15  pedestrian_movement               1000 non-null   object        \n",
      " 16  pedestrian_actions                1000 non-null   object        \n",
      " 17  pedestrian_location               1000 non-null   object        \n",
      " 18  pedestrian_obeyed_traffic_signal  1000 non-null   object        \n",
      " 19  pedestrian_visibility             1000 non-null   object        \n",
      " 20  at_fault                          1000 non-null   object        \n",
      " 21  injury_severity                   1000 non-null   object        \n",
      " 22  safety_equipment                  1000 non-null   object        \n",
      " 23  latitude                          1000 non-null   object        \n",
      " 24  longitude                         1000 non-null   object        \n",
      " 25  geolocation                       1000 non-null   object        \n",
      " 26  route_type                        759 non-null    object        \n",
      " 27  road_name                         775 non-null    object        \n",
      " 28  cross_street_type                 759 non-null    object        \n",
      " 29  cross_street_name                 775 non-null    object        \n",
      " 30  municipality                      775 non-null    object        \n",
      " 31  surface_condition                 775 non-null    object        \n",
      "dtypes: datetime64[ns](1), object(31)\n",
      "memory usage: 250.1+ KB\n"
     ]
    }
   ],
   "source": [
    "nonmotoristdf.info()"
   ]
  },
  {
   "cell_type": "markdown",
   "metadata": {},
   "source": [
    "#### Clean up the dataset\n",
    "Check for duplicates and remove as necessary  \n",
    "Check for consistency of entries within columns"
   ]
  },
  {
   "cell_type": "code",
   "execution_count": 145,
   "metadata": {},
   "outputs": [
    {
     "data": {
      "text/plain": [
       "965"
      ]
     },
     "execution_count": 145,
     "metadata": {},
     "output_type": "execute_result"
    }
   ],
   "source": [
    "nonmotoristrprts = nonmotoristdf.report_number\n",
    "nonmotoristrprts.nunique()"
   ]
  },
  {
   "cell_type": "markdown",
   "metadata": {},
   "source": [
    "There seem to be duplicates, which is the same situation with the driver df above."
   ]
  },
  {
   "cell_type": "code",
   "execution_count": 146,
   "metadata": {},
   "outputs": [
    {
     "data": {
      "text/html": [
       "<div>\n",
       "<style scoped>\n",
       "    .dataframe tbody tr th:only-of-type {\n",
       "        vertical-align: middle;\n",
       "    }\n",
       "\n",
       "    .dataframe tbody tr th {\n",
       "        vertical-align: top;\n",
       "    }\n",
       "\n",
       "    .dataframe thead th {\n",
       "        text-align: right;\n",
       "    }\n",
       "</style>\n",
       "<table border=\"1\" class=\"dataframe\">\n",
       "  <thead>\n",
       "    <tr style=\"text-align: right;\">\n",
       "      <th></th>\n",
       "      <th>report_number</th>\n",
       "      <th>local_case_number</th>\n",
       "      <th>agency_name</th>\n",
       "      <th>acrs_report_type</th>\n",
       "      <th>crash_date_time</th>\n",
       "      <th>off_road_description</th>\n",
       "      <th>related_non_motorist</th>\n",
       "      <th>collision_type</th>\n",
       "      <th>weather</th>\n",
       "      <th>light</th>\n",
       "      <th>...</th>\n",
       "      <th>safety_equipment</th>\n",
       "      <th>latitude</th>\n",
       "      <th>longitude</th>\n",
       "      <th>geolocation</th>\n",
       "      <th>route_type</th>\n",
       "      <th>road_name</th>\n",
       "      <th>cross_street_type</th>\n",
       "      <th>cross_street_name</th>\n",
       "      <th>municipality</th>\n",
       "      <th>surface_condition</th>\n",
       "    </tr>\n",
       "  </thead>\n",
       "  <tbody>\n",
       "    <tr>\n",
       "      <th>67</th>\n",
       "      <td>EJ7866009J</td>\n",
       "      <td>200048190</td>\n",
       "      <td>Gaithersburg Police Depar</td>\n",
       "      <td>Injury Crash</td>\n",
       "      <td>2020-12-07 12:08:00</td>\n",
       "      <td>NaN</td>\n",
       "      <td>PEDESTRIAN</td>\n",
       "      <td>OTHER</td>\n",
       "      <td>CLEAR</td>\n",
       "      <td>DAYLIGHT</td>\n",
       "      <td>...</td>\n",
       "      <td>NONE</td>\n",
       "      <td>39.14851765</td>\n",
       "      <td>-77.19946173</td>\n",
       "      <td>{'latitude': '39.14851765', 'longitude': '-77....</td>\n",
       "      <td>Municipality</td>\n",
       "      <td>RUSSELL AVE</td>\n",
       "      <td>Municipality</td>\n",
       "      <td>MARYLAND AVE</td>\n",
       "      <td>GAITHERSBURG</td>\n",
       "      <td>DRY</td>\n",
       "    </tr>\n",
       "    <tr>\n",
       "      <th>149</th>\n",
       "      <td>MCP3121003M</td>\n",
       "      <td>200039969</td>\n",
       "      <td>Montgomery County Police</td>\n",
       "      <td>Property Damage Crash</td>\n",
       "      <td>2020-10-10 20:00:00</td>\n",
       "      <td>IFO 19508 BURLINGAME WAY MONTGOMERY VILLAGE MD...</td>\n",
       "      <td>PEDESTRIAN</td>\n",
       "      <td>HEAD ON</td>\n",
       "      <td>CLEAR</td>\n",
       "      <td>DARK LIGHTS ON</td>\n",
       "      <td>...</td>\n",
       "      <td>NONE</td>\n",
       "      <td>39.17551415</td>\n",
       "      <td>-77.21163542</td>\n",
       "      <td>{'latitude': '39.17551415', 'longitude': '-77....</td>\n",
       "      <td>NaN</td>\n",
       "      <td>NaN</td>\n",
       "      <td>NaN</td>\n",
       "      <td>NaN</td>\n",
       "      <td>NaN</td>\n",
       "      <td>NaN</td>\n",
       "    </tr>\n",
       "    <tr>\n",
       "      <th>193</th>\n",
       "      <td>MCP3121003L</td>\n",
       "      <td>200036654</td>\n",
       "      <td>Montgomery County Police</td>\n",
       "      <td>Injury Crash</td>\n",
       "      <td>2020-09-18 18:07:00</td>\n",
       "      <td>PARKING LOT IFO 19218 MONTGOMERY VILLAGE AVE</td>\n",
       "      <td>PEDESTRIAN</td>\n",
       "      <td>OTHER</td>\n",
       "      <td>CLEAR</td>\n",
       "      <td>DAYLIGHT</td>\n",
       "      <td>...</td>\n",
       "      <td>NONE</td>\n",
       "      <td>39.172195</td>\n",
       "      <td>-77.204985</td>\n",
       "      <td>{'latitude': '39.172195', 'longitude': '-77.20...</td>\n",
       "      <td>NaN</td>\n",
       "      <td>NaN</td>\n",
       "      <td>NaN</td>\n",
       "      <td>NaN</td>\n",
       "      <td>NaN</td>\n",
       "      <td>NaN</td>\n",
       "    </tr>\n",
       "    <tr>\n",
       "      <th>199</th>\n",
       "      <td>MCP30050055</td>\n",
       "      <td>200036016</td>\n",
       "      <td>Montgomery County Police</td>\n",
       "      <td>Injury Crash</td>\n",
       "      <td>2020-09-14 14:30:00</td>\n",
       "      <td>NaN</td>\n",
       "      <td>MACHINE OPERATOR/RIDER</td>\n",
       "      <td>SINGLE VEHICLE</td>\n",
       "      <td>N/A</td>\n",
       "      <td>DAYLIGHT</td>\n",
       "      <td>...</td>\n",
       "      <td>NONE</td>\n",
       "      <td>39.03915333</td>\n",
       "      <td>-77.027725</td>\n",
       "      <td>{'latitude': '39.03915333', 'longitude': '-77....</td>\n",
       "      <td>County</td>\n",
       "      <td>ARCOLA AVE</td>\n",
       "      <td>County</td>\n",
       "      <td>KENBROOK DR</td>\n",
       "      <td>N/A</td>\n",
       "      <td>DRY</td>\n",
       "    </tr>\n",
       "    <tr>\n",
       "      <th>221</th>\n",
       "      <td>MCP271700SD</td>\n",
       "      <td>200034582</td>\n",
       "      <td>Montgomery County Police</td>\n",
       "      <td>Injury Crash</td>\n",
       "      <td>2020-09-03 20:30:00</td>\n",
       "      <td>NaN</td>\n",
       "      <td>PEDESTRIAN</td>\n",
       "      <td>OTHER</td>\n",
       "      <td>CLOUDY</td>\n",
       "      <td>DARK LIGHTS ON</td>\n",
       "      <td>...</td>\n",
       "      <td>NONE</td>\n",
       "      <td>38.99764383</td>\n",
       "      <td>-77.10979817</td>\n",
       "      <td>{'latitude': '38.99764383', 'longitude': '-77....</td>\n",
       "      <td>Maryland (State)</td>\n",
       "      <td>UNIVERSITY BLVD W</td>\n",
       "      <td>County</td>\n",
       "      <td>ST PAUL ST</td>\n",
       "      <td>N/A</td>\n",
       "      <td>WET</td>\n",
       "    </tr>\n",
       "    <tr>\n",
       "      <th>253</th>\n",
       "      <td>MCP3226000R</td>\n",
       "      <td>200031559</td>\n",
       "      <td>Montgomery County Police</td>\n",
       "      <td>Property Damage Crash</td>\n",
       "      <td>2020-08-13 16:33:00</td>\n",
       "      <td>NaN</td>\n",
       "      <td>OTHER</td>\n",
       "      <td>SINGLE VEHICLE</td>\n",
       "      <td>CLEAR</td>\n",
       "      <td>DAYLIGHT</td>\n",
       "      <td>...</td>\n",
       "      <td>N/A</td>\n",
       "      <td>39.13754267</td>\n",
       "      <td>-76.980728</td>\n",
       "      <td>{'latitude': '39.13754267', 'longitude': '-76....</td>\n",
       "      <td>County</td>\n",
       "      <td>EDNOR RD</td>\n",
       "      <td>Other Public Roadway</td>\n",
       "      <td>HAW LA</td>\n",
       "      <td>N/A</td>\n",
       "      <td>DRY</td>\n",
       "    </tr>\n",
       "    <tr>\n",
       "      <th>264</th>\n",
       "      <td>MCP2239001N</td>\n",
       "      <td>200030242</td>\n",
       "      <td>Montgomery County Police</td>\n",
       "      <td>Injury Crash</td>\n",
       "      <td>2020-08-04 13:24:00</td>\n",
       "      <td>NaN</td>\n",
       "      <td>BICYCLIST</td>\n",
       "      <td>OTHER</td>\n",
       "      <td>CLEAR</td>\n",
       "      <td>DAYLIGHT</td>\n",
       "      <td>...</td>\n",
       "      <td>MC/BIKE HELMET</td>\n",
       "      <td>39.04253167</td>\n",
       "      <td>-77.15936333</td>\n",
       "      <td>{'latitude': '39.04253167', 'longitude': '-77....</td>\n",
       "      <td>County</td>\n",
       "      <td>SEVEN LOCKS RD</td>\n",
       "      <td>Other Public Roadway</td>\n",
       "      <td>CODDLE HARBOR LA</td>\n",
       "      <td>N/A</td>\n",
       "      <td>DRY</td>\n",
       "    </tr>\n",
       "    <tr>\n",
       "      <th>301</th>\n",
       "      <td>MCP2008007X</td>\n",
       "      <td>200027535</td>\n",
       "      <td>Montgomery County Police</td>\n",
       "      <td>Injury Crash</td>\n",
       "      <td>2020-07-15 19:04:00</td>\n",
       "      <td>NaN</td>\n",
       "      <td>BICYCLIST, PEDESTRIAN</td>\n",
       "      <td>OTHER</td>\n",
       "      <td>CLEAR</td>\n",
       "      <td>DAYLIGHT</td>\n",
       "      <td>...</td>\n",
       "      <td>MC/BIKE HELMET</td>\n",
       "      <td>39.01972667</td>\n",
       "      <td>-77.09671</td>\n",
       "      <td>{'latitude': '39.01972667', 'longitude': '-77....</td>\n",
       "      <td>County</td>\n",
       "      <td>FRANKLIN ST</td>\n",
       "      <td>County</td>\n",
       "      <td>PARKWOOD DR</td>\n",
       "      <td>N/A</td>\n",
       "      <td>DRY</td>\n",
       "    </tr>\n",
       "    <tr>\n",
       "      <th>325</th>\n",
       "      <td>MCP26030038</td>\n",
       "      <td>200024788</td>\n",
       "      <td>Montgomery County Police</td>\n",
       "      <td>Injury Crash</td>\n",
       "      <td>2020-06-25 11:18:00</td>\n",
       "      <td>NaN</td>\n",
       "      <td>PEDESTRIAN</td>\n",
       "      <td>SINGLE VEHICLE</td>\n",
       "      <td>CLOUDY</td>\n",
       "      <td>DAYLIGHT</td>\n",
       "      <td>...</td>\n",
       "      <td>NONE</td>\n",
       "      <td>39.15834667</td>\n",
       "      <td>-77.204405</td>\n",
       "      <td>{'latitude': '39.15834667', 'longitude': '-77....</td>\n",
       "      <td>Maryland (State)</td>\n",
       "      <td>MONTGOMERY VILLAGE AVE</td>\n",
       "      <td>Unknown</td>\n",
       "      <td>SPUR TO CHRISTOPHER AVE</td>\n",
       "      <td>N/A</td>\n",
       "      <td>DRY</td>\n",
       "    </tr>\n",
       "    <tr>\n",
       "      <th>351</th>\n",
       "      <td>MCP1453008J</td>\n",
       "      <td>200022504</td>\n",
       "      <td>Montgomery County Police</td>\n",
       "      <td>Injury Crash</td>\n",
       "      <td>2020-06-08 08:54:00</td>\n",
       "      <td>NaN</td>\n",
       "      <td>PEDESTRIAN</td>\n",
       "      <td>SINGLE VEHICLE</td>\n",
       "      <td>CLEAR</td>\n",
       "      <td>DAYLIGHT</td>\n",
       "      <td>...</td>\n",
       "      <td>NONE</td>\n",
       "      <td>39.18655833</td>\n",
       "      <td>-77.27381</td>\n",
       "      <td>{'latitude': '39.18655833', 'longitude': '-77....</td>\n",
       "      <td>County</td>\n",
       "      <td>WYNNFIELD DR</td>\n",
       "      <td>County</td>\n",
       "      <td>FATHER HURLEY BLVD</td>\n",
       "      <td>N/A</td>\n",
       "      <td>DRY</td>\n",
       "    </tr>\n",
       "    <tr>\n",
       "      <th>391</th>\n",
       "      <td>MCP3224000G</td>\n",
       "      <td>200016841</td>\n",
       "      <td>Montgomery County Police</td>\n",
       "      <td>Injury Crash</td>\n",
       "      <td>2020-04-22 20:28:00</td>\n",
       "      <td>NaN</td>\n",
       "      <td>PEDESTRIAN</td>\n",
       "      <td>HEAD ON LEFT TURN</td>\n",
       "      <td>CLEAR</td>\n",
       "      <td>DARK LIGHTS ON</td>\n",
       "      <td>...</td>\n",
       "      <td>N/A</td>\n",
       "      <td>39.05413699</td>\n",
       "      <td>-76.97366375</td>\n",
       "      <td>{'latitude': '39.05413699', 'longitude': '-76....</td>\n",
       "      <td>County</td>\n",
       "      <td>OLD COLUMBIA PIKE</td>\n",
       "      <td>Unknown</td>\n",
       "      <td>AMBERSTONE CT</td>\n",
       "      <td>N/A</td>\n",
       "      <td>DRY</td>\n",
       "    </tr>\n",
       "    <tr>\n",
       "      <th>392</th>\n",
       "      <td>MCP3224000G</td>\n",
       "      <td>200016841</td>\n",
       "      <td>Montgomery County Police</td>\n",
       "      <td>Injury Crash</td>\n",
       "      <td>2020-04-22 20:28:00</td>\n",
       "      <td>NaN</td>\n",
       "      <td>PEDESTRIAN</td>\n",
       "      <td>HEAD ON LEFT TURN</td>\n",
       "      <td>CLEAR</td>\n",
       "      <td>DARK LIGHTS ON</td>\n",
       "      <td>...</td>\n",
       "      <td>N/A</td>\n",
       "      <td>39.05413699</td>\n",
       "      <td>-76.97366375</td>\n",
       "      <td>{'latitude': '39.05413699', 'longitude': '-76....</td>\n",
       "      <td>County</td>\n",
       "      <td>OLD COLUMBIA PIKE</td>\n",
       "      <td>Unknown</td>\n",
       "      <td>AMBERSTONE CT</td>\n",
       "      <td>N/A</td>\n",
       "      <td>DRY</td>\n",
       "    </tr>\n",
       "    <tr>\n",
       "      <th>432</th>\n",
       "      <td>MCP1002000Y</td>\n",
       "      <td>200011326</td>\n",
       "      <td>Montgomery County Police</td>\n",
       "      <td>Injury Crash</td>\n",
       "      <td>2020-03-07 17:00:00</td>\n",
       "      <td>PARKING LOT IN FRONT OF 516 N FREDERICK RD</td>\n",
       "      <td>PEDESTRIAN</td>\n",
       "      <td>SINGLE VEHICLE</td>\n",
       "      <td>CLEAR</td>\n",
       "      <td>DAYLIGHT</td>\n",
       "      <td>...</td>\n",
       "      <td>NONE</td>\n",
       "      <td>39.14788</td>\n",
       "      <td>-77.2091</td>\n",
       "      <td>{'latitude': '39.14788', 'longitude': '-77.209...</td>\n",
       "      <td>NaN</td>\n",
       "      <td>NaN</td>\n",
       "      <td>NaN</td>\n",
       "      <td>NaN</td>\n",
       "      <td>NaN</td>\n",
       "      <td>NaN</td>\n",
       "    </tr>\n",
       "    <tr>\n",
       "      <th>443</th>\n",
       "      <td>MCP2853007B</td>\n",
       "      <td>200009971</td>\n",
       "      <td>Montgomery County Police</td>\n",
       "      <td>Injury Crash</td>\n",
       "      <td>2020-02-28 18:10:00</td>\n",
       "      <td>NaN</td>\n",
       "      <td>PEDESTRIAN</td>\n",
       "      <td>OTHER</td>\n",
       "      <td>CLEAR</td>\n",
       "      <td>DARK LIGHTS ON</td>\n",
       "      <td>...</td>\n",
       "      <td>N/A</td>\n",
       "      <td>39.021095</td>\n",
       "      <td>-76.976515</td>\n",
       "      <td>{'latitude': '39.021095', 'longitude': '-76.97...</td>\n",
       "      <td>County</td>\n",
       "      <td>ELTON RD</td>\n",
       "      <td>Maryland (State)</td>\n",
       "      <td>NEW HAMPSHIRE AVE</td>\n",
       "      <td>N/A</td>\n",
       "      <td>DRY</td>\n",
       "    </tr>\n",
       "    <tr>\n",
       "      <th>489</th>\n",
       "      <td>MCP1305003Z</td>\n",
       "      <td>200006511</td>\n",
       "      <td>Montgomery County Police</td>\n",
       "      <td>Property Damage Crash</td>\n",
       "      <td>2020-02-08 14:52:00</td>\n",
       "      <td>PARKING LOT AT 22 TINDALL SRPINGS CT</td>\n",
       "      <td>OTHER</td>\n",
       "      <td>OTHER</td>\n",
       "      <td>CLEAR</td>\n",
       "      <td>DAYLIGHT</td>\n",
       "      <td>...</td>\n",
       "      <td>N/A</td>\n",
       "      <td>39.18515167</td>\n",
       "      <td>-77.17692833</td>\n",
       "      <td>{'latitude': '39.18515167', 'longitude': '-77....</td>\n",
       "      <td>NaN</td>\n",
       "      <td>NaN</td>\n",
       "      <td>NaN</td>\n",
       "      <td>NaN</td>\n",
       "      <td>NaN</td>\n",
       "      <td>NaN</td>\n",
       "    </tr>\n",
       "    <tr>\n",
       "      <th>526</th>\n",
       "      <td>MCP3163002J</td>\n",
       "      <td>200003614</td>\n",
       "      <td>Montgomery County Police</td>\n",
       "      <td>Injury Crash</td>\n",
       "      <td>2020-01-22 15:30:00</td>\n",
       "      <td>NaN</td>\n",
       "      <td>PEDESTRIAN</td>\n",
       "      <td>HEAD ON LEFT TURN</td>\n",
       "      <td>N/A</td>\n",
       "      <td>DAYLIGHT</td>\n",
       "      <td>...</td>\n",
       "      <td>N/A</td>\n",
       "      <td>38.961452</td>\n",
       "      <td>-77.106857</td>\n",
       "      <td>{'latitude': '38.961452', 'longitude': '-77.10...</td>\n",
       "      <td>County</td>\n",
       "      <td>WESTBARD AVE</td>\n",
       "      <td>County</td>\n",
       "      <td>RIDGEFIELD RD</td>\n",
       "      <td>N/A</td>\n",
       "      <td>DRY</td>\n",
       "    </tr>\n",
       "    <tr>\n",
       "      <th>528</th>\n",
       "      <td>MCP3012005Z</td>\n",
       "      <td>200003610</td>\n",
       "      <td>Montgomery County Police</td>\n",
       "      <td>Injury Crash</td>\n",
       "      <td>2020-01-22 15:03:00</td>\n",
       "      <td>NaN</td>\n",
       "      <td>PEDESTRIAN</td>\n",
       "      <td>OTHER</td>\n",
       "      <td>CLEAR</td>\n",
       "      <td>DAYLIGHT</td>\n",
       "      <td>...</td>\n",
       "      <td>N/A</td>\n",
       "      <td>39.06811736</td>\n",
       "      <td>-77.0608396</td>\n",
       "      <td>{'latitude': '39.06811736', 'longitude': '-77....</td>\n",
       "      <td>Maryland (State)</td>\n",
       "      <td>GEORGIA AVE</td>\n",
       "      <td>County</td>\n",
       "      <td>HATHAWAY DR</td>\n",
       "      <td>N/A</td>\n",
       "      <td>DRY</td>\n",
       "    </tr>\n",
       "    <tr>\n",
       "      <th>582</th>\n",
       "      <td>MCP2347002H</td>\n",
       "      <td>190061641</td>\n",
       "      <td>Montgomery County Police</td>\n",
       "      <td>Injury Crash</td>\n",
       "      <td>2019-12-22 13:41:00</td>\n",
       "      <td>2144 INDUSTRIAL PARKWAY PARKING LOT</td>\n",
       "      <td>PEDESTRIAN</td>\n",
       "      <td>N/A</td>\n",
       "      <td>CLEAR</td>\n",
       "      <td>DAYLIGHT</td>\n",
       "      <td>...</td>\n",
       "      <td>NONE</td>\n",
       "      <td>39.054455</td>\n",
       "      <td>-76.96905333</td>\n",
       "      <td>{'latitude': '39.054455', 'longitude': '-76.96...</td>\n",
       "      <td>NaN</td>\n",
       "      <td>NaN</td>\n",
       "      <td>NaN</td>\n",
       "      <td>NaN</td>\n",
       "      <td>NaN</td>\n",
       "      <td>NaN</td>\n",
       "    </tr>\n",
       "    <tr>\n",
       "      <th>593</th>\n",
       "      <td>EJ78650053</td>\n",
       "      <td>190060645</td>\n",
       "      <td>Gaithersburg Police Depar</td>\n",
       "      <td>Injury Crash</td>\n",
       "      <td>2019-12-16 18:45:00</td>\n",
       "      <td>PL OF 307 COPLEY PLACE</td>\n",
       "      <td>PEDESTRIAN</td>\n",
       "      <td>SINGLE VEHICLE</td>\n",
       "      <td>RAINING</td>\n",
       "      <td>DARK LIGHTS ON</td>\n",
       "      <td>...</td>\n",
       "      <td>N/A</td>\n",
       "      <td>39.11551</td>\n",
       "      <td>-77.208105</td>\n",
       "      <td>{'latitude': '39.11551', 'longitude': '-77.208...</td>\n",
       "      <td>NaN</td>\n",
       "      <td>NaN</td>\n",
       "      <td>NaN</td>\n",
       "      <td>NaN</td>\n",
       "      <td>NaN</td>\n",
       "      <td>NaN</td>\n",
       "    </tr>\n",
       "    <tr>\n",
       "      <th>623</th>\n",
       "      <td>MCP3132001W</td>\n",
       "      <td>190058472</td>\n",
       "      <td>Montgomery County Police</td>\n",
       "      <td>Injury Crash</td>\n",
       "      <td>2019-12-04 17:16:00</td>\n",
       "      <td>NaN</td>\n",
       "      <td>PEDESTRIAN</td>\n",
       "      <td>OTHER</td>\n",
       "      <td>CLOUDY</td>\n",
       "      <td>DARK NO LIGHTS</td>\n",
       "      <td>...</td>\n",
       "      <td>N/A</td>\n",
       "      <td>38.959845</td>\n",
       "      <td>-77.10820667</td>\n",
       "      <td>{'latitude': '38.959845', 'longitude': '-77.10...</td>\n",
       "      <td>County</td>\n",
       "      <td>WESTBARD AVE</td>\n",
       "      <td>County</td>\n",
       "      <td>CROWN ST</td>\n",
       "      <td>N/A</td>\n",
       "      <td>DRY</td>\n",
       "    </tr>\n",
       "    <tr>\n",
       "      <th>634</th>\n",
       "      <td>MCP3122002L</td>\n",
       "      <td>190057491</td>\n",
       "      <td>Montgomery County Police</td>\n",
       "      <td>Injury Crash</td>\n",
       "      <td>2019-11-28 23:25:00</td>\n",
       "      <td>PARKING LOT OF 2304 BLUERIDGE AVE</td>\n",
       "      <td>PEDESTRIAN</td>\n",
       "      <td>SINGLE VEHICLE</td>\n",
       "      <td>CLEAR</td>\n",
       "      <td>DARK LIGHTS ON</td>\n",
       "      <td>...</td>\n",
       "      <td>N/A</td>\n",
       "      <td>39.04272545</td>\n",
       "      <td>-77.04853504</td>\n",
       "      <td>{'latitude': '39.04272545', 'longitude': '-77....</td>\n",
       "      <td>NaN</td>\n",
       "      <td>NaN</td>\n",
       "      <td>NaN</td>\n",
       "      <td>NaN</td>\n",
       "      <td>NaN</td>\n",
       "      <td>NaN</td>\n",
       "    </tr>\n",
       "    <tr>\n",
       "      <th>639</th>\n",
       "      <td>MCP2689006G</td>\n",
       "      <td>190056912</td>\n",
       "      <td>Montgomery County Police</td>\n",
       "      <td>Injury Crash</td>\n",
       "      <td>2019-11-25 13:58:00</td>\n",
       "      <td>PARKING LOT OF 14921 SHADY GROVE RD</td>\n",
       "      <td>PEDESTRIAN</td>\n",
       "      <td>SINGLE VEHICLE</td>\n",
       "      <td>CLEAR</td>\n",
       "      <td>DAYLIGHT</td>\n",
       "      <td>...</td>\n",
       "      <td>NONE</td>\n",
       "      <td>39.09691989</td>\n",
       "      <td>-77.19311992</td>\n",
       "      <td>{'latitude': '39.09691989', 'longitude': '-77....</td>\n",
       "      <td>NaN</td>\n",
       "      <td>NaN</td>\n",
       "      <td>NaN</td>\n",
       "      <td>NaN</td>\n",
       "      <td>NaN</td>\n",
       "      <td>NaN</td>\n",
       "    </tr>\n",
       "    <tr>\n",
       "      <th>679</th>\n",
       "      <td>MCP26170087</td>\n",
       "      <td>190053280</td>\n",
       "      <td>Montgomery County Police</td>\n",
       "      <td>Injury Crash</td>\n",
       "      <td>2019-11-05 14:05:00</td>\n",
       "      <td>NaN</td>\n",
       "      <td>PEDESTRIAN</td>\n",
       "      <td>OTHER</td>\n",
       "      <td>CLEAR</td>\n",
       "      <td>DAYLIGHT</td>\n",
       "      <td>...</td>\n",
       "      <td>NONE</td>\n",
       "      <td>39.043475</td>\n",
       "      <td>-77.03062167</td>\n",
       "      <td>{'latitude': '39.043475', 'longitude': '-77.03...</td>\n",
       "      <td>County</td>\n",
       "      <td>ARCOLA AVE</td>\n",
       "      <td>County</td>\n",
       "      <td>KERSEY RD</td>\n",
       "      <td>N/A</td>\n",
       "      <td>DRY</td>\n",
       "    </tr>\n",
       "    <tr>\n",
       "      <th>728</th>\n",
       "      <td>MCP3206000T</td>\n",
       "      <td>190049500</td>\n",
       "      <td>Montgomery County Police</td>\n",
       "      <td>Injury Crash</td>\n",
       "      <td>2019-10-16 17:30:00</td>\n",
       "      <td>NaN</td>\n",
       "      <td>PEDESTRIAN</td>\n",
       "      <td>OTHER</td>\n",
       "      <td>CLEAR</td>\n",
       "      <td>DAYLIGHT</td>\n",
       "      <td>...</td>\n",
       "      <td>N/A</td>\n",
       "      <td>38.99871335</td>\n",
       "      <td>-76.99901076</td>\n",
       "      <td>{'latitude': '38.99871335', 'longitude': '-76....</td>\n",
       "      <td>Maryland (State)</td>\n",
       "      <td>PINEY BRANCH RD</td>\n",
       "      <td>County</td>\n",
       "      <td>GARLAND AVE</td>\n",
       "      <td>N/A</td>\n",
       "      <td>DRY</td>\n",
       "    </tr>\n",
       "    <tr>\n",
       "      <th>739</th>\n",
       "      <td>MCP31560011</td>\n",
       "      <td>190048989</td>\n",
       "      <td>Montgomery County Police</td>\n",
       "      <td>Injury Crash</td>\n",
       "      <td>2019-10-12 01:03:00</td>\n",
       "      <td>NaN</td>\n",
       "      <td>PEDESTRIAN</td>\n",
       "      <td>SINGLE VEHICLE</td>\n",
       "      <td>CLEAR</td>\n",
       "      <td>DARK LIGHTS ON</td>\n",
       "      <td>...</td>\n",
       "      <td>NONE</td>\n",
       "      <td>38.99460544</td>\n",
       "      <td>-77.03637746</td>\n",
       "      <td>{'latitude': '38.99460544', 'longitude': '-77....</td>\n",
       "      <td>Maryland (State)</td>\n",
       "      <td>16TH ST</td>\n",
       "      <td>Maryland (State)</td>\n",
       "      <td>EAST WEST HWY</td>\n",
       "      <td>N/A</td>\n",
       "      <td>DRY</td>\n",
       "    </tr>\n",
       "    <tr>\n",
       "      <th>753</th>\n",
       "      <td>MCP3161001S</td>\n",
       "      <td>190048151</td>\n",
       "      <td>Montgomery County Police</td>\n",
       "      <td>Injury Crash</td>\n",
       "      <td>2019-10-07 15:39:00</td>\n",
       "      <td>NaN</td>\n",
       "      <td>PEDESTRIAN</td>\n",
       "      <td>SAME DIR REAR END</td>\n",
       "      <td>CLEAR</td>\n",
       "      <td>DAYLIGHT</td>\n",
       "      <td>...</td>\n",
       "      <td>NONE</td>\n",
       "      <td>39.03274833</td>\n",
       "      <td>-77.07378833</td>\n",
       "      <td>{'latitude': '39.03274833', 'longitude': '-77....</td>\n",
       "      <td>Maryland (State)</td>\n",
       "      <td>UNIVERSITY BLVD W</td>\n",
       "      <td>Municipality</td>\n",
       "      <td>PERRY AVE</td>\n",
       "      <td>KENSINGTON</td>\n",
       "      <td>DRY</td>\n",
       "    </tr>\n",
       "    <tr>\n",
       "      <th>754</th>\n",
       "      <td>MCP3161001S</td>\n",
       "      <td>190048151</td>\n",
       "      <td>Montgomery County Police</td>\n",
       "      <td>Injury Crash</td>\n",
       "      <td>2019-10-07 15:39:00</td>\n",
       "      <td>NaN</td>\n",
       "      <td>PEDESTRIAN</td>\n",
       "      <td>SAME DIR REAR END</td>\n",
       "      <td>CLEAR</td>\n",
       "      <td>DAYLIGHT</td>\n",
       "      <td>...</td>\n",
       "      <td>NONE</td>\n",
       "      <td>39.03274833</td>\n",
       "      <td>-77.07378833</td>\n",
       "      <td>{'latitude': '39.03274833', 'longitude': '-77....</td>\n",
       "      <td>Maryland (State)</td>\n",
       "      <td>UNIVERSITY BLVD W</td>\n",
       "      <td>Municipality</td>\n",
       "      <td>PERRY AVE</td>\n",
       "      <td>KENSINGTON</td>\n",
       "      <td>DRY</td>\n",
       "    </tr>\n",
       "    <tr>\n",
       "      <th>761</th>\n",
       "      <td>DD56420002</td>\n",
       "      <td>190047941</td>\n",
       "      <td>Rockville Police Departme</td>\n",
       "      <td>Injury Crash</td>\n",
       "      <td>2019-10-06 11:52:00</td>\n",
       "      <td>PARKING LOT OF 344 MARTINS LN.</td>\n",
       "      <td>PEDESTRIAN</td>\n",
       "      <td>OTHER</td>\n",
       "      <td>CLEAR</td>\n",
       "      <td>DAYLIGHT</td>\n",
       "      <td>...</td>\n",
       "      <td>N/A</td>\n",
       "      <td>39.09104914</td>\n",
       "      <td>-77.16127881</td>\n",
       "      <td>{'latitude': '39.09104914', 'longitude': '-77....</td>\n",
       "      <td>NaN</td>\n",
       "      <td>NaN</td>\n",
       "      <td>NaN</td>\n",
       "      <td>NaN</td>\n",
       "      <td>NaN</td>\n",
       "      <td>NaN</td>\n",
       "    </tr>\n",
       "    <tr>\n",
       "      <th>788</th>\n",
       "      <td>MCP3039004G</td>\n",
       "      <td>190045636</td>\n",
       "      <td>Montgomery County Police</td>\n",
       "      <td>Injury Crash</td>\n",
       "      <td>2019-09-23 19:30:00</td>\n",
       "      <td>SIDEWALK AT 8100 BLOCK OF GEORGIA AVENUE</td>\n",
       "      <td>BICYCLIST, PEDESTRIAN</td>\n",
       "      <td>SAME DIR REAR END</td>\n",
       "      <td>CLEAR</td>\n",
       "      <td>DARK LIGHTS ON</td>\n",
       "      <td>...</td>\n",
       "      <td>NONE</td>\n",
       "      <td>38.99117</td>\n",
       "      <td>-77.02694</td>\n",
       "      <td>{'latitude': '38.99117', 'longitude': '-77.026...</td>\n",
       "      <td>NaN</td>\n",
       "      <td>NaN</td>\n",
       "      <td>NaN</td>\n",
       "      <td>NaN</td>\n",
       "      <td>NaN</td>\n",
       "      <td>NaN</td>\n",
       "    </tr>\n",
       "    <tr>\n",
       "      <th>801</th>\n",
       "      <td>MCP3059003X</td>\n",
       "      <td>190044082</td>\n",
       "      <td>Montgomery County Police</td>\n",
       "      <td>Injury Crash</td>\n",
       "      <td>2019-09-14 19:26:00</td>\n",
       "      <td>NaN</td>\n",
       "      <td>BICYCLIST, PEDESTRIAN</td>\n",
       "      <td>OTHER</td>\n",
       "      <td>CLEAR</td>\n",
       "      <td>DARK LIGHTS ON</td>\n",
       "      <td>...</td>\n",
       "      <td>NONE</td>\n",
       "      <td>39.080315</td>\n",
       "      <td>-77.07443833</td>\n",
       "      <td>{'latitude': '39.080315', 'longitude': '-77.07...</td>\n",
       "      <td>Maryland (State)</td>\n",
       "      <td>GEORGIA AVE</td>\n",
       "      <td>County</td>\n",
       "      <td>ASPEN HILL RD</td>\n",
       "      <td>N/A</td>\n",
       "      <td>DRY</td>\n",
       "    </tr>\n",
       "    <tr>\n",
       "      <th>843</th>\n",
       "      <td>MCP3112002Z</td>\n",
       "      <td>190039192</td>\n",
       "      <td>Montgomery County Police</td>\n",
       "      <td>Injury Crash</td>\n",
       "      <td>2019-08-16 17:54:00</td>\n",
       "      <td>NaN</td>\n",
       "      <td>PEDESTRIAN</td>\n",
       "      <td>OTHER</td>\n",
       "      <td>N/A</td>\n",
       "      <td>DAYLIGHT</td>\n",
       "      <td>...</td>\n",
       "      <td>N/A</td>\n",
       "      <td>38.98683767</td>\n",
       "      <td>-77.09462283</td>\n",
       "      <td>{'latitude': '38.98683767', 'longitude': '-77....</td>\n",
       "      <td>Maryland (State)</td>\n",
       "      <td>WISCONSIN AVE</td>\n",
       "      <td>County</td>\n",
       "      <td>MIDDLETON LA</td>\n",
       "      <td>N/A</td>\n",
       "      <td>DRY</td>\n",
       "    </tr>\n",
       "    <tr>\n",
       "      <th>952</th>\n",
       "      <td>MCP3173000K</td>\n",
       "      <td>190025858</td>\n",
       "      <td>Montgomery County Police</td>\n",
       "      <td>Injury Crash</td>\n",
       "      <td>2019-06-12 07:14:00</td>\n",
       "      <td>NaN</td>\n",
       "      <td>PEDESTRIAN</td>\n",
       "      <td>OTHER</td>\n",
       "      <td>CLEAR</td>\n",
       "      <td>DAWN</td>\n",
       "      <td>...</td>\n",
       "      <td>N/A</td>\n",
       "      <td>39.0229374</td>\n",
       "      <td>-77.01688638</td>\n",
       "      <td>{'latitude': '39.0229374', 'longitude': '-77.0...</td>\n",
       "      <td>County</td>\n",
       "      <td>BRUNETT AVE</td>\n",
       "      <td>Maryland (State)</td>\n",
       "      <td>UNIVERSITY BLVD W</td>\n",
       "      <td>N/A</td>\n",
       "      <td>DRY</td>\n",
       "    </tr>\n",
       "    <tr>\n",
       "      <th>953</th>\n",
       "      <td>MCP3173000K</td>\n",
       "      <td>190025858</td>\n",
       "      <td>Montgomery County Police</td>\n",
       "      <td>Injury Crash</td>\n",
       "      <td>2019-06-12 07:14:00</td>\n",
       "      <td>NaN</td>\n",
       "      <td>PEDESTRIAN</td>\n",
       "      <td>OTHER</td>\n",
       "      <td>CLEAR</td>\n",
       "      <td>DAWN</td>\n",
       "      <td>...</td>\n",
       "      <td>N/A</td>\n",
       "      <td>39.0229374</td>\n",
       "      <td>-77.01688638</td>\n",
       "      <td>{'latitude': '39.0229374', 'longitude': '-77.0...</td>\n",
       "      <td>County</td>\n",
       "      <td>BRUNETT AVE</td>\n",
       "      <td>Maryland (State)</td>\n",
       "      <td>UNIVERSITY BLVD W</td>\n",
       "      <td>N/A</td>\n",
       "      <td>DRY</td>\n",
       "    </tr>\n",
       "    <tr>\n",
       "      <th>978</th>\n",
       "      <td>MCP3137000T</td>\n",
       "      <td>190025697</td>\n",
       "      <td>Montgomery County Police</td>\n",
       "      <td>Injury Crash</td>\n",
       "      <td>2019-05-29 23:31:00</td>\n",
       "      <td>NaN</td>\n",
       "      <td>PEDESTRIAN</td>\n",
       "      <td>HEAD ON</td>\n",
       "      <td>CLEAR</td>\n",
       "      <td>DARK LIGHTS ON</td>\n",
       "      <td>...</td>\n",
       "      <td>N/A</td>\n",
       "      <td>39.00036175</td>\n",
       "      <td>-76.98955953</td>\n",
       "      <td>{'latitude': '39.00036175', 'longitude': '-76....</td>\n",
       "      <td>County</td>\n",
       "      <td>RUATAN ST</td>\n",
       "      <td>County</td>\n",
       "      <td>QUEBEC ST</td>\n",
       "      <td>N/A</td>\n",
       "      <td>DRY</td>\n",
       "    </tr>\n",
       "    <tr>\n",
       "      <th>995</th>\n",
       "      <td>MCP30480056</td>\n",
       "      <td>190023306</td>\n",
       "      <td>Montgomery County Police</td>\n",
       "      <td>Injury Crash</td>\n",
       "      <td>2019-05-17 11:14:00</td>\n",
       "      <td>NaN</td>\n",
       "      <td>OTHER, PEDESTRIAN</td>\n",
       "      <td>OTHER</td>\n",
       "      <td>CLOUDY</td>\n",
       "      <td>DAYLIGHT</td>\n",
       "      <td>...</td>\n",
       "      <td>N/A</td>\n",
       "      <td>39.03666667</td>\n",
       "      <td>-77.07016333</td>\n",
       "      <td>{'latitude': '39.03666667', 'longitude': '-77....</td>\n",
       "      <td>County</td>\n",
       "      <td>MADISON ST</td>\n",
       "      <td>County</td>\n",
       "      <td>ANDERSON RD</td>\n",
       "      <td>N/A</td>\n",
       "      <td>DRY</td>\n",
       "    </tr>\n",
       "  </tbody>\n",
       "</table>\n",
       "<p>35 rows × 32 columns</p>\n",
       "</div>"
      ],
      "text/plain": [
       "    report_number local_case_number                agency_name  \\\n",
       "67     EJ7866009J         200048190  Gaithersburg Police Depar   \n",
       "149   MCP3121003M         200039969   Montgomery County Police   \n",
       "193   MCP3121003L         200036654   Montgomery County Police   \n",
       "199   MCP30050055         200036016   Montgomery County Police   \n",
       "221   MCP271700SD         200034582   Montgomery County Police   \n",
       "253   MCP3226000R         200031559   Montgomery County Police   \n",
       "264   MCP2239001N         200030242   Montgomery County Police   \n",
       "301   MCP2008007X         200027535   Montgomery County Police   \n",
       "325   MCP26030038         200024788   Montgomery County Police   \n",
       "351   MCP1453008J         200022504   Montgomery County Police   \n",
       "391   MCP3224000G         200016841   Montgomery County Police   \n",
       "392   MCP3224000G         200016841   Montgomery County Police   \n",
       "432   MCP1002000Y         200011326   Montgomery County Police   \n",
       "443   MCP2853007B         200009971   Montgomery County Police   \n",
       "489   MCP1305003Z         200006511   Montgomery County Police   \n",
       "526   MCP3163002J         200003614   Montgomery County Police   \n",
       "528   MCP3012005Z         200003610   Montgomery County Police   \n",
       "582   MCP2347002H         190061641   Montgomery County Police   \n",
       "593    EJ78650053         190060645  Gaithersburg Police Depar   \n",
       "623   MCP3132001W         190058472   Montgomery County Police   \n",
       "634   MCP3122002L         190057491   Montgomery County Police   \n",
       "639   MCP2689006G         190056912   Montgomery County Police   \n",
       "679   MCP26170087         190053280   Montgomery County Police   \n",
       "728   MCP3206000T         190049500   Montgomery County Police   \n",
       "739   MCP31560011         190048989   Montgomery County Police   \n",
       "753   MCP3161001S         190048151   Montgomery County Police   \n",
       "754   MCP3161001S         190048151   Montgomery County Police   \n",
       "761    DD56420002         190047941  Rockville Police Departme   \n",
       "788   MCP3039004G         190045636   Montgomery County Police   \n",
       "801   MCP3059003X         190044082   Montgomery County Police   \n",
       "843   MCP3112002Z         190039192   Montgomery County Police   \n",
       "952   MCP3173000K         190025858   Montgomery County Police   \n",
       "953   MCP3173000K         190025858   Montgomery County Police   \n",
       "978   MCP3137000T         190025697   Montgomery County Police   \n",
       "995   MCP30480056         190023306   Montgomery County Police   \n",
       "\n",
       "          acrs_report_type     crash_date_time  \\\n",
       "67            Injury Crash 2020-12-07 12:08:00   \n",
       "149  Property Damage Crash 2020-10-10 20:00:00   \n",
       "193           Injury Crash 2020-09-18 18:07:00   \n",
       "199           Injury Crash 2020-09-14 14:30:00   \n",
       "221           Injury Crash 2020-09-03 20:30:00   \n",
       "253  Property Damage Crash 2020-08-13 16:33:00   \n",
       "264           Injury Crash 2020-08-04 13:24:00   \n",
       "301           Injury Crash 2020-07-15 19:04:00   \n",
       "325           Injury Crash 2020-06-25 11:18:00   \n",
       "351           Injury Crash 2020-06-08 08:54:00   \n",
       "391           Injury Crash 2020-04-22 20:28:00   \n",
       "392           Injury Crash 2020-04-22 20:28:00   \n",
       "432           Injury Crash 2020-03-07 17:00:00   \n",
       "443           Injury Crash 2020-02-28 18:10:00   \n",
       "489  Property Damage Crash 2020-02-08 14:52:00   \n",
       "526           Injury Crash 2020-01-22 15:30:00   \n",
       "528           Injury Crash 2020-01-22 15:03:00   \n",
       "582           Injury Crash 2019-12-22 13:41:00   \n",
       "593           Injury Crash 2019-12-16 18:45:00   \n",
       "623           Injury Crash 2019-12-04 17:16:00   \n",
       "634           Injury Crash 2019-11-28 23:25:00   \n",
       "639           Injury Crash 2019-11-25 13:58:00   \n",
       "679           Injury Crash 2019-11-05 14:05:00   \n",
       "728           Injury Crash 2019-10-16 17:30:00   \n",
       "739           Injury Crash 2019-10-12 01:03:00   \n",
       "753           Injury Crash 2019-10-07 15:39:00   \n",
       "754           Injury Crash 2019-10-07 15:39:00   \n",
       "761           Injury Crash 2019-10-06 11:52:00   \n",
       "788           Injury Crash 2019-09-23 19:30:00   \n",
       "801           Injury Crash 2019-09-14 19:26:00   \n",
       "843           Injury Crash 2019-08-16 17:54:00   \n",
       "952           Injury Crash 2019-06-12 07:14:00   \n",
       "953           Injury Crash 2019-06-12 07:14:00   \n",
       "978           Injury Crash 2019-05-29 23:31:00   \n",
       "995           Injury Crash 2019-05-17 11:14:00   \n",
       "\n",
       "                                  off_road_description  \\\n",
       "67                                                 NaN   \n",
       "149  IFO 19508 BURLINGAME WAY MONTGOMERY VILLAGE MD...   \n",
       "193       PARKING LOT IFO 19218 MONTGOMERY VILLAGE AVE   \n",
       "199                                                NaN   \n",
       "221                                                NaN   \n",
       "253                                                NaN   \n",
       "264                                                NaN   \n",
       "301                                                NaN   \n",
       "325                                                NaN   \n",
       "351                                                NaN   \n",
       "391                                                NaN   \n",
       "392                                                NaN   \n",
       "432         PARKING LOT IN FRONT OF 516 N FREDERICK RD   \n",
       "443                                                NaN   \n",
       "489               PARKING LOT AT 22 TINDALL SRPINGS CT   \n",
       "526                                                NaN   \n",
       "528                                                NaN   \n",
       "582                2144 INDUSTRIAL PARKWAY PARKING LOT   \n",
       "593                             PL OF 307 COPLEY PLACE   \n",
       "623                                                NaN   \n",
       "634                  PARKING LOT OF 2304 BLUERIDGE AVE   \n",
       "639                PARKING LOT OF 14921 SHADY GROVE RD   \n",
       "679                                                NaN   \n",
       "728                                                NaN   \n",
       "739                                                NaN   \n",
       "753                                                NaN   \n",
       "754                                                NaN   \n",
       "761                     PARKING LOT OF 344 MARTINS LN.   \n",
       "788           SIDEWALK AT 8100 BLOCK OF GEORGIA AVENUE   \n",
       "801                                                NaN   \n",
       "843                                                NaN   \n",
       "952                                                NaN   \n",
       "953                                                NaN   \n",
       "978                                                NaN   \n",
       "995                                                NaN   \n",
       "\n",
       "       related_non_motorist     collision_type  weather           light  ...  \\\n",
       "67               PEDESTRIAN              OTHER    CLEAR        DAYLIGHT  ...   \n",
       "149              PEDESTRIAN            HEAD ON    CLEAR  DARK LIGHTS ON  ...   \n",
       "193              PEDESTRIAN              OTHER    CLEAR        DAYLIGHT  ...   \n",
       "199  MACHINE OPERATOR/RIDER     SINGLE VEHICLE      N/A        DAYLIGHT  ...   \n",
       "221              PEDESTRIAN              OTHER   CLOUDY  DARK LIGHTS ON  ...   \n",
       "253                   OTHER     SINGLE VEHICLE    CLEAR        DAYLIGHT  ...   \n",
       "264               BICYCLIST              OTHER    CLEAR        DAYLIGHT  ...   \n",
       "301   BICYCLIST, PEDESTRIAN              OTHER    CLEAR        DAYLIGHT  ...   \n",
       "325              PEDESTRIAN     SINGLE VEHICLE   CLOUDY        DAYLIGHT  ...   \n",
       "351              PEDESTRIAN     SINGLE VEHICLE    CLEAR        DAYLIGHT  ...   \n",
       "391              PEDESTRIAN  HEAD ON LEFT TURN    CLEAR  DARK LIGHTS ON  ...   \n",
       "392              PEDESTRIAN  HEAD ON LEFT TURN    CLEAR  DARK LIGHTS ON  ...   \n",
       "432              PEDESTRIAN     SINGLE VEHICLE    CLEAR        DAYLIGHT  ...   \n",
       "443              PEDESTRIAN              OTHER    CLEAR  DARK LIGHTS ON  ...   \n",
       "489                   OTHER              OTHER    CLEAR        DAYLIGHT  ...   \n",
       "526              PEDESTRIAN  HEAD ON LEFT TURN      N/A        DAYLIGHT  ...   \n",
       "528              PEDESTRIAN              OTHER    CLEAR        DAYLIGHT  ...   \n",
       "582              PEDESTRIAN                N/A    CLEAR        DAYLIGHT  ...   \n",
       "593              PEDESTRIAN     SINGLE VEHICLE  RAINING  DARK LIGHTS ON  ...   \n",
       "623              PEDESTRIAN              OTHER   CLOUDY  DARK NO LIGHTS  ...   \n",
       "634              PEDESTRIAN     SINGLE VEHICLE    CLEAR  DARK LIGHTS ON  ...   \n",
       "639              PEDESTRIAN     SINGLE VEHICLE    CLEAR        DAYLIGHT  ...   \n",
       "679              PEDESTRIAN              OTHER    CLEAR        DAYLIGHT  ...   \n",
       "728              PEDESTRIAN              OTHER    CLEAR        DAYLIGHT  ...   \n",
       "739              PEDESTRIAN     SINGLE VEHICLE    CLEAR  DARK LIGHTS ON  ...   \n",
       "753              PEDESTRIAN  SAME DIR REAR END    CLEAR        DAYLIGHT  ...   \n",
       "754              PEDESTRIAN  SAME DIR REAR END    CLEAR        DAYLIGHT  ...   \n",
       "761              PEDESTRIAN              OTHER    CLEAR        DAYLIGHT  ...   \n",
       "788   BICYCLIST, PEDESTRIAN  SAME DIR REAR END    CLEAR  DARK LIGHTS ON  ...   \n",
       "801   BICYCLIST, PEDESTRIAN              OTHER    CLEAR  DARK LIGHTS ON  ...   \n",
       "843              PEDESTRIAN              OTHER      N/A        DAYLIGHT  ...   \n",
       "952              PEDESTRIAN              OTHER    CLEAR            DAWN  ...   \n",
       "953              PEDESTRIAN              OTHER    CLEAR            DAWN  ...   \n",
       "978              PEDESTRIAN            HEAD ON    CLEAR  DARK LIGHTS ON  ...   \n",
       "995       OTHER, PEDESTRIAN              OTHER   CLOUDY        DAYLIGHT  ...   \n",
       "\n",
       "    safety_equipment     latitude     longitude  \\\n",
       "67              NONE  39.14851765  -77.19946173   \n",
       "149             NONE  39.17551415  -77.21163542   \n",
       "193             NONE    39.172195    -77.204985   \n",
       "199             NONE  39.03915333    -77.027725   \n",
       "221             NONE  38.99764383  -77.10979817   \n",
       "253              N/A  39.13754267    -76.980728   \n",
       "264   MC/BIKE HELMET  39.04253167  -77.15936333   \n",
       "301   MC/BIKE HELMET  39.01972667     -77.09671   \n",
       "325             NONE  39.15834667    -77.204405   \n",
       "351             NONE  39.18655833     -77.27381   \n",
       "391              N/A  39.05413699  -76.97366375   \n",
       "392              N/A  39.05413699  -76.97366375   \n",
       "432             NONE     39.14788      -77.2091   \n",
       "443              N/A    39.021095    -76.976515   \n",
       "489              N/A  39.18515167  -77.17692833   \n",
       "526              N/A    38.961452    -77.106857   \n",
       "528              N/A  39.06811736   -77.0608396   \n",
       "582             NONE    39.054455  -76.96905333   \n",
       "593              N/A     39.11551    -77.208105   \n",
       "623              N/A    38.959845  -77.10820667   \n",
       "634              N/A  39.04272545  -77.04853504   \n",
       "639             NONE  39.09691989  -77.19311992   \n",
       "679             NONE    39.043475  -77.03062167   \n",
       "728              N/A  38.99871335  -76.99901076   \n",
       "739             NONE  38.99460544  -77.03637746   \n",
       "753             NONE  39.03274833  -77.07378833   \n",
       "754             NONE  39.03274833  -77.07378833   \n",
       "761              N/A  39.09104914  -77.16127881   \n",
       "788             NONE     38.99117     -77.02694   \n",
       "801             NONE    39.080315  -77.07443833   \n",
       "843              N/A  38.98683767  -77.09462283   \n",
       "952              N/A   39.0229374  -77.01688638   \n",
       "953              N/A   39.0229374  -77.01688638   \n",
       "978              N/A  39.00036175  -76.98955953   \n",
       "995              N/A  39.03666667  -77.07016333   \n",
       "\n",
       "                                           geolocation        route_type  \\\n",
       "67   {'latitude': '39.14851765', 'longitude': '-77....      Municipality   \n",
       "149  {'latitude': '39.17551415', 'longitude': '-77....               NaN   \n",
       "193  {'latitude': '39.172195', 'longitude': '-77.20...               NaN   \n",
       "199  {'latitude': '39.03915333', 'longitude': '-77....            County   \n",
       "221  {'latitude': '38.99764383', 'longitude': '-77....  Maryland (State)   \n",
       "253  {'latitude': '39.13754267', 'longitude': '-76....            County   \n",
       "264  {'latitude': '39.04253167', 'longitude': '-77....            County   \n",
       "301  {'latitude': '39.01972667', 'longitude': '-77....            County   \n",
       "325  {'latitude': '39.15834667', 'longitude': '-77....  Maryland (State)   \n",
       "351  {'latitude': '39.18655833', 'longitude': '-77....            County   \n",
       "391  {'latitude': '39.05413699', 'longitude': '-76....            County   \n",
       "392  {'latitude': '39.05413699', 'longitude': '-76....            County   \n",
       "432  {'latitude': '39.14788', 'longitude': '-77.209...               NaN   \n",
       "443  {'latitude': '39.021095', 'longitude': '-76.97...            County   \n",
       "489  {'latitude': '39.18515167', 'longitude': '-77....               NaN   \n",
       "526  {'latitude': '38.961452', 'longitude': '-77.10...            County   \n",
       "528  {'latitude': '39.06811736', 'longitude': '-77....  Maryland (State)   \n",
       "582  {'latitude': '39.054455', 'longitude': '-76.96...               NaN   \n",
       "593  {'latitude': '39.11551', 'longitude': '-77.208...               NaN   \n",
       "623  {'latitude': '38.959845', 'longitude': '-77.10...            County   \n",
       "634  {'latitude': '39.04272545', 'longitude': '-77....               NaN   \n",
       "639  {'latitude': '39.09691989', 'longitude': '-77....               NaN   \n",
       "679  {'latitude': '39.043475', 'longitude': '-77.03...            County   \n",
       "728  {'latitude': '38.99871335', 'longitude': '-76....  Maryland (State)   \n",
       "739  {'latitude': '38.99460544', 'longitude': '-77....  Maryland (State)   \n",
       "753  {'latitude': '39.03274833', 'longitude': '-77....  Maryland (State)   \n",
       "754  {'latitude': '39.03274833', 'longitude': '-77....  Maryland (State)   \n",
       "761  {'latitude': '39.09104914', 'longitude': '-77....               NaN   \n",
       "788  {'latitude': '38.99117', 'longitude': '-77.026...               NaN   \n",
       "801  {'latitude': '39.080315', 'longitude': '-77.07...  Maryland (State)   \n",
       "843  {'latitude': '38.98683767', 'longitude': '-77....  Maryland (State)   \n",
       "952  {'latitude': '39.0229374', 'longitude': '-77.0...            County   \n",
       "953  {'latitude': '39.0229374', 'longitude': '-77.0...            County   \n",
       "978  {'latitude': '39.00036175', 'longitude': '-76....            County   \n",
       "995  {'latitude': '39.03666667', 'longitude': '-77....            County   \n",
       "\n",
       "                  road_name     cross_street_type        cross_street_name  \\\n",
       "67              RUSSELL AVE          Municipality             MARYLAND AVE   \n",
       "149                     NaN                   NaN                      NaN   \n",
       "193                     NaN                   NaN                      NaN   \n",
       "199              ARCOLA AVE                County              KENBROOK DR   \n",
       "221       UNIVERSITY BLVD W                County               ST PAUL ST   \n",
       "253                EDNOR RD  Other Public Roadway                   HAW LA   \n",
       "264          SEVEN LOCKS RD  Other Public Roadway         CODDLE HARBOR LA   \n",
       "301             FRANKLIN ST                County              PARKWOOD DR   \n",
       "325  MONTGOMERY VILLAGE AVE               Unknown  SPUR TO CHRISTOPHER AVE   \n",
       "351            WYNNFIELD DR                County       FATHER HURLEY BLVD   \n",
       "391       OLD COLUMBIA PIKE               Unknown            AMBERSTONE CT   \n",
       "392       OLD COLUMBIA PIKE               Unknown            AMBERSTONE CT   \n",
       "432                     NaN                   NaN                      NaN   \n",
       "443                ELTON RD      Maryland (State)        NEW HAMPSHIRE AVE   \n",
       "489                     NaN                   NaN                      NaN   \n",
       "526            WESTBARD AVE                County            RIDGEFIELD RD   \n",
       "528             GEORGIA AVE                County              HATHAWAY DR   \n",
       "582                     NaN                   NaN                      NaN   \n",
       "593                     NaN                   NaN                      NaN   \n",
       "623            WESTBARD AVE                County                 CROWN ST   \n",
       "634                     NaN                   NaN                      NaN   \n",
       "639                     NaN                   NaN                      NaN   \n",
       "679              ARCOLA AVE                County                KERSEY RD   \n",
       "728         PINEY BRANCH RD                County              GARLAND AVE   \n",
       "739                 16TH ST      Maryland (State)            EAST WEST HWY   \n",
       "753       UNIVERSITY BLVD W          Municipality                PERRY AVE   \n",
       "754       UNIVERSITY BLVD W          Municipality                PERRY AVE   \n",
       "761                     NaN                   NaN                      NaN   \n",
       "788                     NaN                   NaN                      NaN   \n",
       "801             GEORGIA AVE                County            ASPEN HILL RD   \n",
       "843           WISCONSIN AVE                County             MIDDLETON LA   \n",
       "952             BRUNETT AVE      Maryland (State)        UNIVERSITY BLVD W   \n",
       "953             BRUNETT AVE      Maryland (State)        UNIVERSITY BLVD W   \n",
       "978               RUATAN ST                County                QUEBEC ST   \n",
       "995              MADISON ST                County              ANDERSON RD   \n",
       "\n",
       "     municipality surface_condition  \n",
       "67   GAITHERSBURG               DRY  \n",
       "149           NaN               NaN  \n",
       "193           NaN               NaN  \n",
       "199           N/A               DRY  \n",
       "221           N/A               WET  \n",
       "253           N/A               DRY  \n",
       "264           N/A               DRY  \n",
       "301           N/A               DRY  \n",
       "325           N/A               DRY  \n",
       "351           N/A               DRY  \n",
       "391           N/A               DRY  \n",
       "392           N/A               DRY  \n",
       "432           NaN               NaN  \n",
       "443           N/A               DRY  \n",
       "489           NaN               NaN  \n",
       "526           N/A               DRY  \n",
       "528           N/A               DRY  \n",
       "582           NaN               NaN  \n",
       "593           NaN               NaN  \n",
       "623           N/A               DRY  \n",
       "634           NaN               NaN  \n",
       "639           NaN               NaN  \n",
       "679           N/A               DRY  \n",
       "728           N/A               DRY  \n",
       "739           N/A               DRY  \n",
       "753    KENSINGTON               DRY  \n",
       "754    KENSINGTON               DRY  \n",
       "761           NaN               NaN  \n",
       "788           NaN               NaN  \n",
       "801           N/A               DRY  \n",
       "843           N/A               DRY  \n",
       "952           N/A               DRY  \n",
       "953           N/A               DRY  \n",
       "978           N/A               DRY  \n",
       "995           N/A               DRY  \n",
       "\n",
       "[35 rows x 32 columns]"
      ]
     },
     "execution_count": 146,
     "metadata": {},
     "output_type": "execute_result"
    }
   ],
   "source": [
    "duplicateRowsDF2 = nonmotoristdf[nonmotoristdf.duplicated('report_number')]\n",
    "asduplicateRowsDF2"
   ]
  },
  {
   "cell_type": "markdown",
   "metadata": {},
   "source": [
    "As with the above, I'll check the case numbers as well."
   ]
  },
  {
   "cell_type": "code",
   "execution_count": 147,
   "metadata": {},
   "outputs": [
    {
     "data": {
      "text/plain": [
       "965"
      ]
     },
     "execution_count": 147,
     "metadata": {},
     "output_type": "execute_result"
    }
   ],
   "source": [
    "nonmotoristcases = nonmotoristdf.local_case_number\n",
    "nonmotoristcases.nunique()"
   ]
  },
  {
   "cell_type": "markdown",
   "metadata": {},
   "source": [
    "Same as above, so I will remove the duplicates"
   ]
  },
  {
   "cell_type": "code",
   "execution_count": 148,
   "metadata": {},
   "outputs": [
    {
     "data": {
      "text/html": [
       "<div>\n",
       "<style scoped>\n",
       "    .dataframe tbody tr th:only-of-type {\n",
       "        vertical-align: middle;\n",
       "    }\n",
       "\n",
       "    .dataframe tbody tr th {\n",
       "        vertical-align: top;\n",
       "    }\n",
       "\n",
       "    .dataframe thead th {\n",
       "        text-align: right;\n",
       "    }\n",
       "</style>\n",
       "<table border=\"1\" class=\"dataframe\">\n",
       "  <thead>\n",
       "    <tr style=\"text-align: right;\">\n",
       "      <th></th>\n",
       "      <th>report_number</th>\n",
       "      <th>local_case_number</th>\n",
       "      <th>agency_name</th>\n",
       "      <th>acrs_report_type</th>\n",
       "      <th>crash_date_time</th>\n",
       "      <th>off_road_description</th>\n",
       "      <th>related_non_motorist</th>\n",
       "      <th>collision_type</th>\n",
       "      <th>weather</th>\n",
       "      <th>light</th>\n",
       "      <th>...</th>\n",
       "      <th>safety_equipment</th>\n",
       "      <th>latitude</th>\n",
       "      <th>longitude</th>\n",
       "      <th>geolocation</th>\n",
       "      <th>route_type</th>\n",
       "      <th>road_name</th>\n",
       "      <th>cross_street_type</th>\n",
       "      <th>cross_street_name</th>\n",
       "      <th>municipality</th>\n",
       "      <th>surface_condition</th>\n",
       "    </tr>\n",
       "  </thead>\n",
       "  <tbody>\n",
       "    <tr>\n",
       "      <th>0</th>\n",
       "      <td>DD56370028</td>\n",
       "      <td>210006695</td>\n",
       "      <td>Rockville Police Departme</td>\n",
       "      <td>Injury Crash</td>\n",
       "      <td>2021-02-21 16:23:00</td>\n",
       "      <td>PARKING GARAGE OF 1628 E JEFFERSON ST</td>\n",
       "      <td>PEDESTRIAN</td>\n",
       "      <td>OTHER</td>\n",
       "      <td>CLEAR</td>\n",
       "      <td>N/A</td>\n",
       "      <td>...</td>\n",
       "      <td>NONE</td>\n",
       "      <td>39.06067784</td>\n",
       "      <td>-77.1270258</td>\n",
       "      <td>{'latitude': '39.06067784', 'longitude': '-77....</td>\n",
       "      <td>NaN</td>\n",
       "      <td>NaN</td>\n",
       "      <td>NaN</td>\n",
       "      <td>NaN</td>\n",
       "      <td>NaN</td>\n",
       "      <td>NaN</td>\n",
       "    </tr>\n",
       "    <tr>\n",
       "      <th>1</th>\n",
       "      <td>MCP3209002B</td>\n",
       "      <td>210005989</td>\n",
       "      <td>Montgomery County Police</td>\n",
       "      <td>Injury Crash</td>\n",
       "      <td>2021-02-15 20:20:00</td>\n",
       "      <td>NaN</td>\n",
       "      <td>PEDESTRIAN</td>\n",
       "      <td>OTHER</td>\n",
       "      <td>RAINING</td>\n",
       "      <td>DUSK</td>\n",
       "      <td>...</td>\n",
       "      <td>NONE</td>\n",
       "      <td>38.99448139</td>\n",
       "      <td>-77.02661747</td>\n",
       "      <td>{'latitude': '38.99448139', 'longitude': '-77....</td>\n",
       "      <td>County</td>\n",
       "      <td>WAYNE AVE</td>\n",
       "      <td>US (State)</td>\n",
       "      <td>GEORGIA AVE</td>\n",
       "      <td>N/A</td>\n",
       "      <td>WET</td>\n",
       "    </tr>\n",
       "    <tr>\n",
       "      <th>2</th>\n",
       "      <td>MCP3274000F</td>\n",
       "      <td>210005911</td>\n",
       "      <td>Montgomery County Police</td>\n",
       "      <td>Injury Crash</td>\n",
       "      <td>2021-02-15 10:49:00</td>\n",
       "      <td>NaN</td>\n",
       "      <td>PEDESTRIAN</td>\n",
       "      <td>OTHER</td>\n",
       "      <td>N/A</td>\n",
       "      <td>DAYLIGHT</td>\n",
       "      <td>...</td>\n",
       "      <td>REFLECTIVE CLOTHING</td>\n",
       "      <td>39.02163833</td>\n",
       "      <td>-77.115855</td>\n",
       "      <td>{'latitude': '39.02163833', 'longitude': '-77....</td>\n",
       "      <td>County</td>\n",
       "      <td>BROAD ST</td>\n",
       "      <td>County</td>\n",
       "      <td>GREENLAWN DR</td>\n",
       "      <td>N/A</td>\n",
       "      <td>DRY</td>\n",
       "    </tr>\n",
       "    <tr>\n",
       "      <th>3</th>\n",
       "      <td>MCP229800VL</td>\n",
       "      <td>210005324</td>\n",
       "      <td>Montgomery County Police</td>\n",
       "      <td>Injury Crash</td>\n",
       "      <td>2021-02-10 15:16:00</td>\n",
       "      <td>NaN</td>\n",
       "      <td>BICYCLIST</td>\n",
       "      <td>STRAIGHT MOVEMENT ANGLE</td>\n",
       "      <td>CLOUDY</td>\n",
       "      <td>DAYLIGHT</td>\n",
       "      <td>...</td>\n",
       "      <td>NONE</td>\n",
       "      <td>39.18147606</td>\n",
       "      <td>-77.27625213</td>\n",
       "      <td>{'latitude': '39.18147606', 'longitude': '-77....</td>\n",
       "      <td>County</td>\n",
       "      <td>FATHER HURLEY BLVD</td>\n",
       "      <td>County</td>\n",
       "      <td>WISTERIA DR</td>\n",
       "      <td>N/A</td>\n",
       "      <td>DRY</td>\n",
       "    </tr>\n",
       "    <tr>\n",
       "      <th>4</th>\n",
       "      <td>MCP3289000G</td>\n",
       "      <td>210005250</td>\n",
       "      <td>Montgomery County Police</td>\n",
       "      <td>Injury Crash</td>\n",
       "      <td>2021-02-10 06:35:00</td>\n",
       "      <td>NaN</td>\n",
       "      <td>PEDESTRIAN</td>\n",
       "      <td>SINGLE VEHICLE</td>\n",
       "      <td>CLOUDY</td>\n",
       "      <td>DARK LIGHTS ON</td>\n",
       "      <td>...</td>\n",
       "      <td>NONE</td>\n",
       "      <td>39.01797675</td>\n",
       "      <td>-77.00688918</td>\n",
       "      <td>{'latitude': '39.01797675', 'longitude': '-77....</td>\n",
       "      <td>Maryland (State)</td>\n",
       "      <td>UNIVERSITY BLVD E</td>\n",
       "      <td>County</td>\n",
       "      <td>WILLIAMSBURG DR</td>\n",
       "      <td>N/A</td>\n",
       "      <td>DRY</td>\n",
       "    </tr>\n",
       "    <tr>\n",
       "      <th>...</th>\n",
       "      <td>...</td>\n",
       "      <td>...</td>\n",
       "      <td>...</td>\n",
       "      <td>...</td>\n",
       "      <td>...</td>\n",
       "      <td>...</td>\n",
       "      <td>...</td>\n",
       "      <td>...</td>\n",
       "      <td>...</td>\n",
       "      <td>...</td>\n",
       "      <td>...</td>\n",
       "      <td>...</td>\n",
       "      <td>...</td>\n",
       "      <td>...</td>\n",
       "      <td>...</td>\n",
       "      <td>...</td>\n",
       "      <td>...</td>\n",
       "      <td>...</td>\n",
       "      <td>...</td>\n",
       "      <td>...</td>\n",
       "      <td>...</td>\n",
       "    </tr>\n",
       "    <tr>\n",
       "      <th>995</th>\n",
       "      <td>MCP30480056</td>\n",
       "      <td>190023306</td>\n",
       "      <td>Montgomery County Police</td>\n",
       "      <td>Injury Crash</td>\n",
       "      <td>2019-05-17 11:14:00</td>\n",
       "      <td>NaN</td>\n",
       "      <td>OTHER, PEDESTRIAN</td>\n",
       "      <td>OTHER</td>\n",
       "      <td>CLOUDY</td>\n",
       "      <td>DAYLIGHT</td>\n",
       "      <td>...</td>\n",
       "      <td>N/A</td>\n",
       "      <td>39.03666667</td>\n",
       "      <td>-77.07016333</td>\n",
       "      <td>{'latitude': '39.03666667', 'longitude': '-77....</td>\n",
       "      <td>County</td>\n",
       "      <td>MADISON ST</td>\n",
       "      <td>County</td>\n",
       "      <td>ANDERSON RD</td>\n",
       "      <td>N/A</td>\n",
       "      <td>DRY</td>\n",
       "    </tr>\n",
       "    <tr>\n",
       "      <th>996</th>\n",
       "      <td>MCP91300078</td>\n",
       "      <td>190023094</td>\n",
       "      <td>Montgomery County Police</td>\n",
       "      <td>Injury Crash</td>\n",
       "      <td>2019-05-16 11:33:00</td>\n",
       "      <td>PARKING LOT OF 75 E WAYNE AVE</td>\n",
       "      <td>OTHER</td>\n",
       "      <td>SINGLE VEHICLE</td>\n",
       "      <td>CLEAR</td>\n",
       "      <td>DAYLIGHT</td>\n",
       "      <td>...</td>\n",
       "      <td>NONE</td>\n",
       "      <td>39.00083094</td>\n",
       "      <td>-77.00825285</td>\n",
       "      <td>{'latitude': '39.00083094', 'longitude': '-77....</td>\n",
       "      <td>NaN</td>\n",
       "      <td>NaN</td>\n",
       "      <td>NaN</td>\n",
       "      <td>NaN</td>\n",
       "      <td>NaN</td>\n",
       "      <td>NaN</td>\n",
       "    </tr>\n",
       "    <tr>\n",
       "      <th>997</th>\n",
       "      <td>MCP2941003D</td>\n",
       "      <td>190023030</td>\n",
       "      <td>Montgomery County Police</td>\n",
       "      <td>Injury Crash</td>\n",
       "      <td>2019-05-15 23:02:00</td>\n",
       "      <td>NaN</td>\n",
       "      <td>PEDESTRIAN</td>\n",
       "      <td>N/A</td>\n",
       "      <td>CLEAR</td>\n",
       "      <td>DUSK</td>\n",
       "      <td>...</td>\n",
       "      <td>NONE</td>\n",
       "      <td>38.98902667</td>\n",
       "      <td>-77.0279</td>\n",
       "      <td>{'latitude': '38.98902667', 'longitude': '-77....</td>\n",
       "      <td>Maryland (State)</td>\n",
       "      <td>EAST WEST HWY</td>\n",
       "      <td>County</td>\n",
       "      <td>BLAIR MILL RD</td>\n",
       "      <td>N/A</td>\n",
       "      <td>DRY</td>\n",
       "    </tr>\n",
       "    <tr>\n",
       "      <th>998</th>\n",
       "      <td>DD5630001D</td>\n",
       "      <td>190022958</td>\n",
       "      <td>Rockville Police Departme</td>\n",
       "      <td>Injury Crash</td>\n",
       "      <td>2019-05-15 16:35:00</td>\n",
       "      <td>NaN</td>\n",
       "      <td>PEDESTRIAN</td>\n",
       "      <td>OTHER</td>\n",
       "      <td>CLEAR</td>\n",
       "      <td>DAYLIGHT</td>\n",
       "      <td>...</td>\n",
       "      <td>NONE</td>\n",
       "      <td>39.0663</td>\n",
       "      <td>-77.11594833</td>\n",
       "      <td>{'latitude': '39.0663', 'longitude': '-77.1159...</td>\n",
       "      <td>County</td>\n",
       "      <td>HALPINE RD</td>\n",
       "      <td>County</td>\n",
       "      <td>PIER DR</td>\n",
       "      <td>N/A</td>\n",
       "      <td>DRY</td>\n",
       "    </tr>\n",
       "    <tr>\n",
       "      <th>999</th>\n",
       "      <td>MCP27450028</td>\n",
       "      <td>190022858</td>\n",
       "      <td>Montgomery County Police</td>\n",
       "      <td>Injury Crash</td>\n",
       "      <td>2019-05-15 04:49:00</td>\n",
       "      <td>NaN</td>\n",
       "      <td>PEDESTRIAN</td>\n",
       "      <td>OTHER</td>\n",
       "      <td>CLEAR</td>\n",
       "      <td>DARK LIGHTS ON</td>\n",
       "      <td>...</td>\n",
       "      <td>N/A</td>\n",
       "      <td>39.17042</td>\n",
       "      <td>-77.20894833</td>\n",
       "      <td>{'latitude': '39.17042', 'longitude': '-77.208...</td>\n",
       "      <td>County</td>\n",
       "      <td>WATKINS MILL RD</td>\n",
       "      <td>County</td>\n",
       "      <td>STEDWICK RD</td>\n",
       "      <td>N/A</td>\n",
       "      <td>DRY</td>\n",
       "    </tr>\n",
       "  </tbody>\n",
       "</table>\n",
       "<p>965 rows × 32 columns</p>\n",
       "</div>"
      ],
      "text/plain": [
       "    report_number local_case_number                agency_name  \\\n",
       "0      DD56370028         210006695  Rockville Police Departme   \n",
       "1     MCP3209002B         210005989   Montgomery County Police   \n",
       "2     MCP3274000F         210005911   Montgomery County Police   \n",
       "3     MCP229800VL         210005324   Montgomery County Police   \n",
       "4     MCP3289000G         210005250   Montgomery County Police   \n",
       "..            ...               ...                        ...   \n",
       "995   MCP30480056         190023306   Montgomery County Police   \n",
       "996   MCP91300078         190023094   Montgomery County Police   \n",
       "997   MCP2941003D         190023030   Montgomery County Police   \n",
       "998    DD5630001D         190022958  Rockville Police Departme   \n",
       "999   MCP27450028         190022858   Montgomery County Police   \n",
       "\n",
       "    acrs_report_type     crash_date_time  \\\n",
       "0       Injury Crash 2021-02-21 16:23:00   \n",
       "1       Injury Crash 2021-02-15 20:20:00   \n",
       "2       Injury Crash 2021-02-15 10:49:00   \n",
       "3       Injury Crash 2021-02-10 15:16:00   \n",
       "4       Injury Crash 2021-02-10 06:35:00   \n",
       "..               ...                 ...   \n",
       "995     Injury Crash 2019-05-17 11:14:00   \n",
       "996     Injury Crash 2019-05-16 11:33:00   \n",
       "997     Injury Crash 2019-05-15 23:02:00   \n",
       "998     Injury Crash 2019-05-15 16:35:00   \n",
       "999     Injury Crash 2019-05-15 04:49:00   \n",
       "\n",
       "                      off_road_description related_non_motorist  \\\n",
       "0    PARKING GARAGE OF 1628 E JEFFERSON ST           PEDESTRIAN   \n",
       "1                                      NaN           PEDESTRIAN   \n",
       "2                                      NaN           PEDESTRIAN   \n",
       "3                                      NaN            BICYCLIST   \n",
       "4                                      NaN           PEDESTRIAN   \n",
       "..                                     ...                  ...   \n",
       "995                                    NaN    OTHER, PEDESTRIAN   \n",
       "996          PARKING LOT OF 75 E WAYNE AVE                OTHER   \n",
       "997                                    NaN           PEDESTRIAN   \n",
       "998                                    NaN           PEDESTRIAN   \n",
       "999                                    NaN           PEDESTRIAN   \n",
       "\n",
       "              collision_type  weather           light  ...  \\\n",
       "0                      OTHER    CLEAR             N/A  ...   \n",
       "1                      OTHER  RAINING            DUSK  ...   \n",
       "2                      OTHER      N/A        DAYLIGHT  ...   \n",
       "3    STRAIGHT MOVEMENT ANGLE   CLOUDY        DAYLIGHT  ...   \n",
       "4             SINGLE VEHICLE   CLOUDY  DARK LIGHTS ON  ...   \n",
       "..                       ...      ...             ...  ...   \n",
       "995                    OTHER   CLOUDY        DAYLIGHT  ...   \n",
       "996           SINGLE VEHICLE    CLEAR        DAYLIGHT  ...   \n",
       "997                      N/A    CLEAR            DUSK  ...   \n",
       "998                    OTHER    CLEAR        DAYLIGHT  ...   \n",
       "999                    OTHER    CLEAR  DARK LIGHTS ON  ...   \n",
       "\n",
       "        safety_equipment     latitude     longitude  \\\n",
       "0                   NONE  39.06067784   -77.1270258   \n",
       "1                   NONE  38.99448139  -77.02661747   \n",
       "2    REFLECTIVE CLOTHING  39.02163833    -77.115855   \n",
       "3                   NONE  39.18147606  -77.27625213   \n",
       "4                   NONE  39.01797675  -77.00688918   \n",
       "..                   ...          ...           ...   \n",
       "995                  N/A  39.03666667  -77.07016333   \n",
       "996                 NONE  39.00083094  -77.00825285   \n",
       "997                 NONE  38.98902667      -77.0279   \n",
       "998                 NONE      39.0663  -77.11594833   \n",
       "999                  N/A     39.17042  -77.20894833   \n",
       "\n",
       "                                           geolocation        route_type  \\\n",
       "0    {'latitude': '39.06067784', 'longitude': '-77....               NaN   \n",
       "1    {'latitude': '38.99448139', 'longitude': '-77....            County   \n",
       "2    {'latitude': '39.02163833', 'longitude': '-77....            County   \n",
       "3    {'latitude': '39.18147606', 'longitude': '-77....            County   \n",
       "4    {'latitude': '39.01797675', 'longitude': '-77....  Maryland (State)   \n",
       "..                                                 ...               ...   \n",
       "995  {'latitude': '39.03666667', 'longitude': '-77....            County   \n",
       "996  {'latitude': '39.00083094', 'longitude': '-77....               NaN   \n",
       "997  {'latitude': '38.98902667', 'longitude': '-77....  Maryland (State)   \n",
       "998  {'latitude': '39.0663', 'longitude': '-77.1159...            County   \n",
       "999  {'latitude': '39.17042', 'longitude': '-77.208...            County   \n",
       "\n",
       "              road_name cross_street_type cross_street_name municipality  \\\n",
       "0                   NaN               NaN               NaN          NaN   \n",
       "1             WAYNE AVE        US (State)       GEORGIA AVE          N/A   \n",
       "2              BROAD ST            County      GREENLAWN DR          N/A   \n",
       "3    FATHER HURLEY BLVD            County       WISTERIA DR          N/A   \n",
       "4     UNIVERSITY BLVD E            County   WILLIAMSBURG DR          N/A   \n",
       "..                  ...               ...               ...          ...   \n",
       "995          MADISON ST            County       ANDERSON RD          N/A   \n",
       "996                 NaN               NaN               NaN          NaN   \n",
       "997       EAST WEST HWY            County     BLAIR MILL RD          N/A   \n",
       "998          HALPINE RD            County           PIER DR          N/A   \n",
       "999     WATKINS MILL RD            County       STEDWICK RD          N/A   \n",
       "\n",
       "    surface_condition  \n",
       "0                 NaN  \n",
       "1                 WET  \n",
       "2                 DRY  \n",
       "3                 DRY  \n",
       "4                 DRY  \n",
       "..                ...  \n",
       "995               DRY  \n",
       "996               NaN  \n",
       "997               DRY  \n",
       "998               DRY  \n",
       "999               DRY  \n",
       "\n",
       "[965 rows x 32 columns]"
      ]
     },
     "execution_count": 148,
     "metadata": {},
     "output_type": "execute_result"
    }
   ],
   "source": [
    "nonmotoristdf.drop_duplicates(subset=['report_number', 'local_case_number'], keep='last')   # I'm keeping the last rather than the first just in case the last has more recent data."
   ]
  },
  {
   "cell_type": "code",
   "execution_count": 149,
   "metadata": {},
   "outputs": [
    {
     "data": {
      "text/plain": [
       "array(['Rockville Police Departme', 'Montgomery County Police',\n",
       "       'Gaithersburg Police Depar', 'Takoma Park Police Depart',\n",
       "       'Maryland-National Capital'], dtype=object)"
      ]
     },
     "execution_count": 149,
     "metadata": {},
     "output_type": "execute_result"
    }
   ],
   "source": [
    "agency_name = nonmotoristdf.agency_name\n",
    "agency_uniques = agency_name.unique()\n",
    "agency_uniques"
   ]
  },
  {
   "cell_type": "code",
   "execution_count": 150,
   "metadata": {},
   "outputs": [
    {
     "data": {
      "text/plain": [
       "array(['Rockville Police', 'Montgomery County Police',\n",
       "       'Gaithersburg Police', 'Takoma Park Police',\n",
       "       'Maryland-National Capital Police'], dtype=object)"
      ]
     },
     "execution_count": 150,
     "metadata": {},
     "output_type": "execute_result"
    }
   ],
   "source": [
    "# Using replace by dictionary to correct the names\n",
    "\n",
    "nonmotoristdf['agency_name'] = nonmotoristdf['agency_name'].replace({'Rockville Police Departme':'Rockville Police', 'Maryland-National Capital':'Maryland-National Capital Police', \n",
    "                                                     'Gaithersburg Police Depar':'Gaithersburg Police', 'Takoma Park Police Depart': 'Takoma Park Police'})\n",
    "agency_uniques = agency_name.unique()\n",
    "agency_uniques"
   ]
  },
  {
   "cell_type": "code",
   "execution_count": 151,
   "metadata": {},
   "outputs": [
    {
     "data": {
      "text/plain": [
       "array(['Injury Crash', 'Fatal Crash', 'Property Damage Crash'],\n",
       "      dtype=object)"
      ]
     },
     "execution_count": 151,
     "metadata": {},
     "output_type": "execute_result"
    }
   ],
   "source": [
    "acrs_report = nonmotoristdf.acrs_report_type\n",
    "acrs_report_uniques = acrs_report.unique()\n",
    "acrs_report_uniques"
   ]
  },
  {
   "cell_type": "code",
   "execution_count": 152,
   "metadata": {},
   "outputs": [
    {
     "data": {
      "text/plain": [
       "array(['PARKING GARAGE OF 1628 E JEFFERSON ST', nan,\n",
       "       'PARKING LOT OF 13807 OUTLET DR, SILVER SPRING, MARYLAND',\n",
       "       'PARKING LOT OF 12305 VILLAGE SQUARE TER',\n",
       "       'PARKING LOT OF 18625 MOONEY DRIVE, GAITHERSBURG, MD 20879',\n",
       "       'PARKING LOT OF 9901 MEDICAL CENTER DR, GAITHERSBURG, MD 20878',\n",
       "       'PARKING LOT OF 10504 CONNECTICUT AVENUE',\n",
       "       'PARKING LOT OF 300 N FREDERICK AVE GAITHERSBURG MD 20877',\n",
       "       'MILESTONE SHOPPING CENTER\\n20934 FREDERICK ROAD\\nGERMANTOWN, MD 20876',\n",
       "       'PKG LOT OF 18220 VILLAGE CENTER DRIVE, OLNEY, MD 20832',\n",
       "       'PARKING LOT OF 12814 SAGE TERRACE',\n",
       "       '1600 BLOCK OF ROCKVILLE PIKE (CONGRESSIONAL PLAZA)',\n",
       "       'PARKING LOT OF 403 REDLAND BLVD',\n",
       "       'PARKING LOT OF GIANT FOOD, 9719 TRAVILLE GATEWAY DR, ROCKVILLE, MD 20850',\n",
       "       'PARKING LOT\\n12705 NEW HAMPSHIRE AVENUE\\nSILVER SPRING, MD, 20904',\n",
       "       'THRU ROADWAY (COMMONLY REFERRED TO AS RING ROAD) AT 11160 VEIRS MILL ROAD, SILVER SPRING, MD, 20902',\n",
       "       'PARKING LOT IFO 18325 LOST KNIFE CIR.',\n",
       "       '15215 SHADY GROVE RD PARKING LOT',\n",
       "       'PARKING LOT NEXT TO 9802 GEORGIA AVE',\n",
       "       'PARKING LOT OF 16021 INDUSTRIAL DRIVE',\n",
       "       'ACCESS ROAD AT SUBURBAN HOSPITAL',\n",
       "       'PARKING LOT OF 12304 FEATHERWOOD DR SILVER SPRING MD',\n",
       "       '12012 CHERRY HILL RD - ALDI PARKING LOT',\n",
       "       'ON SIDEWALK IN FRONT OF 2624 WEISMAN RD., SILVER SPRING MD',\n",
       "       'PARKING LOT OF 9941 RIDGELINE DR',\n",
       "       'PARKING LOT OF 14101 GEORGIA AVE',\n",
       "       'PARKING LOT, 316 KENTLANDS BLVD',\n",
       "       'IFO 19508 BURLINGAME WAY MONTGOMERY VILLAGE MD 20886',\n",
       "       'PARKING LOT OF 1701 ROCKVILLE PIKE',\n",
       "       'REAR PARKING LOT OF 3000 MCCOMAS AVE',\n",
       "       'PARKING LOT IN FRONT OF 5077 BRADLEY BLVD, CHEVY CHASE, MD',\n",
       "       'PARKING LOT 3661 TURBRIDGE DRIVE',\n",
       "       'PARKING LOT OF 19200 MONTGOMERY VILLAGE AVE',\n",
       "       '211 N FREDERICK AVE', 'PARKING LOT OF 12835 LOCBURY CIRCLE',\n",
       "       'PARKING LOT OF 700 HUNGERFORD DR. ROCKVILLE MD',\n",
       "       'PARKING LOT IFO 19218 MONTGOMERY VILLAGE AVE',\n",
       "       'PL OF 880 RUSSELL AVE, GAITHERSBURG, MD',\n",
       "       'PARKING LOT OF HOME DEPOT 21010 FREDERICK RD',\n",
       "       'PARKING LOT OF LEDOS PIZZA 5245 RIVER RD',\n",
       "       '18100 VILLAGE CENTER DRIVE',\n",
       "       '5000 BRADLEY BLVD (PARKING LOT EXIT OF SAFEWAY GROCERY)',\n",
       "       '3592 GLENEAGLES DRIVE', 'REAR PARKING LOT OF 13625 GEORGIA AVE',\n",
       "       'DASH IN (PARKING LOT)\\n11150 NEW HAMPSHIRE AVE \\nSILVER SPRING, MD 20904',\n",
       "       'PARKING LOT OF MCDONALDS AT 19388 MONTGOMERY VILLAGE AVE',\n",
       "       'PARKING LOT OF 12039 GEORGIA AVE',\n",
       "       'PARKING LOT OF HILTON HOTEL AT 1750 ROCKVILLE PIKE',\n",
       "       'PARKING LOT OF 19777 FREDERICK RD',\n",
       "       'PAVED DRIVEWAY OF 14031 GEORGIA AVENUE',\n",
       "       'PARKING LOT OF 2015 EAST WEST HWY.',\n",
       "       'PARKING LOT IN FRONT OF 12807 SAGE TER',\n",
       "       'SIDEWALK/PARKING LOT OF 11790 PARKLAWN DR ROCKVILLE, MD 20852',\n",
       "       'PARKING LOT OF 12409 BRAXFIELD CT.',\n",
       "       '12041 GEORGIA AVE (M&T BANK PARKING LOT)',\n",
       "       'PARKING LOT IN FRONT OF CHINA KING 3827 ASPEN HILL RD SILVER SPRING, MD 20906',\n",
       "       'LEVEL 1 PARKING GARAGE OF 15740 SHADY GROVE RD, GAITHERSBURG, MD',\n",
       "       'CROSSWALK IN FRONT OF SHOPPING CENTER LOCATED AT 12825 WISTERIA DR., GERMANTOWN, MD.',\n",
       "       'VEHICLE STRUCK PED IN PARKING LOT AND FLED',\n",
       "       'PARKINGLOT OF 404 RIDGEPOINTLA',\n",
       "       'DRIVEWAY ACCESS OF 13615 GEORGIA AVE',\n",
       "       'PARKING LOT IN FRONT OF 19564 CRYSTAL ROCK DR.',\n",
       "       'PARKING LOT OF KITCHEN HOUSE WAY',\n",
       "       'GLACIER LILY DR@ DOGWOOD HILLS DR',\n",
       "       '4405 EAST WEST HWY BETHESDA, MD 20814',\n",
       "       'PARKING LOT IN FRONT OF 9821 BETHESDA CHURCH RD',\n",
       "       'SLEISURE WORLD BLVD AND EDELMAR TERRACE',\n",
       "       'PARKING LOT OF\\n7272 WISCONCIN AVE',\n",
       "       'PARKING LOT AT 2205 GEORGIAN WAY',\n",
       "       'IN THE DRIVEWAY OF 16713 ALEXANDER MANOR DRIVE, SILVER SPRING, MARYLAND',\n",
       "       'PARKING LOT OF 8816 LANIER DR', 'PARKING LOT 15100 GLADE DR',\n",
       "       'PARKING LOT OF 12056 CHERRY HILL ROAD',\n",
       "       'PARKING LOT OF 46 BUREAU DR',\n",
       "       '622 CENTERPOINT WAY, GAITHERSBURG MONTGOMERY COUNTY, MARYLAND',\n",
       "       '16101 FREDERICK RD - TRANSFER STATION RDS',\n",
       "       'PARKING LOT OF 21 S SUMMIT',\n",
       "       'GIANT FOOD PARKING LOT 13781 CONNECTICUT AVE.\\nSILVER SPRING MD 20906',\n",
       "       '14000 GEORGIA AVE. ASPEN HILL, MD 20906',\n",
       "       'PARKING LOT TO THE REAR OF 10141 COLESVILLE RD',\n",
       "       '12313 GEORGIA AVE',\n",
       "       'PARKING LOT AT ALDI. 2223 BEL PRE RD, SILVER SPRING, MD 20906',\n",
       "       'GIANT FOOD LOT-7142 ARLINGTON RD',\n",
       "       'DRIVEWAY OF 302 SUMMIT HALL RD',\n",
       "       'CAR WASH LOCATED AT 9500 GEORGIA AVENUE',\n",
       "       '12041 GEORGIA AVE, SILVER SPRING MD 20902 (M&T BANK)',\n",
       "       'DRIVE WAY ACCESS TO 2305 SHORFIELD RD.',\n",
       "       'DRIVEWAY TO RANDOLPH ROAD FROM PARKING LOT OF 17 RANDOLPH ROAD, SILVER SPRING MD 20904',\n",
       "       'PARKING LOT OF 880 RUSSELL AVE',\n",
       "       'PARKING LOT IN FRONT OF 516 N FREDERICK RD',\n",
       "       'PARKING LOT OF 7-11 LOCATED @ 900 MERRIMAC DRIVE TAKOMA PARK MD 20912',\n",
       "       '19707 GERMANTOWN ROAD, DRIVE WAY AREA OF BANK OF AMERICA',\n",
       "       'ONE WAY PRIVATE ALLEY BEHIND 12940 MIDDLEBROOK ROAD, GERMANTOWN, MD 20874',\n",
       "       'PARKING LOT IN FRONT OF 18418 STONE HOLLOW DRIVE, GERMANTOWN, MD 20874',\n",
       "       'DRIVEWAY OF 13625 NORTH GATE DR',\n",
       "       'PARKING LOT IN FRONT OF 12214 VEIRS MILL RD',\n",
       "       'THE PARKING LOT CROSSWALK OF 12207 VEIRS MILL RD',\n",
       "       'DRIVEWAY OF 16227 BATCHELLORS FOREST RD',\n",
       "       'ON A SERVICE ROAD IN BETWEEN POST OFFICE AND PARKING LOT OF POST OFFICE LOCATED AT 10079 STEDWICK RD',\n",
       "       'PARKING LOT OF 1400 FORESST GLEN RD, SILVER SPRING, MD, 20910',\n",
       "       'PARKING LOT AT 22 TINDALL SRPINGS CT',\n",
       "       '323 COPLEY PL. PARKING LOT', 'PARKING LOT OF 903 W EDMONSTON DR',\n",
       "       '1220 TECH ROAD/DRIVEWAY ENTRANCE OF WESTECH VILLAGE CENTER',\n",
       "       'ENTRANCE TO PARKING LOT OF 3410 OLNEY LAYTONSVILLE RD.',\n",
       "       'PARKING LOT 20908 FREDERICK RD',\n",
       "       'PARKING LOT BEHIND 7600 FLOWER AVE.',\n",
       "       'PARKING LOT/BUS PICKUP KINGSVIEW MIDDLE SCHOOL 18909 KINGSVIEW RD',\n",
       "       '14030 CONNECTICUT AVE SILVER SPRING MD 20906\\nUS POST OFFICE',\n",
       "       'PARKING LOT OF 11812 NEW HAMPSHIRE AVE, OUR LADY OF VIETNAM CHURCH',\n",
       "       'PRIVATE DRIVE OFF 10000 BRUNSWICK AVE', '501 N FREDERICK AVE',\n",
       "       'PL OF 4301 WILLOW LN', 'WILDWOOD SHOPPING PLAZA PARKING LOT',\n",
       "       'PARKING LOT OF PAINT BRANCH HIGH SCHOOL, LOCATED AT 14121 OLD COLUMBIA PIKE, BURTONSVILLE, MD 20877',\n",
       "       'PARKING LOT DRIVEWAY OF 3610 UNIVERSITY BLVD W',\n",
       "       'PARKING LOT OF 1900 ROCKVILLE PIKE',\n",
       "       '8530 CAMERON STREET PARKING GARAGE',\n",
       "       'DRIVEWAY OF 413 DENNIS AVE SILVER SPRING, MD 20901',\n",
       "       'SAFEWAY PARKING LOT\\n19718 GERMANTOWN ROAD\\nGERMANTOWN, MD 20874',\n",
       "       'IN PARKING LOT OF 1902 VIERS MILL ROAD',\n",
       "       'PARKING LOT OF 1131 UNIVERSITY BLVD W.',\n",
       "       '1280 EAST WEST HWY (GIANT PARKING LOT)',\n",
       "       'PAKRING LOT OF 11160 VEIRS MILL RD',\n",
       "       'PARKING LOT OF 13490 NEW HAMPSHIRE AVE',\n",
       "       'PARKING LOT OF 2537 ENNALLS AVENUE',\n",
       "       '2144 INDUSTRIAL PARKWAY PARKING LOT',\n",
       "       '8101 FENTON ST. 7-11 PARKING LOT.',\n",
       "       '9811 WASHINGTONIAN BLVD 5TH FLOOR (RIO MALL PARKING GARAGE)',\n",
       "       'PL OF 307 COPLEY PLACE', 'PARKING LOT OF 21000 FREDERICK RD',\n",
       "       'PARKING LOT / SIDEWALK IN FRONT OF 451 NORTH FREDERICK AVENUE',\n",
       "       'PARKING LOT OF 10901 WESTLAKE DR', 'PARKING LOT OF 850 E GUDE DR',\n",
       "       'PARKING LOT OF 19315 ARCHDALE RD, GERMANTOWN, MARYLAND 20876',\n",
       "       'DRIVEWAY ACCESS AT 16101 FREDERICK RD',\n",
       "       'PARKING LOT OF 2304 BLUERIDGE AVE',\n",
       "       'PARKING LOT OF 14921 SHADY GROVE RD',\n",
       "       'PARKING LOT IN FRONT OF 3860 INTERNATIONAL DR',\n",
       "       'PARKING LOT-7400 ARLINGTON RD\\nBETHESDA LIBRARY',\n",
       "       'CVS - 7809 WISCONSIN AVE BETHESDA, MD 20814',\n",
       "       'PARKING LOT OF 544 N. FREDERICK AVE',\n",
       "       'DRIVEWAY AT 8120 GEORGIA AVE',\n",
       "       'PARKING LOT OF 2509 UNIVERSITY BLVD WEST, SILVER SPRING, MD 20902',\n",
       "       'PARKING LOT OF 3305 NORTH LEISURE WORLD BLVD',\n",
       "       'SIDEWALK ADJACENT 5451 RANDOLPH RD',\n",
       "       'PARKING LOT OF 891 ROCKVILLE PIKE',\n",
       "       'PARKING LOT OF 10400 OLD GEORGETOWN RD. GIANT FOOD',\n",
       "       'DRIVEWAY OF 12801 FLACK ST',\n",
       "       'PARKING LOT OF 12030 CHASE CROSSING CIRCLE',\n",
       "       'PARKING LOT OF 5214 RIVER ROAD',\n",
       "       'REAR ENTRANCE TO 7620 OLD GEORGETOWN ROAD, BETHESDA MD-- ENTRANCE ON WOODMONT AVE',\n",
       "       'PARKING LOT 1159 UNIVERSITY BLVD',\n",
       "       '10526 CONNECTICUT AVE. (PARKING LOT) KENSINGTON',\n",
       "       'PARKING LOT OF 19945 CENTURY BLVD (CHICK FIL A)',\n",
       "       'ENTRANCE TO FEDERAL PLAZA SHOPPING CENTER',\n",
       "       'PARKING LOT OF 344 MARTINS LN.',\n",
       "       'PARKING LOT OF 13114 BRIARCLIFF TERRACE.',\n",
       "       '13855 OUTLET DRIVE,\\nSILVER SPRING, MD, 20904',\n",
       "       '12289 TECH ROAD, SILVER SPRING, MONTGOMERY COUNTY MD.',\n",
       "       'PARKING LOT OF 4101 RANDOLPH RD. SILVER SPRING, MD 20906. (SHELL GAS STATION)',\n",
       "       'PARKING LOT OF SENECA VALLEY H.S. 19401 CRYSTAL ROCK DR',\n",
       "       'SIDEWALK AT 8100 BLOCK OF GEORGIA AVENUE', '18228 MUNCASTER ROAD',\n",
       "       'PARKING LOT OF 12197 DARNESTOWN RD',\n",
       "       '11277 NEW HAMPSHIRE AVE.AT THE BACK PARKING LOT',\n",
       "       'PARKING LOT 16101 FREDERICK RD',\n",
       "       'THE DRIVEWAY TO 9101 CEDAR LA. THE STONE RIDGE SCHOOL OF THE SACRED HEART.',\n",
       "       '16041 FREDERICK RD PRIVATE DRIVEWAY/SIDEWALK',\n",
       "       'PARKING LOT OF 888 ROCKVILLE PIKE',\n",
       "       'PARKING LOT OF 2440 ROSS ROAD SILVER SPRING, MD',\n",
       "       'PKNGLT ENTRANCE 12230 ROCKVILLE PIKE',\n",
       "       '8523 PINEY BRANCH RD (REAR PARKING LOT)',\n",
       "       'PARKING LOT OF 8101 FENTON STREET',\n",
       "       'ENTRY TO PARKING LOT OF 8604 FLOWER AVENUE, TAKOMA PARK, MD',\n",
       "       '3201 ROSSMOOR BLVD PARKING LOT (LEISURE WORLD)',\n",
       "       'PUBLIC PARKING LOT #8 OF 4821 ST. ELMO AVE.', 'IN PARKING LOT',\n",
       "       'PARKING LOT OF 12155 AMBER RIDGE CIR',\n",
       "       'PARKING LOT OF BRIGGS CHANEY SHOPPING CENTER 13800 BLK OUTLET DRIVE',\n",
       "       'PARKING LOT OF 13781 CONNECTICUT AVE',\n",
       "       'PARKING LOT AREA OF 19110 MONTGOMERY VILLAGE AVE.  (BEHIND CVS STORE)   MOTGOMERY VILLAGE, MD 20886',\n",
       "       '900 MERRIMAC DR', 'JESUP BLAIR LOCAL PARK GRASS AREA',\n",
       "       'PK LOT 12600 TWINBROOK PKWY',\n",
       "       'PARKING LOT OF 18250 FLOWER HILL WAY',\n",
       "       'PARKING LOT OF 3323 BEAVERWOOD LA',\n",
       "       '51 MANNAKEE STREET PARKING LOT #5',\n",
       "       'THE PARKIG LOT OF 9300 PINEY BRANCH RD. SILVER SPRING, MARYLAND 20903',\n",
       "       'DRIVE WAY IN FRONT OF 13711 GEORGIA AVE',\n",
       "       'PARKING LOT OF 3004 HEWITT AVE',\n",
       "       'PARKING LOT IN FRONT OF 1014 WEST SIDE DRIVE GAITHERSBURG, MD.',\n",
       "       'PARKING LOT OF 13884 GEORGIA AVENUE',\n",
       "       'PARKING LOT IN FRONT OF 608 QUINCE ORCHARD ROAD.',\n",
       "       '4007 E NORBECK ROAD - PARKING LOT',\n",
       "       'GARAGE BEHIND 9420 KEY WEST AVE, GAITHERSBURG, MD, 20878',\n",
       "       '10400 AUTO PARK AVENUE (PARKING LOT OF CADILLAC CAR DEALERSHIP)',\n",
       "       'DRIVE THRU OF MCDONALDS 13701 CONNECTICUT AVE SILVER SPRING, MD 20906',\n",
       "       'PARKING LOT OF 3111 WHISPERING PINES DR',\n",
       "       'ENTRANCE TO HOME DEPOT PARKING LOT AT 14000 GEORGIA AVE, SILVER SPRING, MD 20906',\n",
       "       '14672 SOUTHLAWN LN', 'CVS PARKING LOT',\n",
       "       'PARKING LOT OF 19230 WOODFIELD RD',\n",
       "       'RAMP ENTRANCE TO THE PARKING LOT OF 8555 16TH STREET',\n",
       "       'PARKING LOT OF 12600 VEIRS MILL RD',\n",
       "       'PARKING LOT OF THE 7/11, LOCATED AT 902 MERIMAC DRIVE',\n",
       "       'PARKING LOT OF UNIQUE THRIFT STORE',\n",
       "       'PARKING LOT OF 8720 CARROLL AVE',\n",
       "       'HOME DEPOT PARKING LOT\\n 21010 FREDERICK RD GERMANTOWN MD',\n",
       "       'PARKING LOT OF 1127 UNIVERSITY BLVD.',\n",
       "       '15740 SHADY GROVE RD,  HOME DEPOT STORE PARKING LOT',\n",
       "       'SOUTH SIDE PARKING LOT AT GERMANTOWN ASSISTED LIVING  20990 FATHER HURLEY BLVD GERMANTOWN, MD 20874',\n",
       "       'DRIVEWAY EXITING GIANT AT 10400 OLD GEORGETOWN ROAD ONTO ROCKSPRING DRIVE',\n",
       "       '2100 CHAPMAN AVE (FLAGSHIP CARWASH PARKING LOT)',\n",
       "       'PARKING LOT OF STROSNIDERS HARDWARE',\n",
       "       'PARKING LOT OF 75 E WAYNE AVE'], dtype=object)"
      ]
     },
     "execution_count": 152,
     "metadata": {},
     "output_type": "execute_result"
    }
   ],
   "source": [
    "off_rd_desc = nonmotoristdf.off_road_description\n",
    "off_rd_desc_uniques = off_rd_desc.unique()\n",
    "off_rd_desc_uniques"
   ]
  },
  {
   "cell_type": "code",
   "execution_count": 154,
   "metadata": {},
   "outputs": [
    {
     "data": {
      "text/plain": [
       "array(['PEDESTRIAN', 'BICYCLIST', 'MACHINE OPERATOR/RIDER', 'OTHER',\n",
       "       'OTHER CONVEYANCE', 'OTHER PEDALCYCLIST', 'BICYCLIST, PEDESTRIAN',\n",
       "       'OTHER, PEDESTRIAN'], dtype=object)"
      ]
     },
     "execution_count": 154,
     "metadata": {},
     "output_type": "execute_result"
    }
   ],
   "source": [
    "r_n_m = nonmotoristdf.related_non_motorist\n",
    "r_n_m_uniques = r_n_m.unique()\n",
    "r_n_m_uniques"
   ]
  },
  {
   "cell_type": "code",
   "execution_count": 155,
   "metadata": {},
   "outputs": [
    {
     "data": {
      "text/plain": [
       "array(['OTHER', 'STRAIGHT MOVEMENT ANGLE', 'SINGLE VEHICLE', 'N/A',\n",
       "       'SAME DIR REAR END', 'SAME DIRECTION SIDESWIPE',\n",
       "       'HEAD ON LEFT TURN', 'SAME DIRECTION LEFT TURN', 'HEAD ON',\n",
       "       'SAME DIRECTION RIGHT TURN', 'ANGLE MEETS RIGHT TURN',\n",
       "       'OPPOSITE DIRECTION SIDESWIPE', 'UNKNOWN',\n",
       "       'SAME DIR REND LEFT TURN', 'ANGLE MEETS LEFT TURN'], dtype=object)"
      ]
     },
     "execution_count": 155,
     "metadata": {},
     "output_type": "execute_result"
    }
   ],
   "source": [
    "coll_type = nonmotoristdf.collision_type\n",
    "coll_type_uniques = coll_type.unique()\n",
    "coll_type_uniques"
   ]
  },
  {
   "cell_type": "code",
   "execution_count": 156,
   "metadata": {},
   "outputs": [
    {
     "data": {
      "text/plain": [
       "array(['OTHER', 'STRAIGHT MOVEMENT ANGLE', 'SINGLE VEHICLE', 'UNKNOWN',\n",
       "       'SAME DIR REAR END', 'SAME DIRECTION SIDESWIPE',\n",
       "       'HEAD ON LEFT TURN', 'SAME DIRECTION LEFT TURN', 'HEAD ON',\n",
       "       'SAME DIRECTION RIGHT TURN', 'ANGLE MEETS RIGHT TURN',\n",
       "       'OPPOSITE DIRECTION SIDESWIPE', 'SAME DIR REND LEFT TURN',\n",
       "       'ANGLE MEETS LEFT TURN'], dtype=object)"
      ]
     },
     "execution_count": 156,
     "metadata": {},
     "output_type": "execute_result"
    }
   ],
   "source": [
    "# replace 'N/A'\n",
    "nonmotoristdf['collision_type'] = nonmotoristdf['collision_type'].replace({'N/A': 'UNKNOWN'})\n",
    "coll_type = nonmotoristdf.collision_type\n",
    "coll_type_uniques = coll_type.unique()\n",
    "coll_type_uniques"
   ]
  },
  {
   "cell_type": "code",
   "execution_count": 157,
   "metadata": {},
   "outputs": [
    {
     "data": {
      "text/plain": [
       "array(['CLEAR', 'RAINING', 'N/A', 'CLOUDY', 'FOGGY', 'SNOW',\n",
       "       'SEVERE WINDS', 'OTHER', 'UNKNOWN'], dtype=object)"
      ]
     },
     "execution_count": 157,
     "metadata": {},
     "output_type": "execute_result"
    }
   ],
   "source": [
    "weather = nonmotoristdf.weather\n",
    "weather_uniques = weather.unique()\n",
    "weather_uniques"
   ]
  },
  {
   "cell_type": "code",
   "execution_count": 158,
   "metadata": {},
   "outputs": [
    {
     "data": {
      "text/plain": [
       "array(['CLEAR', 'RAINING', 'UNKNOWN', 'CLOUDY', 'FOGGY', 'SNOW',\n",
       "       'SEVERE WINDS', 'OTHER'], dtype=object)"
      ]
     },
     "execution_count": 158,
     "metadata": {},
     "output_type": "execute_result"
    }
   ],
   "source": [
    "# replace 'N/A'\n",
    "nonmotoristdf['weather'] = nonmotoristdf['weather'].replace({'N/A': 'UNKNOWN'})\n",
    "weather = nonmotoristdf.weather\n",
    "weather_uniques = weather.unique()\n",
    "weather_uniques"
   ]
  },
  {
   "cell_type": "code",
   "execution_count": 159,
   "metadata": {},
   "outputs": [
    {
     "data": {
      "text/plain": [
       "array(['N/A', 'DUSK', 'DAYLIGHT', 'DARK LIGHTS ON',\n",
       "       'DARK -- UNKNOWN LIGHTING', 'DARK NO LIGHTS', 'DAWN', 'OTHER',\n",
       "       'UNKNOWN'], dtype=object)"
      ]
     },
     "execution_count": 159,
     "metadata": {},
     "output_type": "execute_result"
    }
   ],
   "source": [
    "light = nonmotoristdf.light\n",
    "light_uniques = light.unique()\n",
    "light_uniques"
   ]
  },
  {
   "cell_type": "code",
   "execution_count": 160,
   "metadata": {},
   "outputs": [
    {
     "data": {
      "text/plain": [
       "array(['UNKNOWN', 'DUSK', 'DAYLIGHT', 'DARK LIGHTS ON',\n",
       "       'DARK -- UNKNOWN LIGHTING', 'DARK NO LIGHTS', 'DAWN', 'OTHER'],\n",
       "      dtype=object)"
      ]
     },
     "execution_count": 160,
     "metadata": {},
     "output_type": "execute_result"
    }
   ],
   "source": [
    "# replace 'N/A'\n",
    "nonmotoristdf['light'] = nonmotoristdf['light'].replace({'N/A': 'UNKNOWN'})\n",
    "light = nonmotoristdf.light\n",
    "light_uniques = light.unique()\n",
    "light_uniques"
   ]
  },
  {
   "cell_type": "code",
   "execution_count": 161,
   "metadata": {},
   "outputs": [
    {
     "data": {
      "text/plain": [
       "array(['NO CONTROLS', 'TRAFFIC SIGNAL', 'STOP SIGN', 'N/A', 'OTHER',\n",
       "       'PERSON', 'YIELD SIGN', 'RAILWAY CROSSING DEVICE',\n",
       "       'FLASHING TRAFFIC SIGNAL', 'UNKNOWN', 'WARNING SIGN'], dtype=object)"
      ]
     },
     "execution_count": 161,
     "metadata": {},
     "output_type": "execute_result"
    }
   ],
   "source": [
    "control = nonmotoristdf.traffic_control\n",
    "control_uniques = control.unique()\n",
    "control_uniques"
   ]
  },
  {
   "cell_type": "code",
   "execution_count": 162,
   "metadata": {},
   "outputs": [
    {
     "data": {
      "text/plain": [
       "array(['NO CONTROLS', 'TRAFFIC SIGNAL', 'STOP SIGN', 'UNKNOWN', 'OTHER',\n",
       "       'PERSON', 'YIELD SIGN', 'RAILWAY CROSSING DEVICE',\n",
       "       'FLASHING TRAFFIC SIGNAL', 'WARNING SIGN'], dtype=object)"
      ]
     },
     "execution_count": 162,
     "metadata": {},
     "output_type": "execute_result"
    }
   ],
   "source": [
    "# replace 'N/A'\n",
    "nonmotoristdf['traffic_control'] = nonmotoristdf['traffic_control'].replace({'N/A': 'UNKNOWN'})\n",
    "control = nonmotoristdf.traffic_control\n",
    "control_uniques = control.unique()\n",
    "control_uniques"
   ]
  },
  {
   "cell_type": "code",
   "execution_count": 163,
   "metadata": {},
   "outputs": [
    {
     "data": {
      "text/plain": [
       "array(['NONE DETECTED', 'UNKNOWN', 'N/A', 'OTHER', nan, 'ALCOHOL PRESENT',\n",
       "       'NONE DETECTED, UNKNOWN', 'ALCOHOL CONTRIBUTED',\n",
       "       'ALCOHOL CONTRIBUTED, NONE DETECTED', 'N/A, NONE DETECTED',\n",
       "       'COMBINED SUBSTANCE PRESENT, NONE DETECTED',\n",
       "       'ALCOHOL CONTRIBUTED, N/A'], dtype=object)"
      ]
     },
     "execution_count": 163,
     "metadata": {},
     "output_type": "execute_result"
    }
   ],
   "source": [
    "dsa = nonmotoristdf.driver_substance_abuse\n",
    "dsa_uniques = dsa.unique()\n",
    "dsa_uniques"
   ]
  },
  {
   "cell_type": "code",
   "execution_count": 164,
   "metadata": {},
   "outputs": [
    {
     "data": {
      "text/plain": [
       "array(['NONE DETECTED', 'UNKNOWN', 'OTHER', 'ALCOHOL PRESENT',\n",
       "       'NONE DETECTED, UNKNOWN', 'ALCOHOL CONTRIBUTED',\n",
       "       'ALCOHOL CONTRIBUTED, NONE DETECTED', 'N/A, NONE DETECTED',\n",
       "       'COMBINED SUBSTANCE PRESENT, NONE DETECTED',\n",
       "       'ALCOHOL CONTRIBUTED, N/A'], dtype=object)"
      ]
     },
     "execution_count": 164,
     "metadata": {},
     "output_type": "execute_result"
    }
   ],
   "source": [
    "#fill NaN replace N/A with 'unknown'\n",
    "nonmotoristdf['driver_substance_abuse'] = nonmotoristdf['driver_substance_abuse'].fillna('UNKNOWN')\n",
    "nonmotoristdf['driver_substance_abuse'] = nonmotoristdf['driver_substance_abuse'].replace({'N/A': 'UNKNOWN'})\n",
    "dsa = nonmotoristdf.driver_substance_abuse\n",
    "dsa_uniques = dsa.unique()\n",
    "dsa_uniques"
   ]
  },
  {
   "cell_type": "code",
   "execution_count": 165,
   "metadata": {},
   "outputs": [
    {
     "data": {
      "text/plain": [
       "array(['NONE DETECTED', 'ALCOHOL PRESENT', 'UNKNOWN', 'N/A',\n",
       "       'ALCOHOL CONTRIBUTED', 'COMBINATION CONTRIBUTED',\n",
       "       'ILLEGAL DRUG CONTRIBUTED'], dtype=object)"
      ]
     },
     "execution_count": 165,
     "metadata": {},
     "output_type": "execute_result"
    }
   ],
   "source": [
    "nsa = nonmotoristdf.non_motorist_substance_abuse\n",
    "nsa_uniques = nsa.unique()\n",
    "nsa_uniques"
   ]
  },
  {
   "cell_type": "code",
   "execution_count": 166,
   "metadata": {},
   "outputs": [
    {
     "data": {
      "text/plain": [
       "array(['NONE DETECTED', 'ALCOHOL PRESENT', 'UNKNOWN',\n",
       "       'ALCOHOL CONTRIBUTED', 'COMBINATION CONTRIBUTED',\n",
       "       'ILLEGAL DRUG CONTRIBUTED'], dtype=object)"
      ]
     },
     "execution_count": 166,
     "metadata": {},
     "output_type": "execute_result"
    }
   ],
   "source": [
    "#replace N/A with 'unknown'\n",
    "nonmotoristdf['non_motorist_substance_abuse'] = nonmotoristdf['non_motorist_substance_abuse'].replace({'N/A': 'UNKNOWN'})\n",
    "nsa = nonmotoristdf.non_motorist_substance_abuse\n",
    "nsa_uniques = nsa.unique()\n",
    "nsa_uniques"
   ]
  },
  {
   "cell_type": "code",
   "execution_count": 167,
   "metadata": {},
   "outputs": [
    {
     "data": {
      "text/plain": [
       "1000"
      ]
     },
     "execution_count": 167,
     "metadata": {},
     "output_type": "execute_result"
    }
   ],
   "source": [
    "# Check for duplicate person id's\n",
    "p_id = nonmotoristdf.person_id\n",
    "p_id.nunique()"
   ]
  },
  {
   "cell_type": "code",
   "execution_count": 170,
   "metadata": {},
   "outputs": [
    {
     "data": {
      "text/plain": [
       "array(['PEDESTRIAN', 'BICYCLIST', 'MACHINE OPERATOR/RIDER', 'OTHER',\n",
       "       'OTHER CONVEYANCE', 'OTHER PEDALCYCLIST'], dtype=object)"
      ]
     },
     "execution_count": 170,
     "metadata": {},
     "output_type": "execute_result"
    }
   ],
   "source": [
    "ptype = nonmotoristdf.pedestrian_type\n",
    "ptype_uniques = ptype.unique()\n",
    "ptype_uniques"
   ]
  },
  {
   "cell_type": "code",
   "execution_count": 171,
   "metadata": {},
   "outputs": [
    {
     "data": {
      "text/plain": [
       "array(['Cross/Enter not at Intersection', 'Cross/Enter at Intersection',\n",
       "       'Standing', 'Walking/Riding against Traffic', 'Unknown', 'Other',\n",
       "       'Other Working', 'Walking/Cycling on Sidewalk',\n",
       "       'Walking/Riding w/Traffic', 'Getting off/on Vehicle', 'N/A',\n",
       "       'Playing', 'Push/Work on Vehicle', 'Walking to/from school',\n",
       "       'Hitchhiking', 'Approach/Leaving Schoolbus'], dtype=object)"
      ]
     },
     "execution_count": 171,
     "metadata": {},
     "output_type": "execute_result"
    }
   ],
   "source": [
    "pmove = nonmotoristdf.pedestrian_movement\n",
    "pmove_uniques = pmove.unique()\n",
    "pmove_uniques"
   ]
  },
  {
   "cell_type": "code",
   "execution_count": 172,
   "metadata": {},
   "outputs": [
    {
     "data": {
      "text/plain": [
       "array(['Cross/Enter not at Intersection', 'Cross/Enter at Intersection',\n",
       "       'Standing', 'Walking/Riding against Traffic', 'Unknown', 'Other',\n",
       "       'Other Working', 'Walking/Cycling on Sidewalk',\n",
       "       'Walking/Riding w/Traffic', 'Getting off/on Vehicle', 'Playing',\n",
       "       'Push/Work on Vehicle', 'Walking to/from school', 'Hitchhiking',\n",
       "       'Approach/Leaving Schoolbus'], dtype=object)"
      ]
     },
     "execution_count": 172,
     "metadata": {},
     "output_type": "execute_result"
    }
   ],
   "source": [
    "#replace N/A with 'unknown'\n",
    "nonmotoristdf['pedestrian_movement'] = nonmotoristdf['pedestrian_movement'].replace({'N/A': 'Unknown'})\n",
    "pmove = nonmotoristdf.pedestrian_movement\n",
    "pmove_uniques = pmove.unique()\n",
    "pmove_uniques"
   ]
  },
  {
   "cell_type": "code",
   "execution_count": 173,
   "metadata": {},
   "outputs": [
    {
     "data": {
      "text/plain": [
       "array(['DART DASH', 'FAILURE TO OBEY TRAFFIC SIGNS SIGNALS OR OFFICER',\n",
       "       'N/A', 'IN ROADWAY IMPROPERLY', 'NO IMPROPER ACTIONS',\n",
       "       'WRONG WAY RIDING OR WALKING', 'UNKNOWN', 'OTHER',\n",
       "       'ENTERING EXITING PARKED STANDING VEHICLE', 'INATTENTIVE',\n",
       "       'NOT VISIBLE', 'IMPROPER PASSING', 'FAILURE TO YIELD RIGHT OF WAY',\n",
       "       'IMPROPER TURN MERGE', 'DISABLED VEHICLE RELATED'], dtype=object)"
      ]
     },
     "execution_count": 173,
     "metadata": {},
     "output_type": "execute_result"
    }
   ],
   "source": [
    "pactions = nonmotoristdf.pedestrian_actions\n",
    "pactions_unique = pactions.unique()\n",
    "pactions_unique"
   ]
  },
  {
   "cell_type": "code",
   "execution_count": 174,
   "metadata": {},
   "outputs": [
    {
     "data": {
      "text/plain": [
       "array(['DART DASH', 'FAILURE TO OBEY TRAFFIC SIGNS SIGNALS OR OFFICER',\n",
       "       'Unknown', 'IN ROADWAY IMPROPERLY', 'NO IMPROPER ACTIONS',\n",
       "       'WRONG WAY RIDING OR WALKING', 'UNKNOWN', 'OTHER',\n",
       "       'ENTERING EXITING PARKED STANDING VEHICLE', 'INATTENTIVE',\n",
       "       'NOT VISIBLE', 'IMPROPER PASSING', 'FAILURE TO YIELD RIGHT OF WAY',\n",
       "       'IMPROPER TURN MERGE', 'DISABLED VEHICLE RELATED'], dtype=object)"
      ]
     },
     "execution_count": 174,
     "metadata": {},
     "output_type": "execute_result"
    }
   ],
   "source": [
    "#replace N/A with 'unknown'\n",
    "nonmotoristdf['pedestrian_actions'] = nonmotoristdf['pedestrian_actions'].replace({'N/A': 'Unknown'})\n",
    "pactions = nonmotoristdf.pedestrian_actions\n",
    "pactions_unique = pactions.unique()\n",
    "pactions_unique"
   ]
  },
  {
   "cell_type": "code",
   "execution_count": 175,
   "metadata": {},
   "outputs": [
    {
     "data": {
      "text/plain": [
       "array(['OTHER', 'ON ROADWAY AT CROSSWALK', 'ON ROADWAY NOT AT CROSSWALK',\n",
       "       'AT INTERSECTION MARKED CROSSWALK', 'SIDEWALK', 'SHOULDER', 'N/A',\n",
       "       'AT INTERSECTION BUT NO CROSSWALK',\n",
       "       'DRIVEWAY ACCESS MARKED CROSSWALK', 'CURB',\n",
       "       'MIDBLOCK MARKED CROSSWALK', 'OUTSIDE RIGHT OF WAY', 'UNKNOWN',\n",
       "       'INSIDE BUILDING', 'IN BIKEWAY', 'MEDIAN',\n",
       "       'SHARED USE PATH OR TRAILS', 'ISLAND', 'IN SCHOOL BUS ZONE'],\n",
       "      dtype=object)"
      ]
     },
     "execution_count": 175,
     "metadata": {},
     "output_type": "execute_result"
    }
   ],
   "source": [
    "ploc = nonmotoristdf.pedestrian_location\n",
    "ploc_unique = ploc.unique()\n",
    "ploc_unique"
   ]
  },
  {
   "cell_type": "code",
   "execution_count": 179,
   "metadata": {},
   "outputs": [
    {
     "data": {
      "text/plain": [
       "array(['OTHER', 'ON ROADWAY AT CROSSWALK', 'ON ROADWAY NOT AT CROSSWALK',\n",
       "       'AT INTERSECTION MARKED CROSSWALK', 'SIDEWALK', 'SHOULDER',\n",
       "       'UNKNOWN', 'AT INTERSECTION BUT NO CROSSWALK',\n",
       "       'DRIVEWAY ACCESS MARKED CROSSWALK', 'CURB',\n",
       "       'MIDBLOCK MARKED CROSSWALK', 'OUTSIDE RIGHT OF WAY',\n",
       "       'INSIDE BUILDING', 'IN BIKEWAY', 'MEDIAN',\n",
       "       'SHARED USE PATH OR TRAILS', 'ISLAND', 'IN SCHOOL BUS ZONE'],\n",
       "      dtype=object)"
      ]
     },
     "execution_count": 179,
     "metadata": {},
     "output_type": "execute_result"
    }
   ],
   "source": [
    "#replace N/A with 'unknown'\n",
    "nonmotoristdf['pedestrian_location'] = nonmotoristdf['pedestrian_location'].replace({'N/A': 'UNKNOWN', 'Unknown': 'UNKNOWN'})\n",
    "ploc = nonmotoristdf.pedestrian_location\n",
    "ploc_unique = ploc.unique()\n",
    "ploc_unique"
   ]
  },
  {
   "cell_type": "code",
   "execution_count": 180,
   "metadata": {},
   "outputs": [
    {
     "data": {
      "text/plain": [
       "array(['NO PED. SIGNAL', 'DISOBEYED PED. SIGNAL', 'OBEYED PED. SIGNAL',\n",
       "       'N/A', 'UNKNOWN', 'OTHER'], dtype=object)"
      ]
     },
     "execution_count": 180,
     "metadata": {},
     "output_type": "execute_result"
    }
   ],
   "source": [
    "pobey = nonmotoristdf.pedestrian_obeyed_traffic_signal\n",
    "pobey_uniques = pobey.unique()\n",
    "pobey_uniques"
   ]
  },
  {
   "cell_type": "code",
   "execution_count": 181,
   "metadata": {},
   "outputs": [
    {
     "data": {
      "text/plain": [
       "array(['NO PED. SIGNAL', 'DISOBEYED PED. SIGNAL', 'OBEYED PED. SIGNAL',\n",
       "       'UNKNOWN', 'OTHER'], dtype=object)"
      ]
     },
     "execution_count": 181,
     "metadata": {},
     "output_type": "execute_result"
    }
   ],
   "source": [
    "#replace N/A with 'unknown'\n",
    "nonmotoristdf['pedestrian_obeyed_traffic_signal'] = nonmotoristdf['pedestrian_obeyed_traffic_signal'].replace({'N/A': 'UNKNOWN'})\n",
    "pobey = nonmotoristdf.pedestrian_obeyed_traffic_signal\n",
    "pobey_uniques = pobey.unique()\n",
    "pobey_uniques"
   ]
  },
  {
   "cell_type": "code",
   "execution_count": 182,
   "metadata": {},
   "outputs": [
    {
     "data": {
      "text/plain": [
       "array(['OTHER', 'DARK CLOTHING', 'REFLECTIVE MATERIAL', 'MIXED CLOTHING',\n",
       "       'LIGHT CLOTHING', 'UNKNOWN', 'N/A', 'HEAD LIGHT AND REFLECTORS',\n",
       "       'REAR REFLECTOR'], dtype=object)"
      ]
     },
     "execution_count": 182,
     "metadata": {},
     "output_type": "execute_result"
    }
   ],
   "source": [
    "pedvis = nonmotoristdf.pedestrian_visibility\n",
    "pedvis_uniques = pedvis.unique()\n",
    "pedvis_uniques"
   ]
  },
  {
   "cell_type": "code",
   "execution_count": 183,
   "metadata": {},
   "outputs": [
    {
     "data": {
      "text/plain": [
       "array(['OTHER', 'DARK CLOTHING', 'REFLECTIVE MATERIAL', 'MIXED CLOTHING',\n",
       "       'LIGHT CLOTHING', 'UNKNOWN', 'HEAD LIGHT AND REFLECTORS',\n",
       "       'REAR REFLECTOR'], dtype=object)"
      ]
     },
     "execution_count": 183,
     "metadata": {},
     "output_type": "execute_result"
    }
   ],
   "source": [
    "#replace N/A with 'unknown'\n",
    "nonmotoristdf['pedestrian_visibility'] = nonmotoristdf['pedestrian_visibility'].replace({'N/A': 'UNKNOWN'})\n",
    "pedvis = nonmotoristdf.pedestrian_visibility\n",
    "pedvis_uniques = pedvis.unique()\n",
    "pedvis_uniques"
   ]
  },
  {
   "cell_type": "code",
   "execution_count": 184,
   "metadata": {},
   "outputs": [
    {
     "data": {
      "text/plain": [
       "array(['Yes', 'No', 'Unknown'], dtype=object)"
      ]
     },
     "execution_count": 184,
     "metadata": {},
     "output_type": "execute_result"
    }
   ],
   "source": [
    "fault = nonmotoristdf.at_fault\n",
    "fault_uniques = fault.unique()\n",
    "fault_uniques"
   ]
  },
  {
   "cell_type": "code",
   "execution_count": 185,
   "metadata": {},
   "outputs": [
    {
     "data": {
      "text/plain": [
       "array(['SUSPECTED MINOR INJURY', 'POSSIBLE INJURY',\n",
       "       'SUSPECTED SERIOUS INJURY', 'FATAL INJURY', 'NO APPARENT INJURY'],\n",
       "      dtype=object)"
      ]
     },
     "execution_count": 185,
     "metadata": {},
     "output_type": "execute_result"
    }
   ],
   "source": [
    "injury = nonmotoristdf.injury_severity\n",
    "injury_uniques = injury.unique()\n",
    "injury_uniques"
   ]
  },
  {
   "cell_type": "code",
   "execution_count": 186,
   "metadata": {},
   "outputs": [
    {
     "data": {
      "text/plain": [
       "array(['NONE', 'REFLECTIVE CLOTHING', 'MC/BIKE HELMET', 'N/A', 'OTHER',\n",
       "       'UNKNOWN', 'LIGHTING'], dtype=object)"
      ]
     },
     "execution_count": 186,
     "metadata": {},
     "output_type": "execute_result"
    }
   ],
   "source": [
    "equip = nonmotoristdf.safety_equipment\n",
    "equip_uniques = equip.unique()\n",
    "equip_uniques"
   ]
  },
  {
   "cell_type": "code",
   "execution_count": 187,
   "metadata": {},
   "outputs": [
    {
     "data": {
      "text/plain": [
       "array(['NONE', 'REFLECTIVE CLOTHING', 'MC/BIKE HELMET', 'UNKNOWN',\n",
       "       'OTHER', 'LIGHTING'], dtype=object)"
      ]
     },
     "execution_count": 187,
     "metadata": {},
     "output_type": "execute_result"
    }
   ],
   "source": [
    "#replace N/A with 'unknown'\n",
    "nonmotoristdf['safety_equipment'] = nonmotoristdf['safety_equipment'].replace({'N/A': 'UNKNOWN'})\n",
    "equip = nonmotoristdf.safety_equipment\n",
    "equip_uniques = equip.unique()\n",
    "equip_uniques"
   ]
  },
  {
   "cell_type": "code",
   "execution_count": 188,
   "metadata": {},
   "outputs": [
    {
     "data": {
      "text/plain": [
       "array([nan, 'County', 'Maryland (State)', 'Municipality',\n",
       "       'Other Public Roadway', 'US (State)', 'Government',\n",
       "       'Interstate (State)', 'Ramp'], dtype=object)"
      ]
     },
     "execution_count": 188,
     "metadata": {},
     "output_type": "execute_result"
    }
   ],
   "source": [
    "rte_type = nonmotoristdf.route_type\n",
    "rte_type_uniques = rte_type.unique()\n",
    "rte_type_uniques"
   ]
  },
  {
   "cell_type": "code",
   "execution_count": 189,
   "metadata": {},
   "outputs": [
    {
     "data": {
      "text/plain": [
       "array(['Unknown', 'County', 'Maryland (State)', 'Municipality',\n",
       "       'Other Public Roadway', 'US (State)', 'Government',\n",
       "       'Interstate (State)', 'Ramp'], dtype=object)"
      ]
     },
     "execution_count": 189,
     "metadata": {},
     "output_type": "execute_result"
    }
   ],
   "source": [
    "# fill na\n",
    "nonmotoristdf['route_type'] = nonmotoristdf['route_type'].fillna('Unknown')\n",
    "rte_type = nonmotoristdf.route_type\n",
    "rte_type_uniques = rte_type.unique()\n",
    "rte_type_uniques"
   ]
  },
  {
   "cell_type": "code",
   "execution_count": 190,
   "metadata": {},
   "outputs": [
    {
     "data": {
      "text/plain": [
       "array([nan, 'US (State)', 'County', 'Unknown', 'Municipality',\n",
       "       'Maryland (State)', 'Other Public Roadway', 'Government', 'Ramp'],\n",
       "      dtype=object)"
      ]
     },
     "execution_count": 190,
     "metadata": {},
     "output_type": "execute_result"
    }
   ],
   "source": [
    "cross_street = nonmotoristdf.cross_street_type\n",
    "cross_street_uniques = cross_street.unique()\n",
    "cross_street_uniques"
   ]
  },
  {
   "cell_type": "code",
   "execution_count": 191,
   "metadata": {},
   "outputs": [
    {
     "data": {
      "text/plain": [
       "array(['Unknown', 'US (State)', 'County', 'Municipality',\n",
       "       'Maryland (State)', 'Other Public Roadway', 'Government', 'Ramp'],\n",
       "      dtype=object)"
      ]
     },
     "execution_count": 191,
     "metadata": {},
     "output_type": "execute_result"
    }
   ],
   "source": [
    "# fill na\n",
    "nonmotoristdf['cross_street_type'] = nonmotoristdf['cross_street_type'].fillna('Unknown')\n",
    "cross_street = nonmotoristdf.cross_street_type\n",
    "cross_street_uniques = cross_street.unique()\n",
    "cross_street_uniques"
   ]
  },
  {
   "cell_type": "code",
   "execution_count": 192,
   "metadata": {},
   "outputs": [
    {
     "data": {
      "text/plain": [
       "array([nan, 'N/A', 'ROCKVILLE', 'FRIENDSHIP HEIGHTS', 'GAITHERSBURG',\n",
       "       'CHEVY CHASE #4', 'TAKOMA PARK', 'POOLESVILLE', 'KENSINGTON',\n",
       "       'SOMERSET'], dtype=object)"
      ]
     },
     "execution_count": 192,
     "metadata": {},
     "output_type": "execute_result"
    }
   ],
   "source": [
    "muni = nonmotoristdf.municipality\n",
    "muni_uniques = muni.unique()\n",
    "muni_uniques"
   ]
  },
  {
   "cell_type": "code",
   "execution_count": 193,
   "metadata": {},
   "outputs": [
    {
     "data": {
      "text/plain": [
       "array(['UNKNOWN', 'ROCKVILLE', 'FRIENDSHIP HEIGHTS', 'GAITHERSBURG',\n",
       "       'CHEVY CHASE #4', 'TAKOMA PARK', 'POOLESVILLE', 'KENSINGTON',\n",
       "       'SOMERSET'], dtype=object)"
      ]
     },
     "execution_count": 193,
     "metadata": {},
     "output_type": "execute_result"
    }
   ],
   "source": [
    "#fill NaN replace N/A with 'unknown'\n",
    "nonmotoristdf['municipality'] = nonmotoristdf['municipality'].fillna('UNKNOWN')\n",
    "nonmotoristdf['municipality'] = nonmotoristdf['municipality'].replace({'N/A': 'UNKNOWN'})\n",
    "muni = nonmotoristdf.municipality\n",
    "muni_uniques = muni.unique()\n",
    "muni_uniques"
   ]
  },
  {
   "cell_type": "code",
   "execution_count": 195,
   "metadata": {},
   "outputs": [
    {
     "data": {
      "text/plain": [
       "array([nan, 'WET', 'DRY', 'N/A', 'ICE', 'SNOW', 'UNKNOWN', 'OTHER'],\n",
       "      dtype=object)"
      ]
     },
     "execution_count": 195,
     "metadata": {},
     "output_type": "execute_result"
    }
   ],
   "source": [
    "surface = nonmotoristdf.surface_condition\n",
    "surface_uniques = surface.unique()\n",
    "surface_uniques"
   ]
  },
  {
   "cell_type": "code",
   "execution_count": 197,
   "metadata": {},
   "outputs": [
    {
     "data": {
      "text/plain": [
       "array(['UNKNOWN', 'WET', 'DRY', 'ICE', 'SNOW', 'OTHER'], dtype=object)"
      ]
     },
     "execution_count": 197,
     "metadata": {},
     "output_type": "execute_result"
    }
   ],
   "source": [
    "#fill NaN replace N/A with 'unknown'\n",
    "nonmotoristdf['surface_condition'] = nonmotoristdf['surface_condition'].fillna('UNKNOWN')\n",
    "nonmotoristdf['surface_condition'] = nonmotoristdf['surface_condition'].replace({'N/A': 'UNKNOWN'})\n",
    "surface = nonmotoristdf.surface_condition\n",
    "surface_uniques = surface.unique()\n",
    "surface_uniques"
   ]
  },
  {
   "cell_type": "code",
   "execution_count": null,
   "metadata": {},
   "outputs": [],
   "source": []
  }
 ],
 "metadata": {
  "kernelspec": {
   "display_name": "Python 3",
   "language": "python",
   "name": "python3"
  },
  "language_info": {
   "codemirror_mode": {
    "name": "ipython",
    "version": 3
   },
   "file_extension": ".py",
   "mimetype": "text/x-python",
   "name": "python",
   "nbconvert_exporter": "python",
   "pygments_lexer": "ipython3",
   "version": "3.8.3"
  }
 },
 "nbformat": 4,
 "nbformat_minor": 4
}
